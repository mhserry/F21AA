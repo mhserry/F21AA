{
 "cells": [
  {
   "cell_type": "code",
   "execution_count": 43,
   "metadata": {},
   "outputs": [],
   "source": [
    "import pandas as pd\n",
    "import pprint\n",
    "import numpy as np\n",
    "import matplotlib.pyplot as plt\n",
    "import seaborn as sns\n",
    "import string,lxml,bs4\n",
    "from sklearn.feature_extraction.text import TfidfVectorizer, CountVectorizer"
   ]
  },
  {
   "cell_type": "code",
   "execution_count": 44,
   "metadata": {},
   "outputs": [
    {
     "name": "stdout",
     "output_type": "stream",
     "text": [
      "Loading reviews...[ok]\n",
      "Loaded 426,340 reviews\n"
     ]
    }
   ],
   "source": [
    "#Loading Reviews to Dataframe...\n",
    "print('Loading reviews...',end='')\n",
    "df = pd.read_csv('train.csv')\n",
    "print('[ok]')\n",
    "print('Loaded {:,} reviews' .format(len(df)))"
   ]
  },
  {
   "cell_type": "code",
   "execution_count": 45,
   "metadata": {},
   "outputs": [
    {
     "data": {
      "text/plain": [
       "Index(['Id', 'ProductId', 'UserId', 'ProfileName', 'HelpfulnessNumerator',\n",
       "       'HelpfulnessDenominator', 'Score', 'Time', 'Summary', 'Text'],\n",
       "      dtype='object')"
      ]
     },
     "execution_count": 45,
     "metadata": {},
     "output_type": "execute_result"
    }
   ],
   "source": [
    "df.columns #Deciding on Columns we might need, dropping the rest for now"
   ]
  },
  {
   "cell_type": "code",
   "execution_count": 46,
   "metadata": {},
   "outputs": [],
   "source": [
    "\"\"\" \n",
    "We Found relatively Small number of NAN onject in the dataset  in both TEXT and Summary features\n",
    "wE will replace with '' and drop the UN-NEEDED columns for now\n",
    "\"\"\"\n",
    "df.Summary.fillna('', inplace=True)\n",
    "df.Text.fillna('', inplace=True)\n",
    "df.drop(['Id','UserId','ProfileName','HelpfulnessNumerator','HelpfulnessDenominator','Time','ProductId'],axis=1,inplace=True)"
   ]
  },
  {
   "cell_type": "code",
   "execution_count": 47,
   "metadata": {},
   "outputs": [
    {
     "data": {
      "text/plain": [
       "Index(['Score', 'Summary', 'Text'], dtype='object')"
      ]
     },
     "execution_count": 47,
     "metadata": {},
     "output_type": "execute_result"
    }
   ],
   "source": [
    "df.columns"
   ]
  },
  {
   "cell_type": "code",
   "execution_count": 48,
   "metadata": {},
   "outputs": [],
   "source": [
    "#Concatinating TEXT and Summary features as per the DR. example. Which is OK as I didnt find obvious correlation\n",
    "df['text']=df['Summary']+' '+df['Text'] \n",
    "df.drop(['Summary','Text'],axis=1,inplace=True)\n",
    "df['length']=df['text'].str.len() "
   ]
  },
  {
   "cell_type": "code",
   "execution_count": 49,
   "metadata": {},
   "outputs": [
    {
     "data": {
      "text/plain": [
       "Index(['Score', 'text', 'length'], dtype='object')"
      ]
     },
     "execution_count": 49,
     "metadata": {},
     "output_type": "execute_result"
    }
   ],
   "source": [
    "df.columns"
   ]
  },
  {
   "cell_type": "code",
   "execution_count": 50,
   "metadata": {},
   "outputs": [
    {
     "data": {
      "text/plain": [
       "'!\"#$%&\\'()*+,-./:;<=>?@[\\\\]^_`{|}~'"
      ]
     },
     "execution_count": 50,
     "metadata": {},
     "output_type": "execute_result"
    }
   ],
   "source": [
    "string.punctuation # we will remove this"
   ]
  },
  {
   "cell_type": "code",
   "execution_count": 51,
   "metadata": {},
   "outputs": [],
   "source": [
    "#This function will remove html tags, punctiaton [Must run in order ]\n",
    "def tokenizer(text):\n",
    "    no_html = bs4.BeautifulSoup(text,'lxml').get_text()\n",
    "    no_punctuation = [char for char in no_html if char not in string.punctuation]\n",
    "    no_punctuation = ''.join(no_punctuation)\n",
    "    return no_punctuation"
   ]
  },
  {
   "cell_type": "code",
   "execution_count": 52,
   "metadata": {},
   "outputs": [],
   "source": [
    "df_original = df.copy() #Backup to work on raw input data if we will need it later..."
   ]
  },
  {
   "cell_type": "code",
   "execution_count": 53,
   "metadata": {},
   "outputs": [],
   "source": [
    "df['text'] = df['text'].apply(tokenizer)"
   ]
  },
  {
   "cell_type": "code",
   "execution_count": 54,
   "metadata": {},
   "outputs": [],
   "source": [
    "\n",
    "Topdf=df.copy()\n",
    "Botdf=df.copy()\n",
    "# Get names of indexes for which score does not have values 1 and 5\n",
    "TopIndex = Topdf[ Topdf['Score'] < 5 ].index\n",
    "BotIndex = Botdf[ Botdf['Score'] > 1 ].index\n",
    " \n",
    "# Delete these row indexes from dataFrame\n",
    "Topdf.drop(TopIndex , inplace=True)\n",
    "Botdf.drop(BotIndex , inplace=True)\n"
   ]
  },
  {
   "cell_type": "code",
   "execution_count": 55,
   "metadata": {},
   "outputs": [
    {
     "data": {
      "text/html": [
       "<div>\n",
       "<style scoped>\n",
       "    .dataframe tbody tr th:only-of-type {\n",
       "        vertical-align: middle;\n",
       "    }\n",
       "\n",
       "    .dataframe tbody tr th {\n",
       "        vertical-align: top;\n",
       "    }\n",
       "\n",
       "    .dataframe thead th {\n",
       "        text-align: right;\n",
       "    }\n",
       "</style>\n",
       "<table border=\"1\" class=\"dataframe\">\n",
       "  <thead>\n",
       "    <tr style=\"text-align: right;\">\n",
       "      <th></th>\n",
       "      <th>Score</th>\n",
       "      <th>text</th>\n",
       "      <th>length</th>\n",
       "    </tr>\n",
       "  </thead>\n",
       "  <tbody>\n",
       "    <tr>\n",
       "      <td>0</td>\n",
       "      <td>5</td>\n",
       "      <td>Very Good I received this product early from t...</td>\n",
       "      <td>207</td>\n",
       "    </tr>\n",
       "    <tr>\n",
       "      <td>1</td>\n",
       "      <td>5</td>\n",
       "      <td>Organic Kosher Tasty Assortment of Premium Tea...</td>\n",
       "      <td>1998</td>\n",
       "    </tr>\n",
       "    <tr>\n",
       "      <td>2</td>\n",
       "      <td>5</td>\n",
       "      <td>excellent glutenfree spaghetti great taste gre...</td>\n",
       "      <td>1146</td>\n",
       "    </tr>\n",
       "    <tr>\n",
       "      <td>3</td>\n",
       "      <td>5</td>\n",
       "      <td>Lindt is Lindt Buying this multipack I was mis...</td>\n",
       "      <td>201</td>\n",
       "    </tr>\n",
       "    <tr>\n",
       "      <td>4</td>\n",
       "      <td>5</td>\n",
       "      <td>YUM These bars are so good I loved them warmed...</td>\n",
       "      <td>164</td>\n",
       "    </tr>\n",
       "  </tbody>\n",
       "</table>\n",
       "</div>"
      ],
      "text/plain": [
       "   Score                                               text  length\n",
       "0      5  Very Good I received this product early from t...     207\n",
       "1      5  Organic Kosher Tasty Assortment of Premium Tea...    1998\n",
       "2      5  excellent glutenfree spaghetti great taste gre...    1146\n",
       "3      5  Lindt is Lindt Buying this multipack I was mis...     201\n",
       "4      5  YUM These bars are so good I loved them warmed...     164"
      ]
     },
     "execution_count": 55,
     "metadata": {},
     "output_type": "execute_result"
    }
   ],
   "source": [
    "Topdf.head()"
   ]
  },
  {
   "cell_type": "code",
   "execution_count": 56,
   "metadata": {},
   "outputs": [],
   "source": [
    "#Topdf.to_csv('top.csv', sep=',', encoding='utf-8')"
   ]
  },
  {
   "cell_type": "code",
   "execution_count": 57,
   "metadata": {},
   "outputs": [
    {
     "data": {
      "text/html": [
       "<div>\n",
       "<style scoped>\n",
       "    .dataframe tbody tr th:only-of-type {\n",
       "        vertical-align: middle;\n",
       "    }\n",
       "\n",
       "    .dataframe tbody tr th {\n",
       "        vertical-align: top;\n",
       "    }\n",
       "\n",
       "    .dataframe thead th {\n",
       "        text-align: right;\n",
       "    }\n",
       "</style>\n",
       "<table border=\"1\" class=\"dataframe\">\n",
       "  <thead>\n",
       "    <tr style=\"text-align: right;\">\n",
       "      <th></th>\n",
       "      <th>Score</th>\n",
       "      <th>text</th>\n",
       "      <th>length</th>\n",
       "    </tr>\n",
       "  </thead>\n",
       "  <tbody>\n",
       "    <tr>\n",
       "      <td>18</td>\n",
       "      <td>1</td>\n",
       "      <td>Plastic taste This is the first coffee I tried...</td>\n",
       "      <td>355</td>\n",
       "    </tr>\n",
       "    <tr>\n",
       "      <td>31</td>\n",
       "      <td>1</td>\n",
       "      <td>Dangerous for doggies Dont buy these  I have a...</td>\n",
       "      <td>302</td>\n",
       "    </tr>\n",
       "    <tr>\n",
       "      <td>49</td>\n",
       "      <td>1</td>\n",
       "      <td>Ugh Fake Food I wanted a sugar splurge but I c...</td>\n",
       "      <td>264</td>\n",
       "    </tr>\n",
       "    <tr>\n",
       "      <td>55</td>\n",
       "      <td>1</td>\n",
       "      <td>worst products ever As a Chinese myself I neve...</td>\n",
       "      <td>241</td>\n",
       "    </tr>\n",
       "    <tr>\n",
       "      <td>56</td>\n",
       "      <td>1</td>\n",
       "      <td>Enormous ripoff This is nearly twice as expens...</td>\n",
       "      <td>156</td>\n",
       "    </tr>\n",
       "  </tbody>\n",
       "</table>\n",
       "</div>"
      ],
      "text/plain": [
       "    Score                                               text  length\n",
       "18      1  Plastic taste This is the first coffee I tried...     355\n",
       "31      1  Dangerous for doggies Dont buy these  I have a...     302\n",
       "49      1  Ugh Fake Food I wanted a sugar splurge but I c...     264\n",
       "55      1  worst products ever As a Chinese myself I neve...     241\n",
       "56      1  Enormous ripoff This is nearly twice as expens...     156"
      ]
     },
     "execution_count": 57,
     "metadata": {},
     "output_type": "execute_result"
    }
   ],
   "source": [
    "Botdf.head()"
   ]
  },
  {
   "cell_type": "code",
   "execution_count": 58,
   "metadata": {},
   "outputs": [
    {
     "name": "stdout",
     "output_type": "stream",
     "text": [
      "Loaded 272,492 reviews\n"
     ]
    }
   ],
   "source": [
    "no_features = 1000\n",
    "\n",
    "#Topdf = Topdf.sample(frac=0.0025)\n",
    "print('Loaded {:,} reviews' .format(len(Topdf)))\n",
    "\n",
    "# NMF is able to use tf-idf\n",
    "tfidf_vectorizer = TfidfVectorizer(max_features=no_features, stop_words='english')\n",
    "tfidf = tfidf_vectorizer.fit_transform(Topdf['text'])\n",
    "tfidf_feature_names = tfidf_vectorizer.get_feature_names()\n"
   ]
  },
  {
   "cell_type": "code",
   "execution_count": 59,
   "metadata": {},
   "outputs": [],
   "source": [
    "# LDA can only use raw term counts for LDA because it is a probabilistic graphical model\n",
    "#tf_vectorizer = CountVectorizer(max_df=1, min_df=2, max_features=no_features, stop_words='english')\n",
    "tf_vectorizer = CountVectorizer(stop_words='english',max_features=no_features)\n",
    "tf = tf_vectorizer.fit_transform(Topdf['text'])\n",
    "tf_feature_names = tf_vectorizer.get_feature_names()"
   ]
  },
  {
   "cell_type": "code",
   "execution_count": 80,
   "metadata": {},
   "outputs": [],
   "source": [
    "def display_topics(model, feature_names, no_top_words):\n",
    "    for topic_idx, topic in enumerate(model.components_):\n",
    "        print(\"Topic %d:\" % (topic_idx))\n",
    "        print(\" \".join([feature_names[i]\n",
    "                        for i in topic.argsort()[:-no_top_words - 1:-1]]))\n",
    "        \n",
    "import mglearn as mglearn\n",
    "\n",
    "def display_topics_mg(model, feature_names, no_top_words):\n",
    "    sorting = np.argsort(model.components_, axis=1)[:, ::-1]\n",
    "    feature_names_arr = np.array(feature_names)\n",
    "    mglearn.tools.print_topics(topics=range(20), feature_names=feature_names_arr,\n",
    "                           sorting=sorting, topics_per_chunk=5, n_words=20)        \n",
    "        \n",
    "        "
   ]
  },
  {
   "cell_type": "code",
   "execution_count": 81,
   "metadata": {},
   "outputs": [],
   "source": [
    "from sklearn.decomposition import NMF, LatentDirichletAllocation, TruncatedSVD\n",
    "\n",
    "no_topics = 20\n",
    "\n",
    "# Run NMF\n",
    "nmfModel = NMF(n_components=no_topics, random_state=1, alpha=.1, l1_ratio=.5, init='nndsvd')\n",
    "nmf= nmfModel.fit(tf)"
   ]
  },
  {
   "cell_type": "code",
   "execution_count": 82,
   "metadata": {},
   "outputs": [
    {
     "name": "stdout",
     "output_type": "stream",
     "text": [
      "NMF\n",
      "topic 0       topic 1       topic 2       topic 3       topic 4       \n",
      "--------      --------      --------      --------      --------      \n",
      "like          tea           coffee        food          great         \n",
      "really        green         cup           dry           price         \n",
      "dont          teas          strong        foods         snack         \n",
      "tastes        drink         roast         dog           tastes        \n",
      "try           black         keurig        eat           tasting       \n",
      "im            bags          bold          quality       loves         \n",
      "doesnt        cup           blend         diet          value         \n",
      "think         iced          kcup          wellness      deal          \n",
      "tried         organic       starbucks     canned        really        \n",
      "stuff         drinking      kcups         feed          easy          \n",
      "ive           bag           dark          healthy       makes         \n",
      "didnt         stash         morning       health        recommend     \n",
      "know          day           drink         baby          stuff         \n",
      "feel          caffeine      coffees       ingredients   popcorn       \n",
      "little        chai          pods          old           gift          \n",
      "real          earl          smooth        feeding       highly        \n",
      "does          grey          brew          eating        works         \n",
      "lot           white         espresso      grain         service       \n",
      "better        leaves        bitter        wet           quick         \n",
      "people        hot           rich          vet           kids          \n",
      "\n",
      "\n",
      "topic 5       topic 6       topic 7       topic 8       topic 9       \n",
      "--------      --------      --------      --------      --------      \n",
      "good          love          dog           product       amazon        \n",
      "really        dogs          dogs          excellent     price         \n",
      "stuff         kids          treats        products      buy           \n",
      "tastes        cats          loves         recommend     store         \n",
      "quality       absolutely    treat         quality       time          \n",
      "pretty        stuff         small         highly        local         \n",
      "nice          favorite      training      using         order         \n",
      "value         perfect       bag           used          shipping      \n",
      "thing         yummy         time          order         box           \n",
      "tasty         buy           day           purchase      grocery       \n",
      "feel          delicious     chicken       company       stores        \n",
      "lot           treats        size          does          bought        \n",
      "think         treat         chew          natural       better        \n",
      "better        wonderful     little        wonderful     bag           \n",
      "price         dont          old           received      buying        \n",
      "deal          easy          teeth         service       im            \n",
      "try           little        puppy         purchased     ordered       \n",
      "ingredients   awesome       eat           years         happy         \n",
      "liked         yum           pill          arrived       bags          \n",
      "things        healthy       liver         review        free          \n",
      "\n",
      "\n",
      "topic 10      topic 11      topic 12      topic 13      topic 14      \n",
      "--------      --------      --------      --------      --------      \n",
      "chocolate     best          flavor        taste         chips         \n",
      "dark          ive           favorite      better        potato        \n",
      "milk          tried         flavors       tried         bag           \n",
      "hot           far           nice          sweet         salt          \n",
      "bar           brands        sauce         does          kettle        \n",
      "magnesium     tasting       tried         different     chip          \n",
      "cookies       years         hot           real          bags          \n",
      "cocoa         tasted        sweet         try           brand         \n",
      "blue          brand         really        doesnt        snack         \n",
      "diamond       market        vanilla       texture       vinegar       \n",
      "almonds       better        strong        bitter        flavors       \n",
      "bars          mix           try           nice          fat           \n",
      "cream         jerky         texture       think         salty         \n",
      "chocolates    hot           flavored      drink         blue          \n",
      "butter        different     wonderful     smooth        sea           \n",
      "cookie        pasta         rich          honey         crunchy       \n",
      "body          available     spicy         excellent     spicy         \n",
      "candy         sauce         definitely    fresh         corn          \n",
      "delicious     buy           excellent     tasting       healthy       \n",
      "mint          try           chicken       tasted        eat           \n",
      "\n",
      "\n",
      "topic 15      topic 16      topic 17      topic 18      topic 19      \n",
      "--------      --------      --------      --------      --------      \n",
      "just          use           cat           water         sugar         \n",
      "right         oil           cats          drink         delicious     \n",
      "im            coconut       chicken       hot           eat           \n",
      "little        make          eat           add           free          \n",
      "time          salt          loves         bottle        snack         \n",
      "dont          used          treats        drinking      healthy       \n",
      "try           sauce         day           coconut       bars          \n",
      "know          add           canned        day           sweet         \n",
      "make          using         dry           milk          gluten        \n",
      "ive           popcorn       vet           mix           protein       \n",
      "got           olive         dont          tastes        fat           \n",
      "really        mix           diet          cup           butter        \n",
      "stuff         hair          pet           make          calories      \n",
      "way           cooking       feed          dont          organic       \n",
      "day           time          time          little        cookies       \n",
      "want          hot           pill          better        peanut        \n",
      "perfect       bread         tried         cold          dont          \n",
      "tried         little        years         im            cereal        \n",
      "say           chicken       little        juice         low           \n",
      "didnt         easy          old           energy        bar           \n",
      "\n",
      "\n"
     ]
    }
   ],
   "source": [
    "no_top_words = 20\n",
    "print(\"NMF\")\n",
    "display_topics_mg(nmf, tf_feature_names, no_top_words)"
   ]
  },
  {
   "cell_type": "code",
   "execution_count": 83,
   "metadata": {},
   "outputs": [],
   "source": [
    "lsiModel = TruncatedSVD(n_components=no_topics)\n",
    "lsi = lsiModel.fit(tf)"
   ]
  },
  {
   "cell_type": "code",
   "execution_count": 84,
   "metadata": {},
   "outputs": [
    {
     "name": "stdout",
     "output_type": "stream",
     "text": [
      "LSI\n",
      "topic 0       topic 1       topic 2       topic 3       topic 4       \n",
      "--------      --------      --------      --------      --------      \n",
      "like          tea           coffee        coffee        great         \n",
      "great         green         cup           food          product       \n",
      "tea           teas          taste         tea           price         \n",
      "good          drink         great         dog           dog           \n",
      "coffee        coffee        flavor        cat           love          \n",
      "just          cup           roast         cats          dogs          \n",
      "food          black         strong        cup           coffee        \n",
      "taste         flavor        keurig        dogs          tea           \n",
      "love          drinking      bold          dry           amazon        \n",
      "flavor        bags          dark          green         loves         \n",
      "product       iced          chocolate     wellness      treats        \n",
      "best          stash         like          canned        food          \n",
      "really        strong        kcup          vet           shipping      \n",
      "dont          caffeine      starbucks     strong        recommend     \n",
      "use           chai          kcups         feed          deal          \n",
      "little        earl          blend         keurig        buy           \n",
      "time          water         coffees       roast         snack         \n",
      "ive           grey          pods          loves         value         \n",
      "dog           hot           good          chicken       service       \n",
      "tried         brew          smooth        foods         quality       \n",
      "\n",
      "\n",
      "topic 5       topic 6       topic 7       topic 8       topic 9       \n",
      "--------      --------      --------      --------      --------      \n",
      "good          love          dog           love          chocolate     \n",
      "price         dog           like          like          best          \n",
      "product       dogs          treats        good          flavor        \n",
      "quality       treats        dogs          great         dog           \n",
      "really        best          great         taste         chips         \n",
      "magnesium     good          loves         chips         dark          \n",
      "food          treat         treat         snack         tried         \n",
      "excellent     product       really        chocolate     ive           \n",
      "blue          amazon        training      dogs          cookies       \n",
      "diamond       loves         small         dog           taste         \n",
      "value         time          dont          flavor        bar           \n",
      "body          just          chew          treats        delicious     \n",
      "almonds       buy           just          really        favorite      \n",
      "healthy       training      size          food          hot           \n",
      "protein       bag           puppy         bars          bars          \n",
      "pretty        small         tastes        sweet         great         \n",
      "amazon        price         bag           eat           sweet         \n",
      "shipping      delicious     toy           healthy       milk          \n",
      "chips         size          pill          bar           magnesium     \n",
      "source        use           water         cookies       blue          \n",
      "\n",
      "\n",
      "topic 10      topic 11      topic 12      topic 13      topic 14      \n",
      "--------      --------      --------      --------      --------      \n",
      "chocolate     best          flavor        taste         chips         \n",
      "product       like          product       water         taste         \n",
      "taste         product       chocolate     dog           product       \n",
      "like          flavor        dog           love          just          \n",
      "dark          price         use           oil           bag           \n",
      "sugar         chips         sugar         use           potato        \n",
      "milk          amazon        food          coconut       salt          \n",
      "cookies       tried         water         food          snack         \n",
      "bar           ive           dark          drink         amazon        \n",
      "bars          brand         excellent     best          bags          \n",
      "magnesium     far           hot           sugar         kettle        \n",
      "butter        quality       nice          add           chip          \n",
      "peanut        excellent     oil           salt          coffee        \n",
      "protein       buy           natural       natural       healthy       \n",
      "tea           brands        flavors       better        eat           \n",
      "free          favorite      magnesium     organic       delicious     \n",
      "cocoa         flavors       add           mix           blue          \n",
      "food          products      vanilla       bottle        fat           \n",
      "coffee        potato        love          sauce         brand         \n",
      "diamond       shipping      coconut       drinking      sweet         \n",
      "\n",
      "\n",
      "topic 15      topic 16      topic 17      topic 18      topic 19      \n",
      "--------      --------      --------      --------      --------      \n",
      "just          use           treats        water         sugar         \n",
      "best          oil           cat           chips         free          \n",
      "product       chips         cats          drink         delicious     \n",
      "flavor        salt          treat         best          snack         \n",
      "taste         make          oil           product       eat           \n",
      "food          like          ive           potato        gluten        \n",
      "good          food          best          hot           bars          \n",
      "tried         best          loves         kettle        sweet         \n",
      "dog           butter        tried         great         healthy       \n",
      "love          popcorn       eat           day           protein       \n",
      "right         just          little        magnesium     organic       \n",
      "great         organic       taste         bag           drink         \n",
      "like          potato        sugar         chocolate     cereal        \n",
      "popcorn       coconut       dogs          chip          calories      \n",
      "ive           add           coconut       good          fruit         \n",
      "sauce         mix           healthy       blue          cookies       \n",
      "hot           olive         chicken       drinking      fat           \n",
      "tea           love          training      snack         bar           \n",
      "chocolate     cup           pill          energy        best          \n",
      "bar           bread         organic       cat           natural       \n",
      "\n",
      "\n"
     ]
    }
   ],
   "source": [
    "print(\"LSI\")\n",
    "display_topics_mg(lsi, tf_feature_names, no_top_words)"
   ]
  },
  {
   "cell_type": "code",
   "execution_count": 85,
   "metadata": {},
   "outputs": [],
   "source": [
    "# Run NMF\n",
    "nmfidfModel = NMF(n_components=no_topics, random_state=1, alpha=.1, l1_ratio=.5, init='nndsvd')\n",
    "nmfidf= nmfidfModel.fit(tfidf)"
   ]
  },
  {
   "cell_type": "code",
   "execution_count": 86,
   "metadata": {},
   "outputs": [
    {
     "name": "stdout",
     "output_type": "stream",
     "text": [
      "NMF-idf\n",
      "topic 0       topic 1       topic 2       topic 3       topic 4       \n",
      "--------      --------      --------      --------      --------      \n",
      "price         tea           coffee        food          great         \n",
      "amazon        green         cup           dry           taste         \n",
      "store         teas          strong        foods         snack         \n",
      "buy           drink         bold          dogs          tasting       \n",
      "local         iced          keurig        wellness      price         \n",
      "stores        black         kcups         baby          value         \n",
      "grocery       bags          roast         eat           tastes        \n",
      "order         cup           smooth        quality       deal          \n",
      "shipping      stash         kcup          canned        easy          \n",
      "cheaper       chai          blend         feed          gift          \n",
      "buying        drinking      morning       healthy       stuff         \n",
      "happy         earl          coffees       diet          healthy       \n",
      "purchase      grey          starbucks     health        service       \n",
      "bought        herbal        bitter        ingredients   works         \n",
      "deal          day           decaf         feeding       makes         \n",
      "better        loose         dark          allergies     loves         \n",
      "box           wonderful     rich          dog           alternative   \n",
      "save          caffeine      cups          old           fast          \n",
      "available     brew          drink         coat          quick         \n",
      "time          honey         brew          wet           low           \n",
      "\n",
      "\n",
      "topic 5       topic 6       topic 7       topic 8       topic 9       \n",
      "--------      --------      --------      --------      --------      \n",
      "dogs          love          best          chips         good          \n",
      "treats        kids          ive           potato        really        \n",
      "treat         stuff         tried         salt          stuff         \n",
      "training      cats          far           bag           tastes        \n",
      "small         absolutely    tasting       chip          quality       \n",
      "size          dogs          tasted        snack         pretty        \n",
      "teeth         yummy         brands        kettle        value         \n",
      "chicken       buy           market        bags          price         \n",
      "bag           awesome       years         vinegar       deal          \n",
      "greenies      wish          brand         fat           nice          \n",
      "liver         yum           jerky         crunchy       tasty         \n",
      "puppy         fact          simply        salty         tasting       \n",
      "favorite      husband       mix           healthy       feel          \n",
      "healthy       peanut        different     regular       quite         \n",
      "chew          organic       better        pop           buy           \n",
      "pieces        youll         world         bbq           smells        \n",
      "little        butter        available     crunch        better        \n",
      "smell         flavors       hands         tasty         say           \n",
      "break         friends       eaten         corn          fresh         \n",
      "crazy         super         used          sea           bought        \n",
      "\n",
      "\n",
      "topic 10      topic 11      topic 12      topic 13      topic 14      \n",
      "--------      --------      --------      --------      --------      \n",
      "chocolate     like          product       sauce         cat           \n",
      "dark          taste         excellent     hot           cats          \n",
      "bar           really        recommend     heat          loves         \n",
      "bars          dont          highly        spicy         chicken       \n",
      "milk          tastes        quality       chicken       eat           \n",
      "cocoa         drink         use           sauces        kitty         \n",
      "hot           sugar         service       pasta         treats        \n",
      "peanut        water         products      use           vet           \n",
      "candy         better        used          add           tuna          \n",
      "butter        doesnt        arrived       cocoa         canned        \n",
      "chocolates    does          using         chili         wet           \n",
      "rich          sweet         time          stuff         stuff         \n",
      "sweet         real          wonderful     bottle        pill          \n",
      "delicious     just          order         make          like          \n",
      "protein       tried         purchase      pepper        picky         \n",
      "creamy        try           pleased       water         likes         \n",
      "cookie        think         received      cold          dry           \n",
      "white         regular       company       noodles       happy         \n",
      "chip          feel          years         used          diet          \n",
      "treat         energy        ordered       soup          fish          \n",
      "\n",
      "\n",
      "topic 15      topic 16      topic 17      topic 18      topic 19      \n",
      "--------      --------      --------      --------      --------      \n",
      "flavor        just          cookies       dog           oil           \n",
      "favorite      delicious     free          loves         popcorn       \n",
      "nice          snack         gluten        treats        coconut       \n",
      "flavors       little        cookie        treat         use           \n",
      "tried         eat           sugar         old           salt          \n",
      "strong        make          bread         bones         butter        \n",
      "wonderful     time          wheat         teeth         olive         \n",
      "rich          im            pasta         chew          water         \n",
      "vanilla       perfect       flour         likes         peanut        \n",
      "bold          tasty         mix           puppy         cooking       \n",
      "flavored      healthy       glutenfree    toy           hair          \n",
      "excellent     day           pretzels      chews         skin          \n",
      "smooth        easy          gf            picky         using         \n",
      "sweet         bars          products      shes          used          \n",
      "gum           right         eat           year          movie         \n",
      "texture       sweet         oatmeal       vet           add           \n",
      "salt          yummy         shipping      hes           make          \n",
      "light         mix           ginger        gets          bread         \n",
      "far           cereal        chip          eats          oils          \n",
      "new           dont          texture       greenies      seasoning     \n",
      "\n",
      "\n"
     ]
    }
   ],
   "source": [
    "print(\"NMF-idf\")\n",
    "display_topics_mg(nmfidf, tfidf_feature_names, no_top_words)"
   ]
  },
  {
   "cell_type": "code",
   "execution_count": 67,
   "metadata": {},
   "outputs": [],
   "source": [
    "# Run LDA\n",
    "#ldaModel = LatentDirichletAllocation(n_components=1000, max_iter=5, learning_method='online', learning_offset=50.,random_state=0)\n",
    "#lda=ldaModel.fit(tf)\n"
   ]
  },
  {
   "cell_type": "code",
   "execution_count": 68,
   "metadata": {},
   "outputs": [],
   "source": [
    "#print(\"LDA\")\n",
    "#display_topics(lda, tf_feature_names, no_top_words)\n"
   ]
  },
  {
   "cell_type": "code",
   "execution_count": 69,
   "metadata": {},
   "outputs": [],
   "source": [
    "# Log Likelyhood: Higher the better\n",
    "#print(\"Log Likelihood: \", ldaModel.score(lda))\n",
    "\n",
    "# Perplexity: Lower the better. Perplexity = exp(-1. * log-likelihood per word)\n",
    "#print(\"Perplexity: \", ldaModel.perplexity(lda))"
   ]
  },
  {
   "cell_type": "code",
   "execution_count": null,
   "metadata": {},
   "outputs": [],
   "source": []
  },
  {
   "cell_type": "code",
   "execution_count": null,
   "metadata": {},
   "outputs": [],
   "source": []
  },
  {
   "cell_type": "code",
   "execution_count": null,
   "metadata": {},
   "outputs": [],
   "source": []
  }
 ],
 "metadata": {
  "kernelspec": {
   "display_name": "Python 3",
   "language": "python",
   "name": "python3"
  },
  "language_info": {
   "codemirror_mode": {
    "name": "ipython",
    "version": 3
   },
   "file_extension": ".py",
   "mimetype": "text/x-python",
   "name": "python",
   "nbconvert_exporter": "python",
   "pygments_lexer": "ipython3",
   "version": "3.7.4"
  }
 },
 "nbformat": 4,
 "nbformat_minor": 2
}
