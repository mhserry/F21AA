{
 "cells": [
  {
   "cell_type": "code",
   "execution_count": 1,
   "metadata": {},
   "outputs": [],
   "source": [
    "import pandas as pd\n",
    "import numpy as np\n",
    "import matplotlib.pyplot as plt\n",
    "import seaborn as sns\n",
    "from bs4 import BeautifulSoup\n",
    "import seaborn as sb\n",
    "import nltk\n",
    "import string\n",
    "from nltk.stem import PorterStemmer\n",
    "from numba import vectorize\n",
    "import unidecode"
   ]
  },
  {
   "cell_type": "markdown",
   "metadata": {},
   "source": [
    "# 0- Functions & Definitions"
   ]
  },
  {
   "cell_type": "markdown",
   "metadata": {},
   "source": [
    "#### Function: to load file"
   ]
  },
  {
   "cell_type": "code",
   "execution_count": 2,
   "metadata": {},
   "outputs": [],
   "source": [
    "#This function will load file and return it as Data Frame and also return list of column names\n",
    "def loadFile(fileName):\n",
    "    #reading the temp file to a dataframe with the new headers    \n",
    "    print('Loading File...',end='')\n",
    "    result = pd.read_csv(fileName)\n",
    "    print('[ok]')\n",
    "    print('Loaded {:,} reviews' .format(len(result)))    \n",
    "    print('Column Names: ', result.columns.tolist())\n",
    "    return result, result.columns.tolist()"
   ]
  },
  {
   "cell_type": "markdown",
   "metadata": {},
   "source": [
    "#### Function: to drop unused columns"
   ]
  },
  {
   "cell_type": "code",
   "execution_count": 3,
   "metadata": {},
   "outputs": [],
   "source": [
    "#This fuction will return modified dataframe with selected columns only\n",
    "def neededColumnsOnly(df, columns_needed):\n",
    "    #return df.filter(columns_needed) \n",
    "    #Or\n",
    "    to_drop_columns = list(x for x in df.columns.tolist() if x not in columns_needed)\n",
    "    df.drop(to_drop_columns,axis=1,inplace=True)\n",
    "    return df"
   ]
  },
  {
   "cell_type": "markdown",
   "metadata": {},
   "source": [
    "#### Function: to find columns containing nulls"
   ]
  },
  {
   "cell_type": "code",
   "execution_count": 4,
   "metadata": {},
   "outputs": [],
   "source": [
    "#This fuction will check which columns having null values\n",
    "def columns_with_nulls(df, index_column):\n",
    "    null_columns = []\n",
    "    for column in df.columns:\n",
    "        if column != index_column:\n",
    "            check_null = df.isnull()[[column,index_column]].groupby(column).agg('count')\n",
    "            try:\n",
    "                if check_null.loc[True][0] > 0:\n",
    "                    null_columns.append(column)\n",
    "            except:\n",
    "                pass\n",
    "    return null_columns"
   ]
  },
  {
   "cell_type": "markdown",
   "metadata": {},
   "source": [
    "#### Function: to remove all null values from columns"
   ]
  },
  {
   "cell_type": "code",
   "execution_count": 5,
   "metadata": {},
   "outputs": [],
   "source": [
    "#This fuction will remove all nulls in columns found earlier\n",
    "def remove_nulls(df, columns):\n",
    "    for column in columns:\n",
    "        df[column].fillna('', inplace=True)\n",
    "    return df"
   ]
  },
  {
   "cell_type": "markdown",
   "metadata": {},
   "source": [
    "#### Function: to find columns containing html tags"
   ]
  },
  {
   "cell_type": "code",
   "execution_count": 6,
   "metadata": {},
   "outputs": [],
   "source": [
    "#This fuction will check which columns having html tags\n",
    "def columns_with_html(df):\n",
    "    null_columns = []\n",
    "    for column in df.columns:\n",
    "        try:\n",
    "            text_html = df[column].str.find('<')\n",
    "            text_html = text_html[text_html != -1]\n",
    "            check_null = len(text_html)\n",
    "            if check_null > 0:\n",
    "                null_columns.append(column)\n",
    "        except:\n",
    "            pass\n",
    "    return null_columns"
   ]
  },
  {
   "cell_type": "markdown",
   "metadata": {},
   "source": [
    "#### Function: to remove html tags from data"
   ]
  },
  {
   "cell_type": "code",
   "execution_count": 7,
   "metadata": {},
   "outputs": [],
   "source": [
    "#This fuction will remove all html tags in text\n",
    "def remove_html_tags(text):\n",
    "    sp = BeautifulSoup(text, \"html.parser\")\n",
    "    returned_text = sp.get_text(separator=\" \")\n",
    "    return returned_text"
   ]
  },
  {
   "cell_type": "markdown",
   "metadata": {},
   "source": [
    "#### Function: to merge Summary and Text in one column and get rid of productId column"
   ]
  },
  {
   "cell_type": "code",
   "execution_count": 8,
   "metadata": {},
   "outputs": [],
   "source": [
    "#This fuction will result in two columns only score and review\n",
    "def merge_summary_text(df):\n",
    "    df['review']=df['Summary']+' '+df['Text'] \n",
    "    df.drop(['Summary','Text','ProductId'],axis=1,inplace=True)\n",
    "    return df"
   ]
  },
  {
   "cell_type": "markdown",
   "metadata": {},
   "source": [
    "#### Function: to correct accent in letters"
   ]
  },
  {
   "cell_type": "code",
   "execution_count": 9,
   "metadata": {},
   "outputs": [],
   "source": [
    "#This function will replace accents in letters with regular letters example nescafé will be nescafe\n",
    "def correct_accent(text):\n",
    "    returned_text = unidecode.unidecode(text)\n",
    "    return returned_text"
   ]
  },
  {
   "cell_type": "markdown",
   "metadata": {},
   "source": [
    "#### Function: to visualized score count"
   ]
  },
  {
   "cell_type": "code",
   "execution_count": 10,
   "metadata": {},
   "outputs": [],
   "source": [
    "def visualize_score_count(df):\n",
    "    # visualize total review by score count\n",
    "    final_df_grouped = df[['Score', 'review']].groupby('Score').agg('count')\n",
    "    final_df_grouped= final_df_grouped.reset_index()\n",
    "    f, ax = plt.subplots(figsize=(8, 6))\n",
    "    fig = sb.barplot(x='Score', y=\"review\", data=final_df_grouped)"
   ]
  },
  {
   "cell_type": "markdown",
   "metadata": {},
   "source": [
    "# 1- Data Exploration and Visualization:"
   ]
  },
  {
   "cell_type": "markdown",
   "metadata": {},
   "source": [
    "## 1.1 Data Preparation and Cleaning"
   ]
  },
  {
   "cell_type": "markdown",
   "metadata": {},
   "source": [
    "#### 1.1.1 Load Data File"
   ]
  },
  {
   "cell_type": "code",
   "execution_count": 11,
   "metadata": {
    "scrolled": false
   },
   "outputs": [
    {
     "name": "stdout",
     "output_type": "stream",
     "text": [
      "Loading File...[ok]\n",
      "Loaded 426,340 reviews\n",
      "Column Names:  ['Id', 'ProductId', 'UserId', 'ProfileName', 'HelpfulnessNumerator', 'HelpfulnessDenominator', 'Score', 'Time', 'Summary', 'Text']\n"
     ]
    }
   ],
   "source": [
    "# Load Data Set, this will return our main Data set and list of column names\n",
    "\n",
    "original_df, column_names = loadFile('train.csv')"
   ]
  },
  {
   "cell_type": "markdown",
   "metadata": {},
   "source": [
    "#### 1.1.2 Extract Needed Columns"
   ]
  },
  {
   "cell_type": "code",
   "execution_count": 12,
   "metadata": {},
   "outputs": [],
   "source": [
    "# Get rid of un needed columns\n",
    "\n",
    "df_required_columns = neededColumnsOnly(original_df, ['ProductId','Score','Summary','Text'])"
   ]
  },
  {
   "cell_type": "code",
   "execution_count": 13,
   "metadata": {
    "scrolled": true
   },
   "outputs": [
    {
     "data": {
      "text/html": [
       "<div>\n",
       "<style scoped>\n",
       "    .dataframe tbody tr th:only-of-type {\n",
       "        vertical-align: middle;\n",
       "    }\n",
       "\n",
       "    .dataframe tbody tr th {\n",
       "        vertical-align: top;\n",
       "    }\n",
       "\n",
       "    .dataframe thead th {\n",
       "        text-align: right;\n",
       "    }\n",
       "</style>\n",
       "<table border=\"1\" class=\"dataframe\">\n",
       "  <thead>\n",
       "    <tr style=\"text-align: right;\">\n",
       "      <th></th>\n",
       "      <th>ProductId</th>\n",
       "      <th>Score</th>\n",
       "      <th>Summary</th>\n",
       "      <th>Text</th>\n",
       "    </tr>\n",
       "  </thead>\n",
       "  <tbody>\n",
       "    <tr>\n",
       "      <th>0</th>\n",
       "      <td>B0034EDLS2</td>\n",
       "      <td>5</td>\n",
       "      <td>Very Good</td>\n",
       "      <td>I received this product early from the seller!...</td>\n",
       "    </tr>\n",
       "    <tr>\n",
       "      <th>1</th>\n",
       "      <td>B001I7HJE4</td>\n",
       "      <td>5</td>\n",
       "      <td>Organic, Kosher, Tasty Assortment of Premium T...</td>\n",
       "      <td>*****&lt;br /&gt;Numi's Collection Assortment Melang...</td>\n",
       "    </tr>\n",
       "    <tr>\n",
       "      <th>2</th>\n",
       "      <td>B000LKTB90</td>\n",
       "      <td>5</td>\n",
       "      <td>excellent gluten-free spaghetti: great taste, ...</td>\n",
       "      <td>I was very careful not to overcook this pasta,...</td>\n",
       "    </tr>\n",
       "    <tr>\n",
       "      <th>3</th>\n",
       "      <td>B001HXJPS2</td>\n",
       "      <td>5</td>\n",
       "      <td>Lindt is Lindt</td>\n",
       "      <td>Buying this multi-pack I was misled by the pic...</td>\n",
       "    </tr>\n",
       "    <tr>\n",
       "      <th>4</th>\n",
       "      <td>B006H34CUS</td>\n",
       "      <td>5</td>\n",
       "      <td>YUM!!!!!</td>\n",
       "      <td>These bars are so good! I loved them warmed up...</td>\n",
       "    </tr>\n",
       "    <tr>\n",
       "      <th>5</th>\n",
       "      <td>B004728MI4</td>\n",
       "      <td>5</td>\n",
       "      <td>Delicious</td>\n",
       "      <td>I love these chips, I buy the 24 pack once a m...</td>\n",
       "    </tr>\n",
       "    <tr>\n",
       "      <th>6</th>\n",
       "      <td>B001BZ5EFE</td>\n",
       "      <td>5</td>\n",
       "      <td>Tastes great and it's organic!!</td>\n",
       "      <td>I'm a huge fan of eating cereal for breakfast....</td>\n",
       "    </tr>\n",
       "    <tr>\n",
       "      <th>7</th>\n",
       "      <td>B0001AVRQK</td>\n",
       "      <td>2</td>\n",
       "      <td>Poor taste</td>\n",
       "      <td>I was really disappointed with the Sorghum we ...</td>\n",
       "    </tr>\n",
       "    <tr>\n",
       "      <th>8</th>\n",
       "      <td>B005GV9RZC</td>\n",
       "      <td>3</td>\n",
       "      <td>Better than US Instant Coffee</td>\n",
       "      <td>A friend who has gone to Korea gave me a coupl...</td>\n",
       "    </tr>\n",
       "    <tr>\n",
       "      <th>9</th>\n",
       "      <td>B004FEN3GK</td>\n",
       "      <td>4</td>\n",
       "      <td>Hard not to like!</td>\n",
       "      <td>No need for plastic baggies or sloppy tin foil...</td>\n",
       "    </tr>\n",
       "  </tbody>\n",
       "</table>\n",
       "</div>"
      ],
      "text/plain": [
       "    ProductId  Score                                            Summary  \\\n",
       "0  B0034EDLS2      5                                          Very Good   \n",
       "1  B001I7HJE4      5  Organic, Kosher, Tasty Assortment of Premium T...   \n",
       "2  B000LKTB90      5  excellent gluten-free spaghetti: great taste, ...   \n",
       "3  B001HXJPS2      5                                     Lindt is Lindt   \n",
       "4  B006H34CUS      5                                           YUM!!!!!   \n",
       "5  B004728MI4      5                                          Delicious   \n",
       "6  B001BZ5EFE      5                    Tastes great and it's organic!!   \n",
       "7  B0001AVRQK      2                                         Poor taste   \n",
       "8  B005GV9RZC      3                      Better than US Instant Coffee   \n",
       "9  B004FEN3GK      4                                  Hard not to like!   \n",
       "\n",
       "                                                Text  \n",
       "0  I received this product early from the seller!...  \n",
       "1  *****<br />Numi's Collection Assortment Melang...  \n",
       "2  I was very careful not to overcook this pasta,...  \n",
       "3  Buying this multi-pack I was misled by the pic...  \n",
       "4  These bars are so good! I loved them warmed up...  \n",
       "5  I love these chips, I buy the 24 pack once a m...  \n",
       "6  I'm a huge fan of eating cereal for breakfast....  \n",
       "7  I was really disappointed with the Sorghum we ...  \n",
       "8  A friend who has gone to Korea gave me a coupl...  \n",
       "9  No need for plastic baggies or sloppy tin foil...  "
      ]
     },
     "execution_count": 13,
     "metadata": {},
     "output_type": "execute_result"
    }
   ],
   "source": [
    "df_required_columns.head(10)"
   ]
  },
  {
   "cell_type": "markdown",
   "metadata": {},
   "source": [
    "#### 1.1.3 Remove Nulls"
   ]
  },
  {
   "cell_type": "code",
   "execution_count": 14,
   "metadata": {},
   "outputs": [],
   "source": [
    "# Get list of columns containing null values\n",
    "\n",
    "list_columns_with_nulls = columns_with_nulls(df_required_columns, 'ProductId')"
   ]
  },
  {
   "cell_type": "code",
   "execution_count": 15,
   "metadata": {},
   "outputs": [
    {
     "data": {
      "text/plain": [
       "['Summary']"
      ]
     },
     "execution_count": 15,
     "metadata": {},
     "output_type": "execute_result"
    }
   ],
   "source": [
    "list_columns_with_nulls"
   ]
  },
  {
   "cell_type": "code",
   "execution_count": 16,
   "metadata": {},
   "outputs": [],
   "source": [
    "# Replace null values with empty string\n",
    "\n",
    "df_without_nulls = remove_nulls(df_required_columns, list_columns_with_nulls)"
   ]
  },
  {
   "cell_type": "code",
   "execution_count": 17,
   "metadata": {},
   "outputs": [
    {
     "data": {
      "text/html": [
       "<div>\n",
       "<style scoped>\n",
       "    .dataframe tbody tr th:only-of-type {\n",
       "        vertical-align: middle;\n",
       "    }\n",
       "\n",
       "    .dataframe tbody tr th {\n",
       "        vertical-align: top;\n",
       "    }\n",
       "\n",
       "    .dataframe thead th {\n",
       "        text-align: right;\n",
       "    }\n",
       "</style>\n",
       "<table border=\"1\" class=\"dataframe\">\n",
       "  <thead>\n",
       "    <tr style=\"text-align: right;\">\n",
       "      <th></th>\n",
       "      <th>ProductId</th>\n",
       "      <th>Score</th>\n",
       "      <th>Summary</th>\n",
       "      <th>Text</th>\n",
       "    </tr>\n",
       "  </thead>\n",
       "  <tbody>\n",
       "    <tr>\n",
       "      <th>0</th>\n",
       "      <td>B0034EDLS2</td>\n",
       "      <td>5</td>\n",
       "      <td>Very Good</td>\n",
       "      <td>I received this product early from the seller!...</td>\n",
       "    </tr>\n",
       "    <tr>\n",
       "      <th>1</th>\n",
       "      <td>B001I7HJE4</td>\n",
       "      <td>5</td>\n",
       "      <td>Organic, Kosher, Tasty Assortment of Premium T...</td>\n",
       "      <td>*****&lt;br /&gt;Numi's Collection Assortment Melang...</td>\n",
       "    </tr>\n",
       "    <tr>\n",
       "      <th>2</th>\n",
       "      <td>B000LKTB90</td>\n",
       "      <td>5</td>\n",
       "      <td>excellent gluten-free spaghetti: great taste, ...</td>\n",
       "      <td>I was very careful not to overcook this pasta,...</td>\n",
       "    </tr>\n",
       "    <tr>\n",
       "      <th>3</th>\n",
       "      <td>B001HXJPS2</td>\n",
       "      <td>5</td>\n",
       "      <td>Lindt is Lindt</td>\n",
       "      <td>Buying this multi-pack I was misled by the pic...</td>\n",
       "    </tr>\n",
       "    <tr>\n",
       "      <th>4</th>\n",
       "      <td>B006H34CUS</td>\n",
       "      <td>5</td>\n",
       "      <td>YUM!!!!!</td>\n",
       "      <td>These bars are so good! I loved them warmed up...</td>\n",
       "    </tr>\n",
       "  </tbody>\n",
       "</table>\n",
       "</div>"
      ],
      "text/plain": [
       "    ProductId  Score                                            Summary  \\\n",
       "0  B0034EDLS2      5                                          Very Good   \n",
       "1  B001I7HJE4      5  Organic, Kosher, Tasty Assortment of Premium T...   \n",
       "2  B000LKTB90      5  excellent gluten-free spaghetti: great taste, ...   \n",
       "3  B001HXJPS2      5                                     Lindt is Lindt   \n",
       "4  B006H34CUS      5                                           YUM!!!!!   \n",
       "\n",
       "                                                Text  \n",
       "0  I received this product early from the seller!...  \n",
       "1  *****<br />Numi's Collection Assortment Melang...  \n",
       "2  I was very careful not to overcook this pasta,...  \n",
       "3  Buying this multi-pack I was misled by the pic...  \n",
       "4  These bars are so good! I loved them warmed up...  "
      ]
     },
     "execution_count": 17,
     "metadata": {},
     "output_type": "execute_result"
    }
   ],
   "source": [
    "df_without_nulls.head()"
   ]
  },
  {
   "cell_type": "code",
   "execution_count": 18,
   "metadata": {},
   "outputs": [
    {
     "data": {
      "text/plain": [
       "[]"
      ]
     },
     "execution_count": 18,
     "metadata": {},
     "output_type": "execute_result"
    }
   ],
   "source": [
    "# double check if removed\n",
    "\n",
    "columns_with_nulls(df_without_nulls, 'ProductId')"
   ]
  },
  {
   "cell_type": "markdown",
   "metadata": {},
   "source": [
    "#### 1.1.3 Remove Html Tags"
   ]
  },
  {
   "cell_type": "code",
   "execution_count": 19,
   "metadata": {},
   "outputs": [],
   "source": [
    "# Get list of columns containing html tags\n",
    "\n",
    "list_columns_with_html = columns_with_html(df_without_nulls)"
   ]
  },
  {
   "cell_type": "code",
   "execution_count": 20,
   "metadata": {},
   "outputs": [
    {
     "data": {
      "text/plain": [
       "['Text']"
      ]
     },
     "execution_count": 20,
     "metadata": {},
     "output_type": "execute_result"
    }
   ],
   "source": [
    "list_columns_with_html"
   ]
  },
  {
   "cell_type": "code",
   "execution_count": 21,
   "metadata": {
    "scrolled": false
   },
   "outputs": [
    {
     "data": {
      "text/plain": [
       "'*****<br />Numi\\'s Collection Assortment Melange includes:<br />5 Herbal Teas (caffeine-free, also called \"teasans\"):<br />* Dry Desert Lime: Lime Herbal Teasan<br />* Fields of Gold: Lemongrass Herbal Teasan<br />* Red Mellow Bush: Rooibos Herbal Teasan<br />* Bushmen\\'s Brew: Honeybush Herbal Teasan<br />* Simply Mint: Moroccan Mint<br /><br />2 Green Teas (lower in caffeine):<br />* Temple of Heaven: Gunpowder Green Tea<br />* Monkey King: Jasmine Green Tea<br /><br />2 Black Teas (contain caffeine):<br />* Chinese Breakfast: Yunnan Black Tea<br />* Smoky Tarry: Lapsang Souchong Black Tea<br /><br />This is a total of nine different teas, two tea bags of each one in each box. Numi teas are known for their high-quality, organic and kosher ingredients, and in my opinion, are some of the tastiest and best teas I have ever tried. They do not include artificial ingredients or flavorings.<br /><br />On the box, the manufacturer writes: \"From mist-covered mountains to sun-drenched deserts to fertile fields, we proudly bring you our tea palette. The flavors range from smooth earthiness, and light floral scents, to refreshingly sweet and sour notes. What they all share is the recollection of how some Ancient One tamed fire and water to coexist harmoniously, and steeped in them the gifts of Nature. Since that distant past, people have soothed, roused, healed, explored and celebrated with these wonderful infusions. We encourage you to do the same with Numi\\'s finest.\"<br /><br />The price is perfect, a big savings over single boxes. If you like Numi teas and want to sample a wonderful assortment, get it---you won\\'t be sorry. There may be some you like and others you don\\'t, but sampling them will be a delightful experience. If you are new to Numi this is an excellent way to sample their high-quality teas. I do not think you could find a better source of premium tea than Numi.<br /><br />Highly recommended.<br />*****'"
      ]
     },
     "execution_count": 21,
     "metadata": {},
     "output_type": "execute_result"
    }
   ],
   "source": [
    "# example of html tag in text column\n",
    "\n",
    "df_without_nulls.loc[1]['Text']"
   ]
  },
  {
   "cell_type": "code",
   "execution_count": 22,
   "metadata": {},
   "outputs": [],
   "source": [
    "df_without_html = df_without_nulls.copy()"
   ]
  },
  {
   "cell_type": "code",
   "execution_count": 23,
   "metadata": {},
   "outputs": [],
   "source": [
    "# Get rid of html tags \n",
    "df_without_html['Text'] = df_without_html['Text'].apply(remove_html_tags)"
   ]
  },
  {
   "cell_type": "code",
   "execution_count": 24,
   "metadata": {
    "scrolled": false
   },
   "outputs": [
    {
     "data": {
      "text/plain": [
       "'***** Numi\\'s Collection Assortment Melange includes: 5 Herbal Teas (caffeine-free, also called \"teasans\"): * Dry Desert Lime: Lime Herbal Teasan * Fields of Gold: Lemongrass Herbal Teasan * Red Mellow Bush: Rooibos Herbal Teasan * Bushmen\\'s Brew: Honeybush Herbal Teasan * Simply Mint: Moroccan Mint 2 Green Teas (lower in caffeine): * Temple of Heaven: Gunpowder Green Tea * Monkey King: Jasmine Green Tea 2 Black Teas (contain caffeine): * Chinese Breakfast: Yunnan Black Tea * Smoky Tarry: Lapsang Souchong Black Tea This is a total of nine different teas, two tea bags of each one in each box. Numi teas are known for their high-quality, organic and kosher ingredients, and in my opinion, are some of the tastiest and best teas I have ever tried. They do not include artificial ingredients or flavorings. On the box, the manufacturer writes: \"From mist-covered mountains to sun-drenched deserts to fertile fields, we proudly bring you our tea palette. The flavors range from smooth earthiness, and light floral scents, to refreshingly sweet and sour notes. What they all share is the recollection of how some Ancient One tamed fire and water to coexist harmoniously, and steeped in them the gifts of Nature. Since that distant past, people have soothed, roused, healed, explored and celebrated with these wonderful infusions. We encourage you to do the same with Numi\\'s finest.\" The price is perfect, a big savings over single boxes. If you like Numi teas and want to sample a wonderful assortment, get it---you won\\'t be sorry. There may be some you like and others you don\\'t, but sampling them will be a delightful experience. If you are new to Numi this is an excellent way to sample their high-quality teas. I do not think you could find a better source of premium tea than Numi. Highly recommended. *****'"
      ]
     },
     "execution_count": 24,
     "metadata": {},
     "output_type": "execute_result"
    }
   ],
   "source": [
    "df_without_html.loc[1]['Text']"
   ]
  },
  {
   "cell_type": "markdown",
   "metadata": {},
   "source": [
    "#### 1.1.4 Merge Summary and Text in review column"
   ]
  },
  {
   "cell_type": "code",
   "execution_count": 25,
   "metadata": {},
   "outputs": [],
   "source": [
    "# final dataframe preparation\n",
    "\n",
    "final_df = merge_summary_text(df_without_html)"
   ]
  },
  {
   "cell_type": "code",
   "execution_count": 26,
   "metadata": {
    "scrolled": true
   },
   "outputs": [
    {
     "data": {
      "text/html": [
       "<div>\n",
       "<style scoped>\n",
       "    .dataframe tbody tr th:only-of-type {\n",
       "        vertical-align: middle;\n",
       "    }\n",
       "\n",
       "    .dataframe tbody tr th {\n",
       "        vertical-align: top;\n",
       "    }\n",
       "\n",
       "    .dataframe thead th {\n",
       "        text-align: right;\n",
       "    }\n",
       "</style>\n",
       "<table border=\"1\" class=\"dataframe\">\n",
       "  <thead>\n",
       "    <tr style=\"text-align: right;\">\n",
       "      <th></th>\n",
       "      <th>Score</th>\n",
       "      <th>review</th>\n",
       "    </tr>\n",
       "  </thead>\n",
       "  <tbody>\n",
       "    <tr>\n",
       "      <th>0</th>\n",
       "      <td>5</td>\n",
       "      <td>Very Good I received this product early from t...</td>\n",
       "    </tr>\n",
       "    <tr>\n",
       "      <th>1</th>\n",
       "      <td>5</td>\n",
       "      <td>Organic, Kosher, Tasty Assortment of Premium T...</td>\n",
       "    </tr>\n",
       "    <tr>\n",
       "      <th>2</th>\n",
       "      <td>5</td>\n",
       "      <td>excellent gluten-free spaghetti: great taste, ...</td>\n",
       "    </tr>\n",
       "    <tr>\n",
       "      <th>3</th>\n",
       "      <td>5</td>\n",
       "      <td>Lindt is Lindt Buying this multi-pack I was mi...</td>\n",
       "    </tr>\n",
       "    <tr>\n",
       "      <th>4</th>\n",
       "      <td>5</td>\n",
       "      <td>YUM!!!!! These bars are so good! I loved them ...</td>\n",
       "    </tr>\n",
       "    <tr>\n",
       "      <th>5</th>\n",
       "      <td>5</td>\n",
       "      <td>Delicious I love these chips, I buy the 24 pac...</td>\n",
       "    </tr>\n",
       "    <tr>\n",
       "      <th>6</th>\n",
       "      <td>5</td>\n",
       "      <td>Tastes great and it's organic!! I'm a huge fan...</td>\n",
       "    </tr>\n",
       "    <tr>\n",
       "      <th>7</th>\n",
       "      <td>2</td>\n",
       "      <td>Poor taste I was really disappointed with the ...</td>\n",
       "    </tr>\n",
       "    <tr>\n",
       "      <th>8</th>\n",
       "      <td>3</td>\n",
       "      <td>Better than US Instant Coffee A friend who has...</td>\n",
       "    </tr>\n",
       "    <tr>\n",
       "      <th>9</th>\n",
       "      <td>4</td>\n",
       "      <td>Hard not to like! No need for plastic baggies ...</td>\n",
       "    </tr>\n",
       "  </tbody>\n",
       "</table>\n",
       "</div>"
      ],
      "text/plain": [
       "   Score                                             review\n",
       "0      5  Very Good I received this product early from t...\n",
       "1      5  Organic, Kosher, Tasty Assortment of Premium T...\n",
       "2      5  excellent gluten-free spaghetti: great taste, ...\n",
       "3      5  Lindt is Lindt Buying this multi-pack I was mi...\n",
       "4      5  YUM!!!!! These bars are so good! I loved them ...\n",
       "5      5  Delicious I love these chips, I buy the 24 pac...\n",
       "6      5  Tastes great and it's organic!! I'm a huge fan...\n",
       "7      2  Poor taste I was really disappointed with the ...\n",
       "8      3  Better than US Instant Coffee A friend who has...\n",
       "9      4  Hard not to like! No need for plastic baggies ..."
      ]
     },
     "execution_count": 26,
     "metadata": {},
     "output_type": "execute_result"
    }
   ],
   "source": [
    "final_df.head(10)"
   ]
  },
  {
   "cell_type": "markdown",
   "metadata": {},
   "source": [
    "##### 1.1.5 Correct accented letters"
   ]
  },
  {
   "cell_type": "code",
   "execution_count": 27,
   "metadata": {},
   "outputs": [],
   "source": [
    "#check if accent exist\n",
    "text_html = final_df['review'].str.find('é')\n",
    "text_html = text_html[text_html != -1]"
   ]
  },
  {
   "cell_type": "code",
   "execution_count": 28,
   "metadata": {},
   "outputs": [
    {
     "data": {
      "text/plain": [
       "864       173\n",
       "3467      371\n",
       "4554     1236\n",
       "4590     1494\n",
       "7852       15\n",
       "9339      123\n",
       "10269     107\n",
       "12255     112\n",
       "14951    1547\n",
       "15712      61\n",
       "Name: review, dtype: int64"
      ]
     },
     "execution_count": 28,
     "metadata": {},
     "output_type": "execute_result"
    }
   ],
   "source": [
    "text_html.head(10)"
   ]
  },
  {
   "cell_type": "code",
   "execution_count": 29,
   "metadata": {},
   "outputs": [
    {
     "data": {
      "text/plain": [
       "\"not my cup of coffee i bought this becuase i liked the nescafé packets of instant coffee that i got in my hotel room the last time i was in the dominican republic and i'll admit, i don't like coffee. but when i tried this stuff from dominican i was like omg this is a party in my mouth and i'm drinking it black!!! so i bought this nescafé canister hoping it would be the same. well it wasn't. this stuff has nothing to recommend it. it's worse than most coffees i've tried.\""
      ]
     },
     "execution_count": 29,
     "metadata": {},
     "output_type": "execute_result"
    }
   ],
   "source": [
    "final_df['review'].iloc[15712] #nescafé  is found"
   ]
  },
  {
   "cell_type": "code",
   "execution_count": 30,
   "metadata": {},
   "outputs": [],
   "source": [
    "#remove accents\n",
    "final_df['review'] = final_df['review'].apply(correct_accent)"
   ]
  },
  {
   "cell_type": "code",
   "execution_count": 31,
   "metadata": {},
   "outputs": [
    {
     "data": {
      "text/plain": [
       "\"not my cup of coffee i bought this becuase i liked the nescafe packets of instant coffee that i got in my hotel room the last time i was in the dominican republic and i'll admit, i don't like coffee. but when i tried this stuff from dominican i was like omg this is a party in my mouth and i'm drinking it black!!! so i bought this nescafe canister hoping it would be the same. well it wasn't. this stuff has nothing to recommend it. it's worse than most coffees i've tried.\""
      ]
     },
     "execution_count": 31,
     "metadata": {},
     "output_type": "execute_result"
    }
   ],
   "source": [
    "#double check if removed\n",
    "final_df['review'].iloc[15712]"
   ]
  },
  {
   "cell_type": "code",
   "execution_count": 32,
   "metadata": {},
   "outputs": [
    {
     "data": {
      "text/html": [
       "<div>\n",
       "<style scoped>\n",
       "    .dataframe tbody tr th:only-of-type {\n",
       "        vertical-align: middle;\n",
       "    }\n",
       "\n",
       "    .dataframe tbody tr th {\n",
       "        vertical-align: top;\n",
       "    }\n",
       "\n",
       "    .dataframe thead th {\n",
       "        text-align: right;\n",
       "    }\n",
       "</style>\n",
       "<table border=\"1\" class=\"dataframe\">\n",
       "  <thead>\n",
       "    <tr style=\"text-align: right;\">\n",
       "      <th></th>\n",
       "      <th>Score</th>\n",
       "      <th>review</th>\n",
       "    </tr>\n",
       "  </thead>\n",
       "  <tbody>\n",
       "    <tr>\n",
       "      <th>0</th>\n",
       "      <td>5</td>\n",
       "      <td>Very Good I received this product early from t...</td>\n",
       "    </tr>\n",
       "    <tr>\n",
       "      <th>1</th>\n",
       "      <td>5</td>\n",
       "      <td>Organic, Kosher, Tasty Assortment of Premium T...</td>\n",
       "    </tr>\n",
       "    <tr>\n",
       "      <th>2</th>\n",
       "      <td>5</td>\n",
       "      <td>excellent gluten-free spaghetti: great taste, ...</td>\n",
       "    </tr>\n",
       "    <tr>\n",
       "      <th>3</th>\n",
       "      <td>5</td>\n",
       "      <td>Lindt is Lindt Buying this multi-pack I was mi...</td>\n",
       "    </tr>\n",
       "    <tr>\n",
       "      <th>4</th>\n",
       "      <td>5</td>\n",
       "      <td>YUM!!!!! These bars are so good! I loved them ...</td>\n",
       "    </tr>\n",
       "    <tr>\n",
       "      <th>5</th>\n",
       "      <td>5</td>\n",
       "      <td>Delicious I love these chips, I buy the 24 pac...</td>\n",
       "    </tr>\n",
       "    <tr>\n",
       "      <th>6</th>\n",
       "      <td>5</td>\n",
       "      <td>Tastes great and it's organic!! I'm a huge fan...</td>\n",
       "    </tr>\n",
       "    <tr>\n",
       "      <th>7</th>\n",
       "      <td>2</td>\n",
       "      <td>Poor taste I was really disappointed with the ...</td>\n",
       "    </tr>\n",
       "    <tr>\n",
       "      <th>8</th>\n",
       "      <td>3</td>\n",
       "      <td>Better than US Instant Coffee A friend who has...</td>\n",
       "    </tr>\n",
       "    <tr>\n",
       "      <th>9</th>\n",
       "      <td>4</td>\n",
       "      <td>Hard not to like! No need for plastic baggies ...</td>\n",
       "    </tr>\n",
       "  </tbody>\n",
       "</table>\n",
       "</div>"
      ],
      "text/plain": [
       "   Score                                             review\n",
       "0      5  Very Good I received this product early from t...\n",
       "1      5  Organic, Kosher, Tasty Assortment of Premium T...\n",
       "2      5  excellent gluten-free spaghetti: great taste, ...\n",
       "3      5  Lindt is Lindt Buying this multi-pack I was mi...\n",
       "4      5  YUM!!!!! These bars are so good! I loved them ...\n",
       "5      5  Delicious I love these chips, I buy the 24 pac...\n",
       "6      5  Tastes great and it's organic!! I'm a huge fan...\n",
       "7      2  Poor taste I was really disappointed with the ...\n",
       "8      3  Better than US Instant Coffee A friend who has...\n",
       "9      4  Hard not to like! No need for plastic baggies ..."
      ]
     },
     "execution_count": 32,
     "metadata": {},
     "output_type": "execute_result"
    }
   ],
   "source": [
    "final_df.head(10)"
   ]
  },
  {
   "cell_type": "markdown",
   "metadata": {},
   "source": [
    "## 1.2 Data Explore and Visualize"
   ]
  },
  {
   "cell_type": "markdown",
   "metadata": {},
   "source": [
    "#### 1.2.1 Visualize score count"
   ]
  },
  {
   "cell_type": "code",
   "execution_count": 33,
   "metadata": {
    "scrolled": true
   },
   "outputs": [
    {
     "data": {
      "image/png": "[encoded data removed]",
      "text/plain": [
       "<Figure size 576x432 with 1 Axes>"
      ]
     },
     "metadata": {
      "needs_background": "light"
     },
     "output_type": "display_data"
    }
   ],
   "source": [
    "visualize_score_count(final_df)"
   ]
  },
  {
   "cell_type": "markdown",
   "metadata": {},
   "source": [
    "#### 1.2.2 Describe Score Data"
   ]
  },
  {
   "cell_type": "code",
   "execution_count": 34,
   "metadata": {
    "scrolled": false
   },
   "outputs": [
    {
     "data": {
      "text/html": [
       "<div>\n",
       "<style scoped>\n",
       "    .dataframe tbody tr th:only-of-type {\n",
       "        vertical-align: middle;\n",
       "    }\n",
       "\n",
       "    .dataframe tbody tr th {\n",
       "        vertical-align: top;\n",
       "    }\n",
       "\n",
       "    .dataframe thead tr th {\n",
       "        text-align: left;\n",
       "    }\n",
       "\n",
       "    .dataframe thead tr:last-of-type th {\n",
       "        text-align: right;\n",
       "    }\n",
       "</style>\n",
       "<table border=\"1\" class=\"dataframe\">\n",
       "  <thead>\n",
       "    <tr>\n",
       "      <th></th>\n",
       "      <th colspan=\"4\" halign=\"left\">review</th>\n",
       "    </tr>\n",
       "    <tr>\n",
       "      <th></th>\n",
       "      <th>count</th>\n",
       "      <th>unique</th>\n",
       "      <th>top</th>\n",
       "      <th>freq</th>\n",
       "    </tr>\n",
       "    <tr>\n",
       "      <th>Score</th>\n",
       "      <th></th>\n",
       "      <th></th>\n",
       "      <th></th>\n",
       "      <th></th>\n",
       "    </tr>\n",
       "  </thead>\n",
       "  <tbody>\n",
       "    <tr>\n",
       "      <th>1</th>\n",
       "      <td>39193</td>\n",
       "      <td>28530</td>\n",
       "      <td>Filler food is empty, leaves your cat always n...</td>\n",
       "      <td>140</td>\n",
       "    </tr>\n",
       "    <tr>\n",
       "      <th>2</th>\n",
       "      <td>22353</td>\n",
       "      <td>16290</td>\n",
       "      <td>Personal preference I had hoped this tea would...</td>\n",
       "      <td>23</td>\n",
       "    </tr>\n",
       "    <tr>\n",
       "      <th>3</th>\n",
       "      <td>31993</td>\n",
       "      <td>23301</td>\n",
       "      <td>I'll pass... Not enough flavor, murky brown co...</td>\n",
       "      <td>22</td>\n",
       "    </tr>\n",
       "    <tr>\n",
       "      <th>4</th>\n",
       "      <td>60309</td>\n",
       "      <td>43876</td>\n",
       "      <td>Stash Chamomile Herbal Tea Stash Chamomile Her...</td>\n",
       "      <td>30</td>\n",
       "    </tr>\n",
       "    <tr>\n",
       "      <th>5</th>\n",
       "      <td>272492</td>\n",
       "      <td>197181</td>\n",
       "      <td>Fantastic Food for Good Cat Health The pet foo...</td>\n",
       "      <td>37</td>\n",
       "    </tr>\n",
       "  </tbody>\n",
       "</table>\n",
       "</div>"
      ],
      "text/plain": [
       "       review                                                                \n",
       "        count  unique                                                top freq\n",
       "Score                                                                        \n",
       "1       39193   28530  Filler food is empty, leaves your cat always n...  140\n",
       "2       22353   16290  Personal preference I had hoped this tea would...   23\n",
       "3       31993   23301  I'll pass... Not enough flavor, murky brown co...   22\n",
       "4       60309   43876  Stash Chamomile Herbal Tea Stash Chamomile Her...   30\n",
       "5      272492  197181  Fantastic Food for Good Cat Health The pet foo...   37"
      ]
     },
     "execution_count": 34,
     "metadata": {},
     "output_type": "execute_result"
    }
   ],
   "source": [
    "final_df.groupby('Score').describe()"
   ]
  },
  {
   "cell_type": "markdown",
   "metadata": {},
   "source": [
    "#### 1.2.3 Analyze finding"
   ]
  },
  {
   "cell_type": "markdown",
   "metadata": {},
   "source": [
    "#### we found that not all are unique. so we investigate further for uniqness"
   ]
  },
  {
   "cell_type": "code",
   "execution_count": 35,
   "metadata": {
    "scrolled": false
   },
   "outputs": [
    {
     "data": {
      "text/html": [
       "<div>\n",
       "<style scoped>\n",
       "    .dataframe tbody tr th:only-of-type {\n",
       "        vertical-align: middle;\n",
       "    }\n",
       "\n",
       "    .dataframe tbody tr th {\n",
       "        vertical-align: top;\n",
       "    }\n",
       "\n",
       "    .dataframe thead th {\n",
       "        text-align: right;\n",
       "    }\n",
       "</style>\n",
       "<table border=\"1\" class=\"dataframe\">\n",
       "  <thead>\n",
       "    <tr style=\"text-align: right;\">\n",
       "      <th></th>\n",
       "      <th>Score</th>\n",
       "    </tr>\n",
       "    <tr>\n",
       "      <th>review</th>\n",
       "      <th></th>\n",
       "    </tr>\n",
       "  </thead>\n",
       "  <tbody>\n",
       "    <tr>\n",
       "      <th>I like the product and tried it before I puchased it. However, one of the boxes arrived have only 10 in it instead of 12.</th>\n",
       "      <td>1</td>\n",
       "    </tr>\n",
       "    <tr>\n",
       "      <th>I only used two maybe three tea bags and got pregnant - can not drink during pregnancy.  Not a bad taste, but I'm not a big tea fan either.</th>\n",
       "      <td>18</td>\n",
       "    </tr>\n",
       "    <tr>\n",
       "      <th>This is a cool system only problem is that the coffee is no longer hot once it drains into your cup. If you are using it to make ice coffee though, it's great!</th>\n",
       "      <td>1</td>\n",
       "    </tr>\n",
       "    <tr>\n",
       "      <th>! It's HOT ! This is it, it's the hit at every get together! And YES - Use the spoon that is attached...... you need it! A must have, if you love Hot Sauce!</th>\n",
       "      <td>1</td>\n",
       "    </tr>\n",
       "    <tr>\n",
       "      <th>! Mmmmmmmmmm ! What a wonderful surprise to find LUCY's on Amazon.com!  I haven't enjoyed a cookie as much as I enjoy LUCY'S since going gluten free several years ago. They have that just-right crunch. They are just sweet enough - not too, not not. They are just the right size. They have just the right \"mmmmm\" factor. THANK YOU DR. LUCY for sharing the \"lemonade\" you made from the dietary lemons life gave you too!  You've given me many appreciated \"mmmmmmm\", \"mmmmmm\", \"mmmmmmm\" moments! Catsy</th>\n",
       "      <td>5</td>\n",
       "    </tr>\n",
       "    <tr>\n",
       "      <th>! WARNING !  Not for those who can't handle the heat! * SAFETY INFORMATION ! WARNING! Risk of death, severe injury, chemical reactions. ------------------------------------------------------------ DO NOT even think of attempting to try a product this hot without being fully prepared. Acclimate yourself over a period of months to truly hot food substances. Keep antidotes on hand such as peanut butter, vodka, ice cream, etc. If the burning sensation is over-powering, place an antidote in your mouth and swirl it around for several minutes. Repeat as necessary. Contact a medical professional for help as needed. ----------------------------------------------------------- * OVERALL REACTION All right, with the Safety info out of the way, I will now delve into the really good news: Woo-hoo! This stuff is HOT! Spicy, yes, indeed -- and GREAT! From time to time I buy Blair's products whenever I see them in a store and now we are blessed to be able to pick them up on the Internet and right here at Amazon, too. This Death Rain Nitro powder is killer! Aaaaaahhh! HELP! Call 9-1-1 and look out! PLEASE please Please PLEASE do NOT attempt to sample any Dath Rain Nitro unless you are a 100% certified psycho Hot Head and can take the Scoville Units way, waaaaaaaaaaaaaaayyyyy up there my friend. YES! If so, then take just a little bit, maybe three or four speckles of the powder, and try it on something. I just now sprinkled some on a spoon of chili that I made last night and after a few seconds, WHOAH! Tremors. Spasms. Internal tsunamis of flavor, shock, heat waves . . . now I am perspiring . . . but lovin' it! Wooooooooooooooooo! Woo-hoo! At first, you may not notice anything and think, \"Hmm. This stuff isn't so hot.\" Then, the delayed fuse reaction takes affect . . . and keeps on burning, and burning, and BURNING! Aaaaaahhhh! Ten to fifteen minutes after ingestion, the heat and your own body's reaction will reach an apex so please hang in there, be patient, wait for the results, then consider the full effect, flavor, heat, power, and other attributes of Blair's Death Rain Nitro powder seasoning. Try a little, wait a lot. This is for your own safety, ok, thanks. Wait maybe . . . five to ten minutes. Then decide what Blair's Death Rain Nitro means to you in terms of physiological as well as flavorful terms. * NO PAIN, NO GAIN You know why the hot, spicy stuff is so fabulous: the reaction to the PAIN inflicted by the whacky hydroxides from the crazy end of the pH spectrum generate endorphins as a protective response. In turn, the endorphins give us that RUSH that we so enjoy and we feel good, great, even exuberant as we pile on the spicy materials, in search of a further quest for a new high. The more we're used to the Scoville Units, the more we need to get that rush. Fortunately, no one has to worry about illegal drugs, shared needles, and all that other nonsense. * FLAVOR CRYSTALS There is a hint of that delicious, fruity habanero in there . . . but mostly, the Nitro Death Rain Seasoning has HEAT. I wouldn't want to fool ya', I wouldn't want to mislead ya' -- take heed -- this is not a food substance to play around with. It is SERIOUS stuff. The ingredients list is corn syrup, natural pepper flavor (contains soybean oil), habanero powder, ancho powder, and spices. * THE SPICE MYSTERY OK, will somebody PLEASE share with us what the mystery ingredient of \"spices\" really are? Don't you just LOVE wondering what \"spices\" could be? What is that, Blair's, come clean here. Spices could be anything in the spice rack; anything in the spice aisle at the store; anything as defined by law such as the Food and Drug Administration (FDA) regulatory guidelines allow. WE WANT ANSWERS! Tell us what \"spices\" are, or we're comin' for ya! * FINAL ANALYSIS I highly recommned this product for you or for any friends and family members who are bona fide Hot Heads. Enjoy! Yours in Scoville Units,   --Dennis J. O'Boyle</th>\n",
       "      <td>1</td>\n",
       "    </tr>\n",
       "    <tr>\n",
       "      <th>!! NASTY !! White peaches are my favorite during the summer! I love canned peaches during the winter, usually.  This brand of fruit was the most DISGUSTING I have ever had the misfortune to attempt to eat. As soon as my shipment arrived I opened a can and poured it into a bowl. So far so good.  Then me and my daughter ate some. We both looked at each other with an odd look. Ok, maybe the first bite is a little off. So I try another bite, yuck. I checked the side of another can to see why these peaches would taste so funny.  The ingredients state:  white peach halves, water, sugar. Packed exclusively for American Roland food Corp.  New York, NY 10010.  Product of China Peaches, water, and sugar can't possibly taste this nasty!  The texture of the liquid has an unusual viscosity to it for light syrup. This produces an odd mouth feel after the second bite, can't exactly explain it.  Something is just off. Based on the other reviews that are favorable I will give the rest of the box (11 more cans left) to the next can food collection, maybe someone else will enjoy them. My review:  YUCK, NASTY!</th>\n",
       "      <td>1</td>\n",
       "    </tr>\n",
       "    <tr>\n",
       "      <th>!!! FALSE ADVERTISEMENT !!! !!! PRODUCT HAS NOTHING TO DO WITH MARVEL!!! FALSE ADVERTISEMENT!!!  WASTE OF MONEY! IF I WANTED REGULAR BUBBLE GUM TAPE FOR MY SON'S SUPERHERO THEME PARTY I WOULDVE WENT TO DOLLAR STORE OR WALMART! Marvel Heroes Crazy Rollz Gum, 24 count</th>\n",
       "      <td>1</td>\n",
       "    </tr>\n",
       "    <tr>\n",
       "      <th>!!! If you enjoy a really good sugar burn, these are for you.  It got where I couldn't find them in my hometown and some places online wanted way too much money for them.  These arrived in great condition and met all my expectations.</th>\n",
       "      <td>1</td>\n",
       "    </tr>\n",
       "    <tr>\n",
       "      <th>!!!!! I used to sprinkle this on my popcorn!  Tasty, just a little too strong in the 'herb department.'  I would recommend!</th>\n",
       "      <td>1</td>\n",
       "    </tr>\n",
       "    <tr>\n",
       "      <th>!!!!!!! Flavor review !!!!!!!! Best Flavor yet and instant favorite, cant stop eating!! : Choc Chip Cookie Dough All time favorite snack: Cashew Gonna try (next best thing ?): Chocolate Chip Brownie OK Flavors Pretty Good but slightly acidic : Banana cookie Tangy and sour for alternative taste: Pecan Alternative to cashew with a Tang : Key Lime Sweet and Tang : Carrot cake Sweeter Chocolate alternative : Chocolate coconut Fail Flavors: Too strong to put in mouth : Cherry Pie Too sweet: Coconut cream pie Forgettable : Apple Pie</th>\n",
       "      <td>3</td>\n",
       "    </tr>\n",
       "    <tr>\n",
       "      <th>!!!!!!! YEAH !!!!!! This is THE best hot seasoning out there.  It's super hot and at first all you may get out of it is hot, but if you're in it for pure heat then go with the 3am special reserve from blair (basically pure, slightly diluted capsaicin). However, this powder has a great flavor of its own as well as acting like MSG by exciting all the other flavors in your food - so power through the first few applications, let your system get used to it, then everything tastes way better because of it.  I use it on everything except sweets.  People will be insulted when you want to sprinkle on their homemade dish because they don't understand that it's not like normal hotsauce; just tell them that it's exactly like their salt and pepper but more-so. The best part is no matter how much hot you are used to, you can achieve a superior sharp burn without the acid reflux side-effects of super-hotsauce (pure capsaicin actually counteracts acid reflux and ulcer problems fyi) or the intestinal problems associated with non-extracted habanero or ghost chili powder.  Or you can just get some heat and flavor - whatever you're in the mood for, Nitro will abide.  Additionally, it's much harder to get hot-eyes with Nitro than with super-hotsauces because it's a powder and doesn't stay on your hands. non-chiliheads: I suggest you go with Blair's Death Rain Habanero - great flavor without as much heat (still hot though, it's about 1/4th as hot as Nitro by weight). caution: do not fry</th>\n",
       "      <td>1</td>\n",
       "    </tr>\n",
       "    <tr>\n",
       "      <th>!!!THE BEST RAISIN BRAN EVER!!! I wasn't sure how I would like this cereal because of horrors from my childhood. I must say when I was growing up the other Raisin Bran was a family favorite and I could never stand it. I am on my 3rd box already and will be ordering  this over and over again. The flakes stay crispy, the raisins are plump and fresh and organic to boot. As others have noted there are loads and loads of raisins in each box. Low sodium, just enough protein and the only sugar is natural from the rasins. If I could give it 10 * I would. Highly recommended.</th>\n",
       "      <td>1</td>\n",
       "    </tr>\n",
       "    <tr>\n",
       "      <th>!LOVE THESE! I LOVE these! They are my favorite instant noodle dish. I have tried most of 'em! I like the flat noodles better than most curly ones, and the flavor is natural. I enjoy the veggies in the broth, too.</th>\n",
       "      <td>1</td>\n",
       "    </tr>\n",
       "    <tr>\n",
       "      <th>!st time matcha buyer This is quality matcha tea at a very low price. If already have your own tin or are willing to get one seperate, it is a good way to get the same quality for half the price Also great for beginners because it came with instructions and information.</th>\n",
       "      <td>3</td>\n",
       "    </tr>\n",
       "    <tr>\n",
       "      <th>\" A MIRACLE SUPPLEMENT!!\" I'm a 32 year old man. Construction Electrician. I'm wound REALLY tight. I was diagnosed with abnormally high blood pressure for my age about a year ago. On top of this I also suffer from extreme anxiety, nervousness, sleep issues, muscle aches, etc. After many tests, blood pressure medication and Zoloft, nothing really seemed to work. About a month ago I was getting a colonic and my hydrotherapist said that I was more than likely magnesium deficient. 2 days later I saw my urologist who diagnosed me (after a 24 hour urine test) with exactly that, magnesium deficiency. I went down to the local health food store and the clerk recommended that I try \"Natural Calm\"; As usual, I was skeptical (especially with the $20 price tag on an 8 oz. bottle). Needless to say, I was willing to give anything a shot. I must say...this is a MIRACLE SUPPLEMENT!!! I take it 2 times a day (1-1/2 tsp. in the morning and 1-1/2 tsp. in the evening). This stuff gives me energy when I need it, all the while calming me down and 100% eliminating my nervousness and anxiety. I'm waking up in a snap and falling asleep even quicker (I stopped taking sleep aids). I have a great night of sleep and notice my body is requiring less sleep to achieve the same results. As for the body and muscle aches...those, too, have disappeared. I don't have to swallow Alieve everyday anymore to alleviate these symptoms because \"Natural Calm\" does the job. I've been taking \"Natural Calm\" for about 2-1/2 weeks now and am truly grateful that I stumbled upon this product. People at work, as well as my girlfriend, son, and parents have all noticed a change in me. Best of all, the change I feel within myself is amazing. All the little problems my M.D. couldn't iron out were immediately dealt with upon my first dose of this stuff. As for negatives to \"Natural Calm\"...I see none. Many people have complained about the taste, but to me the stuff tastes fine; almost similar to Sprite, but with a hint of a sour citrus kick. All in all 5+ stars. \"Natural Calm\" will be a part of my daily regime from this day forward. If you truly have a magnesium deficiency, look no further...this is the answer.</th>\n",
       "      <td>9</td>\n",
       "    </tr>\n",
       "    <tr>\n",
       "      <th>\" A MUST HAVE \" my wife and I have been searching for the right seasoning salt for about 2 weeks and I ran across this product. now the search is over this is exactly what we were searching for. This is it! but to complete the flavor and taste we also bought Paragon Coconut Popcorn Popping Oil(WOW) now it's just like eating movie flavored popcorn. once again OUR SEARCH IS OVER! Thanks amazon for providing these products I will buy here again. JD</th>\n",
       "      <td>1</td>\n",
       "    </tr>\n",
       "    <tr>\n",
       "      <th>\" I WANT MY MAYPO!\" An old time favorite from growing up.  I brought it for my father in AZ since they can't get it out there.  He loves it and it always ships on time and in perfect condition.</th>\n",
       "      <td>1</td>\n",
       "    </tr>\n",
       "    <tr>\n",
       "      <th>\" S M O K E D......S A L M O N \".....I S.....N O T.....A L W A Y S.....\" L O X '. Many people, trying to be and sound more sophisticated, substitute the words \"smoked salmon\" for the word \"lox\".  Having eaten the \"SEA BEAR SMOKED SALMON TRIO\", herein being reviewed, (and the literature that comes with it), I have learnt that, whilst all \"lox\" IS smoked salmon, not all \"smoked salmon\" is lox. (SeaBear DOES offer a nice, large package of \"lox\"....and calls it \"lox\", and illustrates it, in the advertising flyer that comes with the \"Smoked Salmon Trio\").  But the fish within the \"Smoked Salmon Trio\" is NOT \"lox\". The fish here is dryish, and very salty.  \"Lox\", on the other hand, must go through additional preparation, for it is far more moist than the dryish fish within the \"Smoked Salmon Trio\".  I have seen, (in the \"Cabelas\" catalogue), \"Lox\" described as 'buttery'....which it truly is.  For those who are interested, \"Lox\" also is usually certified kosher -- whilst the fish within the \"Smoked Salmon Trio\" is not. The smoked salmon within the \"Smoked Salmon Trio\", is, as I have said, very dry and salty.  However, all bones have been removed, (although the skin remains).  This fish also will keep on a shelf!  It need NOT be refrigerated until opened. The three types of smoked salmon within have very little taste variation to me.  Yes, there is a TINY bit of difference....but not enough to excite my taste buds.  And salmon -- right from cans, especially the top brands and varieties -- right from the supermarket or on Amazon, taste almost the same to me, at a far lesser price. The literature that comes with this set of three smoked salmon varieties is interesting and informative, as is the history of \"SeaBear\" foods, which is also given.  This company obviously takes great pride in providing good salmon and other products to its customers, and strives to be the best it can be.  I would advise them, however, to emphasize, even more, the difference between \"smoked salmon\" and \"lox\" in ALL its literature, and in the package description of ALL its products. Knowing whether \"Dry\" smoked salmon, or \"buttery\", or \"lox\"-type smoked salmon, is in a package, would be a great help to those who, like me, sometimes get their syntax and meanings confused, betwixt the two. SUMMARY:  Will NOT Buy This Product Again.  (But hopefully, the \"Lox\" they sell will be available in smaller quantities! : ),</th>\n",
       "      <td>1</td>\n",
       "    </tr>\n",
       "    <tr>\n",
       "      <th>\" THE RIGHT STUFF\" If you love movie popcorn and you want to have movie flavored popcorn at home look no further. This paragon coconut popcorn popping oil alone with Paragon Butter Flavored Seasoning Salt is the perfect combination to having the best popcorn at home. my wife and I have been using this oil for about a month now and we are so glad that we found this oil on amazon.com we couldn't be any happier with this find . we have the \"right stuff\" for great movie popcorn at home. Thanks amazon for making this possible. JD</th>\n",
       "      <td>1</td>\n",
       "    </tr>\n",
       "    <tr>\n",
       "      <th>\"00\" Superfine is Super The Antimo Caputo Superfine Farina Flour is a great product.  The flour is perfect for pizzas and foccacias, makes the crumb very fine and tasty.  Hard to believe that the finer grind makes so much difference.  I love it.</th>\n",
       "      <td>1</td>\n",
       "    </tr>\n",
       "    <tr>\n",
       "      <th>\"100 % of what you want... outstanding I'm pleasantly surprised! This is actually delicious, with just the right amount of carbonation. Although there is no added sugar, the drink is sweet, but not too sweet. 100% juice. 100% of the RDA for Vitamin C. No artificial colors nor preservatives. One caveat . . Good things come in small packages!! This is an excellent non-soda thirst quencher. No sugar but an outstanding taste!! 1 - Awesome flavor 2 - 100% fruit juice 3 - No sugar 4 - No other bad ingredients 5 - Has carbonation\"great tasting healthy alternative to soda\" As someone who does not drink pop/soda, but loves sparkling water products (such as Perrier), I was pleasantly surprised by this beverage. Typically, I do not like sweet drinks, but because this is only mildly sweet, and all natural, I really found it refreshing.</th>\n",
       "      <td>1</td>\n",
       "    </tr>\n",
       "    <tr>\n",
       "      <th>\"100% if what you want, 0% of what you don't\" NO sugar added, No preservatives, 100% juice carbonated. This is what is written on the can of this \"soda juice.\" The taste was good and you are basically getting what it says. take some juice add some carbonation and thats what you have here. both my kids took a few sips and they enjoyed it. the cans are great for little hands to hold. my 18 month old was able to grasp it just fine since it is slim. overall a good drink.</th>\n",
       "      <td>1</td>\n",
       "    </tr>\n",
       "    <tr>\n",
       "      <th>\"30% Juice\" !!! I ordered this because it was a good deal for 100% juice.  That's the only juice we drink. It is NOT 100% juice!  the cans said on arrival \"contains 30% juice\".  Bummer!  At this time it says under the description that it's 100%.  Don't believe.</th>\n",
       "      <td>1</td>\n",
       "    </tr>\n",
       "    <tr>\n",
       "      <th>\"4 out of 5\" for the taste i bought this for 21.00 with free Prime shipping. the it arrived in two days as expected. my stressed-out gf really appreciated having chocolate in the middle of finals week. according to her, the recipient, the package was pretty and the chocolate was good-- 4 out of 5. well it served its purpose; she is happy and so I am.</th>\n",
       "      <td>1</td>\n",
       "    </tr>\n",
       "    <tr>\n",
       "      <th>\"5g of digestible carbs\" is not factual I purchased this to have pasta after being on a ketonic diet for the last month after seeing all five star reviews on a product claiming to have \"only 5g of digestible carbs\" per serving. I made a box of the pasta and separated it into 8 servings (so less than the suggested serving size). After eating the pasta I started to feel like I just ate a bowl of sugar. I tested myself a few times over the rest of the day (without having eaten anything else) and this pasta skyrocketed my glycemic index and knocked me out of ketosis for the first time in the last month of eating all my carbs from vegetables and nuts. My mistake wasn't googling this product before buying a six-pack, if I had, I would have found the useful information on: [...]- The point of my review is that buyer beware, this product may not work for you.</th>\n",
       "      <td>1</td>\n",
       "    </tr>\n",
       "    <tr>\n",
       "      <th>\"A Slice of Heaven!\" I have to admit I was somewhat skeptical in deciding to purchase a bread mix brand that in all honesty I had never heard of.  However, after baking my first loaf in my automatic bread machine, I was shocked to find that the bread is as soft and light as a cloud! The outer crust maintains a perfect crispiness even though the inside remains airy days after baking, assuming your family hasn't gobbled it up by then! And the fresh bread aroma filling the house as it bakes is better than any of the plug-in air fresheners that we're all guilty of buying, especially when you add cinnamon to the mix! I've only tried the white mix thus far (best if adding spices to the baking cycles) so I can't address the other varieties but have to assume they're equally tasty and aromatic.  I have baked additional loaves for family and friends and they love it too! Looking forward to receiving future shipments of this \"Slice of Heaven.\"</th>\n",
       "      <td>1</td>\n",
       "    </tr>\n",
       "    <tr>\n",
       "      <th>\"A Taste of Home\" Christmas 2006, ordered 3 of the Pecan, they arrived in great shape. Still fresh and yummy! Gave one to the grandkids daycare provider,ate one froze the other one. Just finished that the other day. Wanted a \"Taste of Home\", from Wisc., (living in CA. now). Order them for a special treat!!!!</th>\n",
       "      <td>1</td>\n",
       "    </tr>\n",
       "    <tr>\n",
       "      <th>\"A full serving of vegetables in every bowl?\" haha OK, whatever you guys say. This stuff does make for a beautiful dish, the flavor is very pleasing and I'm not going to argue the nutritional claims. It makes for an very aesthetic dish, it also cost more than traditional pastas but if its worth it to you to put this in front of your guests, by all means. Not happy with Ronzoni though because they had a Garden Delight Fettucini that was also tri-color, but they made a change and now its brown. Yes, brown pasta. Its hideous and I should take it back but I ate it, I just closed my eyes and gulped it down. I liked the red and green stuff better. Thankee.</th>\n",
       "      <td>1</td>\n",
       "    </tr>\n",
       "    <tr>\n",
       "      <th>\"A\" for convenience.  \"C\" for flavor.  \"B \" for nutrition This stuff is pretty convenient.  Just flip open the top and shoot a squeeze (a Big squeeze) into a cup of water, and, voila . . . you have a fruit punch flavored vitamin C reinforced energy drink.  Well, kind of.  It tastes \"red\" at least.  And remotely medicinal, but that didn't bother me too much. Another reviewer suggested adding to milk.  I did so with positive results.  I suppose one might also try a variation involving vodka (I'm just sayin'). Anyway, this is not the beverage breakthrough of the century, but not an altogether bad idea.  With an ice cube you can turn a glass of tepid water into something a little bit good for you and a little bit more exciting.</th>\n",
       "      <td>1</td>\n",
       "    </tr>\n",
       "    <tr>\n",
       "      <th>...</th>\n",
       "      <td>...</td>\n",
       "    </tr>\n",
       "    <tr>\n",
       "      <th>zsweet the best fastest shipping around and zsweet is the best artifical sweetener there is i use it in my sweet tea and im a southern boy and we drink some tea tastes just like sugar im on a low carb diet it works great thanks amazon for such great prices and free shipping</th>\n",
       "      <td>1</td>\n",
       "    </tr>\n",
       "    <tr>\n",
       "      <th>zuke's makes good treats We found Zuke's products and have purchased most of them for our little Australian Terrier. She loves the small bite size and she loves these chicken treats so we put them on recurring delivery. Would recommend.</th>\n",
       "      <td>1</td>\n",
       "    </tr>\n",
       "    <tr>\n",
       "      <th>zukes We have a border collie/husky. She is 13 years old and we love her dearly. She has such a sweet disposition. I keep the Zuke's treats in a basket in the utility room. Whenever I go to that room, Sasha follows me and starts doing some of her tricks on her own hoping she will get one of her treats she loves. Judy Watson</th>\n",
       "      <td>3</td>\n",
       "    </tr>\n",
       "    <tr>\n",
       "      <th>zukes clean apple crisp My very picky shih-poo devoured this.  He even kept going back to the wrapper!  Even though flavor preference varies among dogs, these are conveniently available in singles so you can try one without buying a whole box your dog might not like.  Also, Zukes is high quality so there are no worries about questionable ingredients.</th>\n",
       "      <td>3</td>\n",
       "    </tr>\n",
       "    <tr>\n",
       "      <th>zukes dog treats I have 2 beagles who live for food.  These are the extra special treats we give them for special occasions (like get in your crate we're going out)</th>\n",
       "      <td>1</td>\n",
       "    </tr>\n",
       "    <tr>\n",
       "      <th>zukes mini treats Hi! love that brand zukes chicken mini treats and my dog love it and it is natural and healthy for my dog.</th>\n",
       "      <td>5</td>\n",
       "    </tr>\n",
       "    <tr>\n",
       "      <th>zukes treats My dogs love these treats, because they are so small a bag lasts a long time. It's a great value for the price.</th>\n",
       "      <td>4</td>\n",
       "    </tr>\n",
       "    <tr>\n",
       "      <th>zylitol- healthy and great taste Loved these preserves. Got both the strawberry and the blueberry. Both have a great taste. It is so good to know they are made with the healthy XYLITOL, which is said to be the only sweetener that does not feed Candida. Thank you, Nature's Hallow.</th>\n",
       "      <td>1</td>\n",
       "    </tr>\n",
       "    <tr>\n",
       "      <th>zzfantastic coffee I have had the luxury of experiencing Blue Mountain, Kona and some little farm beans from obscure travels of friends.....this coffee ranks right up there.  I have waited to review this until drinking it for a month. And after 4 weeks of of daily brewing...it still takes great, seems like very low acidity, and a very unique flavor that does not lend itself to the normal categories of cherries or chocolate etc. The price point did not bother me but the 30 dollar delivery charge seems out of range. Very good.</th>\n",
       "      <td>1</td>\n",
       "    </tr>\n",
       "    <tr>\n",
       "      <th>~  Similarly Disappointed ~ As with Mr. Carlson's review, my order was also received damaged, no less than one container leaking badly &amp; messing up all other containers up (had ordered 12 liters total). This most certainly is due to Amazon's continuing long-term practice of inadequate packing for shipping. Inflatable, lightweight, flimsy plastic bubbles packs for 3 gallons+ of juice with lots of \"slop\" packing-wise? Of course they will arrive damaged! In fairness though, the seals of the caps are very lightweight too. The expiration date on my juice was 2013, much better than Mr. Carson experienced. Have also appreciated the taste as well as the juice's truly amazing amount of vitamin C as well as the total price comparatively... but c'mon, Amazon! For years I've written to report damaged items from inadequate shipping practices, a few just this past year counting this shipment. So far as the Soursop fruit being 100 or even 10,000 times more effective than chemotherapy, my thought is that this is simply from the great amount of natural vitamin C available in the fruit/juice &amp; may be nothing more than that. One liter of this juice contains about a half dozen times the FDA's suggested adult male's necessary intake of vitamin C (about 7 times of an adult female's needs) &amp; this alone would likely be dozens of times more effective than taking dozens of times more of a synthetic vitamin C in pill form. Amazon simply must do better in packing this product for shipment as well as do much better packing many other items for shipment, though my honest opinion is that even if Amazon were to amp up their packing of this product that the flimsy outer seals on the containers may well not be adequate for shipping even then though they certainly must be better packed if Amazon has any hope of these arriving to customers undamaged. Thank you. ~  ~  ~  ~  ~  ~  ~  ~  ~  ~  ~  ~ Edit, weeks later: Ordered 2 more shipments of the same with worse results. One package did not so much as make it out of Nevada it was leaking so badly &amp; undeliverable as a consequence. The other arrived as the last one had, except this time 2 of the 12 liters were leaking. Amazon used the very same totally inadequate large air bag packing in a box with lots of slop for the heavy liters of juice to crush &amp; pop, resulting in the containers getting tossed around during transit. No wonder some leak. Not UPS friendly packing for shipment. Frustrating, having written the review, even directing Amazon to it as well as expressing myself thoroughly as has been done for the better part of a decade &amp; Amazon has yet to change their packing system. Folks, the juice is very good, 4 of 5 stars. It's Amazon's continued predilection for lame packing of so many products over the years that is so unnecessary, in my estimation, 1 of 5 stars, that reduces this fine product to my rating of 2 of 5. Again, thank you.</th>\n",
       "      <td>1</td>\n",
       "    </tr>\n",
       "    <tr>\n",
       "      <th>~ Delicious Sample Pack ~ I'd heard and read great things about the Amish Country Popcorn so I ordered this set with the 3 different 1lb bags of kernels. They ALL were very delicious, and popped up wonderfully (we are using the outstanding West Bend 82306 Stir Crazy 6-Quart Electric Popcorn Popper [..] by the way). My kids really enjoy the lady finger popcorn due to the miniature size of the kernels. While all 3 kinds are delicious, we've decided that the purple are our favorite (large, firm kernels, great for buttering) and will be ordering just the purple next time. This set was a great way to try out several kinds of kernels at once :)</th>\n",
       "      <td>1</td>\n",
       "    </tr>\n",
       "    <tr>\n",
       "      <th>~ Fantastic Price On Greenies ~ One Happy Pomeranian! ~ Our Pomeranian LOVES Greenies, But I Was Getting Really Tired Of Spending Almost 50 Dollars A Pack At The Local Pet Store, So I Decided To Check On Amazon. I Spent A Lot Of Time Checking Prices From All The Different Sellers And Found That These Ones Were The Cheapest. I Ended Up Getting 2 Boxes For The Same Price That I Would Have Paid For 1 Box At The Pet Store. The Package Arrived Very Quickly &amp; We Even Recieved A Free Sample Size Bag Of Dog Food, Which Was An Unexpected Bonus. The Only Issue I Had Was I Feel They Could Have Put Everything In A Smaller Shipping Box. Other Then That We Are Extremely Satisfied &amp; So Is Our Sweet Little Pom. Thank You Amazon!</th>\n",
       "      <td>1</td>\n",
       "    </tr>\n",
       "    <tr>\n",
       "      <th>~ I love this! It has a hint of a peppery taste in the cola, which is really nice. And it is made with Stevia, which is an added bonus!</th>\n",
       "      <td>1</td>\n",
       "    </tr>\n",
       "    <tr>\n",
       "      <th>~*~*~My Girls LOVE these, PERFECT SIZE for Little Fingers~*~*~ When we first started giving these to our daughters we had to keep a very close eye on them(as with any solid food) because sometimes they would start choking and we would have to stick our fingers in their mouths and get these out. These do 'dissolve' pretty easily but your baby may take a little getting used to eating them like mine did. But in no time they knew how to eat these with OUT choking. I think at first they were just trying to swallow them before they got wet and 'dissolved'. We have bought Walmart Store Brand &amp; these Gerber Puffs. Walmart Brand is Good but Gerber brand is GREAT! The Gerber Puffs are bigger making them easier for tiny fingers to pick them up, yet they are still a small enough size for them to eat. Walmart Brand have a lot of broken pieces so many of the pieces are tiny and my girls can't pick them up to eat them, I don't know that I have ever found a broken Gerber piece. I think Gerber stays fresh longer, it seems not too long after I open a Walmart Brand they are stale feeling. Since I have twins we go through these fast so we've found it much cheaper to order them in bulk. These keep my girls happy while my husband and I eat or get things done. Even if I have just fed my girls, if they see us eating they will have a fit. We put some puffs on their walker or high chair trays and they are Happy again. We even pour these in their play pen &amp; they don't even make a mess. At a restaurant if my girls are getting fussy, we'll keep giving them puffs and they are happy. We give them puffs while we are heating their food, if not they'll normally throw fits until we are feeding them. We've tried the Gerber flavors: Bananna, Strawberry/Apple, Apple Cinnamon &amp; my girls love them all.</th>\n",
       "      <td>2</td>\n",
       "    </tr>\n",
       "    <tr>\n",
       "      <th>~*~*~NO MORE URINARY TRACT INFECTIONS~*~*~ My cat is 10 years old and he used to get UTI's ALL the time(like every few months) not only was his vet bills expensive, I hated that he was in pain. I used the very expensive food I bought from the vet for cats who get lots of UTI's but since I am not Donald Trump I decided to give the Purina One Urinary Tract food a try. For years my cat didn't have a single UTI so one day at the store when they were out of the Purina One, I decided to give a cheaper Urinary Tract cat food a try. Within a month my cat was whining in the litter box and I knew he had another UTI. I took him to the Vet and sure enough, he had another UTI. I immediately went to the store and bought him Purina One Urinary Tract and that is what he has been on ever since. I will NEVER again try a different brand of cat food, that was over 4 years ago since I tried the cheaper cat food and he hasn't had a single UTI since. My cat LOVES his food, he is very picky but thankfully he loves his UTI formula. If you have a cat who gets UTI's I totally recommend giving this food a try. It costs more than the cheaper food but what it saves me in vet bills and having a happy &amp; healthy Kitty is well worth it : )</th>\n",
       "      <td>2</td>\n",
       "    </tr>\n",
       "    <tr>\n",
       "      <th>~Better Than Coffee~ Having just purchased my next 12-pack of the \"5-hour ENERGY\" shots [Hours of energy now~No crash later] from Amazon.com, I can say with great certainty, that for less than $1.65/shot, I receive at least 4.5 hours of continuous energy, which enables me to begin and finish any project that I set my mind to. I'm always in a more 'chirpy and contented' mood, and this supplement never leaves me jangled, jittery, or crashing, the way most caffeine-laced products do--no running to the bathroom for frequent potty-breaks, either. I'm so very pleased that they created this product (just for folks like me)! Try some for yourself soon, and see what you've been missing.</th>\n",
       "      <td>4</td>\n",
       "    </tr>\n",
       "    <tr>\n",
       "      <th>~Konjac Shirataki Noodles Pasta~ Well, I thought I'd finally let the cat out of the bag and share with those of you who miss pasta products the way I had. I've discovered a wonderful type of yam-noodle that has been eaten and enjoyed by Japanese families for centuries. It's probably one of the reasons there's so little heart disease in that country. This amazing product is called 'Konjac Shirataki Noodles'. This pasta product comes in many shapes and sizes for all types of pasta-style dishes. I, personally, prefer the Angel-Hair type and the Mini Pearl type pastas. If you're interested in enjoying this wonderful, safe, fiber-rich food source, then look no further than here at Amazon.com.  I hope you enjoy trying this excellent food choice as much as I've enjoyed sharing the gem with all of you. It's a totally guilt-free food. Zero calories, zero carbs, zero sodium, zero fat; just pure soluble fiber. It's a perfect food choice for the Type ll food plan. Due to the fact it's pure fiber, any meal that contains the konjac-pasta will keep one full and satiated for hours. I've been using this pasta daily since October, 2007. I'm certain it's helped with my most recent blood-work panels, too.  Enjoy!</th>\n",
       "      <td>1</td>\n",
       "    </tr>\n",
       "    <tr>\n",
       "      <th>~Very Maple Tasting~ I use this maple syrup in my oatmeal every morning, and it is delicious!!! I order it over and over, because I figure, why mess with perfection!</th>\n",
       "      <td>1</td>\n",
       "    </tr>\n",
       "    <tr>\n",
       "      <th>~Well received~ I purchased this to send as a gift and the recipient loved it. Taste was up to par with their palate and it was delivered in a timely manner. Will make future purchases with Omaha Steaks.</th>\n",
       "      <td>4</td>\n",
       "    </tr>\n",
       "    <tr>\n",
       "      <th>~chocolat heaven~ My sister brought me some of this chocolate from France &amp; it is the best I have ever tasted! It is a bit pricey but if you love great hot chocolate, you will enjoy this~heavenly.</th>\n",
       "      <td>1</td>\n",
       "    </tr>\n",
       "    <tr>\n",
       "      <th>~sugar free yes, low carb no~ I did a search for low carb foods and this was one of the items that popped up! Hooray! The carb content isn't listed but I figured that Amazon wouldn't lead me in the wrong direction. WRONG! I got my order and this is chalk full of carbs. I didn't even bother to try it so I don't know if it's any good but if you're looking for a low carb goodie.... keep looking. This isn't it.</th>\n",
       "      <td>1</td>\n",
       "    </tr>\n",
       "    <tr>\n",
       "      <th>~~BEST ~gluten free~ corn bread by Bob's Red Mill!!~~ We really have enjoyed this cornbread mix. I make it regularly for my gluten intolerant husband and myself who is not! We will continue to purchase it and enjoy the quality and flavor from Bob's Red Mill.</th>\n",
       "      <td>1</td>\n",
       "    </tr>\n",
       "    <tr>\n",
       "      <th>~~The Best Tea Ever~~ I was a Lipton die hard Ice tea drinker until I tried a sample of Tetley Tea round tea bags in my Ice Tea, now I'm addicted to the smooth,smooth flavor. That's they ony way I can explain it. It has a Great taste and it feels so Smooth going down.  I've  even turned a lot of my family and friends into Tetley Tea lovers too. Just try it once and see if you don't agree.  I won't drink anything else and if I can't find it at the stores in town I'll buy it from Amazon on line. I don't ever want to be with out.  Tku, ~~Trish~~</th>\n",
       "      <td>1</td>\n",
       "    </tr>\n",
       "    <tr>\n",
       "      <th>~~meh~~ Let me start off by saying I'm a bit of a cookie snob having lived next door to my grandmother for most of my youth.  There's nothing better than a homemade cookie.  Having tried these and shared them with some co-workers I can honestly say that it's not just me that wasn't impressed.  There wasn't much said that was positive.  For being a soft baked cookie it tasted awfully dry.  It was almost more like a cereal bar rather than a cookie.  There was no yummy buttery taste.  They just weren't worth the 170 cals per cookie.  The only thing positive that was said is that it is convienient to have them separately packed for lunches and on the go snacks.</th>\n",
       "      <td>1</td>\n",
       "    </tr>\n",
       "    <tr>\n",
       "      <th>~~perfect on-the-go snack~~ I had these sent to me at work so I shared and got some input from my coworkers as well.  The all around consensus was that this is a fantastic treat.  Granted, none of us ate this as it was marketed.  We all ate it dry and couldn't get enough.  Some of the comments included: 1)  I don't care for a sweet cereal and this has just the right amount of brown sugar! 2)  Another coworker said, \"I do like sweet cereal and think this is very good.  Can you get in the store yet?\" 3)  A full cup per serving!  That's fantastic! 4)  These are more like a treat than a breakfast cereal. 5)  I can put these in a baggie in my purse for an on the go snack.  Awesome! We all agreed that this is something we'll look for the next time we go grocery shopping!</th>\n",
       "      <td>1</td>\n",
       "    </tr>\n",
       "    <tr>\n",
       "      <th>~~quite tasty and only a minute to cook~~ I'm a pretty harsh critic when it comes to the \"heat in the microwave\" pastas but I love Barilla pasta sause so I thought I'd give this a shot.  I have to say it was pretty tasty!  The sauce has the same great Barilla taste.  And even after just 60 seconds in the microwave the noodles were nice and soft.  The serving size was great for lunch.  After 3 hours I still felt satisfied and wasn't looking for something to munch on.  **WARNING**  You definitly need to read the directions carefully otherwise when you're done cooking it and you tear off the plastic top you could have a huge mess.  The pan the sauce is in is a separate container that is not attatched to the rest of the package and the plastic cover is attatched very well.  I can say with a good amount of certainty that I'll be buying these for lunches!!!</th>\n",
       "      <td>1</td>\n",
       "    </tr>\n",
       "    <tr>\n",
       "      <th>~~so disappointing~~ I'm 35yo and I remember eating this stuff for breakfast all throughout my youth.  I loved it.  Loved it to the point that there were days that I would eat it for breakfast and dinner if I could get away with it.  For some reason I stopped eating it.  I saw this and decided it was time start it up again.  I'M SO DISAPPOINTED!!!  The flavor is completely different.  The end product is soupy and letting it sit for a bit doesn't help.  The portions sizes do seem like they might be a bit bigger but that's the only good thing I can come up with.  It might be a healthy choice but I think I'll just stick to my fresh fruit breakfasts.  This is just bad.</th>\n",
       "      <td>1</td>\n",
       "    </tr>\n",
       "    <tr>\n",
       "      <th>~~the more you eat the better they taste~~ When I first tasted these I could only muster up an \"okay\".  Then I had a couple more and they tasted better.  After I had about 20 or so I realized that I really like them.  They are a completely different beast from the cheddar cheez-it's.  But they are quite good.  The taste is very light and it's a not an \"in your face\" kind of flavor.  If I hadn't tried the chedder jack flavor first I might even go so far as to say that they are my favorite next to the original flavor.  If they ever get on my Safeway's shelves I'll pick some up.</th>\n",
       "      <td>1</td>\n",
       "    </tr>\n",
       "    <tr>\n",
       "      <th>~~~Just Nice~~~ Great taste. Personally use it every morning.Organo Gold Gourmet Black coffee will excite and awaken every coffee lover's senses. You'll be delighted by the familiar Organo Gold rich aroma and the flavour of fresh brewed coffee. It's a convenient \"anytime\" drink that is ready in seconds. Most importantly, it's Healthier Coffee. Organo Gold Gourmet Black Coffee is packed with the goodness of the 100 Percent Certified Ganoderma Lucidum Red Mushrooms. It truly is a celebration in a cup for lovers of Gourmet Black Coffee taste.</th>\n",
       "      <td>1</td>\n",
       "    </tr>\n",
       "    <tr>\n",
       "      <th>~~~TRIO OF ALL TIME FAVORITES~~~ Well, what can I really say about these all time favorite delights, except, they arrived UN-melted and were extremely fresh.  I would order again.</th>\n",
       "      <td>1</td>\n",
       "    </tr>\n",
       "  </tbody>\n",
       "</table>\n",
       "<p>309158 rows × 1 columns</p>\n",
       "</div>"
      ],
      "text/plain": [
       "                                                    Score\n",
       "review                                                   \n",
       " I like the product and tried it before I pucha...      1\n",
       " I only used two maybe three tea bags and got p...     18\n",
       " This is a cool system only problem is that the...      1\n",
       "! It's HOT ! This is it, it's the hit at every ...      1\n",
       "! Mmmmmmmmmm ! What a wonderful surprise to fin...      5\n",
       "! WARNING !  Not for those who can't handle the...      1\n",
       "!! NASTY !! White peaches are my favorite durin...      1\n",
       "!!! FALSE ADVERTISEMENT !!! !!! PRODUCT HAS NOT...      1\n",
       "!!! If you enjoy a really good sugar burn, thes...      1\n",
       "!!!!! I used to sprinkle this on my popcorn!  T...      1\n",
       "!!!!!!! Flavor review !!!!!!!! Best Flavor yet ...      3\n",
       "!!!!!!! YEAH !!!!!! This is THE best hot season...      1\n",
       "!!!THE BEST RAISIN BRAN EVER!!! I wasn't sure h...      1\n",
       "!LOVE THESE! I LOVE these! They are my favorite...      1\n",
       "!st time matcha buyer This is quality matcha te...      3\n",
       "\" A MIRACLE SUPPLEMENT!!\" I'm a 32 year old man...      9\n",
       "\" A MUST HAVE \" my wife and I have been searchi...      1\n",
       "\" I WANT MY MAYPO!\" An old time favorite from g...      1\n",
       "\" S M O K E D......S A L M O N \".....I S.....N ...      1\n",
       "\" THE RIGHT STUFF\" If you love movie popcorn an...      1\n",
       "\"00\" Superfine is Super The Antimo Caputo Super...      1\n",
       "\"100 % of what you want... outstanding I'm plea...      1\n",
       "\"100% if what you want, 0% of what you don't\" N...      1\n",
       "\"30% Juice\" !!! I ordered this because it was a...      1\n",
       "\"4 out of 5\" for the taste i bought this for 21...      1\n",
       "\"5g of digestible carbs\" is not factual I purch...      1\n",
       "\"A Slice of Heaven!\" I have to admit I was some...      1\n",
       "\"A Taste of Home\" Christmas 2006, ordered 3 of ...      1\n",
       "\"A full serving of vegetables in every bowl?\" h...      1\n",
       "\"A\" for convenience.  \"C\" for flavor.  \"B \" for...      1\n",
       "...                                                   ...\n",
       "zsweet the best fastest shipping around and zsw...      1\n",
       "zuke's makes good treats We found Zuke's produc...      1\n",
       "zukes We have a border collie/husky. She is 13 ...      3\n",
       "zukes clean apple crisp My very picky shih-poo ...      3\n",
       "zukes dog treats I have 2 beagles who live for ...      1\n",
       "zukes mini treats Hi! love that brand zukes chi...      5\n",
       "zukes treats My dogs love these treats, because...      4\n",
       "zylitol- healthy and great taste Loved these pr...      1\n",
       "zzfantastic coffee I have had the luxury of exp...      1\n",
       "~  Similarly Disappointed ~ As with Mr. Carlson...      1\n",
       "~ Delicious Sample Pack ~ I'd heard and read gr...      1\n",
       "~ Fantastic Price On Greenies ~ One Happy Pomer...      1\n",
       "~ I love this! It has a hint of a peppery taste...      1\n",
       "~*~*~My Girls LOVE these, PERFECT SIZE for Litt...      2\n",
       "~*~*~NO MORE URINARY TRACT INFECTIONS~*~*~ My c...      2\n",
       "~Better Than Coffee~ Having just purchased my n...      4\n",
       "~Konjac Shirataki Noodles Pasta~ Well, I though...      1\n",
       "~Very Maple Tasting~ I use this maple syrup in ...      1\n",
       "~Well received~ I purchased this to send as a g...      4\n",
       "~chocolat heaven~ My sister brought me some of ...      1\n",
       "~sugar free yes, low carb no~ I did a search fo...      1\n",
       "~~BEST ~gluten free~ corn bread by Bob's Red Mi...      1\n",
       "~~The Best Tea Ever~~ I was a Lipton die hard I...      1\n",
       "~~meh~~ Let me start off by saying I'm a bit of...      1\n",
       "~~perfect on-the-go snack~~ I had these sent to...      1\n",
       "~~quite tasty and only a minute to cook~~ I'm a...      1\n",
       "~~so disappointing~~ I'm 35yo and I remember ea...      1\n",
       "~~the more you eat the better they taste~~ When...      1\n",
       "~~~Just Nice~~~ Great taste. Personally use it ...      1\n",
       "~~~TRIO OF ALL TIME FAVORITES~~~ Well, what can...      1\n",
       "\n",
       "[309158 rows x 1 columns]"
      ]
     },
     "execution_count": 35,
     "metadata": {},
     "output_type": "execute_result"
    }
   ],
   "source": [
    "final_df.groupby('review').agg('count')"
   ]
  },
  {
   "cell_type": "markdown",
   "metadata": {},
   "source": [
    "#### visualize one of the duplicate data"
   ]
  },
  {
   "cell_type": "code",
   "execution_count": 36,
   "metadata": {},
   "outputs": [],
   "source": [
    "t = final_df['review'].str.find('I only used two maybe three tea bags and got pregnan')\n",
    "t = t[t != -1]"
   ]
  },
  {
   "cell_type": "code",
   "execution_count": 37,
   "metadata": {},
   "outputs": [
    {
     "data": {
      "text/plain": [
       "17859     1\n",
       "29930     1\n",
       "43935     1\n",
       "59814     1\n",
       "107015    1\n",
       "143916    1\n",
       "159779    1\n",
       "169801    1\n",
       "187578    1\n",
       "190222    1\n",
       "190369    1\n",
       "226636    1\n",
       "243487    1\n",
       "245079    1\n",
       "279254    1\n",
       "306678    1\n",
       "324981    1\n",
       "341828    1\n",
       "Name: review, dtype: int64"
      ]
     },
     "execution_count": 37,
     "metadata": {},
     "output_type": "execute_result"
    }
   ],
   "source": [
    "t"
   ]
  },
  {
   "cell_type": "code",
   "execution_count": 38,
   "metadata": {},
   "outputs": [
    {
     "data": {
      "text/plain": [
       "\" I only used two maybe three tea bags and got pregnant - can not drink during pregnancy.  Not a bad taste, but I'm not a big tea fan either.\""
      ]
     },
     "execution_count": 38,
     "metadata": {},
     "output_type": "execute_result"
    }
   ],
   "source": [
    "final_df.loc[43935]['review']"
   ]
  },
  {
   "cell_type": "code",
   "execution_count": 39,
   "metadata": {},
   "outputs": [
    {
     "data": {
      "text/plain": [
       "\" I only used two maybe three tea bags and got pregnant - can not drink during pregnancy.  Not a bad taste, but I'm not a big tea fan either.\""
      ]
     },
     "execution_count": 39,
     "metadata": {},
     "output_type": "execute_result"
    }
   ],
   "source": [
    "final_df.loc[187578]['review']"
   ]
  },
  {
   "cell_type": "code",
   "execution_count": 40,
   "metadata": {
    "scrolled": true
   },
   "outputs": [
    {
     "data": {
      "text/plain": [
       "\" I only used two maybe three tea bags and got pregnant - can not drink during pregnancy.  Not a bad taste, but I'm not a big tea fan either.\""
      ]
     },
     "execution_count": 40,
     "metadata": {},
     "output_type": "execute_result"
    }
   ],
   "source": [
    "final_df.loc[306678]['review']"
   ]
  },
  {
   "cell_type": "markdown",
   "metadata": {},
   "source": [
    "#### check initial row count"
   ]
  },
  {
   "cell_type": "code",
   "execution_count": 41,
   "metadata": {
    "scrolled": true
   },
   "outputs": [
    {
     "data": {
      "text/plain": [
       "Score     426340\n",
       "review    426340\n",
       "dtype: int64"
      ]
     },
     "execution_count": 41,
     "metadata": {},
     "output_type": "execute_result"
    }
   ],
   "source": [
    "final_df.count()"
   ]
  },
  {
   "cell_type": "markdown",
   "metadata": {},
   "source": [
    "#### 1.2.4 Remove Duplicates"
   ]
  },
  {
   "cell_type": "code",
   "execution_count": 42,
   "metadata": {},
   "outputs": [],
   "source": [
    "final_df.drop_duplicates(keep=\"first\",inplace=True)"
   ]
  },
  {
   "cell_type": "markdown",
   "metadata": {},
   "source": [
    "#### check new row count"
   ]
  },
  {
   "cell_type": "code",
   "execution_count": 43,
   "metadata": {},
   "outputs": [
    {
     "data": {
      "text/plain": [
       "Score     309178\n",
       "review    309178\n",
       "dtype: int64"
      ]
     },
     "execution_count": 43,
     "metadata": {},
     "output_type": "execute_result"
    }
   ],
   "source": [
    "final_df.count()"
   ]
  },
  {
   "cell_type": "code",
   "execution_count": 44,
   "metadata": {
    "scrolled": false
   },
   "outputs": [
    {
     "data": {
      "text/html": [
       "<div>\n",
       "<style scoped>\n",
       "    .dataframe tbody tr th:only-of-type {\n",
       "        vertical-align: middle;\n",
       "    }\n",
       "\n",
       "    .dataframe tbody tr th {\n",
       "        vertical-align: top;\n",
       "    }\n",
       "\n",
       "    .dataframe thead tr th {\n",
       "        text-align: left;\n",
       "    }\n",
       "\n",
       "    .dataframe thead tr:last-of-type th {\n",
       "        text-align: right;\n",
       "    }\n",
       "</style>\n",
       "<table border=\"1\" class=\"dataframe\">\n",
       "  <thead>\n",
       "    <tr>\n",
       "      <th></th>\n",
       "      <th colspan=\"4\" halign=\"left\">review</th>\n",
       "    </tr>\n",
       "    <tr>\n",
       "      <th></th>\n",
       "      <th>count</th>\n",
       "      <th>unique</th>\n",
       "      <th>top</th>\n",
       "      <th>freq</th>\n",
       "    </tr>\n",
       "    <tr>\n",
       "      <th>Score</th>\n",
       "      <th></th>\n",
       "      <th></th>\n",
       "      <th></th>\n",
       "      <th></th>\n",
       "    </tr>\n",
       "  </thead>\n",
       "  <tbody>\n",
       "    <tr>\n",
       "      <th>1</th>\n",
       "      <td>28530</td>\n",
       "      <td>28530</td>\n",
       "      <td>Taste Like Straw These sugar-free strawberry l...</td>\n",
       "      <td>1</td>\n",
       "    </tr>\n",
       "    <tr>\n",
       "      <th>2</th>\n",
       "      <td>16290</td>\n",
       "      <td>16290</td>\n",
       "      <td>Made in China? I just bought my 2nd box from C...</td>\n",
       "      <td>1</td>\n",
       "    </tr>\n",
       "    <tr>\n",
       "      <th>3</th>\n",
       "      <td>23301</td>\n",
       "      <td>23301</td>\n",
       "      <td>Five-Stars Quality, One Star Value. UPDATED 5/...</td>\n",
       "      <td>1</td>\n",
       "    </tr>\n",
       "    <tr>\n",
       "      <th>4</th>\n",
       "      <td>43876</td>\n",
       "      <td>43876</td>\n",
       "      <td>great tea but too much stevia My 10 yr. old an...</td>\n",
       "      <td>1</td>\n",
       "    </tr>\n",
       "    <tr>\n",
       "      <th>5</th>\n",
       "      <td>197181</td>\n",
       "      <td>197181</td>\n",
       "      <td>Not for small dogs! I have two chihuahuas who ...</td>\n",
       "      <td>1</td>\n",
       "    </tr>\n",
       "  </tbody>\n",
       "</table>\n",
       "</div>"
      ],
      "text/plain": [
       "       review                                                                \n",
       "        count  unique                                                top freq\n",
       "Score                                                                        \n",
       "1       28530   28530  Taste Like Straw These sugar-free strawberry l...    1\n",
       "2       16290   16290  Made in China? I just bought my 2nd box from C...    1\n",
       "3       23301   23301  Five-Stars Quality, One Star Value. UPDATED 5/...    1\n",
       "4       43876   43876  great tea but too much stevia My 10 yr. old an...    1\n",
       "5      197181  197181  Not for small dogs! I have two chihuahuas who ...    1"
      ]
     },
     "execution_count": 44,
     "metadata": {},
     "output_type": "execute_result"
    }
   ],
   "source": [
    "final_df.groupby('Score').describe()"
   ]
  },
  {
   "cell_type": "code",
   "execution_count": 45,
   "metadata": {},
   "outputs": [
    {
     "data": {
      "text/html": [
       "<div>\n",
       "<style scoped>\n",
       "    .dataframe tbody tr th:only-of-type {\n",
       "        vertical-align: middle;\n",
       "    }\n",
       "\n",
       "    .dataframe tbody tr th {\n",
       "        vertical-align: top;\n",
       "    }\n",
       "\n",
       "    .dataframe thead th {\n",
       "        text-align: right;\n",
       "    }\n",
       "</style>\n",
       "<table border=\"1\" class=\"dataframe\">\n",
       "  <thead>\n",
       "    <tr style=\"text-align: right;\">\n",
       "      <th></th>\n",
       "      <th>Score</th>\n",
       "      <th>review</th>\n",
       "    </tr>\n",
       "  </thead>\n",
       "  <tbody>\n",
       "    <tr>\n",
       "      <th>0</th>\n",
       "      <td>5</td>\n",
       "      <td>Very Good I received this product early from t...</td>\n",
       "    </tr>\n",
       "    <tr>\n",
       "      <th>1</th>\n",
       "      <td>5</td>\n",
       "      <td>Organic, Kosher, Tasty Assortment of Premium T...</td>\n",
       "    </tr>\n",
       "    <tr>\n",
       "      <th>2</th>\n",
       "      <td>5</td>\n",
       "      <td>excellent gluten-free spaghetti: great taste, ...</td>\n",
       "    </tr>\n",
       "    <tr>\n",
       "      <th>3</th>\n",
       "      <td>5</td>\n",
       "      <td>Lindt is Lindt Buying this multi-pack I was mi...</td>\n",
       "    </tr>\n",
       "    <tr>\n",
       "      <th>4</th>\n",
       "      <td>5</td>\n",
       "      <td>YUM!!!!! These bars are so good! I loved them ...</td>\n",
       "    </tr>\n",
       "    <tr>\n",
       "      <th>5</th>\n",
       "      <td>5</td>\n",
       "      <td>Delicious I love these chips, I buy the 24 pac...</td>\n",
       "    </tr>\n",
       "    <tr>\n",
       "      <th>6</th>\n",
       "      <td>5</td>\n",
       "      <td>Tastes great and it's organic!! I'm a huge fan...</td>\n",
       "    </tr>\n",
       "    <tr>\n",
       "      <th>7</th>\n",
       "      <td>2</td>\n",
       "      <td>Poor taste I was really disappointed with the ...</td>\n",
       "    </tr>\n",
       "    <tr>\n",
       "      <th>8</th>\n",
       "      <td>3</td>\n",
       "      <td>Better than US Instant Coffee A friend who has...</td>\n",
       "    </tr>\n",
       "    <tr>\n",
       "      <th>9</th>\n",
       "      <td>4</td>\n",
       "      <td>Hard not to like! No need for plastic baggies ...</td>\n",
       "    </tr>\n",
       "  </tbody>\n",
       "</table>\n",
       "</div>"
      ],
      "text/plain": [
       "   Score                                             review\n",
       "0      5  Very Good I received this product early from t...\n",
       "1      5  Organic, Kosher, Tasty Assortment of Premium T...\n",
       "2      5  excellent gluten-free spaghetti: great taste, ...\n",
       "3      5  Lindt is Lindt Buying this multi-pack I was mi...\n",
       "4      5  YUM!!!!! These bars are so good! I loved them ...\n",
       "5      5  Delicious I love these chips, I buy the 24 pac...\n",
       "6      5  Tastes great and it's organic!! I'm a huge fan...\n",
       "7      2  Poor taste I was really disappointed with the ...\n",
       "8      3  Better than US Instant Coffee A friend who has...\n",
       "9      4  Hard not to like! No need for plastic baggies ..."
      ]
     },
     "execution_count": 45,
     "metadata": {},
     "output_type": "execute_result"
    }
   ],
   "source": [
    "final_df.head(10)"
   ]
  },
  {
   "cell_type": "code",
   "execution_count": null,
   "metadata": {},
   "outputs": [],
   "source": []
  }
 ],
 "metadata": {
  "kernelspec": {
   "display_name": "Python 3",
   "language": "python",
   "name": "python3"
  },
  "language_info": {
   "codemirror_mode": {
    "name": "ipython",
    "version": 3
   },
   "file_extension": ".py",
   "mimetype": "text/x-python",
   "name": "python",
   "nbconvert_exporter": "python",
   "pygments_lexer": "ipython3",
   "version": "3.7.3"
  }
 },
 "nbformat": 4,
 "nbformat_minor": 2
}
