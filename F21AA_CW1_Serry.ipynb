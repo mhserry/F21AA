{
 "cells": [
  {
   "cell_type": "markdown",
   "metadata": {},
   "source": [
    "# pip installs if needed."
   ]
  },
  {
   "cell_type": "code",
   "execution_count": null,
   "metadata": {
    "pycharm": {
     "is_executing": true
    }
   },
   "outputs": [],
   "source": [
    "pip install seaborn"
   ]
  },
  {
   "cell_type": "code",
   "execution_count": null,
   "metadata": {
    "pycharm": {
     "is_executing": false
    }
   },
   "outputs": [],
   "source": [
    "pip install lxml"
   ]
  },
  {
   "cell_type": "code",
   "execution_count": null,
   "metadata": {
    "pycharm": {
     "is_executing": false
    }
   },
   "outputs": [],
   "source": [
    "pip install bs4"
   ]
  },
  {
   "cell_type": "code",
   "execution_count": null,
   "metadata": {
    "pycharm": {
     "is_executing": false
    }
   },
   "outputs": [],
   "source": [
    "pip install spacy"
   ]
  },
  {
   "cell_type": "code",
   "execution_count": 1,
   "metadata": {
    "pycharm": {
     "is_executing": false
    }
   },
   "outputs": [],
   "source": [
    "import pandas as pd\n",
    "import numpy as np\n",
    "import matplotlib.pyplot as plt\n",
    "import seaborn as sns"
   ]
  },
  {
   "cell_type": "code",
   "execution_count": 2,
   "metadata": {
    "pycharm": {
     "is_executing": false
    }
   },
   "outputs": [
    {
     "name": "stdout",
     "output_type": "stream",
     "text": [
      "Loading reviews...[ok]\n",
      "Loaded 426,340 reviews\n"
     ]
    }
   ],
   "source": [
    "#Loading Reviews to Dataframe...\n",
    "print('Loading reviews...',end='')\n",
    "df = pd.read_csv('train.csv')\n",
    "print('[ok]')\n",
    "print('Loaded {:,} reviews' .format(len(df)))"
   ]
  },
  {
   "cell_type": "markdown",
   "metadata": {},
   "source": [
    "# 1- Data Exploration and Visualization: (10%)\n",
    "Provide an initial step to inspect, visualize and analyse the different attributes in your data set.\n",
    "Document your findings and make conclusions for your next steps"
   ]
  },
  {
   "cell_type": "code",
   "execution_count": null,
   "metadata": {
    "pycharm": {
     "is_executing": false
    }
   },
   "outputs": [],
   "source": [
    "df.columns #Deciding on Columns we might need, dropping the rest for now"
   ]
  },
  {
   "cell_type": "code",
   "execution_count": null,
   "metadata": {
    "pycharm": {
     "is_executing": false
    }
   },
   "outputs": [],
   "source": [
    "df.head()"
   ]
  },
  {
   "cell_type": "code",
   "execution_count": null,
   "metadata": {
    "pycharm": {
     "is_executing": false
    }
   },
   "outputs": [],
   "source": [
    "df.tail()"
   ]
  },
  {
   "cell_type": "code",
   "execution_count": null,
   "metadata": {
    "pycharm": {
     "is_executing": false
    }
   },
   "outputs": [],
   "source": [
    "df.describe(include='all')"
   ]
  },
  {
   "cell_type": "code",
   "execution_count": null,
   "metadata": {
    "pycharm": {
     "is_executing": false
    }
   },
   "outputs": [],
   "source": [
    "print(\"Skewness: %f\" % df['Score'].skew())\n",
    "print(\"Kurtosis: %f\" % df['Score'].kurt())"
   ]
  },
  {
   "cell_type": "code",
   "execution_count": null,
   "metadata": {
    "pycharm": {
     "is_executing": false
    }
   },
   "outputs": [],
   "source": [
    "print(df.nunique())"
   ]
  },
  {
   "cell_type": "code",
   "execution_count": null,
   "metadata": {
    "pycharm": {
     "is_executing": false
    }
   },
   "outputs": [],
   "source": [
    "print(df.shape)"
   ]
  },
  {
   "cell_type": "code",
   "execution_count": null,
   "metadata": {
    "pycharm": {
     "is_executing": false
    }
   },
   "outputs": [],
   "source": [
    "print(\"\\nSCORE 5: \\n\" + str(df[df['Score'] == 5].count()))\n",
    "print(\"\\nSCORE 4: \\n\" + str(df[df['Score'] == 4].count()))\n",
    "print(\"\\nSCORE 3: \\n\" + str(df[df['Score'] == 3].count()))\n",
    "print(\"\\nSCORE 2: \\n\" + str(df[df['Score'] == 2].count()))\n",
    "print(\"\\nSCORE 1: \\n\" + str(df[df['Score'] == 1].count()))"
   ]
  },
  {
   "cell_type": "code",
   "execution_count": null,
   "metadata": {
    "pycharm": {
     "is_executing": false
    }
   },
   "outputs": [],
   "source": [
    "df.hist()\n",
    "# We need to comment on the graph below, Basically the data is biased towards score 5 . "
   ]
  },
  {
   "cell_type": "code",
   "execution_count": null,
   "metadata": {
    "pycharm": {
     "is_executing": false
    }
   },
   "outputs": [],
   "source": [
    "col_names = ['Id','UserId','ProfileName','HelpfulnessNumerator','HelpfulnessDenominator','Time','ProductId']\n",
    "analysis_df = df\n",
    "numeric_col_names = analysis_df.select_dtypes(include=np.number).columns.tolist()\n",
    "\n",
    "fig, ax = plt.subplots(len(numeric_col_names), figsize=(16,12))\n",
    "\n",
    "for i, col_val in enumerate(numeric_col_names):\n",
    "\n",
    "    sns.distplot(analysis_df[col_val], hist=True, ax=ax[i])\n",
    "    ax[i].set_title('Freq dist '+col_val, fontsize=10)\n",
    "    ax[i].set_xlabel(col_val, fontsize=8)\n",
    "    ax[i].set_ylabel('Count', fontsize=8)\n",
    "\n",
    "plt.show()"
   ]
  },
  {
   "cell_type": "code",
   "execution_count": null,
   "metadata": {
    "pycharm": {
     "is_executing": false
    }
   },
   "outputs": [],
   "source": [
    "sns.pairplot(df)"
   ]
  },
  {
   "cell_type": "code",
   "execution_count": null,
   "metadata": {
    "pycharm": {
     "is_executing": false
    }
   },
   "outputs": [],
   "source": [
    "f, ax = plt.subplots(figsize=(10, 8))\n",
    "corr = df.corr()\n",
    "sns.heatmap(corr,\n",
    "            xticklabels=corr.columns.values,\n",
    "            yticklabels=corr.columns.values)"
   ]
  },
  {
   "cell_type": "code",
   "execution_count": null,
   "metadata": {
    "pycharm": {
     "is_executing": false
    }
   },
   "outputs": [],
   "source": [
    "df.groupby('Score').describe()"
   ]
  },
  {
   "cell_type": "code",
   "execution_count": null,
   "metadata": {
    "pycharm": {
     "is_executing": false
    }
   },
   "outputs": [],
   "source": [
    "df.isnull().values.any()"
   ]
  },
  {
   "cell_type": "code",
   "execution_count": null,
   "metadata": {
    "pycharm": {
     "is_executing": false
    }
   },
   "outputs": [],
   "source": [
    "df.isnull().sum()"
   ]
  },
  {
   "cell_type": "code",
   "execution_count": null,
   "metadata": {
    "pycharm": {
     "is_executing": false
    }
   },
   "outputs": [],
   "source": [
    "df.columns"
   ]
  },
  {
   "cell_type": "code",
   "execution_count": null,
   "metadata": {
    "pycharm": {
     "is_executing": false
    }
   },
   "outputs": [],
   "source": [
    "def percentile_based_outlier(data, threshold=95):\n",
    "    diff = (100 - threshold) / 2\n",
    "    minval, maxval = np.percentile(data, [diff, 100 - diff])\n",
    "    return (data < minval) | (data > maxval)\n",
    "\n",
    "col_names = ['Id','UserId','ProfileName','HelpfulnessNumerator','HelpfulnessDenominator','Time','ProductId']\n",
    "numeric_col_names = analysis_df.select_dtypes(include=np.number).columns.tolist()\n",
    "\n",
    "fig, ax = plt.subplots(len(numeric_col_names), figsize=(8,40))\n",
    "\n",
    "for i, col_val in enumerate(numeric_col_names):\n",
    "    x = df[col_val][:1000]\n",
    "    sns.distplot(x, ax=ax[i], rug=True, hist=False)\n",
    "    outliers = x[percentile_based_outlier(x)]\n",
    "    ax[i].plot(outliers, np.zeros_like(outliers), 'ro', clip_on=False)\n",
    "\n",
    "    ax[i].set_title('Outlier detection - {}'.format(col_val), fontsize=10)\n",
    "    ax[i].set_xlabel(col_val, fontsize=8)\n",
    "\n",
    "plt.show()"
   ]
  },
  {
   "cell_type": "code",
   "execution_count": 3,
   "metadata": {
    "pycharm": {
     "is_executing": false
    }
   },
   "outputs": [],
   "source": [
    "\"\"\" \n",
    "We Found relatively Small number of NAN onject in the dataset  in both TEXT and Summary features\n",
    "wE will replace with '' and drop the UN-NEEDED columns for now\n",
    "\"\"\"\n",
    "df.Summary.fillna('', inplace=True)\n",
    "df.Text.fillna('', inplace=True)\n",
    "df.drop(['Id','UserId','ProfileName','HelpfulnessNumerator','HelpfulnessDenominator','Time','ProductId'],axis=1,inplace=True)"
   ]
  },
  {
   "cell_type": "code",
   "execution_count": 4,
   "metadata": {
    "pycharm": {
     "is_executing": false
    }
   },
   "outputs": [],
   "source": [
    "#Concatinating TEXT and Summary features as per the DR. example. Which is OK as I didnt find obvious correlation\n",
    "df['text']=df['Summary']+' '+df['Text'] \n",
    "df.drop(['Summary','Text'],axis=1,inplace=True)\n",
    "df['length']=df['text'].str.len() "
   ]
  },
  {
   "cell_type": "code",
   "execution_count": 5,
   "metadata": {
    "pycharm": {
     "is_executing": false
    }
   },
   "outputs": [
    {
     "data": {
      "text/plain": [
       "array([[<matplotlib.axes._subplots.AxesSubplot object at 0x3803B750>,\n",
       "        <matplotlib.axes._subplots.AxesSubplot object at 0x32AA3FB0>],\n",
       "       [<matplotlib.axes._subplots.AxesSubplot object at 0x386C96B0>,\n",
       "        <matplotlib.axes._subplots.AxesSubplot object at 0x3E28F790>],\n",
       "       [<matplotlib.axes._subplots.AxesSubplot object at 0x3E276870>,\n",
       "        <matplotlib.axes._subplots.AxesSubplot object at 0x30022950>]],\n",
       "      dtype=object)"
      ]
     },
     "execution_count": 5,
     "metadata": {},
     "output_type": "execute_result"
    },
    {
     "data": {
      "image/png": "[encoded data removed]",
      "text/plain": [
       "<Figure size 576x1080 with 6 Axes>"
      ]
     },
     "metadata": {
      "needs_background": "light"
     },
     "output_type": "display_data"
    }
   ],
   "source": [
    "df.hist(column='length',by='Score',bins=200,figsize=(8,15))"
   ]
  },
  {
   "cell_type": "code",
   "execution_count": 6,
   "metadata": {
    "pycharm": {
     "is_executing": false
    }
   },
   "outputs": [
    {
     "data": {
      "text/plain": [
       "Index(['Score', 'text', 'length'], dtype='object')"
      ]
     },
     "execution_count": 6,
     "metadata": {},
     "output_type": "execute_result"
    }
   ],
   "source": [
    "df.columns"
   ]
  },
  {
   "cell_type": "code",
   "execution_count": null,
   "metadata": {
    "pycharm": {
     "is_executing": false
    }
   },
   "outputs": [],
   "source": [
    "# We can conclude from the table above, that the distributions is not equal, text with ratings 5 are far more than any other score"
   ]
  },
  {
   "cell_type": "code",
   "execution_count": null,
   "metadata": {
    "pycharm": {
     "is_executing": false
    }
   },
   "outputs": [],
   "source": [
    "# We need to write the conclustion for the graph\n",
    "#ALso feel free to add whatever graph you like so we can visualize the data as much as we can\n",
    "# DataFrame is called df , you can see its columns by running df.columns for more info run  df.info(), df.describe() ...etc"
   ]
  },
  {
   "cell_type": "markdown",
   "metadata": {},
   "source": [
    "# 2 - Text Processing and Normalization: (20%)\n",
    "Thoroughly experiment with different text processing and normalization alternatives. Explain the\n",
    "trade-off and benefits of using each and justify their effectiveness for the current data set."
   ]
  },
  {
   "cell_type": "markdown",
   "metadata": {},
   "source": [
    "\"\"\"\n",
    "NOTE FOR THE TEAM\n",
    "This question (Question 2) is all about text normalization (tokenization) , this includes\n",
    "cleaning the text and make it uniform, this is mainly done via removing punctuations, stopword\n",
    "After our call, I noticed some html tags in the text, we need to remove them as well.\n",
    "The catch is they MUST be removed before the pre-processing function , the reason is once we use the function, we loose punctuations, \n",
    "so <br> looks like br , so we cant really figure out that it was in fact and HTML tag.\n",
    "SO I will work on creating a fn to clean the html tags first, then pass it to the tokenization function \n",
    "\"\"\""
   ]
  },
  {
   "cell_type": "markdown",
   "metadata": {},
   "source": [
    "\"\"\"\n",
    "Update, I found a libraries that can do that, you need to install \n",
    "pip install lxml\n",
    "pip install beautifulsoup4\n",
    "Added them to the tokenizer function\n",
    "\"\"\""
   ]
  },
  {
   "cell_type": "code",
   "execution_count": null,
   "metadata": {
    "pycharm": {
     "is_executing": false
    }
   },
   "outputs": [],
   "source": [
    "# We will use 2 methods to tokeinze the corpse...stemming and Lemmatization , both from NLTK librarry\n",
    "\n",
    "#Once we finzalie the analysis, we will use CV and TFIDF to vectorize then build the pipeline with either one of them (cant have both in pipline AFAIK)\n",
    "# (possibly we will use TFIDF)\n",
    "\n",
    "#UPDATE, we will only remove the html tags and puncations ( we wont test that i believe as this will make the model better)\n"
   ]
  },
  {
   "cell_type": "code",
   "execution_count": null,
   "metadata": {
    "pycharm": {
     "is_executing": false
    }
   },
   "outputs": [],
   "source": [
    "#Method 1 - Building our own tokenizer (to remove HTML and punc)"
   ]
  },
  {
   "cell_type": "code",
   "execution_count": 7,
   "metadata": {
    "pycharm": {
     "is_executing": false
    }
   },
   "outputs": [],
   "source": [
    "import string,lxml,bs4"
   ]
  },
  {
   "cell_type": "code",
   "execution_count": 8,
   "metadata": {
    "pycharm": {
     "is_executing": false
    }
   },
   "outputs": [
    {
     "data": {
      "text/plain": [
       "'!\"#$%&\\'()*+,-./:;<=>?@[\\\\]^_`{|}~'"
      ]
     },
     "execution_count": 8,
     "metadata": {},
     "output_type": "execute_result"
    }
   ],
   "source": [
    "string.punctuation # we will remove this\n"
   ]
  },
  {
   "cell_type": "code",
   "execution_count": 9,
   "metadata": {
    "pycharm": {
     "is_executing": false
    }
   },
   "outputs": [],
   "source": [
    "#This function will remove html tags, punctiaton [Must run in order ]\n",
    "def tokenizer(text):\n",
    "    no_html = bs4.BeautifulSoup(text,'lxml').get_text()\n",
    "    no_punctuation = [char for char in no_html if char not in string.punctuation]\n",
    "    no_punctuation = ''.join(no_punctuation)\n",
    "    return no_punctuation"
   ]
  },
  {
   "cell_type": "code",
   "execution_count": 10,
   "metadata": {
    "pycharm": {
     "is_executing": false
    }
   },
   "outputs": [],
   "source": [
    "df_original = df.copy() #Backup to work on raw input data if we will need it later..."
   ]
  },
  {
   "cell_type": "markdown",
   "metadata": {},
   "source": [
    "### Stratification - Subset of Data Set (10,000)"
   ]
  },
  {
   "cell_type": "code",
   "execution_count": 11,
   "metadata": {
    "pycharm": {
     "is_executing": false
    }
   },
   "outputs": [],
   "source": [
    "def stratified_sample_df(df, col, n_samples):\n",
    "    n = min(n_samples, df[col].value_counts().min())\n",
    "    df_ = df.groupby(col).apply(lambda x: x.sample(n))\n",
    "    df_.index = df_.reset_index(drop=True)\n",
    "    return df_"
   ]
  },
  {
   "cell_type": "code",
   "execution_count": 12,
   "metadata": {
    "pycharm": {
     "is_executing": false
    }
   },
   "outputs": [],
   "source": [
    "stratified_sample_df = stratified_sample_df(df_original, 'Score', 10000)"
   ]
  },
  {
   "cell_type": "code",
   "execution_count": null,
   "metadata": {
    "pycharm": {
     "is_executing": false
    }
   },
   "outputs": [],
   "source": [
    "# IMPORTNAT... THIS IS CREATING A SMALLER SUBSET OF DATA, REMOVE THIS LINE TO WORK ON ALL DATA\n",
    "df = df.head(1000)\n",
    "print ( 'Original DB size is',len(df_original),' Current db size',len(df))"
   ]
  },
  {
   "cell_type": "code",
   "execution_count": null,
   "metadata": {
    "pycharm": {
     "is_executing": false
    }
   },
   "outputs": [],
   "source": [
    "#stratified sub sample (10,000)\n",
    "stratified_sample_df.head(10)"
   ]
  },
  {
   "cell_type": "code",
   "execution_count": 13,
   "metadata": {
    "pycharm": {
     "is_executing": false
    }
   },
   "outputs": [],
   "source": [
    "#shuffle the data\n",
    "from sklearn.utils import shuffle\n",
    "shuf_and_strat_df = shuffle(stratified_sample_df)"
   ]
  },
  {
   "cell_type": "code",
   "execution_count": null,
   "metadata": {
    "pycharm": {
     "is_executing": false
    }
   },
   "outputs": [],
   "source": [
    "shuf_and_strat_df.describe(include='all')"
   ]
  },
  {
   "cell_type": "code",
   "execution_count": null,
   "metadata": {
    "pycharm": {
     "is_executing": false
    }
   },
   "outputs": [],
   "source": [
    "df['text'] = df['text'].apply(tokenizer)"
   ]
  },
  {
   "cell_type": "code",
   "execution_count": 14,
   "metadata": {
    "pycharm": {
     "is_executing": false
    }
   },
   "outputs": [],
   "source": [
    "shuf_and_strat_df['text'] = shuf_and_strat_df['text'].apply(tokenizer)"
   ]
  },
  {
   "cell_type": "code",
   "execution_count": 15,
   "metadata": {
    "pycharm": {
     "is_executing": false
    }
   },
   "outputs": [
    {
     "data": {
      "text/html": [
       "<div>\n",
       "<style scoped>\n",
       "    .dataframe tbody tr th:only-of-type {\n",
       "        vertical-align: middle;\n",
       "    }\n",
       "\n",
       "    .dataframe tbody tr th {\n",
       "        vertical-align: top;\n",
       "    }\n",
       "\n",
       "    .dataframe thead th {\n",
       "        text-align: right;\n",
       "    }\n",
       "</style>\n",
       "<table border=\"1\" class=\"dataframe\">\n",
       "  <thead>\n",
       "    <tr style=\"text-align: right;\">\n",
       "      <th></th>\n",
       "      <th>Score</th>\n",
       "      <th>text</th>\n",
       "      <th>length</th>\n",
       "    </tr>\n",
       "  </thead>\n",
       "  <tbody>\n",
       "    <tr>\n",
       "      <td>(2, Disappointed I ordered this unsweetened coconut to use in a homemade trail mix.  I love fresh coconut, but not the work involved, so I thought this would be the next-to-best thing.  The coconut is almost tasteless.  I now have 3 1/2 bags left that I will probably never use.  Anyone want to buy 3 unopened bags of tasteless coconut?, 332)</td>\n",
       "      <td>2</td>\n",
       "      <td>Disappointed I ordered this unsweetened coconu...</td>\n",
       "      <td>332</td>\n",
       "    </tr>\n",
       "    <tr>\n",
       "      <td>(2, premium edge cat food My cats don't like it. what else can I say to reach 20 words.  It was an expensive mistake.  My older cat likes the premium edge food for older cats, but she may just be eating it because that is what she gets., 232)</td>\n",
       "      <td>2</td>\n",
       "      <td>premium edge cat food My cats dont like it wha...</td>\n",
       "      <td>232</td>\n",
       "    </tr>\n",
       "    <tr>\n",
       "      <td>(5, These are great I love fig cookies, but the big name brand uses partially hydrogenated oil and I won't purchase products that have that as an ingredient so I have been buying Fig Newmans for quite a few years now.&lt;br /&gt;These are my favorite, the wheat free and fat free versions just aren't as good.  My local store charges $3.99 per package so Amazon was a better deal, I didn't really need 6 packages of them, but I am sure my kids will eat them.  I left an open package on the kitchen counter and the next time I walked by my kids had eaten them all, they really love them too., 580)</td>\n",
       "      <td>5</td>\n",
       "      <td>These are great I love fig cookies but the big...</td>\n",
       "      <td>580</td>\n",
       "    </tr>\n",
       "    <tr>\n",
       "      <td>(1, DON'T BUY, SMELLS TERRIBLE DON'T BUY, IT SMELLS TERRIBLE, NOT EDIBLE. I'M SO REGRET. I THREW IT INTO TRASHCAN.&lt;br /&gt;&lt;br /&gt;THIS SHOULD BE NEGATIVE FIVE STAR., 156)</td>\n",
       "      <td>1</td>\n",
       "      <td>DONT BUY SMELLS TERRIBLE DONT BUY IT SMELLS TE...</td>\n",
       "      <td>156</td>\n",
       "    </tr>\n",
       "    <tr>\n",
       "      <td>(4, Question about this product I was delighted to find a Science Diet product that was Adult, Light, and Small Bite all at the same time. I have two dachshunds and want to feed them a lower calorie kibble in small bites, and this seemed perfect. But unlike the regular bite Science Diet adult, which is clearly marked \"Light,\" there is nothing on this Small Bite package that indicates that this is the reduced calorie, \"light\" adult small bite kibble for dogs. Is there some mistake in the advertisement of this product. I ask because I would like to switch to a Science Diet Adult Light Small Bite kibble for my aging dogs (they turned 8 this summer) but it's not clear that this product is it.&lt;br /&gt;&lt;br /&gt;I should mention that I've been very happy with Science Diet, which has kept my dogs in nearly perfect health for all this time., 833)</td>\n",
       "      <td>4</td>\n",
       "      <td>Question about this product I was delighted to...</td>\n",
       "      <td>833</td>\n",
       "    </tr>\n",
       "  </tbody>\n",
       "</table>\n",
       "</div>"
      ],
      "text/plain": [
       "                                                    Score  \\\n",
       "(2, Disappointed I ordered this unsweetened coc...      2   \n",
       "(2, premium edge cat food My cats don't like it...      2   \n",
       "(5, These are great I love fig cookies, but the...      5   \n",
       "(1, DON'T BUY, SMELLS TERRIBLE DON'T BUY, IT SM...      1   \n",
       "(4, Question about this product I was delighted...      4   \n",
       "\n",
       "                                                                                                 text  \\\n",
       "(2, Disappointed I ordered this unsweetened coc...  Disappointed I ordered this unsweetened coconu...   \n",
       "(2, premium edge cat food My cats don't like it...  premium edge cat food My cats dont like it wha...   \n",
       "(5, These are great I love fig cookies, but the...  These are great I love fig cookies but the big...   \n",
       "(1, DON'T BUY, SMELLS TERRIBLE DON'T BUY, IT SM...  DONT BUY SMELLS TERRIBLE DONT BUY IT SMELLS TE...   \n",
       "(4, Question about this product I was delighted...  Question about this product I was delighted to...   \n",
       "\n",
       "                                                    length  \n",
       "(2, Disappointed I ordered this unsweetened coc...     332  \n",
       "(2, premium edge cat food My cats don't like it...     232  \n",
       "(5, These are great I love fig cookies, but the...     580  \n",
       "(1, DON'T BUY, SMELLS TERRIBLE DON'T BUY, IT SM...     156  \n",
       "(4, Question about this product I was delighted...     833  "
      ]
     },
     "execution_count": 15,
     "metadata": {},
     "output_type": "execute_result"
    }
   ],
   "source": [
    "shuf_and_strat_df.head()"
   ]
  },
  {
   "cell_type": "markdown",
   "metadata": {},
   "source": [
    "### Stemming "
   ]
  },
  {
   "cell_type": "markdown",
   "metadata": {},
   "source": [
    "Porter Stemmer"
   ]
  },
  {
   "cell_type": "code",
   "execution_count": null,
   "metadata": {
    "pycharm": {
     "is_executing": false
    }
   },
   "outputs": [],
   "source": [
    "df_PS = df.copy()"
   ]
  },
  {
   "cell_type": "code",
   "execution_count": 16,
   "metadata": {
    "pycharm": {
     "is_executing": false
    }
   },
   "outputs": [],
   "source": [
    "df_PS = shuf_and_strat_df.copy()"
   ]
  },
  {
   "cell_type": "code",
   "execution_count": 17,
   "metadata": {
    "pycharm": {
     "is_executing": false
    }
   },
   "outputs": [],
   "source": [
    "from nltk.stem import PorterStemmer"
   ]
  },
  {
   "cell_type": "code",
   "execution_count": 18,
   "metadata": {
    "pycharm": {
     "is_executing": false
    }
   },
   "outputs": [],
   "source": [
    "nltkstemmer = PorterStemmer()"
   ]
  },
  {
   "cell_type": "code",
   "execution_count": 19,
   "metadata": {
    "pycharm": {
     "is_executing": false
    }
   },
   "outputs": [],
   "source": [
    "def stemmer(text):\n",
    "    review = [nltkstemmer.stem(word) for word in text.split()]\n",
    "    review = ' '.join(review) \n",
    "    return review\n",
    "    \n",
    "    "
   ]
  },
  {
   "cell_type": "code",
   "execution_count": 20,
   "metadata": {
    "pycharm": {
     "is_executing": false
    }
   },
   "outputs": [],
   "source": [
    "df_PS['text']= df_PS['text'].apply(stemmer)"
   ]
  },
  {
   "cell_type": "code",
   "execution_count": 21,
   "metadata": {
    "pycharm": {
     "is_executing": false
    }
   },
   "outputs": [
    {
     "data": {
      "text/html": [
       "<div>\n",
       "<style scoped>\n",
       "    .dataframe tbody tr th:only-of-type {\n",
       "        vertical-align: middle;\n",
       "    }\n",
       "\n",
       "    .dataframe tbody tr th {\n",
       "        vertical-align: top;\n",
       "    }\n",
       "\n",
       "    .dataframe thead th {\n",
       "        text-align: right;\n",
       "    }\n",
       "</style>\n",
       "<table border=\"1\" class=\"dataframe\">\n",
       "  <thead>\n",
       "    <tr style=\"text-align: right;\">\n",
       "      <th></th>\n",
       "      <th>Score</th>\n",
       "      <th>text</th>\n",
       "      <th>length</th>\n",
       "    </tr>\n",
       "  </thead>\n",
       "  <tbody>\n",
       "    <tr>\n",
       "      <td>(2, Disappointed I ordered this unsweetened coconut to use in a homemade trail mix.  I love fresh coconut, but not the work involved, so I thought this would be the next-to-best thing.  The coconut is almost tasteless.  I now have 3 1/2 bags left that I will probably never use.  Anyone want to buy 3 unopened bags of tasteless coconut?, 332)</td>\n",
       "      <td>2</td>\n",
       "      <td>disappoint I order thi unsweeten coconut to us...</td>\n",
       "      <td>332</td>\n",
       "    </tr>\n",
       "    <tr>\n",
       "      <td>(2, premium edge cat food My cats don't like it. what else can I say to reach 20 words.  It was an expensive mistake.  My older cat likes the premium edge food for older cats, but she may just be eating it because that is what she gets., 232)</td>\n",
       "      <td>2</td>\n",
       "      <td>premium edg cat food My cat dont like it what ...</td>\n",
       "      <td>232</td>\n",
       "    </tr>\n",
       "    <tr>\n",
       "      <td>(5, These are great I love fig cookies, but the big name brand uses partially hydrogenated oil and I won't purchase products that have that as an ingredient so I have been buying Fig Newmans for quite a few years now.&lt;br /&gt;These are my favorite, the wheat free and fat free versions just aren't as good.  My local store charges $3.99 per package so Amazon was a better deal, I didn't really need 6 packages of them, but I am sure my kids will eat them.  I left an open package on the kitchen counter and the next time I walked by my kids had eaten them all, they really love them too., 580)</td>\n",
       "      <td>5</td>\n",
       "      <td>these are great I love fig cooki but the big n...</td>\n",
       "      <td>580</td>\n",
       "    </tr>\n",
       "    <tr>\n",
       "      <td>(1, DON'T BUY, SMELLS TERRIBLE DON'T BUY, IT SMELLS TERRIBLE, NOT EDIBLE. I'M SO REGRET. I THREW IT INTO TRASHCAN.&lt;br /&gt;&lt;br /&gt;THIS SHOULD BE NEGATIVE FIVE STAR., 156)</td>\n",
       "      <td>1</td>\n",
       "      <td>dont buy smell terribl dont buy IT smell terri...</td>\n",
       "      <td>156</td>\n",
       "    </tr>\n",
       "    <tr>\n",
       "      <td>(4, Question about this product I was delighted to find a Science Diet product that was Adult, Light, and Small Bite all at the same time. I have two dachshunds and want to feed them a lower calorie kibble in small bites, and this seemed perfect. But unlike the regular bite Science Diet adult, which is clearly marked \"Light,\" there is nothing on this Small Bite package that indicates that this is the reduced calorie, \"light\" adult small bite kibble for dogs. Is there some mistake in the advertisement of this product. I ask because I would like to switch to a Science Diet Adult Light Small Bite kibble for my aging dogs (they turned 8 this summer) but it's not clear that this product is it.&lt;br /&gt;&lt;br /&gt;I should mention that I've been very happy with Science Diet, which has kept my dogs in nearly perfect health for all this time., 833)</td>\n",
       "      <td>4</td>\n",
       "      <td>question about thi product I wa delight to fin...</td>\n",
       "      <td>833</td>\n",
       "    </tr>\n",
       "  </tbody>\n",
       "</table>\n",
       "</div>"
      ],
      "text/plain": [
       "                                                    Score  \\\n",
       "(2, Disappointed I ordered this unsweetened coc...      2   \n",
       "(2, premium edge cat food My cats don't like it...      2   \n",
       "(5, These are great I love fig cookies, but the...      5   \n",
       "(1, DON'T BUY, SMELLS TERRIBLE DON'T BUY, IT SM...      1   \n",
       "(4, Question about this product I was delighted...      4   \n",
       "\n",
       "                                                                                                 text  \\\n",
       "(2, Disappointed I ordered this unsweetened coc...  disappoint I order thi unsweeten coconut to us...   \n",
       "(2, premium edge cat food My cats don't like it...  premium edg cat food My cat dont like it what ...   \n",
       "(5, These are great I love fig cookies, but the...  these are great I love fig cooki but the big n...   \n",
       "(1, DON'T BUY, SMELLS TERRIBLE DON'T BUY, IT SM...  dont buy smell terribl dont buy IT smell terri...   \n",
       "(4, Question about this product I was delighted...  question about thi product I wa delight to fin...   \n",
       "\n",
       "                                                    length  \n",
       "(2, Disappointed I ordered this unsweetened coc...     332  \n",
       "(2, premium edge cat food My cats don't like it...     232  \n",
       "(5, These are great I love fig cookies, but the...     580  \n",
       "(1, DON'T BUY, SMELLS TERRIBLE DON'T BUY, IT SM...     156  \n",
       "(4, Question about this product I was delighted...     833  "
      ]
     },
     "execution_count": 21,
     "metadata": {},
     "output_type": "execute_result"
    }
   ],
   "source": [
    "df_PS.head()"
   ]
  },
  {
   "cell_type": "markdown",
   "metadata": {},
   "source": [
    "Snowball Stemmer"
   ]
  },
  {
   "cell_type": "code",
   "execution_count": null,
   "metadata": {
    "pycharm": {
     "is_executing": false
    }
   },
   "outputs": [],
   "source": [
    "from nltk.stem import SnowballStemmer"
   ]
  },
  {
   "cell_type": "code",
   "execution_count": null,
   "metadata": {
    "pycharm": {
     "is_executing": false
    }
   },
   "outputs": [],
   "source": [
    "nltkstemmer = SnowballStemmer(language='english')"
   ]
  },
  {
   "cell_type": "code",
   "execution_count": null,
   "metadata": {
    "pycharm": {
     "is_executing": false
    }
   },
   "outputs": [],
   "source": [
    "df_PS['text']= df_PS['text'].apply(stemmer)"
   ]
  },
  {
   "cell_type": "code",
   "execution_count": null,
   "metadata": {
    "pycharm": {
     "is_executing": false
    }
   },
   "outputs": [],
   "source": [
    "df_PS.head()"
   ]
  },
  {
   "cell_type": "markdown",
   "metadata": {},
   "source": [
    "### Lemmatizing"
   ]
  },
  {
   "cell_type": "markdown",
   "metadata": {},
   "source": [
    "Word Net Lemmatizer"
   ]
  },
  {
   "cell_type": "code",
   "execution_count": null,
   "metadata": {
    "pycharm": {
     "is_executing": false
    }
   },
   "outputs": [],
   "source": [
    "df_LM = df.copy()"
   ]
  },
  {
   "cell_type": "code",
   "execution_count": null,
   "metadata": {
    "pycharm": {
     "is_executing": false
    }
   },
   "outputs": [],
   "source": [
    "df_LM = shuf_and_strat_df.copy()"
   ]
  },
  {
   "cell_type": "code",
   "execution_count": null,
   "metadata": {
    "pycharm": {
     "is_executing": false
    }
   },
   "outputs": [],
   "source": [
    "from nltk.stem import WordNetLemmatizer"
   ]
  },
  {
   "cell_type": "code",
   "execution_count": null,
   "metadata": {
    "pycharm": {
     "is_executing": false
    }
   },
   "outputs": [],
   "source": [
    "nltklem = WordNetLemmatizer()"
   ]
  },
  {
   "cell_type": "code",
   "execution_count": null,
   "metadata": {
    "pycharm": {
     "is_executing": false
    }
   },
   "outputs": [],
   "source": [
    "def lemmatizer(text):\n",
    "    # decided to go with option v, not n for no obvoius reason except my surface laptop is burning hot :)!\n",
    "    review = [nltklem.lemmatize(word,'v') for word in text.lower().split()]\n",
    "    review = ' '.join(review)\n",
    "    #print(review)\n",
    "    return review"
   ]
  },
  {
   "cell_type": "code",
   "execution_count": null,
   "metadata": {
    "pycharm": {
     "is_executing": false
    }
   },
   "outputs": [],
   "source": [
    "df_LM['text'] = df_LM['text'].apply(lemmatizer)"
   ]
  },
  {
   "cell_type": "code",
   "execution_count": null,
   "metadata": {
    "pycharm": {
     "is_executing": false
    }
   },
   "outputs": [],
   "source": [
    "df_LM.head()"
   ]
  },
  {
   "cell_type": "code",
   "execution_count": null,
   "metadata": {
    "pycharm": {
     "is_executing": false
    }
   },
   "outputs": [],
   "source": [
    "# import spacy need to fix so we can use spacy lemmetizer better than nltk"
   ]
  },
  {
   "cell_type": "code",
   "execution_count": null,
   "metadata": {
    "pycharm": {
     "is_executing": false
    }
   },
   "outputs": [],
   "source": []
  },
  {
   "cell_type": "markdown",
   "metadata": {},
   "source": [
    "#### Comparison of the 3 datasets "
   ]
  },
  {
   "cell_type": "code",
   "execution_count": null,
   "metadata": {
    "pycharm": {
     "is_executing": false
    }
   },
   "outputs": [],
   "source": [
    "i=15 #set i to the record you wanna see"
   ]
  },
  {
   "cell_type": "code",
   "execution_count": null,
   "metadata": {
    "pycharm": {
     "is_executing": false
    }
   },
   "outputs": [],
   "source": [
    "df_original['text'].iloc[i]"
   ]
  },
  {
   "cell_type": "code",
   "execution_count": null,
   "metadata": {
    "pycharm": {
     "is_executing": false
    }
   },
   "outputs": [],
   "source": [
    "df['text'].iloc[i] "
   ]
  },
  {
   "cell_type": "code",
   "execution_count": null,
   "metadata": {
    "pycharm": {
     "is_executing": false
    }
   },
   "outputs": [],
   "source": [
    "df_PS['text'].loc[i]"
   ]
  },
  {
   "cell_type": "code",
   "execution_count": null,
   "metadata": {
    "pycharm": {
     "is_executing": false
    }
   },
   "outputs": [],
   "source": [
    "df_LM['text'].loc[i]"
   ]
  },
  {
   "cell_type": "markdown",
   "metadata": {},
   "source": [
    "### Conclusion "
   ]
  },
  {
   "cell_type": "code",
   "execution_count": null,
   "metadata": {
    "pycharm": {
     "is_executing": false
    }
   },
   "outputs": [],
   "source": [
    "# Write our conclusion here...!\n",
    "\n",
    "\n",
    "\n",
    "\n",
    "\n",
    "\n",
    "\n",
    "\n",
    "\n"
   ]
  },
  {
   "cell_type": "code",
   "execution_count": null,
   "metadata": {
    "pycharm": {
     "is_executing": false
    }
   },
   "outputs": [],
   "source": []
  },
  {
   "cell_type": "code",
   "execution_count": null,
   "metadata": {
    "pycharm": {
     "is_executing": false
    }
   },
   "outputs": [],
   "source": []
  },
  {
   "cell_type": "code",
   "execution_count": null,
   "metadata": {
    "pycharm": {
     "is_executing": false
    }
   },
   "outputs": [],
   "source": []
  },
  {
   "cell_type": "code",
   "execution_count": null,
   "metadata": {
    "pycharm": {
     "is_executing": false
    }
   },
   "outputs": [],
   "source": []
  },
  {
   "cell_type": "code",
   "execution_count": null,
   "metadata": {
    "pycharm": {
     "is_executing": false
    }
   },
   "outputs": [],
   "source": []
  },
  {
   "cell_type": "markdown",
   "metadata": {},
   "source": [
    "# Vector space Model and feature representation: (20%)\n",
    "Experiment with different representation techniques. Document your findings and make\n",
    "conclusions. Show how choosing n-gram features can influence your results"
   ]
  },
  {
   "cell_type": "markdown",
   "metadata": {},
   "source": [
    "### CountVictorizer "
   ]
  },
  {
   "cell_type": "code",
   "execution_count": 22,
   "metadata": {
    "pycharm": {
     "is_executing": false
    }
   },
   "outputs": [],
   "source": [
    "from sklearn.feature_extraction.text import CountVectorizer"
   ]
  },
  {
   "cell_type": "code",
   "execution_count": null,
   "metadata": {},
   "outputs": [],
   "source": [
    "df_countVec = df.copy()"
   ]
  },
  {
   "cell_type": "code",
   "execution_count": 23,
   "metadata": {},
   "outputs": [],
   "source": [
    "df_countVec = shuf_and_strat_df.head(5000)"
   ]
  },
  {
   "cell_type": "code",
   "execution_count": null,
   "metadata": {
    "pycharm": {
     "is_executing": false
    }
   },
   "outputs": [],
   "source": [
    "# Method1 df | CountVectorizer (defualt 'word' analyzer)\n",
    "\n",
    "# Fitting \n",
    "bow_m1 = CountVectorizer().fit(df['text'])\n",
    "#Transform \n",
    "df_small_bow_m1 = bow_m1.transform(df['text'])"
   ]
  },
  {
   "cell_type": "code",
   "execution_count": 24,
   "metadata": {},
   "outputs": [],
   "source": [
    "bow_m1 = CountVectorizer().fit(df_countVec['text'])\n",
    "df_small_bow_m1 = bow_m1.transform(df_countVec['text'])"
   ]
  },
  {
   "cell_type": "code",
   "execution_count": null,
   "metadata": {
    "pycharm": {
     "is_executing": false
    }
   },
   "outputs": [],
   "source": [
    "# Method2 df | CountVectorizer(our custom analyzer aka Tokenizer)\n",
    "\n",
    "# Fitting \n",
    "bow_m2 = CountVectorizer(analyzer=tokenizer).fit(df['text'])\n",
    "#Transform \n",
    "df_small_bow_m2 = bow_m2.transform(df['text'])"
   ]
  },
  {
   "cell_type": "code",
   "execution_count": 25,
   "metadata": {},
   "outputs": [],
   "source": [
    "bow_m2 = CountVectorizer(analyzer=tokenizer).fit(df_countVec['text'])\n",
    "df_small_bow_m2 = bow_m2.transform(df_countVec['text'])"
   ]
  },
  {
   "cell_type": "code",
   "execution_count": null,
   "metadata": {
    "pycharm": {
     "is_executing": false
    }
   },
   "outputs": [],
   "source": [
    "# Method3 df | CountVectorizer(char analyzer)\n",
    "\n",
    "# Fitting \n",
    "bow_m3 = CountVectorizer(analyzer='char').fit(df['text'])\n",
    "#Transform \n",
    "df_small_bow_m3 = bow_m3.transform(df['text'])"
   ]
  },
  {
   "cell_type": "code",
   "execution_count": 26,
   "metadata": {},
   "outputs": [],
   "source": [
    "# Fitting \n",
    "bow_m3 = CountVectorizer(analyzer='char').fit(df_countVec['text'])\n",
    "#Transform \n",
    "df_small_bow_m3 = bow_m3.transform(df_countVec['text'])"
   ]
  },
  {
   "cell_type": "code",
   "execution_count": null,
   "metadata": {
    "pycharm": {
     "is_executing": false
    }
   },
   "outputs": [],
   "source": [
    "# Method4 df | CountVectorizer(stop words )\n",
    "\n",
    "# Fitting \n",
    "bow_m4 = CountVectorizer(stop_words={'english'},analyzer= 'word',ngram_range=(1,2)).fit(df['text'])\n",
    "#Transform \n",
    "df_small_bow_m4 = bow_m4.transform(df['text'])"
   ]
  },
  {
   "cell_type": "code",
   "execution_count": 27,
   "metadata": {},
   "outputs": [],
   "source": [
    "bow_m4 = CountVectorizer(stop_words={'english'},analyzer= 'word',ngram_range=(1,2)).fit(df_countVec['text'])\n",
    "#Transform \n",
    "df_small_bow_m4 = bow_m4.transform(df_countVec['text'])"
   ]
  },
  {
   "cell_type": "code",
   "execution_count": 28,
   "metadata": {
    "pycharm": {
     "is_executing": false
    }
   },
   "outputs": [],
   "source": [
    "#findings and Results"
   ]
  },
  {
   "cell_type": "code",
   "execution_count": 29,
   "metadata": {
    "pycharm": {
     "is_executing": false
    }
   },
   "outputs": [
    {
     "name": "stdout",
     "output_type": "stream",
     "text": [
      "Method 1 CV\n",
      "Bag of words CV1 20716\n"
     ]
    }
   ],
   "source": [
    "print('Method 1 CV')\n",
    "print('Bag of words CV1',len(bow_m1.vocabulary_))\n"
   ]
  },
  {
   "cell_type": "code",
   "execution_count": 30,
   "metadata": {
    "pycharm": {
     "is_executing": false
    }
   },
   "outputs": [
    {
     "name": "stdout",
     "output_type": "stream",
     "text": [
      "Method 2 CV\n",
      "Bag of words CV2 73\n"
     ]
    }
   ],
   "source": [
    "print('Method 2 CV')\n",
    "print('Bag of words CV2',len(bow_m2.vocabulary_))"
   ]
  },
  {
   "cell_type": "code",
   "execution_count": 31,
   "metadata": {
    "pycharm": {
     "is_executing": false
    }
   },
   "outputs": [
    {
     "name": "stdout",
     "output_type": "stream",
     "text": [
      "Method 3 CV\n",
      "Bag of words CV3 47\n"
     ]
    }
   ],
   "source": [
    "print('Method 3 CV')\n",
    "print('Bag of words CV3',len(bow_m3.vocabulary_))"
   ]
  },
  {
   "cell_type": "code",
   "execution_count": 32,
   "metadata": {
    "pycharm": {
     "is_executing": false
    }
   },
   "outputs": [
    {
     "name": "stdout",
     "output_type": "stream",
     "text": [
      "Method 4 CV\n",
      "Bag of words CV4 189395\n"
     ]
    }
   ],
   "source": [
    "print('Method 4 CV')\n",
    "print('Bag of words CV4',len(bow_m4.vocabulary_))"
   ]
  },
  {
   "cell_type": "code",
   "execution_count": null,
   "metadata": {
    "pycharm": {
     "is_executing": false
    }
   },
   "outputs": [],
   "source": []
  },
  {
   "cell_type": "markdown",
   "metadata": {},
   "source": [
    "### TFIDF\n",
    "\n"
   ]
  },
  {
   "cell_type": "code",
   "execution_count": 33,
   "metadata": {
    "pycharm": {
     "is_executing": false
    }
   },
   "outputs": [],
   "source": [
    "from sklearn.feature_extraction.text import TfidfVectorizer"
   ]
  },
  {
   "cell_type": "code",
   "execution_count": null,
   "metadata": {},
   "outputs": [],
   "source": [
    "df_tfidfVec =  df.copy()"
   ]
  },
  {
   "cell_type": "code",
   "execution_count": 34,
   "metadata": {},
   "outputs": [],
   "source": [
    "df_tfidfVec = shuf_and_strat_df.head(5000)"
   ]
  },
  {
   "cell_type": "code",
   "execution_count": null,
   "metadata": {
    "pycharm": {
     "is_executing": false
    }
   },
   "outputs": [],
   "source": [
    "BOW_TFIDF1 = TfidfVectorizer(stop_words={'english'},ngram_range=(1,2))\n",
    "BOW_TFIDF1.fit(df['text'])\n",
    "#BOW_TFIDF1.fit_transform(df_small['text'])"
   ]
  },
  {
   "cell_type": "code",
   "execution_count": 35,
   "metadata": {},
   "outputs": [
    {
     "data": {
      "text/plain": [
       "TfidfVectorizer(analyzer='word', binary=False, decode_error='strict',\n",
       "                dtype=<class 'numpy.float64'>, encoding='utf-8',\n",
       "                input='content', lowercase=True, max_df=1.0, max_features=None,\n",
       "                min_df=1, ngram_range=(1, 2), norm='l2', preprocessor=None,\n",
       "                smooth_idf=True, stop_words={'english'}, strip_accents=None,\n",
       "                sublinear_tf=False, token_pattern='(?u)\\\\b\\\\w\\\\w+\\\\b',\n",
       "                tokenizer=None, use_idf=True, vocabulary=None)"
      ]
     },
     "execution_count": 35,
     "metadata": {},
     "output_type": "execute_result"
    }
   ],
   "source": [
    "BOW_TFIDF1 = TfidfVectorizer(stop_words={'english'},ngram_range=(1,2))\n",
    "BOW_TFIDF1.fit(df_tfidfVec['text'])"
   ]
  },
  {
   "cell_type": "code",
   "execution_count": null,
   "metadata": {
    "pycharm": {
     "is_executing": false
    }
   },
   "outputs": [],
   "source": [
    "BOW_TFIDF2 = TfidfVectorizer(analyzer=tokenizer,ngram_range=(1,2))\n",
    "BOW_TFIDF2.fit(df['text'])\n",
    "#BOW_TFIDF1.fit_transform(df_small['text'])"
   ]
  },
  {
   "cell_type": "code",
   "execution_count": 36,
   "metadata": {},
   "outputs": [
    {
     "data": {
      "text/plain": [
       "TfidfVectorizer(analyzer=<function tokenizer at 0x243F07C8>, binary=False,\n",
       "                decode_error='strict', dtype=<class 'numpy.float64'>,\n",
       "                encoding='utf-8', input='content', lowercase=True, max_df=1.0,\n",
       "                max_features=None, min_df=1, ngram_range=(1, 2), norm='l2',\n",
       "                preprocessor=None, smooth_idf=True, stop_words=None,\n",
       "                strip_accents=None, sublinear_tf=False,\n",
       "                token_pattern='(?u)\\\\b\\\\w\\\\w+\\\\b', tokenizer=None, use_idf=True,\n",
       "                vocabulary=None)"
      ]
     },
     "execution_count": 36,
     "metadata": {},
     "output_type": "execute_result"
    }
   ],
   "source": [
    "BOW_TFIDF2 = TfidfVectorizer(analyzer=tokenizer,ngram_range=(1,2))\n",
    "BOW_TFIDF2.fit(df_tfidfVec['text'])"
   ]
  },
  {
   "cell_type": "code",
   "execution_count": null,
   "metadata": {
    "pycharm": {
     "is_executing": false
    }
   },
   "outputs": [],
   "source": [
    "BOW_TFIDF3 = TfidfVectorizer(ngram_range=(1,2),min_df=2)\n",
    "BOW_TFIDF3.fit(df['text'])"
   ]
  },
  {
   "cell_type": "code",
   "execution_count": 37,
   "metadata": {
    "pycharm": {
     "is_executing": false
    }
   },
   "outputs": [
    {
     "data": {
      "text/plain": [
       "TfidfVectorizer(analyzer='word', binary=False, decode_error='strict',\n",
       "                dtype=<class 'numpy.float64'>, encoding='utf-8',\n",
       "                input='content', lowercase=True, max_df=1.0, max_features=None,\n",
       "                min_df=2, ngram_range=(1, 2), norm='l2', preprocessor=None,\n",
       "                smooth_idf=True, stop_words=None, strip_accents=None,\n",
       "                sublinear_tf=False, token_pattern='(?u)\\\\b\\\\w\\\\w+\\\\b',\n",
       "                tokenizer=None, use_idf=True, vocabulary=None)"
      ]
     },
     "execution_count": 37,
     "metadata": {},
     "output_type": "execute_result"
    }
   ],
   "source": [
    "BOW_TFIDF3 = TfidfVectorizer(ngram_range=(1,2),min_df=2)\n",
    "BOW_TFIDF3.fit(df_tfidfVec['text'])\n",
    "#BOW_TFIDF1.fit_transform(df_small['text'])"
   ]
  },
  {
   "cell_type": "code",
   "execution_count": 38,
   "metadata": {
    "pycharm": {
     "is_executing": false
    }
   },
   "outputs": [
    {
     "name": "stdout",
     "output_type": "stream",
     "text": [
      "Method 1 TFIDF\n",
      "Bag of words TFIDF1 189395\n"
     ]
    }
   ],
   "source": [
    "print('Method 1 TFIDF')\n",
    "print('Bag of words TFIDF1',len(BOW_TFIDF1.vocabulary_))"
   ]
  },
  {
   "cell_type": "code",
   "execution_count": 39,
   "metadata": {
    "pycharm": {
     "is_executing": false
    }
   },
   "outputs": [
    {
     "name": "stdout",
     "output_type": "stream",
     "text": [
      "Method 2 TFIDF\n",
      "Bag of words TFIDF2 73\n"
     ]
    }
   ],
   "source": [
    "print('Method 2 TFIDF')\n",
    "print('Bag of words TFIDF2',len(BOW_TFIDF2.vocabulary_))"
   ]
  },
  {
   "cell_type": "code",
   "execution_count": 40,
   "metadata": {
    "pycharm": {
     "is_executing": false
    }
   },
   "outputs": [
    {
     "name": "stdout",
     "output_type": "stream",
     "text": [
      "Method 3 TFIDF\n",
      "Bag of words TFIDF3 50775\n"
     ]
    }
   ],
   "source": [
    "print('Method 3 TFIDF')\n",
    "print('Bag of words TFIDF3',len(BOW_TFIDF3.vocabulary_))"
   ]
  },
  {
   "cell_type": "code",
   "execution_count": null,
   "metadata": {
    "pycharm": {
     "is_executing": false
    }
   },
   "outputs": [],
   "source": []
  },
  {
   "cell_type": "code",
   "execution_count": null,
   "metadata": {
    "pycharm": {
     "is_executing": false
    }
   },
   "outputs": [],
   "source": []
  },
  {
   "cell_type": "markdown",
   "metadata": {},
   "source": [
    "# Model training, selection and hyperparameter tuning and evaluation:(20%)\n",
    "You should at least experiment with 3 models and show how you can optimize model\n",
    "parameters using cross validation. For each model discuss your choices of text processing,\n",
    "representation and features from steps 1-3."
   ]
  },
  {
   "cell_type": "markdown",
   "metadata": {},
   "source": [
    "### Logistic Regression"
   ]
  },
  {
   "cell_type": "code",
   "execution_count": 41,
   "metadata": {
    "pycharm": {
     "is_executing": false
    }
   },
   "outputs": [],
   "source": [
    "from sklearn.model_selection import cross_val_score\n",
    "from sklearn.linear_model import LogisticRegression"
   ]
  },
  {
   "cell_type": "code",
   "execution_count": 42,
   "metadata": {
    "pycharm": {
     "is_executing": false
    }
   },
   "outputs": [
    {
     "data": {
      "text/html": [
       "<div>\n",
       "<style scoped>\n",
       "    .dataframe tbody tr th:only-of-type {\n",
       "        vertical-align: middle;\n",
       "    }\n",
       "\n",
       "    .dataframe tbody tr th {\n",
       "        vertical-align: top;\n",
       "    }\n",
       "\n",
       "    .dataframe thead th {\n",
       "        text-align: right;\n",
       "    }\n",
       "</style>\n",
       "<table border=\"1\" class=\"dataframe\">\n",
       "  <thead>\n",
       "    <tr style=\"text-align: right;\">\n",
       "      <th></th>\n",
       "      <th>Score</th>\n",
       "      <th>text</th>\n",
       "      <th>length</th>\n",
       "    </tr>\n",
       "  </thead>\n",
       "  <tbody>\n",
       "    <tr>\n",
       "      <td>(2, Disappointed I ordered this unsweetened coconut to use in a homemade trail mix.  I love fresh coconut, but not the work involved, so I thought this would be the next-to-best thing.  The coconut is almost tasteless.  I now have 3 1/2 bags left that I will probably never use.  Anyone want to buy 3 unopened bags of tasteless coconut?, 332)</td>\n",
       "      <td>2</td>\n",
       "      <td>Disappointed I ordered this unsweetened coconu...</td>\n",
       "      <td>332</td>\n",
       "    </tr>\n",
       "    <tr>\n",
       "      <td>(2, premium edge cat food My cats don't like it. what else can I say to reach 20 words.  It was an expensive mistake.  My older cat likes the premium edge food for older cats, but she may just be eating it because that is what she gets., 232)</td>\n",
       "      <td>2</td>\n",
       "      <td>premium edge cat food My cats dont like it wha...</td>\n",
       "      <td>232</td>\n",
       "    </tr>\n",
       "    <tr>\n",
       "      <td>(5, These are great I love fig cookies, but the big name brand uses partially hydrogenated oil and I won't purchase products that have that as an ingredient so I have been buying Fig Newmans for quite a few years now.&lt;br /&gt;These are my favorite, the wheat free and fat free versions just aren't as good.  My local store charges $3.99 per package so Amazon was a better deal, I didn't really need 6 packages of them, but I am sure my kids will eat them.  I left an open package on the kitchen counter and the next time I walked by my kids had eaten them all, they really love them too., 580)</td>\n",
       "      <td>5</td>\n",
       "      <td>These are great I love fig cookies but the big...</td>\n",
       "      <td>580</td>\n",
       "    </tr>\n",
       "    <tr>\n",
       "      <td>(1, DON'T BUY, SMELLS TERRIBLE DON'T BUY, IT SMELLS TERRIBLE, NOT EDIBLE. I'M SO REGRET. I THREW IT INTO TRASHCAN.&lt;br /&gt;&lt;br /&gt;THIS SHOULD BE NEGATIVE FIVE STAR., 156)</td>\n",
       "      <td>1</td>\n",
       "      <td>DONT BUY SMELLS TERRIBLE DONT BUY IT SMELLS TE...</td>\n",
       "      <td>156</td>\n",
       "    </tr>\n",
       "    <tr>\n",
       "      <td>(4, Question about this product I was delighted to find a Science Diet product that was Adult, Light, and Small Bite all at the same time. I have two dachshunds and want to feed them a lower calorie kibble in small bites, and this seemed perfect. But unlike the regular bite Science Diet adult, which is clearly marked \"Light,\" there is nothing on this Small Bite package that indicates that this is the reduced calorie, \"light\" adult small bite kibble for dogs. Is there some mistake in the advertisement of this product. I ask because I would like to switch to a Science Diet Adult Light Small Bite kibble for my aging dogs (they turned 8 this summer) but it's not clear that this product is it.&lt;br /&gt;&lt;br /&gt;I should mention that I've been very happy with Science Diet, which has kept my dogs in nearly perfect health for all this time., 833)</td>\n",
       "      <td>4</td>\n",
       "      <td>Question about this product I was delighted to...</td>\n",
       "      <td>833</td>\n",
       "    </tr>\n",
       "    <tr>\n",
       "      <td>(2, Nothing but crumbs!! Do not order these online.  They are shipped in the flimsy box that the grocery stores use.  No additional packaging is used to protect the inside.  My box was crushed on three corners, adding to the already crushed chips.  I wound up feeding them to the birds., 282)</td>\n",
       "      <td>2</td>\n",
       "      <td>Nothing but crumbs Do not order these online  ...</td>\n",
       "      <td>282</td>\n",
       "    </tr>\n",
       "    <tr>\n",
       "      <td>(5, Good Ginger Ale Very strong Ginger flavor, mild carbonation, I like that. You must like Ginger Ale to like this. The small bottles are about the right size, as their is more flavor in 7 Ounce bottle then anyone else has in 12., 226)</td>\n",
       "      <td>5</td>\n",
       "      <td>Good Ginger Ale Very strong Ginger flavor mild...</td>\n",
       "      <td>226</td>\n",
       "    </tr>\n",
       "    <tr>\n",
       "      <td>(4, dry dog food-low fat This seems to be working for my 2 dogs - They are up in age and getting overweight - They go for this dry food without hesitation -Try it!!, 160)</td>\n",
       "      <td>4</td>\n",
       "      <td>dry dog foodlow fat This seems to be working f...</td>\n",
       "      <td>160</td>\n",
       "    </tr>\n",
       "    <tr>\n",
       "      <td>(1, All 12 cans dented! Love this product/long-time buyer of it; this is my first problem with it ever I use coconut milk daily and this is the only coconut milk I buy because I appreciate that Native Forest uses BPA-free cans and is organic.&lt;br /&gt;I've been buying this from Amazon for over a year--I used to buy it on subscription before they canceled subscription availability.&lt;br /&gt;&lt;br /&gt;Up till now there has never been a problem with my orders. But yesterday I received my latest 12 pack and EVERY single can in it is dented. Four had very minor dents near the top, but eight cans had large noticeable dents.&lt;br /&gt;&lt;br /&gt;While I imagine that the product inside is probably fine, I am very concerned about this lapse in quality control in the manufacturing and/or distibution process. Dents can weaken the metal and introduce tiny cracks that allow contamination of the product.&lt;br /&gt;&lt;br /&gt;I notice a lot of very recent comments on Amazon stating that others are receiving dented cans as well. I hope Amazon and/or Native Forest will address this.&lt;br /&gt;&lt;br /&gt;I am not sure if it's a distribution problem--if the cans are being damaged in shipping (they came double boxed from Amazon, so perhaps damage occurs further upstream in the shipping line), or if Amazon is only managing to source damaged cans in the first place, or ...?&lt;br /&gt;&lt;br /&gt;I want to offer full stars for the product, which I like and truly rely on, but I'm offering a low rating because of the packaging., 1471)</td>\n",
       "      <td>1</td>\n",
       "      <td>All 12 cans dented Love this productlongtime b...</td>\n",
       "      <td>1471</td>\n",
       "    </tr>\n",
       "    <tr>\n",
       "      <td>(3, Jamaca me flavorful Bought this on the recommendation of my son.  Not a big fan of flavored coffee, but a cup a day of this lightly flavored coconut coffee puts me in the islands.  How can you go wrong with Wolfgang Puck?, 221)</td>\n",
       "      <td>3</td>\n",
       "      <td>Jamaca me flavorful Bought this on the recomme...</td>\n",
       "      <td>221</td>\n",
       "    </tr>\n",
       "  </tbody>\n",
       "</table>\n",
       "</div>"
      ],
      "text/plain": [
       "                                                    Score  \\\n",
       "(2, Disappointed I ordered this unsweetened coc...      2   \n",
       "(2, premium edge cat food My cats don't like it...      2   \n",
       "(5, These are great I love fig cookies, but the...      5   \n",
       "(1, DON'T BUY, SMELLS TERRIBLE DON'T BUY, IT SM...      1   \n",
       "(4, Question about this product I was delighted...      4   \n",
       "(2, Nothing but crumbs!! Do not order these onl...      2   \n",
       "(5, Good Ginger Ale Very strong Ginger flavor, ...      5   \n",
       "(4, dry dog food-low fat This seems to be worki...      4   \n",
       "(1, All 12 cans dented! Love this product/long-...      1   \n",
       "(3, Jamaca me flavorful Bought this on the reco...      3   \n",
       "\n",
       "                                                                                                 text  \\\n",
       "(2, Disappointed I ordered this unsweetened coc...  Disappointed I ordered this unsweetened coconu...   \n",
       "(2, premium edge cat food My cats don't like it...  premium edge cat food My cats dont like it wha...   \n",
       "(5, These are great I love fig cookies, but the...  These are great I love fig cookies but the big...   \n",
       "(1, DON'T BUY, SMELLS TERRIBLE DON'T BUY, IT SM...  DONT BUY SMELLS TERRIBLE DONT BUY IT SMELLS TE...   \n",
       "(4, Question about this product I was delighted...  Question about this product I was delighted to...   \n",
       "(2, Nothing but crumbs!! Do not order these onl...  Nothing but crumbs Do not order these online  ...   \n",
       "(5, Good Ginger Ale Very strong Ginger flavor, ...  Good Ginger Ale Very strong Ginger flavor mild...   \n",
       "(4, dry dog food-low fat This seems to be worki...  dry dog foodlow fat This seems to be working f...   \n",
       "(1, All 12 cans dented! Love this product/long-...  All 12 cans dented Love this productlongtime b...   \n",
       "(3, Jamaca me flavorful Bought this on the reco...  Jamaca me flavorful Bought this on the recomme...   \n",
       "\n",
       "                                                    length  \n",
       "(2, Disappointed I ordered this unsweetened coc...     332  \n",
       "(2, premium edge cat food My cats don't like it...     232  \n",
       "(5, These are great I love fig cookies, but the...     580  \n",
       "(1, DON'T BUY, SMELLS TERRIBLE DON'T BUY, IT SM...     156  \n",
       "(4, Question about this product I was delighted...     833  \n",
       "(2, Nothing but crumbs!! Do not order these onl...     282  \n",
       "(5, Good Ginger Ale Very strong Ginger flavor, ...     226  \n",
       "(4, dry dog food-low fat This seems to be worki...     160  \n",
       "(1, All 12 cans dented! Love this product/long-...    1471  \n",
       "(3, Jamaca me flavorful Bought this on the reco...     221  "
      ]
     },
     "execution_count": 42,
     "metadata": {},
     "output_type": "execute_result"
    }
   ],
   "source": [
    "df_tfidfVec.head(10)"
   ]
  },
  {
   "cell_type": "code",
   "execution_count": 58,
   "metadata": {},
   "outputs": [
    {
     "name": "stdout",
     "output_type": "stream",
     "text": [
      "  (0, 61)\t0.03362770603882661\n",
      "  (0, 60)\t0.039169067302910775\n",
      "  (0, 59)\t0.06945800362097651\n",
      "  (0, 58)\t0.05931484817027953\n",
      "  (0, 57)\t0.13269385100527412\n",
      "  (0, 56)\t0.32856572485759106\n",
      "  (0, 55)\t0.20834143760461626\n",
      "  (0, 54)\t0.07675737174906916\n",
      "  (0, 52)\t0.046305335747317676\n",
      "  (0, 51)\t0.2960049525040085\n",
      "  (0, 50)\t0.20834143760461626\n",
      "  (0, 49)\t0.045287700043537264\n",
      "  (0, 48)\t0.12105365903416243\n",
      "  (0, 47)\t0.012267949775834551\n",
      "  (0, 45)\t0.12049819167268694\n",
      "  (0, 44)\t0.13171569111788686\n",
      "  (0, 43)\t0.045287700043537264\n",
      "  (0, 42)\t0.03370178232557688\n",
      "  (0, 41)\t0.33951791568617745\n",
      "  (0, 40)\t0.08809185536279757\n",
      "  (0, 39)\t0.08915523596966997\n",
      "  (0, 38)\t0.0920190439648163\n",
      "  (0, 37)\t0.14243543253297034\n",
      "  (0, 30)\t0.014542323212478976\n",
      "  (0, 19)\t0.0619359327211519\n",
      "  :\t:\n",
      "  (4999, 54)\t0.12061213511187639\n",
      "  (4999, 52)\t0.0885792793578883\n",
      "  (4999, 51)\t0.22544716721854965\n",
      "  (4999, 50)\t0.15732017623288225\n",
      "  (4999, 49)\t0.10287621773080055\n",
      "  (4999, 48)\t0.09999538363064579\n",
      "  (4999, 47)\t0.08213743545565352\n",
      "  (4999, 45)\t0.18335679225298854\n",
      "  (4999, 44)\t0.08923727587575049\n",
      "  (4999, 43)\t0.043316302202442335\n",
      "  (4999, 42)\t0.08595926850320396\n",
      "  (4999, 41)\t0.3352139550500769\n",
      "  (4999, 40)\t0.10532146214094704\n",
      "  (4999, 39)\t0.07994461949270318\n",
      "  (4999, 38)\t0.016502513567127283\n",
      "  (4999, 37)\t0.24627121797726528\n",
      "  (4999, 31)\t0.015650674292775557\n",
      "  (4999, 30)\t0.013909288093494681\n",
      "  (4999, 29)\t0.00972696806231001\n",
      "  (4999, 26)\t0.05047405644195829\n",
      "  (4999, 19)\t0.05923982839403221\n",
      "  (4999, 17)\t0.011813856261952036\n",
      "  (4999, 13)\t0.04476662980037153\n",
      "  (4999, 12)\t0.021503911219347013\n",
      "  (4999, 0)\t0.7203522113727631\n"
     ]
    }
   ],
   "source": [
    "X_train = BOW_TFIDF2.transform(df_tfidfVec['text'])\n",
    "print(X_train)"
   ]
  },
  {
   "cell_type": "code",
   "execution_count": 59,
   "metadata": {},
   "outputs": [
    {
     "name": "stdout",
     "output_type": "stream",
     "text": [
      "(2, Disappointed I ordered this unsweetened coconut to use in a homemade trail mix.  I love fresh coconut, but not the work involved, so I thought this would be the next-to-best thing.  The coconut is almost tasteless.  I now have 3 1/2 bags left that I will probably never use.  Anyone want to buy 3 unopened bags of tasteless coconut?, 332)                                                                                                                                                                                                                                                                                                                                                                                                                                                                                                                         2\n",
      "(2, premium edge cat food My cats don't like it. what else can I say to reach 20 words.  It was an expensive mistake.  My older cat likes the premium edge food for older cats, but she may just be eating it because that is what she gets., 232)                                                                                                                                                                                                                                                                                                                                                                                                                                                                                                                                                                                                                             2\n",
      "(5, These are great I love fig cookies, but the big name brand uses partially hydrogenated oil and I won't purchase products that have that as an ingredient so I have been buying Fig Newmans for quite a few years now.<br />These are my favorite, the wheat free and fat free versions just aren't as good.  My local store charges $3.99 per package so Amazon was a better deal, I didn't really need 6 packages of them, but I am sure my kids will eat them.  I left an open package on the kitchen counter and the next time I walked by my kids had eaten them all, they really love them too., 580)                                                                                                                                                                                                                                                                 5\n",
      "(1, DON'T BUY, SMELLS TERRIBLE DON'T BUY, IT SMELLS TERRIBLE, NOT EDIBLE. I'M SO REGRET. I THREW IT INTO TRASHCAN.<br /><br />THIS SHOULD BE NEGATIVE FIVE STAR., 156)                                                                                                                                                                                                                                                                                                                                                                                                                                                                                                                                                                                                                                                                                                         1\n",
      "(4, Question about this product I was delighted to find a Science Diet product that was Adult, Light, and Small Bite all at the same time. I have two dachshunds and want to feed them a lower calorie kibble in small bites, and this seemed perfect. But unlike the regular bite Science Diet adult, which is clearly marked \"Light,\" there is nothing on this Small Bite package that indicates that this is the reduced calorie, \"light\" adult small bite kibble for dogs. Is there some mistake in the advertisement of this product. I ask because I would like to switch to a Science Diet Adult Light Small Bite kibble for my aging dogs (they turned 8 this summer) but it's not clear that this product is it.<br /><br />I should mention that I've been very happy with Science Diet, which has kept my dogs in nearly perfect health for all this time., 833)    4\n",
      "                                                                                                                                                                                                                                                                                                                                                                                                                                                                                                                                                                                                                                                                                                                                                                                                                                                                              ..\n",
      "(1, Disgusting I can't even GIVE these things away.  The best description I can come up with is \"Sawdust surrounded by wax.\"  Does not taste like white chocolate (or ANY type of chocolate) in the least.  I've yet to know anyone who can actually swallow a bite of one of these.  I have a \"HELP YOURSELF\" sticky note on the box at the office and everyone who has tried it, has SPIT IT OUT and tossed it in the trash.  Save your money., 428)                                                                                                                                                                                                                                                                                                                                                                                                                         1\n",
      "(3, cookie crumbs These cookies taste good but were in pieces so it was just eating coookie crumbs not a whole cookie., 114)                                                                                                                                                                                                                                                                                                                                                                                                                                                                                                                                                                                                                                                                                                                                                   3\n",
      "(2, Not the greatest I was hoping I would be a fan, but I had a hard time getting it down.  It just wasn't what I expected.  The chocolate taste was a little too powdered cocoa tasting and bitter., 192)                                                                                                                                                                                                                                                                                                                                                                                                                                                                                                                                                                                                                                                                     2\n",
      "(3, Some were really good, most were just OK. Given the price, these should have been really flavorful. A few were, but most were very average. They are better than what is available at a grocery store., 198)                                                                                                                                                                                                                                                                                                                                                                                                                                                                                                                                                                                                                                                               3\n",
      "(3, Bummer, taste like Coca Cola This is 'my' opinion of this product.  I'm going off of what 'my' taste buds is telling me.  I won a Sodastream soda maker off of eBay and was excited.  Give me corn syrup and corn fructose.  I never liked that fake sweetener taste like aspartame and sucralose.  Those are some of the most unpleasant tasting sweeteners I've ever had.  I'm a huge Pepsi drinker and the price of Pepsi keeps skyrocketing so I decided I can make my own pop at home.  I wanted something that taste like Pepsi.  Until I can afford to buy Pepsi syrup this natural cola mix will have to do.  If anybody is looking to make their own pop and like the Coca Cola taste this will suffice you., 693)                                                                                                                                                3\n",
      "Name: Score, Length: 5000, dtype: int64\n"
     ]
    }
   ],
   "source": [
    "Y_train = df_tfidfVec['Score']\n",
    "print(Y_train)"
   ]
  },
  {
   "cell_type": "code",
   "execution_count": 60,
   "metadata": {},
   "outputs": [
    {
     "name": "stderr",
     "output_type": "stream",
     "text": [
      "c:\\users\\user\\appdata\\local\\programs\\python\\python37-32\\lib\\site-packages\\sklearn\\linear_model\\logistic.py:432: FutureWarning: Default solver will be changed to 'lbfgs' in 0.22. Specify a solver to silence this warning.\n",
      "  FutureWarning)\n",
      "c:\\users\\user\\appdata\\local\\programs\\python\\python37-32\\lib\\site-packages\\sklearn\\linear_model\\logistic.py:469: FutureWarning: Default multi_class will be changed to 'auto' in 0.22. Specify the multi_class option to silence this warning.\n",
      "  \"this warning.\", FutureWarning)\n"
     ]
    },
    {
     "name": "stdout",
     "output_type": "stream",
     "text": [
      "Mean cross-validation accuracy: 0.30\n"
     ]
    }
   ],
   "source": [
    "scores = cross_val_score(LogisticRegression(), X_train, Y_train, cv=10)\n",
    "print(\"Mean cross-validation accuracy: {:.2f}\".format(np.mean(scores)))"
   ]
  },
  {
   "cell_type": "code",
   "execution_count": 61,
   "metadata": {},
   "outputs": [
    {
     "name": "stderr",
     "output_type": "stream",
     "text": [
      "c:\\users\\user\\appdata\\local\\programs\\python\\python37-32\\lib\\site-packages\\sklearn\\linear_model\\logistic.py:432: FutureWarning: Default solver will be changed to 'lbfgs' in 0.22. Specify a solver to silence this warning.\n",
      "  FutureWarning)\n",
      "c:\\users\\user\\appdata\\local\\programs\\python\\python37-32\\lib\\site-packages\\sklearn\\linear_model\\logistic.py:469: FutureWarning: Default multi_class will be changed to 'auto' in 0.22. Specify the multi_class option to silence this warning.\n",
      "  \"this warning.\", FutureWarning)\n"
     ]
    },
    {
     "name": "stdout",
     "output_type": "stream",
     "text": [
      "Best cross-validation score: 0.31\n",
      "Best parameters:  {'C': 10}\n"
     ]
    }
   ],
   "source": [
    "from sklearn.model_selection import GridSearchCV\n",
    "param_grid = {'C': [0.001, 0.01, 0.1, 1, 10]}\n",
    "grid = GridSearchCV(LogisticRegression(), param_grid, cv=10)\n",
    "grid.fit(X_train, Y_train)\n",
    "\n",
    "print(\"Best cross-validation score: {:.2f}\".format(grid.best_score_))\n",
    "print(\"Best parameters: \", grid.best_params_)"
   ]
  },
  {
   "cell_type": "code",
   "execution_count": null,
   "metadata": {},
   "outputs": [],
   "source": []
  }
 ],
 "metadata": {
  "kernelspec": {
   "display_name": "Python 3",
   "language": "python",
   "name": "python3"
  },
  "language_info": {
   "codemirror_mode": {
    "name": "ipython",
    "version": 3
   },
   "file_extension": ".py",
   "mimetype": "text/x-python",
   "name": "python",
   "nbconvert_exporter": "python",
   "pygments_lexer": "ipython3",
   "version": "3.7.4"
  },
  "pycharm": {
   "stem_cell": {
    "cell_type": "raw",
    "metadata": {
     "collapsed": false
    },
    "source": []
   }
  }
 },
 "nbformat": 4,
 "nbformat_minor": 2
}
