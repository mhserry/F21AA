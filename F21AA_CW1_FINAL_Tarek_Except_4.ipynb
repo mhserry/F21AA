{
 "cells": [
  {
   "cell_type": "code",
   "execution_count": 333,
   "metadata": {},
   "outputs": [],
   "source": [
    "import pandas as pd\n",
    "import numpy as np\n",
    "import matplotlib.pyplot as plt\n",
    "import seaborn as sns\n",
    "from bs4 import BeautifulSoup\n",
    "import seaborn as sb\n",
    "import nltk\n",
    "import string\n",
    "from nltk.tokenize import word_tokenize\n",
    "from nltk.stem import WordNetLemmatizer\n",
    "from nltk.stem import PorterStemmer\n",
    "from numba import vectorize\n",
    "import unidecode\n",
    "from nltk.corpus import stopwords\n",
    "import time\n",
    "import spacy\n",
    "import re\n",
    "from sklearn.pipeline import Pipeline\n",
    "from sklearn.naive_bayes import MultinomialNB\n",
    "from sklearn.feature_extraction.text import CountVectorizer\n",
    "from sklearn.feature_extraction.text import TfidfVectorizer\n",
    "from sklearn.feature_extraction.text import TfidfTransformer\n",
    "from sklearn.linear_model import LogisticRegression\n",
    "from sklearn.linear_model import SGDClassifier\n",
    "from sklearn.metrics import accuracy_score\n",
    "from sklearn.metrics import classification_report\n",
    "from sklearn.model_selection import train_test_split\n",
    "from sklearn.model_selection import GridSearchCV\n",
    "from sklearn.preprocessing import Normalizer\n",
    "\n",
    "from sklearn.decomposition import NMF, LatentDirichletAllocation, TruncatedSVD\n",
    "\n",
    "from sklearn.decomposition import LatentDirichletAllocation\n",
    "\n",
    "import mglearn as mglearn\n",
    "\n",
    "%matplotlib inline\n",
    "\n",
    "import string,lxml,bs4,nltk\n",
    "from warnings import simplefilter"
   ]
  },
  {
   "cell_type": "markdown",
   "metadata": {},
   "source": [
    "# 0- Functions & Definitions"
   ]
  },
  {
   "cell_type": "markdown",
   "metadata": {},
   "source": [
    "#### Variables"
   ]
  },
  {
   "cell_type": "code",
   "execution_count": 103,
   "metadata": {},
   "outputs": [],
   "source": [
    "contractions = {\n",
    "\"ain't\": \"are not\",\n",
    "\"aren't\": \"am not\",\n",
    "\"can't\": \"can not\",\n",
    "\"can't've\": \"can not have\",\n",
    "\"'cause\": \"because\",\n",
    "\"could've\": \"could have\",\n",
    "\"couldn't\": \"could not\",\n",
    "\"couldn't've\": \"could not have\",\n",
    "\"didn't\": \"did not\",\n",
    "\"doesn't\": \"does not\",\n",
    "\"don't\": \"do not\",\n",
    "\"hadn't\": \"had not\",\n",
    "\"hadn't've\": \"had not have\",\n",
    "\"hasn't\": \"has not\",\n",
    "\"haven't\": \"have not\",\n",
    "\"he'd\": \"he would\",\n",
    "\"he'd've\": \"he would have\",\n",
    "\"he'll\": \"he will\",\n",
    "\"he'll've\": \"he will have\",\n",
    "\"he's\": \"he is\",\n",
    "\"how'd\": \"how did\",\n",
    "\"how'd'y\": \"how do you\",\n",
    "\"how'll\": \"how will\",\n",
    "\"how's\": \"how is\",\n",
    "\"i'd\": \"I had\",\n",
    "\"i'd've\": \"I would have\",\n",
    "\"i'll\": \"I will\",\n",
    "\"i'll've\": \"I will have\",\n",
    "\"i'm\": \"I am\",\n",
    "\"i've\": \"I have\",\n",
    "\"isn't\": \"is not\",\n",
    "\"it'd\": \"it would\",\n",
    "\"it'd've\": \"it would have\",\n",
    "\"it'll\": \"it will\",\n",
    "\"it'll've\": \"it will have\",\n",
    "\"it's\": \"it is\",\n",
    "\"let's\": \"let us\",\n",
    "\"ma'am\": \"madam\",\n",
    "\"mayn't\": \"may not\",\n",
    "\"might've\": \"might have\",\n",
    "\"mightn't\": \"might not\",\n",
    "\"mightn't've\": \"might not have\",\n",
    "\"must've\": \"must have\",\n",
    "\"mustn't\": \"must not\",\n",
    "\"mustn't've\": \"must not have\",\n",
    "\"needn't\": \"need not\",\n",
    "\"needn't've\": \"need not have\",\n",
    "\"o'clock\": \"of the clock\",\n",
    "\"oughtn't\": \"ought not\",\n",
    "\"oughtn't've\": \"ought not have\",\n",
    "\"shan't\": \"shall not\",\n",
    "\"sha'n't\": \"shall not\",\n",
    "\"shan't've\": \"shall not have\",\n",
    "\"she'd\": \"she had\",\n",
    "\"she'd've\": \"she would have\",\n",
    "\"she'll\": \"she will\",\n",
    "\"she'll've\": \"she will have\",\n",
    "\"she's\": \"she is\",\n",
    "\"should've\": \"should have\",\n",
    "\"shouldn't\": \"should not\",\n",
    "\"shouldn't've\": \"should not have\",\n",
    "\"so've\": \"so have\",\n",
    "\"so's\": \"so is\",\n",
    "\"that'd\": \"that had\",\n",
    "\"that'd've\": \"that would have\",\n",
    "\"that's\": \"that is\",\n",
    "\"there'd\": \"there would\",\n",
    "\"there'd've\": \"there would have\",\n",
    "\"there's\": \"there is\",\n",
    "\"they'd\": \"they had\",\n",
    "\"they'd've\": \"they would have\",\n",
    "\"they'll\": \"they will\",\n",
    "\"they'll've\": \"they will have\",\n",
    "\"they're\": \"they are\",\n",
    "\"they've\": \"they have\",\n",
    "\"to've\": \"to have\",\n",
    "\"wasn't\": \"was not\",\n",
    "\"we'd\": \"we had\",\n",
    "\"we'd've\": \"we would have\",\n",
    "\"we'll\": \"we will\",\n",
    "\"we'll've\": \"we will have\",\n",
    "\"we're\": \"we are\",\n",
    "\"we've\": \"we have\",\n",
    "\"weren't\": \"were not\",\n",
    "\"what'll\": \"what will\",\n",
    "\"what'll've\": \"what will have\",\n",
    "\"what're\": \"what are\",\n",
    "\"what's\": \"what is\",\n",
    "\"what've\": \"what have\",\n",
    "\"when's\": \"when is\",\n",
    "\"when've\": \"when have\",\n",
    "\"where'd\": \"where did\",\n",
    "\"where's\": \"where is\",\n",
    "\"where've\": \"where have\",\n",
    "\"who'll\": \"who will\",\n",
    "\"who'll've\": \"who will have\",\n",
    "\"who's\": \"who is\",\n",
    "\"who've\": \"who have\",\n",
    "\"why's\": \"why is\",\n",
    "\"why've\": \"why have\",\n",
    "\"will've\": \"will have\",\n",
    "\"won't\": \"will not\",\n",
    "\"won't've\": \"will not have\",\n",
    "\"would've\": \"would have\",\n",
    "\"wouldn't\": \"would not\",\n",
    "\"wouldn't've\": \"would not have\",\n",
    "\"y'all\": \"you all\",\n",
    "\"y'all'd\": \"you all would\",\n",
    "\"y'all'd've\": \"you all would have\",\n",
    "\"y'all're\": \"you all are\",\n",
    "\"y'all've\": \"you all have\",\n",
    "\"you'd\": \"you had\",\n",
    "\"you'd've\": \"you would have\",\n",
    "\"you'll\": \"you will\",\n",
    "\"you'll've\": \"you will have\",\n",
    "\"you're\": \"you are\",\n",
    "\"you've\": \"you have\"\n",
    "}"
   ]
  },
  {
   "cell_type": "markdown",
   "metadata": {},
   "source": [
    "#### Function: to load file"
   ]
  },
  {
   "cell_type": "code",
   "execution_count": 104,
   "metadata": {},
   "outputs": [],
   "source": [
    "#This function will load file and return it as Data Frame and also return list of column names\n",
    "def loadFile(fileName):\n",
    "    #reading the temp file to a dataframe with the new headers    \n",
    "    print('Loading File...',end='')\n",
    "    result = pd.read_csv(fileName)\n",
    "    print('[ok]')\n",
    "    print('Loaded {:,} reviews' .format(len(result)))    \n",
    "    print('Column Names: ', result.columns.tolist())\n",
    "    return result, result.columns.tolist()"
   ]
  },
  {
   "cell_type": "markdown",
   "metadata": {},
   "source": [
    "#### Function: to drop unused columns"
   ]
  },
  {
   "cell_type": "code",
   "execution_count": 105,
   "metadata": {},
   "outputs": [],
   "source": [
    "#This fuction will return modified dataframe with selected columns only\n",
    "def neededColumnsOnly(df, columns_needed):\n",
    "    #return df.filter(columns_needed) \n",
    "    #Or\n",
    "    to_drop_columns = list(x for x in df.columns.tolist() if x not in columns_needed)\n",
    "    df.drop(to_drop_columns,axis=1,inplace=True)\n",
    "    return df"
   ]
  },
  {
   "cell_type": "markdown",
   "metadata": {},
   "source": [
    "#### Function: to find columns containing nulls"
   ]
  },
  {
   "cell_type": "code",
   "execution_count": 106,
   "metadata": {},
   "outputs": [],
   "source": [
    "#This fuction will check which columns having null values\n",
    "def columns_with_nulls(df, index_column):\n",
    "    null_columns = []\n",
    "    for column in df.columns:\n",
    "        if column != index_column:\n",
    "            check_null = df.isnull()[[column,index_column]].groupby(column).agg('count')\n",
    "            try:\n",
    "                if check_null.loc[True][0] > 0:\n",
    "                    null_columns.append(column)\n",
    "            except:\n",
    "                pass\n",
    "    return null_columns"
   ]
  },
  {
   "cell_type": "markdown",
   "metadata": {},
   "source": [
    "#### Function: to remove all null values from columns"
   ]
  },
  {
   "cell_type": "code",
   "execution_count": 107,
   "metadata": {},
   "outputs": [],
   "source": [
    "#This fuction will remove all nulls in columns found earlier\n",
    "def remove_nulls(df, columns):\n",
    "    for column in columns:\n",
    "        df[column].fillna('', inplace=True)\n",
    "    return df"
   ]
  },
  {
   "cell_type": "markdown",
   "metadata": {},
   "source": [
    "#### Function: to find columns containing html tags"
   ]
  },
  {
   "cell_type": "code",
   "execution_count": 108,
   "metadata": {},
   "outputs": [],
   "source": [
    "#This fuction will check which columns having html tags\n",
    "def columns_with_html(df):\n",
    "    null_columns = []\n",
    "    for column in df.columns:\n",
    "        try:\n",
    "            text_html = df[column].str.find('<')\n",
    "            text_html = text_html[text_html != -1]\n",
    "            check_null = len(text_html)\n",
    "            if check_null > 0:\n",
    "                null_columns.append(column)\n",
    "        except:\n",
    "            pass\n",
    "    return null_columns"
   ]
  },
  {
   "cell_type": "markdown",
   "metadata": {},
   "source": [
    "#### Function: to remove html tags from data"
   ]
  },
  {
   "cell_type": "code",
   "execution_count": 109,
   "metadata": {},
   "outputs": [],
   "source": [
    "#This fuction will remove all html tags in text\n",
    "def remove_html_tags(text):\n",
    "    sp = BeautifulSoup(text, \"html.parser\")\n",
    "    returned_text = sp.get_text(separator=\" \")\n",
    "    return returned_text"
   ]
  },
  {
   "cell_type": "markdown",
   "metadata": {},
   "source": [
    "#### Function: to merge Summary and Text in one column and get rid of productId column"
   ]
  },
  {
   "cell_type": "code",
   "execution_count": 110,
   "metadata": {},
   "outputs": [],
   "source": [
    "#This fuction will result in two columns only score and review\n",
    "def merge_summary_text(df):\n",
    "    df['review']=df['Summary']+' '+df['Text'] \n",
    "    df.drop(['Summary','Text','ProductId'],axis=1,inplace=True)\n",
    "    return df"
   ]
  },
  {
   "cell_type": "markdown",
   "metadata": {},
   "source": [
    "#### Function: to correct accent in letters"
   ]
  },
  {
   "cell_type": "code",
   "execution_count": 111,
   "metadata": {},
   "outputs": [],
   "source": [
    "#This function will replace accents in letters with regular letters example nescafé will be nescafe\n",
    "def correct_accent(text):\n",
    "    returned_text = unidecode.unidecode(text)\n",
    "    return returned_text"
   ]
  },
  {
   "cell_type": "markdown",
   "metadata": {},
   "source": [
    "#### Function: to visualized score count"
   ]
  },
  {
   "cell_type": "code",
   "execution_count": 112,
   "metadata": {},
   "outputs": [],
   "source": [
    "def visualize_score_count(df):\n",
    "    # visualize total review by score count\n",
    "    final_df_grouped = df[['Score', 'review']].groupby('Score').agg('count')\n",
    "    final_df_grouped= final_df_grouped.reset_index()\n",
    "    f, ax = plt.subplots(figsize=(8, 6))\n",
    "    fig = sb.barplot(x='Score', y=\"review\", data=final_df_grouped)"
   ]
  },
  {
   "cell_type": "markdown",
   "metadata": {},
   "source": [
    "#### Function: to remove punctuations"
   ]
  },
  {
   "cell_type": "code",
   "execution_count": 113,
   "metadata": {},
   "outputs": [],
   "source": [
    "#This function will remove punctiatons\n",
    "def remove_punctuations(text):\n",
    "    for punc in string.punctuation.replace(\"'\",\"\"):\n",
    "        if punc in text:\n",
    "            text = text.replace(punc,\" \")\n",
    "    return text"
   ]
  },
  {
   "cell_type": "markdown",
   "metadata": {},
   "source": [
    "#### Function: to remove extra spaces"
   ]
  },
  {
   "cell_type": "code",
   "execution_count": 114,
   "metadata": {},
   "outputs": [],
   "source": [
    "#This function will remove extra spaces\n",
    "def remove_extra_space(text):\n",
    "    removed_space = \" \".join(text.split())\n",
    "    return removed_space"
   ]
  },
  {
   "cell_type": "markdown",
   "metadata": {},
   "source": [
    "#### Function: to expand short words"
   ]
  },
  {
   "cell_type": "code",
   "execution_count": 115,
   "metadata": {},
   "outputs": [],
   "source": [
    "#This function will expand short words such as isn't => is not\n",
    "def expand_words(text):\n",
    "    for word in text.split():\n",
    "        if word.lower() in contractions:\n",
    "            text = text.replace(word, contractions[word.lower()])\n",
    "    return text"
   ]
  },
  {
   "cell_type": "markdown",
   "metadata": {},
   "source": [
    "#### Function: to replace remaining punctuation '"
   ]
  },
  {
   "cell_type": "code",
   "execution_count": 116,
   "metadata": {},
   "outputs": [],
   "source": [
    "#This function will remove '\n",
    "def remove_apostrophe(text):\n",
    "    text = text.replace(\"'\", \" \")\n",
    "    return text"
   ]
  },
  {
   "cell_type": "markdown",
   "metadata": {},
   "source": [
    "#### Function: to remove english stop words"
   ]
  },
  {
   "cell_type": "code",
   "execution_count": 117,
   "metadata": {},
   "outputs": [],
   "source": [
    "# we will remove stop words except no and not since they will effect our classification\n",
    "def remove_stop_words(text):\n",
    "    sWords = set(stopwords.words('english'))\n",
    "    sWords = list(sWords)\n",
    "    deselect_stop_words = ['no', 'not']\n",
    "\n",
    "    for item in deselect_stop_words:\n",
    "        sWords.remove(item)\n",
    "    for word in sWords:\n",
    "        text = text.replace(\" \" + word.lower() + \" \",\" \")\n",
    "    return text"
   ]
  },
  {
   "cell_type": "markdown",
   "metadata": {},
   "source": [
    "#### Function: to transform all to lower case"
   ]
  },
  {
   "cell_type": "code",
   "execution_count": 118,
   "metadata": {},
   "outputs": [],
   "source": [
    "def toLower(text):\n",
    "    text = text.lower()\n",
    "    return text"
   ]
  },
  {
   "cell_type": "markdown",
   "metadata": {},
   "source": [
    "#### Function: to tokenize text"
   ]
  },
  {
   "cell_type": "code",
   "execution_count": 119,
   "metadata": {},
   "outputs": [],
   "source": [
    "def tokeniz(text):\n",
    "    return word_tokenize(text)"
   ]
  },
  {
   "cell_type": "markdown",
   "metadata": {},
   "source": [
    "#### Function: to stemm text"
   ]
  },
  {
   "cell_type": "code",
   "execution_count": 120,
   "metadata": {},
   "outputs": [],
   "source": [
    "def stemm(text):\n",
    "    stemmer = PorterStemmer()\n",
    "    stemmed = [stemmer.stem(word) for word in text.split()]\n",
    "    stemmed = ' '.join(stemmed) \n",
    "    return stemmed"
   ]
  },
  {
   "cell_type": "markdown",
   "metadata": {},
   "source": [
    "#### Function: to lemmetize text"
   ]
  },
  {
   "cell_type": "code",
   "execution_count": 121,
   "metadata": {},
   "outputs": [],
   "source": [
    "def lemm(text):\n",
    "    lemmatizer = WordNetLemmatizer()\n",
    "    lemmed = [lemmatizer.lemmatize(word) for word in text.split()]\n",
    "    lemmed = ' '.join(lemmed) \n",
    "    return lemmed"
   ]
  },
  {
   "cell_type": "markdown",
   "metadata": {},
   "source": [
    "#### Function: to lemm text using Spacy"
   ]
  },
  {
   "cell_type": "code",
   "execution_count": 122,
   "metadata": {},
   "outputs": [],
   "source": [
    "def spacy_lemm(text):\n",
    "    nlp = spacy.load('en_core_web_sm', disable=['parser', 'ner'])\n",
    "    doc = nlp(text)\n",
    "    lemmed = [token.lemma_ for token in doc]\n",
    "    lemmed = ' '.join(lemmed) \n",
    "    return lemmed"
   ]
  },
  {
   "cell_type": "markdown",
   "metadata": {},
   "source": [
    "#### Function: to Represent Vector Count Model"
   ]
  },
  {
   "cell_type": "code",
   "execution_count": 123,
   "metadata": {},
   "outputs": [],
   "source": [
    "# this fuction will take the type of model (CountVector or TFIDF) and will return train data, feature name and vector repr. matrix\n",
    "\n",
    "def VCM (vectorizer,df, colum_name, class_column, ngram_min = 1, ngram_max = 1):\n",
    "    if vectorizer == \"count\":\n",
    "        vect = CountVectorizer(ngram_range=(ngram_min,ngram_max)).fit(df[colum_name])\n",
    "    elif vectorizer == \"tfidf\":\n",
    "        vect = TfidfVectorizer(ngram_range=(ngram_min,ngram_max)).fit(df[colum_name])\n",
    "    \n",
    "    x_Train = vect.transform(df[colum_name])\n",
    "    y_Train = df[class_column]\n",
    "    feature_names = vect.get_feature_names()\n",
    "    dense_vect = x_Train.todense()\n",
    "    dense_list = dense_vect.tolist()\n",
    "    vectDF = pd.DataFrame(dense_list, columns=feature_names)\n",
    "    return x_Train, y_Train, vect, feature_names, vectDF"
   ]
  },
  {
   "cell_type": "markdown",
   "metadata": {},
   "source": [
    "#### Function: to remove numbers"
   ]
  },
  {
   "cell_type": "code",
   "execution_count": 124,
   "metadata": {},
   "outputs": [],
   "source": [
    "def remove_numbers(text):\n",
    "    text = re.sub(\"\\S*\\d\\S*\", \"\", text).strip()\n",
    "    return text"
   ]
  },
  {
   "cell_type": "markdown",
   "metadata": {},
   "source": [
    "#### Function: to remove outliers (lengthy text)"
   ]
  },
  {
   "cell_type": "code",
   "execution_count": 226,
   "metadata": {},
   "outputs": [],
   "source": [
    "def remove_outliers(df, length):\n",
    "    df['length'] = df['review'].apply(len)\n",
    "    df = df[df['length'] < length]\n",
    "    print(len(df))\n",
    "    df.drop(['length'],axis=1,inplace=True)\n",
    "    return df"
   ]
  },
  {
   "cell_type": "code",
   "execution_count": null,
   "metadata": {},
   "outputs": [],
   "source": []
  },
  {
   "cell_type": "code",
   "execution_count": 323,
   "metadata": {},
   "outputs": [],
   "source": [
    "def display_topics_mg(model, feature_names, no_top_words):\n",
    "    sorting = np.argsort(model.components_, axis=1)[:, ::-1]\n",
    "    feature_names_arr = np.array(feature_names)\n",
    "    mglearn.tools.print_topics(topics=range(20), feature_names=feature_names_arr,\n",
    "                           sorting=sorting, topics_per_chunk=5, n_words=20)"
   ]
  },
  {
   "cell_type": "code",
   "execution_count": null,
   "metadata": {},
   "outputs": [],
   "source": []
  },
  {
   "cell_type": "code",
   "execution_count": 377,
   "metadata": {},
   "outputs": [],
   "source": [
    "def visualize_topic_modeling(feature_names, sorting, document_topics):\n",
    "    fig, ax = plt.subplots(1, 2, figsize=(20, 5))\n",
    "    topic_names_1 = [\"{:>2} \".format(i) + \" \".join(words)\n",
    "                   for i, words in enumerate(feature_names[sorting[:, :2]])]\n",
    "    # two column bar chart:\n",
    "    for col in [0, 1]:\n",
    "        start = col * 10\n",
    "        end = (col + 1) * 10\n",
    "        ax[col].barh(np.arange(10), np.sum(document_topics, axis=0)[start:end])\n",
    "        ax[col].set_yticks(np.arange(10))\n",
    "        ax[col].set_yticklabels(topic_names_1[start:end], ha=\"left\", va=\"top\")\n",
    "        ax[col].invert_yaxis()\n",
    "        ax[col].set_xlim(0, 10)\n",
    "        yax = ax[col].get_yaxis()\n",
    "        yax.set_tick_params(pad=130)\n",
    "    plt.tight_layout()"
   ]
  },
  {
   "cell_type": "markdown",
   "metadata": {},
   "source": [
    "# 1-Data Exploration and Visualization: (10%)\n",
    "Provide an initial step to inspect, visualize and analyse the different attributes in your data set.\n",
    "Document your findings and make conclusions for your next steps.\n"
   ]
  },
  {
   "cell_type": "markdown",
   "metadata": {},
   "source": [
    "## Data loading and visualization"
   ]
  },
  {
   "cell_type": "markdown",
   "metadata": {},
   "source": [
    "####  Load Data File"
   ]
  },
  {
   "cell_type": "code",
   "execution_count": 177,
   "metadata": {
    "scrolled": false
   },
   "outputs": [
    {
     "name": "stdout",
     "output_type": "stream",
     "text": [
      "Loading File...[ok]\n",
      "Loaded 426,340 reviews\n",
      "Column Names:  ['Id', 'ProductId', 'UserId', 'ProfileName', 'HelpfulnessNumerator', 'HelpfulnessDenominator', 'Score', 'Time', 'Summary', 'Text']\n"
     ]
    }
   ],
   "source": [
    "# Load Data Set, this will return our main Data set and list of column names\n",
    "\n",
    "original_df, column_names = loadFile('train.csv')"
   ]
  },
  {
   "cell_type": "markdown",
   "metadata": {},
   "source": [
    "####   Data Discovery"
   ]
  },
  {
   "cell_type": "code",
   "execution_count": 178,
   "metadata": {},
   "outputs": [
    {
     "name": "stdout",
     "output_type": "stream",
     "text": [
      "<class 'pandas.core.frame.DataFrame'>\n",
      "RangeIndex: 426340 entries, 0 to 426339\n",
      "Data columns (total 10 columns):\n",
      "Id                        426340 non-null int64\n",
      "ProductId                 426340 non-null object\n",
      "UserId                    426340 non-null object\n",
      "ProfileName               426326 non-null object\n",
      "HelpfulnessNumerator      426340 non-null int64\n",
      "HelpfulnessDenominator    426340 non-null int64\n",
      "Score                     426340 non-null int64\n",
      "Time                      426340 non-null int64\n",
      "Summary                   426320 non-null object\n",
      "Text                      426340 non-null object\n",
      "dtypes: int64(5), object(5)\n",
      "memory usage: 32.5+ MB\n"
     ]
    }
   ],
   "source": [
    "original_df.info()"
   ]
  },
  {
   "cell_type": "code",
   "execution_count": 179,
   "metadata": {
    "scrolled": false
   },
   "outputs": [
    {
     "data": {
      "text/html": [
       "<div>\n",
       "<style scoped>\n",
       "    .dataframe tbody tr th:only-of-type {\n",
       "        vertical-align: middle;\n",
       "    }\n",
       "\n",
       "    .dataframe tbody tr th {\n",
       "        vertical-align: top;\n",
       "    }\n",
       "\n",
       "    .dataframe thead th {\n",
       "        text-align: right;\n",
       "    }\n",
       "</style>\n",
       "<table border=\"1\" class=\"dataframe\">\n",
       "  <thead>\n",
       "    <tr style=\"text-align: right;\">\n",
       "      <th></th>\n",
       "      <th>Id</th>\n",
       "      <th>HelpfulnessNumerator</th>\n",
       "      <th>HelpfulnessDenominator</th>\n",
       "      <th>Score</th>\n",
       "      <th>Time</th>\n",
       "    </tr>\n",
       "  </thead>\n",
       "  <tbody>\n",
       "    <tr>\n",
       "      <th>count</th>\n",
       "      <td>426340.000000</td>\n",
       "      <td>426340.000000</td>\n",
       "      <td>426340.000000</td>\n",
       "      <td>426340.000000</td>\n",
       "      <td>4.263400e+05</td>\n",
       "    </tr>\n",
       "    <tr>\n",
       "      <th>mean</th>\n",
       "      <td>284300.799618</td>\n",
       "      <td>1.733159</td>\n",
       "      <td>2.220244</td>\n",
       "      <td>4.183455</td>\n",
       "      <td>1.296222e+09</td>\n",
       "    </tr>\n",
       "    <tr>\n",
       "      <th>std</th>\n",
       "      <td>164012.600602</td>\n",
       "      <td>7.328184</td>\n",
       "      <td>8.014894</td>\n",
       "      <td>1.310577</td>\n",
       "      <td>4.808061e+07</td>\n",
       "    </tr>\n",
       "    <tr>\n",
       "      <th>min</th>\n",
       "      <td>1.000000</td>\n",
       "      <td>0.000000</td>\n",
       "      <td>0.000000</td>\n",
       "      <td>1.000000</td>\n",
       "      <td>9.408096e+08</td>\n",
       "    </tr>\n",
       "    <tr>\n",
       "      <th>25%</th>\n",
       "      <td>142363.750000</td>\n",
       "      <td>0.000000</td>\n",
       "      <td>0.000000</td>\n",
       "      <td>4.000000</td>\n",
       "      <td>1.271203e+09</td>\n",
       "    </tr>\n",
       "    <tr>\n",
       "      <th>50%</th>\n",
       "      <td>284308.500000</td>\n",
       "      <td>0.000000</td>\n",
       "      <td>1.000000</td>\n",
       "      <td>5.000000</td>\n",
       "      <td>1.311034e+09</td>\n",
       "    </tr>\n",
       "    <tr>\n",
       "      <th>75%</th>\n",
       "      <td>426183.250000</td>\n",
       "      <td>2.000000</td>\n",
       "      <td>2.000000</td>\n",
       "      <td>5.000000</td>\n",
       "      <td>1.332720e+09</td>\n",
       "    </tr>\n",
       "    <tr>\n",
       "      <th>max</th>\n",
       "      <td>568454.000000</td>\n",
       "      <td>844.000000</td>\n",
       "      <td>923.000000</td>\n",
       "      <td>5.000000</td>\n",
       "      <td>1.351210e+09</td>\n",
       "    </tr>\n",
       "  </tbody>\n",
       "</table>\n",
       "</div>"
      ],
      "text/plain": [
       "                  Id  HelpfulnessNumerator  HelpfulnessDenominator  \\\n",
       "count  426340.000000         426340.000000           426340.000000   \n",
       "mean   284300.799618              1.733159                2.220244   \n",
       "std    164012.600602              7.328184                8.014894   \n",
       "min         1.000000              0.000000                0.000000   \n",
       "25%    142363.750000              0.000000                0.000000   \n",
       "50%    284308.500000              0.000000                1.000000   \n",
       "75%    426183.250000              2.000000                2.000000   \n",
       "max    568454.000000            844.000000              923.000000   \n",
       "\n",
       "               Score          Time  \n",
       "count  426340.000000  4.263400e+05  \n",
       "mean        4.183455  1.296222e+09  \n",
       "std         1.310577  4.808061e+07  \n",
       "min         1.000000  9.408096e+08  \n",
       "25%         4.000000  1.271203e+09  \n",
       "50%         5.000000  1.311034e+09  \n",
       "75%         5.000000  1.332720e+09  \n",
       "max         5.000000  1.351210e+09  "
      ]
     },
     "execution_count": 179,
     "metadata": {},
     "output_type": "execute_result"
    }
   ],
   "source": [
    "# describing the original dataframe\n",
    "original_df.describe()"
   ]
  },
  {
   "cell_type": "markdown",
   "metadata": {},
   "source": [
    "#### Analyse length of text field"
   ]
  },
  {
   "cell_type": "code",
   "execution_count": 180,
   "metadata": {},
   "outputs": [],
   "source": [
    "original_df['length'] = original_df['Text'].apply(len)"
   ]
  },
  {
   "cell_type": "code",
   "execution_count": 181,
   "metadata": {
    "scrolled": true
   },
   "outputs": [
    {
     "data": {
      "text/plain": [
       "count    426340.000000\n",
       "mean        435.396902\n",
       "std         443.943421\n",
       "min          12.000000\n",
       "25%         179.000000\n",
       "50%         301.000000\n",
       "75%         526.000000\n",
       "max       21409.000000\n",
       "Name: length, dtype: float64"
      ]
     },
     "execution_count": 181,
     "metadata": {},
     "output_type": "execute_result"
    }
   ],
   "source": [
    "original_df['length'].describe()"
   ]
  },
  {
   "cell_type": "code",
   "execution_count": 182,
   "metadata": {},
   "outputs": [],
   "source": [
    "# here we can see that we have one text with 21409 characthers. we need to examine such data"
   ]
  },
  {
   "cell_type": "code",
   "execution_count": 183,
   "metadata": {},
   "outputs": [
    {
     "data": {
      "text/plain": [
       "<matplotlib.axes._subplots.AxesSubplot at 0x18fff52e438>"
      ]
     },
     "execution_count": 183,
     "metadata": {},
     "output_type": "execute_result"
    },
    {
     "data": {
      "image/png": "[encoded data removed]",
      "text/plain": [
       "<Figure size 1080x360 with 1 Axes>"
      ]
     },
     "metadata": {
      "needs_background": "light"
     },
     "output_type": "display_data"
    }
   ],
   "source": [
    "original_df['length'].plot.hist(bins=500,figsize = (15,5))"
   ]
  },
  {
   "cell_type": "code",
   "execution_count": 184,
   "metadata": {},
   "outputs": [
    {
     "data": {
      "text/html": [
       "<div>\n",
       "<style scoped>\n",
       "    .dataframe tbody tr th:only-of-type {\n",
       "        vertical-align: middle;\n",
       "    }\n",
       "\n",
       "    .dataframe tbody tr th {\n",
       "        vertical-align: top;\n",
       "    }\n",
       "\n",
       "    .dataframe thead th {\n",
       "        text-align: right;\n",
       "    }\n",
       "</style>\n",
       "<table border=\"1\" class=\"dataframe\">\n",
       "  <thead>\n",
       "    <tr style=\"text-align: right;\">\n",
       "      <th></th>\n",
       "      <th>Id</th>\n",
       "      <th>ProductId</th>\n",
       "      <th>UserId</th>\n",
       "      <th>ProfileName</th>\n",
       "      <th>HelpfulnessNumerator</th>\n",
       "      <th>HelpfulnessDenominator</th>\n",
       "      <th>Score</th>\n",
       "      <th>Time</th>\n",
       "      <th>Summary</th>\n",
       "      <th>Text</th>\n",
       "      <th>length</th>\n",
       "    </tr>\n",
       "  </thead>\n",
       "  <tbody>\n",
       "    <tr>\n",
       "      <th>21756</th>\n",
       "      <td>290808</td>\n",
       "      <td>B005HG9ESG</td>\n",
       "      <td>A24HWYHR28JJ7A</td>\n",
       "      <td>&amp;#131;&amp;#367;&amp;#142;&amp;#378;&amp;#376; &amp;#969;&amp;#364;&amp;#...</td>\n",
       "      <td>10</td>\n",
       "      <td>11</td>\n",
       "      <td>3</td>\n",
       "      <td>1348272000</td>\n",
       "      <td>An okay filtered municipal tap water with slig...</td>\n",
       "      <td>Fuzzy Wuzzy's Summary:&lt;br /&gt;*** Somewhat recom...</td>\n",
       "      <td>21409</td>\n",
       "    </tr>\n",
       "    <tr>\n",
       "      <th>66592</th>\n",
       "      <td>496754</td>\n",
       "      <td>B005HG9ET0</td>\n",
       "      <td>A24HWYHR28JJ7A</td>\n",
       "      <td>&amp;#131;&amp;#367;&amp;#142;&amp;#378;&amp;#376; &amp;#969;&amp;#364;&amp;#...</td>\n",
       "      <td>10</td>\n",
       "      <td>11</td>\n",
       "      <td>3</td>\n",
       "      <td>1348272000</td>\n",
       "      <td>An okay filtered municipal tap water with slig...</td>\n",
       "      <td>Fuzzy Wuzzy's Summary:&lt;br /&gt;*** Somewhat recom...</td>\n",
       "      <td>21409</td>\n",
       "    </tr>\n",
       "    <tr>\n",
       "      <th>175574</th>\n",
       "      <td>455394</td>\n",
       "      <td>B005HG9ERW</td>\n",
       "      <td>A24HWYHR28JJ7A</td>\n",
       "      <td>&amp;#131;&amp;#367;&amp;#142;&amp;#378;&amp;#376; &amp;#969;&amp;#364;&amp;#...</td>\n",
       "      <td>10</td>\n",
       "      <td>11</td>\n",
       "      <td>3</td>\n",
       "      <td>1348272000</td>\n",
       "      <td>An okay filtered municipal tap water with slig...</td>\n",
       "      <td>Fuzzy Wuzzy's Summary:&lt;br /&gt;*** Somewhat recom...</td>\n",
       "      <td>21409</td>\n",
       "    </tr>\n",
       "  </tbody>\n",
       "</table>\n",
       "</div>"
      ],
      "text/plain": [
       "            Id   ProductId          UserId  \\\n",
       "21756   290808  B005HG9ESG  A24HWYHR28JJ7A   \n",
       "66592   496754  B005HG9ET0  A24HWYHR28JJ7A   \n",
       "175574  455394  B005HG9ERW  A24HWYHR28JJ7A   \n",
       "\n",
       "                                             ProfileName  \\\n",
       "21756   &#131;&#367;&#142;&#378;&#376; &#969;&#364;&#...   \n",
       "66592   &#131;&#367;&#142;&#378;&#376; &#969;&#364;&#...   \n",
       "175574  &#131;&#367;&#142;&#378;&#376; &#969;&#364;&#...   \n",
       "\n",
       "        HelpfulnessNumerator  HelpfulnessDenominator  Score        Time  \\\n",
       "21756                     10                      11      3  1348272000   \n",
       "66592                     10                      11      3  1348272000   \n",
       "175574                    10                      11      3  1348272000   \n",
       "\n",
       "                                                  Summary  \\\n",
       "21756   An okay filtered municipal tap water with slig...   \n",
       "66592   An okay filtered municipal tap water with slig...   \n",
       "175574  An okay filtered municipal tap water with slig...   \n",
       "\n",
       "                                                     Text  length  \n",
       "21756   Fuzzy Wuzzy's Summary:<br />*** Somewhat recom...   21409  \n",
       "66592   Fuzzy Wuzzy's Summary:<br />*** Somewhat recom...   21409  \n",
       "175574  Fuzzy Wuzzy's Summary:<br />*** Somewhat recom...   21409  "
      ]
     },
     "execution_count": 184,
     "metadata": {},
     "output_type": "execute_result"
    }
   ],
   "source": [
    "original_df[original_df['length'] == 21409]"
   ]
  },
  {
   "cell_type": "code",
   "execution_count": 185,
   "metadata": {},
   "outputs": [
    {
     "data": {
      "text/plain": [
       "'Fuzzy Wuzzy\\'s Summary:<br />*** Somewhat recommended, with reservations and only lukewarm fuzzies.<br /><br />Positives:<br /><br />+ Not too expensive compared to other bottled water, although it is not cheap either.<br /><br />Negatives:<br /><br />- This bottled water product\\'s labeling, product descriptions, and health claims are misleading.<br /><br />At first glance, this 1.5-liter bottle of water that I am reviewing looks like another one of the many varieties of bottled water on the market.  There are many kinds of bottled water: \"spring water\" produced from an underground formation where the groundwater naturally flows up to the Earth\\'s surface, \"artesian water\" obtained from a well that taps into an underground aquifer, \"mineral water\" produced from a well or spring that naturally contains trace amounts of minerals that some people consider to provide health benefits, \"ground/well water\" produced from a well that tapes into an aquifer, \"sparkling water\" from a spring or well that is naturally carbonated, and \"purified water\" produced by distillation, deionization, reverse osmosis, or other purification processes.  This Essentia Drinking Water is \"purified water\"; this bottle contains municipal water (i.e. tap water that comes from your faucet) that is purified using reverse osmosis and ultraviolet light for disinfection.<br /><br />The label on this Essentia water bottle is filled with marketing hype and technical terms designed to make it sound exotic:<br />* \"Infused with Electrolytes For A Difference You Can Taste\"<br />* \"Silky Smooth Taste\"<br />* \"Hydrates Better\"<br />* \"Electrolytes Infused\"<br />* \"Best Available pH at 9.5\"<br />* \"Doctor recommended to protect, improve, and enhance the quality of your health.\"<br />* \"Our Proprietary Technology: Water purified by reverse osmosis; infused with electrolytes for taste; alkalinized and restructured using Ionic Separation Technology.\"<br />* \"Ingredients: purified water, sodium bicarbonate, dipotassium phosphate, magnesium sulfate, calcium chloride.\"<br /><br />There are two ways to evaluate this water product.  One way to review this water is based on how it tastes, how safe are its added ingredients, and its cost.  Since Essentia includes a variety of health claims and marketing statements on the water bottle\\'s label, on the Amazon product listing, and on the company\\'s Web site, the veracity of this statements must also be scrutinized since the marketing hype of most other brands of bottled water is just limited to the \"freshness\" or \"purity\" of their taste without making other health-related claims.<br /><br />First, on the basis on its cost, with all of its marketing hype and hoopla, at least this water is not priced far more expensive than most other brands of bottled water.  But there are various other bottled water products on Amazon that cost less on a per-liter basis.  And if you think that this slightly pricey water can be justified based on its health \"merits\", keep reading...<br /><br />As for taste, that can be a highly personal preference, but I like my water to simply taste \"wet\".  :-)  If I want some kind of flavored drink - tea, wine, beer, fruit juice, etc. - I will drink that instead.  But nothing hydrates and quenches as easily as pure and simple water, with no additives or flavorings added to it.  This particular Essentia water does have a smooth texture to it.  Most other bottled waters taste more crisp than this Essentia water.  Again, you may either like the smooth texture of this water or you may think that its texture is rather flat and bland.  Unlike drinking \"distilled water\", or bottled water that was purified using distillation with no additives, this water has a very slight subtle aftertaste that might be considered as either \"chalky\" or \"metallic\".  Those are my highly subjective adjectives that I associate with this water.  I can only surmise that this is due to the small amounts of additives that were used in this water.  This aftertaste is not too objectionable, but if I just want to hydrate myself drinking \"water\", I really prefer my water to be without any identifiable taste, texture, or odor.<br /><br />Next, since this is not just a bottle of pure H2O water, let\\'s consider what was added to this water: sodium bicarbonate, dipotassium phosphate, magnesium sulfate, and calcium chloride.  Sodium bicarbonate is the same thing as baking soda.  This water was made to have a slightly alkaline pH of 9.5 by adding sodium bicarbonate.  People sometimes also adjust and raise the pH of their swimming pool water by adding sodium bicarbonate.  Dipotassium phosphate is sometimes added to various food products as a buffering agent or emulsifier.  In this water, it serves as one of the \"electrolytes\" that is added.  The term \"electrolytes\" is just a subset of minerals that are found in both the Earth and the food that we eat.  Also serving as an electrolyte is the addition of magnesium sulfate.  Magnesium sulfate is sold in drug stores as \"Epsom Salt\", and you can either soak your feet or body in an Epsom Salt bath to soothe sore muscles, or when ingested in larger quantities, magnesium sulfate also can serve as a laxative.  Calcium chloride serves as another electrolyte in this water.  Calcium chloride is sometimes used as a food additive.  The trace amounts of calcium, magnesium, and phosphorus in this water do not qualify as a measurable part of your daily nutritional intake of these minerals, regardless of how much of this water you drink each day.<br /><br />Essentia is definitely not the first bottled water manufacturer to add electrolytes to either bottled water or drinks.  During the 1960s, Gatorade was possibly the first large-scale commercial drink that was produced with the goal of adding electrolytes of sodium, sugar, potassium, and phosphate to hydrate and replenish athletes who lost fluids during physical exertion in hot weather.  On Essentia\\'s Web site, they have an FAQ question/answer of: \"Why should I drink Essentia if I get my electrolytes through sports drinks?  Essentia provides a blend of dissolved minerals that emulate the ratio of the body\\'s own mixture and concentration - providing the correct proportion of electrolytes without all the sugars and other additives you typically find in sports and energy drinks.\"  There are several problems with that statement.  First, if you are actively exercising and sweating, your body can actually use those extra calories, and if you are just sitting in front of the computer or television, guzzling Gatorade just adds useless calories and electrolytes.  Second, if you are drinking Essentia at home, this product\\'s claim that it provides \"the correct proportion of electrolytes\" implies a one-size-fits-all balance of electrolytes, which is simply not true as we all have different bodies, diets, and lifestyles.<br /><br />None of what Essentia refers to as \"Our Proprietary Technology\" is really that \"proprietary\" or exotic.  The reverse osmosis purification of municipal tap water is commonly used to produce bottled water, and the addition of various electrolytes or minerals to water has been practiced by other bottled water manufacturers for many decades now.  Some people think that drinking plain distilled water tastes boring and, mentally at least, they like the idea that drinking water that is naturally infused with minerals from a spring or well/aquifer adds an extra measure of health benefits.  The addition of trace minerals do add noticeable flavor that mimics natural spring water.  Also, slightly flavoring the water with minerals masks the residual odors that can be left by the plastic water bottle; the plastic odor is still there, but you notice it less.  The same principle applies to using a room deodorizer to mask the existing odors in a house; that old cat urine smell is still present inside the house, but you notice it less and therefore the house smells fresher.  The most common electrolytes/minerals in spring water are calcium, magnesium, potassium, sodium, sulfate, and chloride.  The Coca-Cola company markets a \"Dasani\" bottled water that, like this Essentia, is municipal tap water purified via reverse osmosis.  Dasani has magnesium sulfate and potassium chloride added to it.  Perhaps the Dasani taste testing panels decided that their water tastes better without the addition of calcium?  But for whatever reasons, this Essentia water has a slight residual \"chalky\" or \"metallic\" aftertaste, as if it had a tannic undertone like the aftertaste after drinking a dry red wine, that I do not really care for.  I do not want my drinking water to leave a subtle aftertaste in my mouth.<br /><br />Essentia also competes directly with \"Glaceau Smart Water\", which takes an approach similar to Essentia\\'s water.  Glaceau Smart Water is municipal water purified via distillation, and then infused with the similar ingredients of calcium chloride, magnesium chloride, and potassium bicarbonate.<br /><br />Not to be outdone, another of Essentia\\'s alkaline/electrolyte water competitors, named \"NEO Water\" (to ride on the futuristic coattails of \"The Matrix\" fame??), pumps out even more junk science drivel filled with fear-mongering misleading statements, calling itself \"Alkaline, Electrolyte, Antioxidant Super Hydrator ... ultra purified healthy and refreshing water formulated through proprietary technology to balance, revitalize and propel you unlike any traditional water\", and \"NEO\\'s unique antioxidants neutralize free radicals the body releases when under exertion\".  But when you really dig further into NEO Water\\'s claims, there are *NO* antioxidants in NEO Water... just potassium bicarbonate, calcium chloride, magnesium chloride, which is similar to the mundane chemicals added to Essentia and Dasani water.  NEO Water\\'s marketing nonsense says that its \"alkalinity allows its molecules to carry more oxygen than normal with an extra attached electron (hydroxyl ions). As a result, these molecules are able to seek and neutralize free radicals in your body and prevent free radical damage to your cells. These natural antioxidant benefits leave your body rich in oxygen and energy.\"  Again, like Essentia, NEO Water hopes to blind and persuade the consumer by overwhelming you with exotic totally false techno-babble; it ascribes its antioxidant benefits entirely to its 9.5 pH alkalinity.  So if you really believe in this nonsense, you could, in theory, obtain far more amazing antioxidant protection simply by dissolving an antacid tablet into your tap water once a day.  As with Essentia\\'s water, NEO Water\\'s \"ultra purified\" water is simply municipal tap water purified using the common method of reverse osmosis.<br /><br />This Essentia Drinking Water is not the first product to tout the benefits of \"alkaline water\".  There have been previous highly-hyped products based on ionized water, alkaline water, and combination alkaline-ionized water.  There have even been so-called \"liquid oxygen\" drops that supposedly contained \"O4\" molecules (instead of the \"O2\" oxygen that is in the air) dissolved in a liquid, and by ingesting 10 drops each day, you feel more energized, but this quackery completely ignores the fact that oxygen is best utilized in the lungs, and not in the stomach.  Just as the \"liquid oxygen\" drops are a distorted version of twisted junk science based on the concept of oxygen bars (at least in oxygen bars, you do breathe in the oxygen instead of putting drops of useless oxygen in your stomach), this \"alkaline water\" concept is a distortion of the \"alkaline diet\" alternative medicine belief that the foods we eat can affect the acidity of urine and blood, which can then affect our well-being, susceptibility to disease, and energy level.  If you are an avid vegan/vegetarian practitioner of an alkaline diet, then this 9.5-pH alkaline water can keep your diet on its alkaline-based theme.  But if you regularly eat meats, poultry, seafood, dairy products, eggs, grains, processed sugar foods, and colas/sodas, all of which significantly boost the acidic levels of your food consumption, then drinking a slightly alkaline water makes absolutely no difference to your health.<br /><br />Your stomach has a healthily acidic pH that ranges between 1.45 to 3.5; your stomach must be very acidic to aid in digestion.  However, blood must always be slightly alkaline, with a pH of 7.35 to 7.45.  If the blood\\'s pH drops below 6.8 (more acidic) or rises above 7.8 (more alkaline), death may occur.  But your blood automatically stays within its healthy pH range regardless of what you eat or drink because your blood utilizes several buffering systems.  The most important buffer for maintaining acidity/alkalinity balance in the blood is called the carbonic-acid-bicarbonate buffer.  To form the bicarbonate in this buffering system, your body uses carbon dioxide... guess what, carbon dioxide is in (over)abundance in the air that you breathe and you do not need sodium bicarbonate baking soda added to your drinking water to maintain a healthy pH in your body.  In fact, consuming too much supplemental sodium bicarbonate can actually lead to constipation, convulsions, diarrhea, frequent urination, and vomiting.  There is only a tiny amount of sodium bicarbonate in each bottle of Essentia water, so you do not have to worry about overdose.  But my point is that all this hoopla and hype about this water being of the \"Best Available pH at 9.5\" is purified nonsense.  Some other fear-mongering alkaline water sales gimmicks claim that, to quote another Web site, \"Excess acidity weakens all our systems and forces the body to take minerals from vital organs and bones to buffer/neutralize the acid and safely remove it from the body.\"  But this is totally false fear-based junk science contrived to mislead you into thinking that your body will rob its vital organs and bones of minerals to neutralize excess acidity.  But our body\\'s carbonic-acid-bicarbonate buffer simply combines carbon dioxide (CO2) in the air with water to make the blood plasma more acidic if it needs to, and it can prevent excess plasma acidity and raise its pH to be more alkaline by having the lungs convert the bicarbonate back into CO2 which you then breathe out.  A similar phosphate buffering system also helps to maintain the pH of cellular fluids, using phosphate instead of bicarbonate.  Phosphorus is present in nearly all foods, and regardless of whether you like to eat lots of meats or lots of vegetables, you can get plenty of sufficient phosphorus in your diet without needing to add it to your drinking water!<br /><br />Drinking too many acidic drinks such as sodas and colas can have a detrimental effect of eroding your tooth enamel, but guzzling all those colas have absolutely no effect on the pH of your cells and bodily fluids.  And regardless of how much alkalinity you consume and put in your stomach, your body is going to make sure that your stomach stays within a healthy acidic pH range and your body will use its pH buffering systems to keep your blood pH between 7.35 and 7.45 regardless of how much acidic or alkaline food and drink you consume. If you are familiar with logarithms, also realize that the pH scale is logarithmic (pH is not a linear scale) and drinking 9.5 pH water really has no effect on your various bodily fluids compared with drinking tap water or any other bottled water. And if you really could somehow artifically adjust your stomach, blood, and bodily fluids entirely to a 9.5 pH, you would be immediately wheeled into a hospital\\'s emergency room because your body and its stomach cannot handle that kind of alkalinity.<br /><br />If you suffer from frequent heartburn or acid reflux disease (gastroesophageal reflux disease), drinking this 9.5 pH water will NOT help the least bit.  Your stomach acids need to constantly stay very acidic to maintain proper digestive functions, and the slight alkalinity of this water has no effect on the stomach acid that is entering into the esophagus of people with GERD.<br /><br />Trying to market bottled water based on its \"silky smooth taste\" and \"hydrates better\" claims, its over-hyped \"9.5 pH\" attribute, and all its overexaggerated health claims constitute marketing trickery to fool consumers by utilizing the \"if you believe that it can really work, it does indeed work\" placebo effect.  The placebo effect is a very powerful phenomenon that can frequently affect everything from clinical trials of pharmacological substances to faith healing.  Basically, if you have a hopeful mindset of expectancy and conditioning that makes you think that something will work, then that perception can become 100% of your subjectively observed reality and outcome of the treatment.  For examples of other placebo effects: If I told you that you can get stronger bones by breathing milk through your nose instead of drinking it through your mouth, or if I told you that you could be revitalized by just holding broccoli in your hands for two minutes every day instead of eating it, if you really believe or hope that to be true, then after breathing the milk into your nose or holding the broccoli in your hands, you may think to yourself, \"Gee, I feel better, stronger, and more energetic after having done that!\"  Likewise, if you really HOPE to feel more hydrated after drinking this Essentia water, you may actually feel more refreshed simply because you BELIEVE that this water is hydrating you better than drinking other sources of water, when in fact the tap water from your faucet could have hydrated you just as refreshingly.<br /><br />The Amazon \\'Product Description\\' for this Essentia water falsely states even more overexaggerated health claims: \"Essentia Water provides unmatched hydration, health benefits and smooth taste.  Its superior hydrating qualities come from a special electrolyte formula and optimal pH level of 9.5, which gives your body more of what it needs to thrive.  Drinking Essentia Water boosts the antioxidant properties of your immune system and helps bring your body back into balance.  It also helps maintain normal blood pressure, restful sleep, heart health, muscle strength and more.\"  Again... these claims are way wayyyy overexaggerated!  Compared to your overall health, fitness level, and daily food diet, the trace minerals found in this water and this water\\'s slight alkalinity really make no difference in boosting the \"antioxidant properties of your immune system\", nor does it \"help maintain normal blood pressure, restful sleep, heart health, muscle strength and more\".  With this litany of false health claims, I am surprised that they also did not pile on claims that this water \"increases libido, cures erectile dysfunction, grows hair on balding men, makes women sexy, and fixes the national debt\" too.<br /><br />Fuzzy Wuzzy\\'s Conclusion:<br /><br />I must admit that I personally do not regularly purchase bottled water for home use, even though I will sometimes buy it while I am away from home, both because I think that filtering my tap water through a Brita filter produces water that is just as tasty and healthy as bottled water and, just as important, I think that too much plastic (and petroleum) is used in the production of bottled water and most plastic bottles end up in our overflowing landfills.  Roughly 1.5 million tons of plastic is used to make water bottles.  And this does not include the energy used to make the plastic and the oil used for transporting all the bottled water.  It takes about two liters of water used during the production process just to make one liter of bottled water.  So behind each 1-liter bottle of water is another two liters of water that was expended during its production.  Essentia states that their plastic bottles are \"safe and recyclable\", but we can all reduce our carbon footprint if we drink less bottled water.  In many developing countries, tap water is either unavailable or unsafe, making bottled water a better option if residents cannot boil their tap water before consumption.  But here in the U.S., some bottled water manufacturers, including this Essentia bottled water, use fear-based advertising claims that their water is healthier than tap water, which it really is not.  The concerns for the taste of tap water are valid, however, especially with tap water that has residual smell or taste of chlorination.  But residual smells and taste issues can be easily and economically remedied by using various activated charcoal/carbon filters at home to treat your tap water.  Anyway, the tap water that comes out of my faucet at home is also slightly alkaline like this Essentia water, and many municipal water supplies are also slightly alkaline, so there is no need to purchase this bottled water that has baking soda added to it.<br /><br />This is not a bad bottled water.  It is priced competitively with other bottled waters.  But it has an odd aftertaste that I do not like.  And the techno-jargon claims that revolve around this water\\'s selling points - 9.5 pH, \"ionically separated water\", \"Infused With Electrolytes\", and even falsely stating that this water boosts your immune system - amount to nothing but purified snake oil hogwash.  To quote William Shakespeare, all this marketing hype about 9.5 pH and electrolytes is really \"much ado about nothing\"!'"
      ]
     },
     "execution_count": 185,
     "metadata": {},
     "output_type": "execute_result"
    }
   ],
   "source": [
    "original_df[original_df['length'] == 21409]['Text'].iloc[0]"
   ]
  },
  {
   "cell_type": "code",
   "execution_count": 186,
   "metadata": {},
   "outputs": [
    {
     "data": {
      "text/plain": [
       "'*********************************************************<br /> UPDATE:  READ THE UPDATE BELOW FIRST. Thanks. (June 15 and August 3, 2012)<br />*********************************************************<br />  I WAS, BUT NO MORE (actively anyway). We have four cats: two (\"normals\") who eat about anything, one with kidney disease (CRF/CKD) and accompanying reduced appetite, and one that has picky (and weird) tastes.  In the process of trying to find an appetite stimulant for the mom-cat (with CRF/CKD) I tried out several products on her and the others (the kids) as well.<br />Here are the results of this less than scientific (or definitive) survey:<br /><br />  Drs.Foster&Smith Shrimp Snappies Treats (ground to powder)-----------ALL REFUSED.<br />  Freeze-dried powders (Prowl and Ziwi Peak)----------------------------NO EFFECT. All but one (Ms. Picky) ate them.<br />  Seafood juices (tuna, oyster, sardine, etc.)-----------------------------NO EFFECT. All but (same) one ate them.<br />  Dry (ground to powder) cat food (Halo, EVO, Blue Fuffalo, etc.)---------NO EFFECT. Ditto acceptance.<br />  Canned cat food (gourmet brands & renal diets)------------------------Ditto.<br />  Hairball tube lubes (usual suspects & Cat Grass)------------------------Ditto.<br />  Mark&Chappells De Furr-ums treats------------------------------------Ditto.<br />  Calming chews & liquid (Pet Naturals)----------------------------------Ditto (except Ms. Picky accepted)<br />  Brewer\\'s yeast(powder)-----------------------------------------------Dulled all appetites a bit; all accepted<br />  Barley Cat (GreenFoods; powder)--------------------------------------EFFECTIVE on mom-cat; others liked except...<br />Drs.Foster&Smith Tuna Treats (ground to powder)----------------------EFFECTIVE on mom-cat;  all others liked<br />  Bonito Sprinkles (Cat-Man-Doo)----------------------------------------EVEN MORE EFFECTIVE; ditto<br />  8in1 Dingo Anchovy Fillets (ground to powder)--------------------------Ditto (effect & acceptance)<br />  Tropical Fish Food (Sergeants Atlantis)---------------------------------Ditto (except Ms Picky liked; 2 normals NOT)<br />  Purina Whisker Lickins Tender Moments (Chicken flavor)-----------------BEST (effect & acceptance)<br />  Whiskas Temptations Treats (crumbled by hand)------------------------BEST (effect & acceptance)<br /><br />Most of the products were accepted by most of our cats but their appetites were not helped noticeably until I found the last seven: Barley Cat (separate review), Drs.F&S Tuna Treats, Cat-Man-Doo Bonito Sprinkles (reviewed here), 8in1 Dingo Anchovy Fillets, tropical fish food (I did not test the \"regular\" or \"beta\" but ingredients were similar and loaded with fillers and dyes; no reason to suspect that the brand is critical), Purina Whisker Lickins Tender Moments and Whiskas Temptations Treats (only \"regular\" Salmon and Chicken flavors tested). Only the Whiskas  Temptations were effective to the point of bringing all our cats\\' appetites back to the \"relish\" or \"enthusiastic\" stage. None of the products were \"perfect\": most lacking in some degree of effectiveness or acceptance and the regular Whiskas Temptations (?the \"natural\" versions?) lacking in quality ingredients and difficult to crush by hand. I have avoided brands like Whiskas for years on nutritional and ethical grounds but I will reluctantly use them in a flavor enchancer role until I find a more suitable alternative. Three of our four cats had weird responses to the tropical fish flakes: our two \"normals\" were absolutely repulsed and our Ms Picky licked her bowl clean.  Go figure.<br /><br />The Cat-Man-Doo (CMD) \"sprinkles\" I bought from HealthyPets.com for just a bit less than the price on Amazon. These are the only dehydrated bonito in \"sprinkles\" form (there is a TUNA DASH product out there but more expensive) that I could find. Other bonito products typically are  large flakes and more expensive. Although the CMD product comes in a shaker jar it is not a \"sprinkles\"  form like salt or pepper and does not shake out as easily or evenly; the \"sprinkles\" are still flakes, just a lot smaller. If you decide to further reduce the size of any of the products it is not necessary to pulverize them to a fine powder.  Generally they come out of a shaker container a little more uniformly if left slightly course. The Whiskas  treats, because of their soft center, are best crumbled by hand.  The Whiskas  products present the best value: about 300 servings for about $1.80 on sale at PetCo (and a bit less at Walmart). Purina Whisker Lickens come in several flavor varieties and, though equally effective, contain about 150 servings and are more expensive even on Amazons best terms (multi-pack and free shipping). Purina WL (3 oz) would have to sell for under $1 per pack off the shelf or with free shipping to be competitive. I found several of the products (DrsF&S, 8in1, Sergeants, Purina WL, and Whiskas) at a discount store (BigLots). Among the dried fish products, the CMD sprinkles do offer good value: about $2.80 per ounce (before shipping, taxes) and provide so many servings that I could not attempt to count or even estimate. If your pet gets turned on by CMD then, because of the prodigious number of servings, the CMD could be the better value. A word of caution on the CMD quantity: The listings and ads stated that the sprinkles jar contains 8 oz. NOT TRUE.  The company used a fluid ounce (volume) measure rather than a weight measure for this particular product.  The sprinkles jar contains at least 2 1/2 oz by weight. Even so, the price still beats other brands of bonito (and tuna) products that I ran across.  Credit to the company, however, since they packed the jar about as full as possible and they responded positively to my complaint about the choice of measures and confirmed that the labels, ads, and other marketing materials will be changed ASAP to state the 2 1/2 oz weight measure. Will they pack the jar as tight?  Cat-Man-Doo also is introducing a chicken sprinkles product (2 oz size).  I wonder: would our Ms. Picky take to that?<br /><br />CONCLUSION: Effective appetite enhancers are out there and probably one that matches the pickiest/weirdest of tastes.  The problem, as I discovered, is finding it.  As far as I can tell, there is no logic, no rhyme, no reason to use as a guide. Individual differences among cats seems to be the norm and consistency of preferences does not appear to be of any evolutionary value. Cases in point: our Ms. Picky.  She does not like flavors OF meat and fish  but loved the food flakes FOR fish; our \"normals\", who rarely refuse anything, were sorely offended by the same offering.  Personally, we now have reasonably priced go-to flavor enhancers for all our cats (Whiskas Temptations) and  back ups (Cat-Man-Doo Sprinkles) for all as well, even Ms Picky.<br /><br />SIDE NOTE: I powdered and combined the 8in1 Dingo anchovy product and the Cat-Man-Doo sprinkles, which suggests that other closely effective products may be mixed successfully. I did it just to use down the anchovies since they are relatively expensive and I probably would not purchase them at full retail price.<br /><br />So until their tastes change (again) we are no longer actively searching for appetite boosters.  Hope this review helps (with products or ideas) ANYONE ELSE (even dog companions) WHO IS STILL SEARCHING FOR A PET APPETITE ENHANCER.<br /><br />  ****************************<br /><br />UPDATE: AND THEIR TASTES DID CHANGE--REPEATEDLY. AND I ACQUIRED A WHOLE NEW PERSPECTIVE after trying over four dozen flavor additives over the past year. There are two approaches to re-stimulating pet appetites; ON food or IN the pet; that is, from the outside in or the inside out. I WAS TAKING THE WRONG APPROACH, assuming that all I had to do was find the right product to add to my cats\\' food and Valla!, problem solved! The following are my personal conclusions after many months and conversations with several vets:<br />  1) Diminished appetite may be difficult to distinguish from strong preferences (picky-picky) and preference changes.<br />  2) Normally healthy pets experience swings in appetite (like, seasonal or during hairball buildup) and do not need extra appetite stimulants or treats (although you would never guess that from the explosion of treats on pet food aisles). Even pets that play or perform only expect approval, attention and affection. Everyday pet feed should provide an adequate level of sensory interest.  If not, then find an appropriate formula (or mix of brands and wet/dry) that does. Affordability may be an issue but \"treats\" are not cheap and I have not done the math to get a fix on the  pricepoint at which treats would become more expensive. In any event, off-the-shelf enhancers/treats may have a role in case of genetic or age-related sensory loss, as a short-term aid, as a palliative after a rough experience/day, or as a \"last resort\".<br />  3) Pets with known or suspected medical issues may need the inside-out approach. Additive appetite enhancers may not be much help if the reduction in appetite is due to a medical case. The short term benefit from (even the best) appetite additives (anywhere from one meal to several months), may be long enough to keep them going while the underlying medical issues and related appetite symptoms are resolved (or not). Some inside-out Rx appetite enhancers also may only work short-term (maybe up to 6 weeks); others may work if administered continually; the best (but not typical) outcome would be a jumpstart of the pet\\'s natural appetite.<br />  4) Pets on a special diet (like calorie restriction or Rx) have fewer choices of feed and MAY benefit from added (outside-in) appetite enhancers to even the most palatable available special diet formulas. Expect short term results and anticipate having to cycle through various enhancer products frequently.<br />  5) One reason for the loss of \"magic\" of appetite enhancers is pet intelligence:  they may eventually figure out that they can \"cherry pick\" the tasty additive and leave the relatively unappetizing food; or \"wait out\" your first offering in anticipation of tastier follow-up offerings. BUT the flavor additives work better as sprinkles and tend to lose their magic if mixed in with the food.  I found this to be the case even if I \"marianated\" their regular food with the flavor enhancer in water prior to meals.<br />  6) I have used the phrases \"flavor enhancer\" and \"appetite stimulant\" interchangeably. There probably is a substantive difference but my interest was the end result (a hearty interest in meals and increased consumption).<br /><br />For those readers who are interested in further lists of products I have tried, I set out the items I have researched/used since the last report. They are organized a little differently, hopefully in a more useful fashion.  Besides the specific items, you may find the list helpful in generating further ideas to experiment with.  Unless noted otherwise, the off-the -shelf products were crumbled or pulverized if not already in powder form. Prior consultation with your vet would be advisable if not required, for the INSIDE-OUT types and may prove helpful  before venturing even into the realm of off-the-shelf and DIY flavor enhancers.<br /><br />THE INSIDE-OUT TYPES  (do not depend on the senses but work internally, if at all, to stimulate appetite):<br /><br />  Vitamin B-12 ^^^^^^^^^^^^^^^^ Dexamethasone (Rx injectable steriod)<br />  Pro-biotics ^^^^^^^^^^^^^^^^^ Depo-Medrol (Rx injectable anti-inflammatory )<br />  Pre-biotics ^^^^^^^^^^^^^^^^^ Mirtazipine  (Rx anti-depressant pills)<br />  Exercise ^^^^^^^^^^^^^^^^^^ Cyproheptadine (Rx anti-histamine/serotonin pills and  compounded liquid)<br />  Charcoal (medical/food grades) ^^^^ Cerenia (Rx anti-nausia/inflammatory pill)<br />  Pepcid AC ^^^^^^^^^^^^^^^^^ Zantac<br />  Oral Electrolytes (Non-Rx fluids like: Pedialyte, Caravet, Ions, Pets&Vets, and DIY recipes)<br />  Rx injectable Electrolytes (\"Sub-Q\" fluids)<br />  Rx Oral Electrolytes (like: Rebound OES)<br /><br />THE OUTSIDE-IN TYPES  (depend mainly on the senses of smell/taste to get the attention of the appetite):<br /><br />  Hills Science Diet AD (Rx) ^^^^^^^^^^^^^^^^^Pet Vitamins  (Sargeants)<br />  Dental gel ^^^^^^^^^^^^^^^^^^^^^^^^^^Liver (raw, sauteed; chicken & beef)<br />  Garmon VetClassics Cranberry chews (crumbled)^^^^Liver (human-grade dessicated/dehydrated; capsules/powdered)<br />  Cranberry (liquid)^^^^^^^^^^^^^^^^^^^^^^Hairball \"treats\"<br />  Beefeaters Cod (freeze dried puffs)^^^^^^^^^^^Milk<br />  Cat Milk (Whiskas) ^^^^^^^^^^^^^^^^^^^^^Chicken (freeze dried puffs)<br />  Clinicare RF ^^^^^^^^^^^^^^^^^^^^^^^^^Canned pet food (regular & Rx; seared/browned; crumbled)<br />  Lactulose (Foster & Smith)^^^^^^^^^^^^^^^^Boutique canned food (like Fancy Feast)<br />  Spirulina (St. Jon Naturals)^^^^^^^^^^^^^^^^Vienna Sausage(chicken; meat & broth)<br />  Vita Gravy ^^^^^^^^^^^^^^^^^^^^^^^^^^Pet Naturals Calming Chews, tabs, liquid<br />  Friskies Crispies ^^^^^^^^^^^^^^^^^^^^^^^Mars Crave treats<br />  Pounce treats ^^^^^^^^^^^^^^^^^^^^^^^^JRBFoods Catty Shack treats (Walmart)<br />  \"Super\" Reds/Greens (human) powder ^^^^^^^^^^Bench & Field treats<br />  Other petmates dry food (powdered) ^^^^^^^^^^Foster&Smith Joint Care 2 (powder)<br />  Catnip (powdered)^^^^^^^^^^^^^^^^^^^^^8in1 Kookamunga Catnip Spray<br />  Catsure liquid diet^^^^^^^^^^^^^^^^^^^^^^Rebound Liquid Diet<br />  Cheerios breakfast cereal (crumbled) ^^^^^^^^^^KMR (liquid)<br />  Vanilla extract (no alcohol)^^^^^^^^^^^^^^^^^Pet Greens (freeze-dried liver puffs)<br />  Natural Balance Platefulls-sardines (pureed) ^^^^^^My Little Lion (salmon)<br />  Natural Balance Perfect Bites (rabbit)^^^^^^^^^^ EVO Wild Cravings<br />  VetsBest Right Bites Health Management (dogs) ^^^Mixins (Variety Pet Foods)<br />  PureBites (Pure Treats Inc)freeze-dried liver puffs ^^<br /><br />MOST/LEAST EFFECTIVE Rx PRODUCTS:  There are differences; but best sorted out between you and your vet.<br /><br />MOST EFFECTIVE OF THE NON-Rx PRODUCTS:<br /><br />  In addition to the better ones (according to our cats) noted in the original list (Barley Cat thru Whiskas Temptations), add these to the BEST class::<br /><br />  Dessicated/dehydrated Liver (human grade) capsules/powder (go easy, may cause the runs)<br />  Seared/browned Canned Pet Food (regular and Rx)<br />  Vienna Sausage (chicked meat & broth)<br />  Catty Shack treats (crumbled)<br />  Natural Balance Platefulls-sardines<br />  Pet Greens Freeze Dried puffs (liver)<br />  Natural Balance Perfect Bites (rabbit)<br />  My Little Lion (salmon)<br />  EVO Wild Cravings (herring & Salmon)<br />  VetsBest Right Bites Health Management (dogs)<br />  Mixins (Variety Pet Foods)<br /><br />LEAST EFFECTIVE NON-Rx PRODUCTS:<br /><br />  In addition to the originally listed ineffective ones (again by unscientific poll of our cats): F&S Shrimp Snappies thru brewers yeast powder, add these:<br /><br />  Vita Gravy (Petsmart)<br />  Bench & Field treats (Trader Joes)<br /><br />ALL OTHER NON-Rx PRODUCTS<br /><br />  Most were accepted by all four cats but were not particularly effective as appetite stimulants in our trials. Your pets, especially the healthy ones, may respond more favorably.<br /><br />  IF I WERE STARTING OVER WHAT WOULD I DO?  (Supplementing my \"perspective\" points above) HERE ARE MY MAIN TIPS:  1) Get to know my pets\\' taste preferences in advance of any need  2) Check for medical causes  3) If no medical issues, switch to the other form (dry/wet) of the pet\\'s regular food and try as a flavor enhancer topping and/or as a substitute  4) Then try  warming or browning the wet version of the pet\\'s regular food  5) next, your best choice of a \"treat\" or supplement with the pet\\'s favorite flavor used as a topping  6) then one with a liver taste, such as Barley Cat or Pet Greens Freeze Dried  7) Then Cat-Man-Do bonito sprinkles, Natural Balance Platefuls, Catty Shack treats, Purina Whisker Lickins, or Whiskas Temptations 8) If a product meets with initial acceptance, withhold judgment on \"effectiveness\" until after a few meals worth of experiences  9) forego trying all the hundreds of \"treats\" in search of \"the\" one that will work after you have gone thru your best shots  10) If there are medical issues, consider off-the-shelf and Rx appetite stimulants, singly or in combination  11) If a liquid meal substitute is called for consider REBOUND and CLINICARE RF, but also CATSURE and KMR and (as a last resort?) human versions of liquid renal failure products. Acceptance at this point will likely be a major issue but at least they are there for the trying.<br /><br />  My apologies for the awkward columns but I could not figure out a neat way to compress the information. Hope all this helps and Good Luck.'"
      ]
     },
     "execution_count": 186,
     "metadata": {},
     "output_type": "execute_result"
    }
   ],
   "source": [
    "original_df[original_df['length'] >15000]['Text'].iloc[3]"
   ]
  },
  {
   "cell_type": "markdown",
   "metadata": {},
   "source": [
    "#### <font color=\"red\">we need to get rid of this long data as it will effect our model prediction < 2500 in length </font>"
   ]
  },
  {
   "cell_type": "code",
   "execution_count": 187,
   "metadata": {},
   "outputs": [
    {
     "data": {
      "text/plain": [
       "array([[<matplotlib.axes._subplots.AxesSubplot object at 0x0000018FFF4FC080>,\n",
       "        <matplotlib.axes._subplots.AxesSubplot object at 0x0000018FF8EDFD68>],\n",
       "       [<matplotlib.axes._subplots.AxesSubplot object at 0x0000018FF8ECBFD0>,\n",
       "        <matplotlib.axes._subplots.AxesSubplot object at 0x0000018FF8F0E828>],\n",
       "       [<matplotlib.axes._subplots.AxesSubplot object at 0x0000018FF8EEB4E0>,\n",
       "        <matplotlib.axes._subplots.AxesSubplot object at 0x0000018FF8CE7748>]],\n",
       "      dtype=object)"
      ]
     },
     "execution_count": 187,
     "metadata": {},
     "output_type": "execute_result"
    },
    {
     "data": {
      "image/png": "[encoded data removed]",
      "text/plain": [
       "<Figure size 864x720 with 6 Axes>"
      ]
     },
     "metadata": {
      "needs_background": "light"
     },
     "output_type": "display_data"
    }
   ],
   "source": [
    "original_df.hist(column='length',by='Score',bins=50,figsize=(12,10))"
   ]
  },
  {
   "cell_type": "markdown",
   "metadata": {},
   "source": [
    "#### Data Visualization"
   ]
  },
  {
   "cell_type": "code",
   "execution_count": 188,
   "metadata": {},
   "outputs": [
    {
     "name": "stderr",
     "output_type": "stream",
     "text": [
      "C:\\ProgramData\\Anaconda3\\lib\\site-packages\\IPython\\core\\interactiveshell.py:3296: UserWarning: To output multiple subplots, the figure containing the passed axes is being cleared\n",
      "  exec(code_obj, self.user_global_ns, self.user_ns)\n"
     ]
    },
    {
     "data": {
      "text/plain": [
       "array([[<matplotlib.axes._subplots.AxesSubplot object at 0x0000018FF976D518>,\n",
       "        <matplotlib.axes._subplots.AxesSubplot object at 0x0000018FF95ECFD0>],\n",
       "       [<matplotlib.axes._subplots.AxesSubplot object at 0x0000018FF961B278>,\n",
       "        <matplotlib.axes._subplots.AxesSubplot object at 0x0000018FF96454E0>],\n",
       "       [<matplotlib.axes._subplots.AxesSubplot object at 0x0000018FF966B748>,\n",
       "        <matplotlib.axes._subplots.AxesSubplot object at 0x0000018FF97C39B0>]],\n",
       "      dtype=object)"
      ]
     },
     "execution_count": 188,
     "metadata": {},
     "output_type": "execute_result"
    },
    {
     "data": {
      "image/png": "[encoded data removed]",
      "text/plain": [
       "<Figure size 1080x1440 with 6 Axes>"
      ]
     },
     "metadata": {
      "needs_background": "light"
     },
     "output_type": "display_data"
    }
   ],
   "source": [
    "# Visualize original original data\n",
    "fig = plt.figure(figsize = (15,20))\n",
    "ax = fig.gca()\n",
    "original_df.hist(bins=10, ax=ax)"
   ]
  },
  {
   "cell_type": "code",
   "execution_count": 189,
   "metadata": {},
   "outputs": [
    {
     "data": {
      "text/html": [
       "<div>\n",
       "<style scoped>\n",
       "    .dataframe tbody tr th:only-of-type {\n",
       "        vertical-align: middle;\n",
       "    }\n",
       "\n",
       "    .dataframe tbody tr th {\n",
       "        vertical-align: top;\n",
       "    }\n",
       "\n",
       "    .dataframe thead tr th {\n",
       "        text-align: left;\n",
       "    }\n",
       "\n",
       "    .dataframe thead tr:last-of-type th {\n",
       "        text-align: right;\n",
       "    }\n",
       "</style>\n",
       "<table border=\"1\" class=\"dataframe\">\n",
       "  <thead>\n",
       "    <tr>\n",
       "      <th></th>\n",
       "      <th colspan=\"8\" halign=\"left\">Id</th>\n",
       "      <th colspan=\"2\" halign=\"left\">HelpfulnessNumerator</th>\n",
       "      <th>...</th>\n",
       "      <th colspan=\"2\" halign=\"left\">Time</th>\n",
       "      <th colspan=\"8\" halign=\"left\">length</th>\n",
       "    </tr>\n",
       "    <tr>\n",
       "      <th></th>\n",
       "      <th>count</th>\n",
       "      <th>mean</th>\n",
       "      <th>std</th>\n",
       "      <th>min</th>\n",
       "      <th>25%</th>\n",
       "      <th>50%</th>\n",
       "      <th>75%</th>\n",
       "      <th>max</th>\n",
       "      <th>count</th>\n",
       "      <th>mean</th>\n",
       "      <th>...</th>\n",
       "      <th>75%</th>\n",
       "      <th>max</th>\n",
       "      <th>count</th>\n",
       "      <th>mean</th>\n",
       "      <th>std</th>\n",
       "      <th>min</th>\n",
       "      <th>25%</th>\n",
       "      <th>50%</th>\n",
       "      <th>75%</th>\n",
       "      <th>max</th>\n",
       "    </tr>\n",
       "    <tr>\n",
       "      <th>Score</th>\n",
       "      <th></th>\n",
       "      <th></th>\n",
       "      <th></th>\n",
       "      <th></th>\n",
       "      <th></th>\n",
       "      <th></th>\n",
       "      <th></th>\n",
       "      <th></th>\n",
       "      <th></th>\n",
       "      <th></th>\n",
       "      <th></th>\n",
       "      <th></th>\n",
       "      <th></th>\n",
       "      <th></th>\n",
       "      <th></th>\n",
       "      <th></th>\n",
       "      <th></th>\n",
       "      <th></th>\n",
       "      <th></th>\n",
       "      <th></th>\n",
       "      <th></th>\n",
       "    </tr>\n",
       "  </thead>\n",
       "  <tbody>\n",
       "    <tr>\n",
       "      <th>1</th>\n",
       "      <td>39193.0</td>\n",
       "      <td>282904.535606</td>\n",
       "      <td>162865.104452</td>\n",
       "      <td>2.0</td>\n",
       "      <td>142706.0</td>\n",
       "      <td>283604.0</td>\n",
       "      <td>421880.0</td>\n",
       "      <td>568434.0</td>\n",
       "      <td>39193.0</td>\n",
       "      <td>2.747812</td>\n",
       "      <td>...</td>\n",
       "      <td>1.334275e+09</td>\n",
       "      <td>1.351210e+09</td>\n",
       "      <td>39193.0</td>\n",
       "      <td>476.305310</td>\n",
       "      <td>511.875562</td>\n",
       "      <td>12.0</td>\n",
       "      <td>202.0</td>\n",
       "      <td>338.0</td>\n",
       "      <td>563.0</td>\n",
       "      <td>10327.0</td>\n",
       "    </tr>\n",
       "    <tr>\n",
       "      <th>2</th>\n",
       "      <td>22353.0</td>\n",
       "      <td>280643.847850</td>\n",
       "      <td>164445.543153</td>\n",
       "      <td>68.0</td>\n",
       "      <td>137929.0</td>\n",
       "      <td>278032.0</td>\n",
       "      <td>422521.0</td>\n",
       "      <td>568451.0</td>\n",
       "      <td>22353.0</td>\n",
       "      <td>1.864627</td>\n",
       "      <td>...</td>\n",
       "      <td>1.333757e+09</td>\n",
       "      <td>1.351210e+09</td>\n",
       "      <td>22353.0</td>\n",
       "      <td>489.160650</td>\n",
       "      <td>449.449918</td>\n",
       "      <td>33.0</td>\n",
       "      <td>212.0</td>\n",
       "      <td>358.0</td>\n",
       "      <td>606.0</td>\n",
       "      <td>9295.0</td>\n",
       "    </tr>\n",
       "    <tr>\n",
       "      <th>3</th>\n",
       "      <td>31993.0</td>\n",
       "      <td>279476.092333</td>\n",
       "      <td>165426.046308</td>\n",
       "      <td>46.0</td>\n",
       "      <td>136097.0</td>\n",
       "      <td>274969.0</td>\n",
       "      <td>424951.0</td>\n",
       "      <td>568423.0</td>\n",
       "      <td>31993.0</td>\n",
       "      <td>1.733817</td>\n",
       "      <td>...</td>\n",
       "      <td>1.333411e+09</td>\n",
       "      <td>1.351210e+09</td>\n",
       "      <td>31993.0</td>\n",
       "      <td>518.617635</td>\n",
       "      <td>516.789152</td>\n",
       "      <td>32.0</td>\n",
       "      <td>214.0</td>\n",
       "      <td>373.0</td>\n",
       "      <td>653.0</td>\n",
       "      <td>21409.0</td>\n",
       "    </tr>\n",
       "    <tr>\n",
       "      <th>4</th>\n",
       "      <td>60309.0</td>\n",
       "      <td>281941.848729</td>\n",
       "      <td>164780.725409</td>\n",
       "      <td>3.0</td>\n",
       "      <td>138600.0</td>\n",
       "      <td>280352.0</td>\n",
       "      <td>424999.0</td>\n",
       "      <td>568421.0</td>\n",
       "      <td>60309.0</td>\n",
       "      <td>1.379910</td>\n",
       "      <td>...</td>\n",
       "      <td>1.333325e+09</td>\n",
       "      <td>1.351210e+09</td>\n",
       "      <td>60309.0</td>\n",
       "      <td>496.795652</td>\n",
       "      <td>485.861557</td>\n",
       "      <td>35.0</td>\n",
       "      <td>196.0</td>\n",
       "      <td>347.0</td>\n",
       "      <td>625.0</td>\n",
       "      <td>12518.0</td>\n",
       "    </tr>\n",
       "    <tr>\n",
       "      <th>5</th>\n",
       "      <td>272492.0</td>\n",
       "      <td>285890.169021</td>\n",
       "      <td>163781.498091</td>\n",
       "      <td>1.0</td>\n",
       "      <td>144535.5</td>\n",
       "      <td>287247.5</td>\n",
       "      <td>427344.5</td>\n",
       "      <td>568454.0</td>\n",
       "      <td>272492.0</td>\n",
       "      <td>1.654540</td>\n",
       "      <td>...</td>\n",
       "      <td>1.332029e+09</td>\n",
       "      <td>1.351210e+09</td>\n",
       "      <td>272492.0</td>\n",
       "      <td>401.742767</td>\n",
       "      <td>408.956573</td>\n",
       "      <td>18.0</td>\n",
       "      <td>170.0</td>\n",
       "      <td>277.0</td>\n",
       "      <td>480.0</td>\n",
       "      <td>16952.0</td>\n",
       "    </tr>\n",
       "  </tbody>\n",
       "</table>\n",
       "<p>5 rows × 40 columns</p>\n",
       "</div>"
      ],
      "text/plain": [
       "             Id                                                          \\\n",
       "          count           mean            std   min       25%       50%   \n",
       "Score                                                                     \n",
       "1       39193.0  282904.535606  162865.104452   2.0  142706.0  283604.0   \n",
       "2       22353.0  280643.847850  164445.543153  68.0  137929.0  278032.0   \n",
       "3       31993.0  279476.092333  165426.046308  46.0  136097.0  274969.0   \n",
       "4       60309.0  281941.848729  164780.725409   3.0  138600.0  280352.0   \n",
       "5      272492.0  285890.169021  163781.498091   1.0  144535.5  287247.5   \n",
       "\n",
       "                          HelpfulnessNumerator            ...          Time  \\\n",
       "            75%       max                count      mean  ...           75%   \n",
       "Score                                                     ...                 \n",
       "1      421880.0  568434.0              39193.0  2.747812  ...  1.334275e+09   \n",
       "2      422521.0  568451.0              22353.0  1.864627  ...  1.333757e+09   \n",
       "3      424951.0  568423.0              31993.0  1.733817  ...  1.333411e+09   \n",
       "4      424999.0  568421.0              60309.0  1.379910  ...  1.333325e+09   \n",
       "5      427344.5  568454.0             272492.0  1.654540  ...  1.332029e+09   \n",
       "\n",
       "                       length                                              \\\n",
       "                max     count        mean         std   min    25%    50%   \n",
       "Score                                                                       \n",
       "1      1.351210e+09   39193.0  476.305310  511.875562  12.0  202.0  338.0   \n",
       "2      1.351210e+09   22353.0  489.160650  449.449918  33.0  212.0  358.0   \n",
       "3      1.351210e+09   31993.0  518.617635  516.789152  32.0  214.0  373.0   \n",
       "4      1.351210e+09   60309.0  496.795652  485.861557  35.0  196.0  347.0   \n",
       "5      1.351210e+09  272492.0  401.742767  408.956573  18.0  170.0  277.0   \n",
       "\n",
       "                       \n",
       "         75%      max  \n",
       "Score                  \n",
       "1      563.0  10327.0  \n",
       "2      606.0   9295.0  \n",
       "3      653.0  21409.0  \n",
       "4      625.0  12518.0  \n",
       "5      480.0  16952.0  \n",
       "\n",
       "[5 rows x 40 columns]"
      ]
     },
     "execution_count": 189,
     "metadata": {},
     "output_type": "execute_result"
    }
   ],
   "source": [
    "#Groupby by score\n",
    "original_df.groupby('Score').describe()"
   ]
  },
  {
   "cell_type": "code",
   "execution_count": 190,
   "metadata": {},
   "outputs": [],
   "source": [
    "# re-arranging columns to make the class column the last one\n",
    "original_df = original_df[['Id','ProductId', 'UserId', 'ProfileName', 'HelpfulnessNumerator', 'HelpfulnessDenominator', 'Time', 'Summary', 'Text', 'Score']]"
   ]
  },
  {
   "cell_type": "code",
   "execution_count": 191,
   "metadata": {},
   "outputs": [
    {
     "data": {
      "image/png": "[encoded data removed]",
      "text/plain": [
       "<Figure size 1152x1440 with 6 Axes>"
      ]
     },
     "metadata": {
      "needs_background": "light"
     },
     "output_type": "display_data"
    }
   ],
   "source": [
    "df_num = original_df.select_dtypes(include = ['float64', 'int64'])\n",
    "df_num.hist(figsize=(16, 20), bins=50, xlabelsize=8, ylabelsize=8);"
   ]
  },
  {
   "cell_type": "code",
   "execution_count": 192,
   "metadata": {},
   "outputs": [
    {
     "data": {
      "image/png": "[encoded data removed]",
      "text/plain": [
       "<Figure size 900x180 with 5 Axes>"
      ]
     },
     "metadata": {
      "needs_background": "light"
     },
     "output_type": "display_data"
    }
   ],
   "source": [
    "for i in range(0, len(df_num.columns), 5):\n",
    "    sns.pairplot(data=df_num,\n",
    "                x_vars=df_num.columns[i:i+5],\n",
    "                y_vars=['Score'])"
   ]
  },
  {
   "cell_type": "code",
   "execution_count": 193,
   "metadata": {},
   "outputs": [
    {
     "data": {
      "image/png": "[encoded data removed]",
      "text/plain": [
       "<Figure size 648x576 with 1 Axes>"
      ]
     },
     "metadata": {
      "needs_background": "light"
     },
     "output_type": "display_data"
    }
   ],
   "source": [
    "plt.figure(figsize=(9, 8))\n",
    "sns.distplot(original_df['Score'], color='g', bins=100, hist_kws={'alpha': 0.4});"
   ]
  },
  {
   "cell_type": "code",
   "execution_count": 194,
   "metadata": {},
   "outputs": [
    {
     "name": "stdout",
     "output_type": "stream",
     "text": [
      "HelpfulnessDenominator: -0.07724218886413477\n",
      "           Time: -0.06318610909302598\n",
      "HelpfulnessNumerator: -0.022805615821503325\n",
      "             Id: 0.009985657224340675\n"
     ]
    }
   ],
   "source": [
    "import operator\n",
    "\n",
    "# here we calculate the correlations of all of our numeric attributes. we ignore attributes with correlation of 0.\n",
    "individual_features_df = []\n",
    "for i in range(0, len(df_num.columns) - 1): # -1 because last column is score.\n",
    "    tmpDf = df_num[[df_num.columns[i], 'Score']]\n",
    "    tmpDf = tmpDf[tmpDf[df_num.columns[i]] != 0]\n",
    "    individual_features_df.append(tmpDf)\n",
    "\n",
    "all_correlations = {feature.columns[0]: feature.corr()['Score'][0] for feature in individual_features_df}\n",
    "all_correlations = sorted(all_correlations.items(), key=operator.itemgetter(1))\n",
    "for (key, value) in all_correlations:\n",
    "    print(\"{:>15}: {:>15}\".format(key, value))"
   ]
  },
  {
   "cell_type": "code",
   "execution_count": 195,
   "metadata": {},
   "outputs": [
    {
     "name": "stdout",
     "output_type": "stream",
     "text": [
      "There is 0 strongly correlated numerical values with Score:\n",
      "[]\n"
     ]
    }
   ],
   "source": [
    "# here we print any numeric attribute that has a strong correlation with our score (>0.5)\n",
    "golden_features_list = [key for key, value in all_correlations if abs(value) >= 0.5]\n",
    "print(\"There is {} strongly correlated numerical values with Score:\\n{}\".format(len(golden_features_list), golden_features_list))"
   ]
  },
  {
   "cell_type": "code",
   "execution_count": 196,
   "metadata": {},
   "outputs": [
    {
     "data": {
      "image/png": "[encoded data removed]",
      "text/plain": [
       "<Figure size 864x720 with 2 Axes>"
      ]
     },
     "metadata": {
      "needs_background": "light"
     },
     "output_type": "display_data"
    }
   ],
   "source": [
    "# exploring inter-correlation among numeric attributes.\n",
    "corr = df_num.drop('Score', axis=1).corr() # We already examined Score correlations\n",
    "plt.figure(figsize=(12, 10))\n",
    "\n",
    "# here we finally plot a correlation matrix for our numeric attributes.\n",
    "sns.heatmap(corr[(corr >= 0.5) | (corr <= -0.4)], \n",
    "            cmap='viridis', vmax=1.0, vmin=-1.0, linewidths=0.1,\n",
    "            annot=True, annot_kws={\"size\": 8}, square=True);"
   ]
  },
  {
   "cell_type": "code",
   "execution_count": 197,
   "metadata": {},
   "outputs": [
    {
     "name": "stdout",
     "output_type": "stream",
     "text": [
      "There is 5 non numerical features including:\n",
      "['ProductId', 'UserId', 'ProfileName', 'Summary', 'Text']\n"
     ]
    }
   ],
   "source": [
    "# now we move onto our categorical (non numeric) attributes. \n",
    "df_not_num = original_df.select_dtypes(include = ['O'])\n",
    "print('There is {} non numerical features including:\\n{}'.format(len(df_not_num.columns), df_not_num.columns.tolist()))"
   ]
  },
  {
   "cell_type": "code",
   "execution_count": 198,
   "metadata": {},
   "outputs": [
    {
     "data": {
      "text/plain": [
       "<matplotlib.axes._subplots.AxesSubplot at 0x18faaf80240>"
      ]
     },
     "execution_count": 198,
     "metadata": {},
     "output_type": "execute_result"
    },
    {
     "data": {
      "image/png": "[encoded data removed]",
      "text/plain": [
       "<Figure size 864x720 with 2 Axes>"
      ]
     },
     "metadata": {
      "needs_background": "light"
     },
     "output_type": "display_data"
    }
   ],
   "source": [
    "# Categorical attributes inter-correlation\n",
    "plt.figure(figsize=(12, 10))\n",
    "corr = df_not_num.apply(lambda x: x.factorize()[0]).corr()\n",
    "sns.heatmap(corr, \n",
    "            cmap='viridis', vmax=1.0, vmin=-1.0, linewidths=0.1,\n",
    "            annot=True, annot_kws={\"size\": 8}, square=True)"
   ]
  },
  {
   "cell_type": "code",
   "execution_count": 199,
   "metadata": {},
   "outputs": [
    {
     "data": {
      "text/plain": [
       "<matplotlib.axes._subplots.AxesSubplot at 0x18faaf80f60>"
      ]
     },
     "execution_count": 199,
     "metadata": {},
     "output_type": "execute_result"
    },
    {
     "data": {
      "image/png": "[encoded data removed]",
      "text/plain": [
       "<Figure size 1080x864 with 2 Axes>"
      ]
     },
     "metadata": {
      "needs_background": "light"
     },
     "output_type": "display_data"
    }
   ],
   "source": [
    "# we finally print a correlation matrix that includes our factorized categorical values as well as the numerical attributes.\n",
    "plt.figure(figsize=(15, 12))\n",
    "corr = original_df.apply(lambda x: x.factorize()[0]).corr()\n",
    "sns.heatmap(corr, \n",
    "            cmap='viridis', vmax=1.0, vmin=-1.0, linewidths=0.5,\n",
    "            annot=True, annot_kws={\"size\": 9}, square=True)"
   ]
  },
  {
   "cell_type": "markdown",
   "metadata": {},
   "source": [
    "# 2-Text Processing and Normalization: (20%)\n",
    "Thoroughly experiment with different text processing and normalization alternatives. Explain the\n",
    "trade-off and benefits of using each and justify their effectiveness for the current data set. "
   ]
  },
  {
   "cell_type": "markdown",
   "metadata": {},
   "source": [
    "#### Extract Needed Columns"
   ]
  },
  {
   "cell_type": "code",
   "execution_count": 200,
   "metadata": {},
   "outputs": [],
   "source": [
    "# Get rid of un needed columns\n",
    "\n",
    "df_required_columns = neededColumnsOnly(original_df, ['ProductId','Score','Summary','Text'])"
   ]
  },
  {
   "cell_type": "code",
   "execution_count": 201,
   "metadata": {
    "scrolled": true
   },
   "outputs": [
    {
     "data": {
      "text/html": [
       "<div>\n",
       "<style scoped>\n",
       "    .dataframe tbody tr th:only-of-type {\n",
       "        vertical-align: middle;\n",
       "    }\n",
       "\n",
       "    .dataframe tbody tr th {\n",
       "        vertical-align: top;\n",
       "    }\n",
       "\n",
       "    .dataframe thead th {\n",
       "        text-align: right;\n",
       "    }\n",
       "</style>\n",
       "<table border=\"1\" class=\"dataframe\">\n",
       "  <thead>\n",
       "    <tr style=\"text-align: right;\">\n",
       "      <th></th>\n",
       "      <th>ProductId</th>\n",
       "      <th>Summary</th>\n",
       "      <th>Text</th>\n",
       "      <th>Score</th>\n",
       "    </tr>\n",
       "  </thead>\n",
       "  <tbody>\n",
       "    <tr>\n",
       "      <th>0</th>\n",
       "      <td>B0034EDLS2</td>\n",
       "      <td>Very Good</td>\n",
       "      <td>I received this product early from the seller!...</td>\n",
       "      <td>5</td>\n",
       "    </tr>\n",
       "    <tr>\n",
       "      <th>1</th>\n",
       "      <td>B001I7HJE4</td>\n",
       "      <td>Organic, Kosher, Tasty Assortment of Premium T...</td>\n",
       "      <td>*****&lt;br /&gt;Numi's Collection Assortment Melang...</td>\n",
       "      <td>5</td>\n",
       "    </tr>\n",
       "    <tr>\n",
       "      <th>2</th>\n",
       "      <td>B000LKTB90</td>\n",
       "      <td>excellent gluten-free spaghetti: great taste, ...</td>\n",
       "      <td>I was very careful not to overcook this pasta,...</td>\n",
       "      <td>5</td>\n",
       "    </tr>\n",
       "    <tr>\n",
       "      <th>3</th>\n",
       "      <td>B001HXJPS2</td>\n",
       "      <td>Lindt is Lindt</td>\n",
       "      <td>Buying this multi-pack I was misled by the pic...</td>\n",
       "      <td>5</td>\n",
       "    </tr>\n",
       "    <tr>\n",
       "      <th>4</th>\n",
       "      <td>B006H34CUS</td>\n",
       "      <td>YUM!!!!!</td>\n",
       "      <td>These bars are so good! I loved them warmed up...</td>\n",
       "      <td>5</td>\n",
       "    </tr>\n",
       "    <tr>\n",
       "      <th>5</th>\n",
       "      <td>B004728MI4</td>\n",
       "      <td>Delicious</td>\n",
       "      <td>I love these chips, I buy the 24 pack once a m...</td>\n",
       "      <td>5</td>\n",
       "    </tr>\n",
       "    <tr>\n",
       "      <th>6</th>\n",
       "      <td>B001BZ5EFE</td>\n",
       "      <td>Tastes great and it's organic!!</td>\n",
       "      <td>I'm a huge fan of eating cereal for breakfast....</td>\n",
       "      <td>5</td>\n",
       "    </tr>\n",
       "    <tr>\n",
       "      <th>7</th>\n",
       "      <td>B0001AVRQK</td>\n",
       "      <td>Poor taste</td>\n",
       "      <td>I was really disappointed with the Sorghum we ...</td>\n",
       "      <td>2</td>\n",
       "    </tr>\n",
       "    <tr>\n",
       "      <th>8</th>\n",
       "      <td>B005GV9RZC</td>\n",
       "      <td>Better than US Instant Coffee</td>\n",
       "      <td>A friend who has gone to Korea gave me a coupl...</td>\n",
       "      <td>3</td>\n",
       "    </tr>\n",
       "    <tr>\n",
       "      <th>9</th>\n",
       "      <td>B004FEN3GK</td>\n",
       "      <td>Hard not to like!</td>\n",
       "      <td>No need for plastic baggies or sloppy tin foil...</td>\n",
       "      <td>4</td>\n",
       "    </tr>\n",
       "  </tbody>\n",
       "</table>\n",
       "</div>"
      ],
      "text/plain": [
       "    ProductId                                            Summary  \\\n",
       "0  B0034EDLS2                                          Very Good   \n",
       "1  B001I7HJE4  Organic, Kosher, Tasty Assortment of Premium T...   \n",
       "2  B000LKTB90  excellent gluten-free spaghetti: great taste, ...   \n",
       "3  B001HXJPS2                                     Lindt is Lindt   \n",
       "4  B006H34CUS                                           YUM!!!!!   \n",
       "5  B004728MI4                                          Delicious   \n",
       "6  B001BZ5EFE                    Tastes great and it's organic!!   \n",
       "7  B0001AVRQK                                         Poor taste   \n",
       "8  B005GV9RZC                      Better than US Instant Coffee   \n",
       "9  B004FEN3GK                                  Hard not to like!   \n",
       "\n",
       "                                                Text  Score  \n",
       "0  I received this product early from the seller!...      5  \n",
       "1  *****<br />Numi's Collection Assortment Melang...      5  \n",
       "2  I was very careful not to overcook this pasta,...      5  \n",
       "3  Buying this multi-pack I was misled by the pic...      5  \n",
       "4  These bars are so good! I loved them warmed up...      5  \n",
       "5  I love these chips, I buy the 24 pack once a m...      5  \n",
       "6  I'm a huge fan of eating cereal for breakfast....      5  \n",
       "7  I was really disappointed with the Sorghum we ...      2  \n",
       "8  A friend who has gone to Korea gave me a coupl...      3  \n",
       "9  No need for plastic baggies or sloppy tin foil...      4  "
      ]
     },
     "execution_count": 201,
     "metadata": {},
     "output_type": "execute_result"
    }
   ],
   "source": [
    "df_required_columns.head(10)"
   ]
  },
  {
   "cell_type": "markdown",
   "metadata": {},
   "source": [
    "#### Remove Nulls"
   ]
  },
  {
   "cell_type": "code",
   "execution_count": 202,
   "metadata": {},
   "outputs": [],
   "source": [
    "# Get list of columns containing null values\n",
    "\n",
    "list_columns_with_nulls = columns_with_nulls(df_required_columns, 'ProductId')"
   ]
  },
  {
   "cell_type": "code",
   "execution_count": 203,
   "metadata": {},
   "outputs": [
    {
     "data": {
      "text/plain": [
       "['Summary']"
      ]
     },
     "execution_count": 203,
     "metadata": {},
     "output_type": "execute_result"
    }
   ],
   "source": [
    "list_columns_with_nulls"
   ]
  },
  {
   "cell_type": "code",
   "execution_count": 204,
   "metadata": {},
   "outputs": [],
   "source": [
    "# Replace null values with empty string\n",
    "\n",
    "df_without_nulls = remove_nulls(df_required_columns, list_columns_with_nulls)"
   ]
  },
  {
   "cell_type": "code",
   "execution_count": 207,
   "metadata": {},
   "outputs": [
    {
     "data": {
      "text/html": [
       "<div>\n",
       "<style scoped>\n",
       "    .dataframe tbody tr th:only-of-type {\n",
       "        vertical-align: middle;\n",
       "    }\n",
       "\n",
       "    .dataframe tbody tr th {\n",
       "        vertical-align: top;\n",
       "    }\n",
       "\n",
       "    .dataframe thead th {\n",
       "        text-align: right;\n",
       "    }\n",
       "</style>\n",
       "<table border=\"1\" class=\"dataframe\">\n",
       "  <thead>\n",
       "    <tr style=\"text-align: right;\">\n",
       "      <th></th>\n",
       "      <th>ProductId</th>\n",
       "      <th>Summary</th>\n",
       "      <th>Text</th>\n",
       "      <th>Score</th>\n",
       "    </tr>\n",
       "  </thead>\n",
       "  <tbody>\n",
       "    <tr>\n",
       "      <th>0</th>\n",
       "      <td>B0034EDLS2</td>\n",
       "      <td>Very Good</td>\n",
       "      <td>I received this product early from the seller!...</td>\n",
       "      <td>5</td>\n",
       "    </tr>\n",
       "    <tr>\n",
       "      <th>1</th>\n",
       "      <td>B001I7HJE4</td>\n",
       "      <td>Organic, Kosher, Tasty Assortment of Premium T...</td>\n",
       "      <td>*****&lt;br /&gt;Numi's Collection Assortment Melang...</td>\n",
       "      <td>5</td>\n",
       "    </tr>\n",
       "    <tr>\n",
       "      <th>2</th>\n",
       "      <td>B000LKTB90</td>\n",
       "      <td>excellent gluten-free spaghetti: great taste, ...</td>\n",
       "      <td>I was very careful not to overcook this pasta,...</td>\n",
       "      <td>5</td>\n",
       "    </tr>\n",
       "    <tr>\n",
       "      <th>3</th>\n",
       "      <td>B001HXJPS2</td>\n",
       "      <td>Lindt is Lindt</td>\n",
       "      <td>Buying this multi-pack I was misled by the pic...</td>\n",
       "      <td>5</td>\n",
       "    </tr>\n",
       "    <tr>\n",
       "      <th>4</th>\n",
       "      <td>B006H34CUS</td>\n",
       "      <td>YUM!!!!!</td>\n",
       "      <td>These bars are so good! I loved them warmed up...</td>\n",
       "      <td>5</td>\n",
       "    </tr>\n",
       "  </tbody>\n",
       "</table>\n",
       "</div>"
      ],
      "text/plain": [
       "    ProductId                                            Summary  \\\n",
       "0  B0034EDLS2                                          Very Good   \n",
       "1  B001I7HJE4  Organic, Kosher, Tasty Assortment of Premium T...   \n",
       "2  B000LKTB90  excellent gluten-free spaghetti: great taste, ...   \n",
       "3  B001HXJPS2                                     Lindt is Lindt   \n",
       "4  B006H34CUS                                           YUM!!!!!   \n",
       "\n",
       "                                                Text  Score  \n",
       "0  I received this product early from the seller!...      5  \n",
       "1  *****<br />Numi's Collection Assortment Melang...      5  \n",
       "2  I was very careful not to overcook this pasta,...      5  \n",
       "3  Buying this multi-pack I was misled by the pic...      5  \n",
       "4  These bars are so good! I loved them warmed up...      5  "
      ]
     },
     "execution_count": 207,
     "metadata": {},
     "output_type": "execute_result"
    }
   ],
   "source": [
    "df_without_nulls.head()"
   ]
  },
  {
   "cell_type": "code",
   "execution_count": 208,
   "metadata": {},
   "outputs": [
    {
     "data": {
      "text/plain": [
       "[]"
      ]
     },
     "execution_count": 208,
     "metadata": {},
     "output_type": "execute_result"
    }
   ],
   "source": [
    "# double check if removed\n",
    "\n",
    "columns_with_nulls(df_without_nulls, 'ProductId')"
   ]
  },
  {
   "cell_type": "markdown",
   "metadata": {},
   "source": [
    "#### Remove Html Tags"
   ]
  },
  {
   "cell_type": "code",
   "execution_count": 209,
   "metadata": {},
   "outputs": [],
   "source": [
    "# Get list of columns containing html tags\n",
    "\n",
    "list_columns_with_html = columns_with_html(df_without_nulls)"
   ]
  },
  {
   "cell_type": "code",
   "execution_count": 210,
   "metadata": {},
   "outputs": [
    {
     "data": {
      "text/plain": [
       "['Text']"
      ]
     },
     "execution_count": 210,
     "metadata": {},
     "output_type": "execute_result"
    }
   ],
   "source": [
    "list_columns_with_html"
   ]
  },
  {
   "cell_type": "code",
   "execution_count": 211,
   "metadata": {
    "scrolled": false
   },
   "outputs": [
    {
     "data": {
      "text/plain": [
       "'*****<br />Numi\\'s Collection Assortment Melange includes:<br />5 Herbal Teas (caffeine-free, also called \"teasans\"):<br />* Dry Desert Lime: Lime Herbal Teasan<br />* Fields of Gold: Lemongrass Herbal Teasan<br />* Red Mellow Bush: Rooibos Herbal Teasan<br />* Bushmen\\'s Brew: Honeybush Herbal Teasan<br />* Simply Mint: Moroccan Mint<br /><br />2 Green Teas (lower in caffeine):<br />* Temple of Heaven: Gunpowder Green Tea<br />* Monkey King: Jasmine Green Tea<br /><br />2 Black Teas (contain caffeine):<br />* Chinese Breakfast: Yunnan Black Tea<br />* Smoky Tarry: Lapsang Souchong Black Tea<br /><br />This is a total of nine different teas, two tea bags of each one in each box. Numi teas are known for their high-quality, organic and kosher ingredients, and in my opinion, are some of the tastiest and best teas I have ever tried. They do not include artificial ingredients or flavorings.<br /><br />On the box, the manufacturer writes: \"From mist-covered mountains to sun-drenched deserts to fertile fields, we proudly bring you our tea palette. The flavors range from smooth earthiness, and light floral scents, to refreshingly sweet and sour notes. What they all share is the recollection of how some Ancient One tamed fire and water to coexist harmoniously, and steeped in them the gifts of Nature. Since that distant past, people have soothed, roused, healed, explored and celebrated with these wonderful infusions. We encourage you to do the same with Numi\\'s finest.\"<br /><br />The price is perfect, a big savings over single boxes. If you like Numi teas and want to sample a wonderful assortment, get it---you won\\'t be sorry. There may be some you like and others you don\\'t, but sampling them will be a delightful experience. If you are new to Numi this is an excellent way to sample their high-quality teas. I do not think you could find a better source of premium tea than Numi.<br /><br />Highly recommended.<br />*****'"
      ]
     },
     "execution_count": 211,
     "metadata": {},
     "output_type": "execute_result"
    }
   ],
   "source": [
    "# example of html tag in text column\n",
    "\n",
    "df_without_nulls.loc[1]['Text']"
   ]
  },
  {
   "cell_type": "code",
   "execution_count": 212,
   "metadata": {},
   "outputs": [],
   "source": [
    "df_without_html = df_without_nulls.copy()"
   ]
  },
  {
   "cell_type": "code",
   "execution_count": 213,
   "metadata": {},
   "outputs": [],
   "source": [
    "# Get rid of html tags \n",
    "df_without_html['Text'] = df_without_html['Text'].apply(remove_html_tags)"
   ]
  },
  {
   "cell_type": "code",
   "execution_count": 214,
   "metadata": {
    "scrolled": false
   },
   "outputs": [
    {
     "data": {
      "text/plain": [
       "'***** Numi\\'s Collection Assortment Melange includes: 5 Herbal Teas (caffeine-free, also called \"teasans\"): * Dry Desert Lime: Lime Herbal Teasan * Fields of Gold: Lemongrass Herbal Teasan * Red Mellow Bush: Rooibos Herbal Teasan * Bushmen\\'s Brew: Honeybush Herbal Teasan * Simply Mint: Moroccan Mint 2 Green Teas (lower in caffeine): * Temple of Heaven: Gunpowder Green Tea * Monkey King: Jasmine Green Tea 2 Black Teas (contain caffeine): * Chinese Breakfast: Yunnan Black Tea * Smoky Tarry: Lapsang Souchong Black Tea This is a total of nine different teas, two tea bags of each one in each box. Numi teas are known for their high-quality, organic and kosher ingredients, and in my opinion, are some of the tastiest and best teas I have ever tried. They do not include artificial ingredients or flavorings. On the box, the manufacturer writes: \"From mist-covered mountains to sun-drenched deserts to fertile fields, we proudly bring you our tea palette. The flavors range from smooth earthiness, and light floral scents, to refreshingly sweet and sour notes. What they all share is the recollection of how some Ancient One tamed fire and water to coexist harmoniously, and steeped in them the gifts of Nature. Since that distant past, people have soothed, roused, healed, explored and celebrated with these wonderful infusions. We encourage you to do the same with Numi\\'s finest.\" The price is perfect, a big savings over single boxes. If you like Numi teas and want to sample a wonderful assortment, get it---you won\\'t be sorry. There may be some you like and others you don\\'t, but sampling them will be a delightful experience. If you are new to Numi this is an excellent way to sample their high-quality teas. I do not think you could find a better source of premium tea than Numi. Highly recommended. *****'"
      ]
     },
     "execution_count": 214,
     "metadata": {},
     "output_type": "execute_result"
    }
   ],
   "source": [
    "df_without_html.loc[1]['Text']"
   ]
  },
  {
   "cell_type": "markdown",
   "metadata": {},
   "source": [
    "#### Merge Summary and Text in review column"
   ]
  },
  {
   "cell_type": "code",
   "execution_count": 215,
   "metadata": {},
   "outputs": [],
   "source": [
    "# final dataframe preparation\n",
    "\n",
    "final_df = merge_summary_text(df_without_html)"
   ]
  },
  {
   "cell_type": "code",
   "execution_count": 216,
   "metadata": {
    "scrolled": false
   },
   "outputs": [
    {
     "data": {
      "text/html": [
       "<div>\n",
       "<style scoped>\n",
       "    .dataframe tbody tr th:only-of-type {\n",
       "        vertical-align: middle;\n",
       "    }\n",
       "\n",
       "    .dataframe tbody tr th {\n",
       "        vertical-align: top;\n",
       "    }\n",
       "\n",
       "    .dataframe thead th {\n",
       "        text-align: right;\n",
       "    }\n",
       "</style>\n",
       "<table border=\"1\" class=\"dataframe\">\n",
       "  <thead>\n",
       "    <tr style=\"text-align: right;\">\n",
       "      <th></th>\n",
       "      <th>Score</th>\n",
       "      <th>review</th>\n",
       "    </tr>\n",
       "  </thead>\n",
       "  <tbody>\n",
       "    <tr>\n",
       "      <th>0</th>\n",
       "      <td>5</td>\n",
       "      <td>Very Good I received this product early from t...</td>\n",
       "    </tr>\n",
       "    <tr>\n",
       "      <th>1</th>\n",
       "      <td>5</td>\n",
       "      <td>Organic, Kosher, Tasty Assortment of Premium T...</td>\n",
       "    </tr>\n",
       "    <tr>\n",
       "      <th>2</th>\n",
       "      <td>5</td>\n",
       "      <td>excellent gluten-free spaghetti: great taste, ...</td>\n",
       "    </tr>\n",
       "    <tr>\n",
       "      <th>3</th>\n",
       "      <td>5</td>\n",
       "      <td>Lindt is Lindt Buying this multi-pack I was mi...</td>\n",
       "    </tr>\n",
       "    <tr>\n",
       "      <th>4</th>\n",
       "      <td>5</td>\n",
       "      <td>YUM!!!!! These bars are so good! I loved them ...</td>\n",
       "    </tr>\n",
       "    <tr>\n",
       "      <th>5</th>\n",
       "      <td>5</td>\n",
       "      <td>Delicious I love these chips, I buy the 24 pac...</td>\n",
       "    </tr>\n",
       "    <tr>\n",
       "      <th>6</th>\n",
       "      <td>5</td>\n",
       "      <td>Tastes great and it's organic!! I'm a huge fan...</td>\n",
       "    </tr>\n",
       "    <tr>\n",
       "      <th>7</th>\n",
       "      <td>2</td>\n",
       "      <td>Poor taste I was really disappointed with the ...</td>\n",
       "    </tr>\n",
       "    <tr>\n",
       "      <th>8</th>\n",
       "      <td>3</td>\n",
       "      <td>Better than US Instant Coffee A friend who has...</td>\n",
       "    </tr>\n",
       "    <tr>\n",
       "      <th>9</th>\n",
       "      <td>4</td>\n",
       "      <td>Hard not to like! No need for plastic baggies ...</td>\n",
       "    </tr>\n",
       "  </tbody>\n",
       "</table>\n",
       "</div>"
      ],
      "text/plain": [
       "   Score                                             review\n",
       "0      5  Very Good I received this product early from t...\n",
       "1      5  Organic, Kosher, Tasty Assortment of Premium T...\n",
       "2      5  excellent gluten-free spaghetti: great taste, ...\n",
       "3      5  Lindt is Lindt Buying this multi-pack I was mi...\n",
       "4      5  YUM!!!!! These bars are so good! I loved them ...\n",
       "5      5  Delicious I love these chips, I buy the 24 pac...\n",
       "6      5  Tastes great and it's organic!! I'm a huge fan...\n",
       "7      2  Poor taste I was really disappointed with the ...\n",
       "8      3  Better than US Instant Coffee A friend who has...\n",
       "9      4  Hard not to like! No need for plastic baggies ..."
      ]
     },
     "execution_count": 216,
     "metadata": {},
     "output_type": "execute_result"
    }
   ],
   "source": [
    "final_df.head(10)"
   ]
  },
  {
   "cell_type": "code",
   "execution_count": 217,
   "metadata": {},
   "outputs": [
    {
     "data": {
      "text/plain": [
       "426340"
      ]
     },
     "execution_count": 217,
     "metadata": {},
     "output_type": "execute_result"
    }
   ],
   "source": [
    "len(final_df)"
   ]
  },
  {
   "cell_type": "markdown",
   "metadata": {},
   "source": [
    "#### Remove Outliers"
   ]
  },
  {
   "cell_type": "code",
   "execution_count": 251,
   "metadata": {},
   "outputs": [
    {
     "name": "stdout",
     "output_type": "stream",
     "text": [
      "424844\n"
     ]
    },
    {
     "name": "stderr",
     "output_type": "stream",
     "text": [
      "C:\\ProgramData\\Anaconda3\\lib\\site-packages\\ipykernel_launcher.py:2: SettingWithCopyWarning: \n",
      "A value is trying to be set on a copy of a slice from a DataFrame.\n",
      "Try using .loc[row_indexer,col_indexer] = value instead\n",
      "\n",
      "See the caveats in the documentation: http://pandas.pydata.org/pandas-docs/stable/indexing.html#indexing-view-versus-copy\n",
      "  \n"
     ]
    }
   ],
   "source": [
    "final_df = remove_outliers(final_df,3000)"
   ]
  },
  {
   "cell_type": "markdown",
   "metadata": {},
   "source": [
    "#####  Correct accented letters"
   ]
  },
  {
   "cell_type": "code",
   "execution_count": 229,
   "metadata": {},
   "outputs": [],
   "source": [
    "#check if accent exist\n",
    "text_html = final_df['review'].str.find('é')\n",
    "text_html = text_html[text_html != -1]"
   ]
  },
  {
   "cell_type": "code",
   "execution_count": 230,
   "metadata": {},
   "outputs": [
    {
     "data": {
      "text/plain": [
       "864       173\n",
       "3467      371\n",
       "4554     1236\n",
       "4590     1494\n",
       "7852       15\n",
       "9339      123\n",
       "12255     112\n",
       "14951    1547\n",
       "15712      61\n",
       "16072     471\n",
       "Name: review, dtype: int64"
      ]
     },
     "execution_count": 230,
     "metadata": {},
     "output_type": "execute_result"
    }
   ],
   "source": [
    "text_html.head(10)"
   ]
  },
  {
   "cell_type": "code",
   "execution_count": 245,
   "metadata": {},
   "outputs": [],
   "source": [
    "# we need to find new row number of nescafe\n",
    "#final_df['review'].iloc[15701] #nescafé  is found"
   ]
  },
  {
   "cell_type": "code",
   "execution_count": 246,
   "metadata": {},
   "outputs": [],
   "source": [
    "#remove accents\n",
    "#final_df['review'] = final_df['review'].apply(correct_accent)"
   ]
  },
  {
   "cell_type": "code",
   "execution_count": 247,
   "metadata": {},
   "outputs": [],
   "source": [
    "#double check if removed\n",
    "#final_df['review'].iloc[15712]"
   ]
  },
  {
   "cell_type": "markdown",
   "metadata": {},
   "source": [
    "##### Remove Punctuations"
   ]
  },
  {
   "cell_type": "code",
   "execution_count": 250,
   "metadata": {},
   "outputs": [
    {
     "data": {
      "text/html": [
       "<div>\n",
       "<style scoped>\n",
       "    .dataframe tbody tr th:only-of-type {\n",
       "        vertical-align: middle;\n",
       "    }\n",
       "\n",
       "    .dataframe tbody tr th {\n",
       "        vertical-align: top;\n",
       "    }\n",
       "\n",
       "    .dataframe thead th {\n",
       "        text-align: right;\n",
       "    }\n",
       "</style>\n",
       "<table border=\"1\" class=\"dataframe\">\n",
       "  <thead>\n",
       "    <tr style=\"text-align: right;\">\n",
       "      <th></th>\n",
       "      <th>Score</th>\n",
       "      <th>review</th>\n",
       "    </tr>\n",
       "  </thead>\n",
       "  <tbody>\n",
       "    <tr>\n",
       "      <th>0</th>\n",
       "      <td>5</td>\n",
       "      <td>Very Good I received this product early from t...</td>\n",
       "    </tr>\n",
       "    <tr>\n",
       "      <th>1</th>\n",
       "      <td>5</td>\n",
       "      <td>Organic  Kosher  Tasty Assortment of Premium T...</td>\n",
       "    </tr>\n",
       "    <tr>\n",
       "      <th>2</th>\n",
       "      <td>5</td>\n",
       "      <td>excellent gluten free spaghetti  great taste  ...</td>\n",
       "    </tr>\n",
       "    <tr>\n",
       "      <th>3</th>\n",
       "      <td>5</td>\n",
       "      <td>Lindt is Lindt Buying this multi pack I was mi...</td>\n",
       "    </tr>\n",
       "    <tr>\n",
       "      <th>4</th>\n",
       "      <td>5</td>\n",
       "      <td>YUM      These bars are so good  I loved them ...</td>\n",
       "    </tr>\n",
       "    <tr>\n",
       "      <th>5</th>\n",
       "      <td>5</td>\n",
       "      <td>Delicious I love these chips  I buy the 24 pac...</td>\n",
       "    </tr>\n",
       "    <tr>\n",
       "      <th>6</th>\n",
       "      <td>5</td>\n",
       "      <td>Tastes great and it's organic   I'm a huge fan...</td>\n",
       "    </tr>\n",
       "    <tr>\n",
       "      <th>7</th>\n",
       "      <td>2</td>\n",
       "      <td>Poor taste I was really disappointed with the ...</td>\n",
       "    </tr>\n",
       "    <tr>\n",
       "      <th>8</th>\n",
       "      <td>3</td>\n",
       "      <td>Better than US Instant Coffee A friend who has...</td>\n",
       "    </tr>\n",
       "    <tr>\n",
       "      <th>9</th>\n",
       "      <td>4</td>\n",
       "      <td>Hard not to like  No need for plastic baggies ...</td>\n",
       "    </tr>\n",
       "  </tbody>\n",
       "</table>\n",
       "</div>"
      ],
      "text/plain": [
       "   Score                                             review\n",
       "0      5  Very Good I received this product early from t...\n",
       "1      5  Organic  Kosher  Tasty Assortment of Premium T...\n",
       "2      5  excellent gluten free spaghetti  great taste  ...\n",
       "3      5  Lindt is Lindt Buying this multi pack I was mi...\n",
       "4      5  YUM      These bars are so good  I loved them ...\n",
       "5      5  Delicious I love these chips  I buy the 24 pac...\n",
       "6      5  Tastes great and it's organic   I'm a huge fan...\n",
       "7      2  Poor taste I was really disappointed with the ...\n",
       "8      3  Better than US Instant Coffee A friend who has...\n",
       "9      4  Hard not to like  No need for plastic baggies ..."
      ]
     },
     "execution_count": 250,
     "metadata": {},
     "output_type": "execute_result"
    }
   ],
   "source": [
    "final_df.head(10)"
   ]
  },
  {
   "cell_type": "code",
   "execution_count": 252,
   "metadata": {},
   "outputs": [],
   "source": [
    "#remove punctuations\n",
    "final_df = final_df.copy()\n",
    "final_df['review'] = final_df['review'].apply(remove_punctuations)"
   ]
  },
  {
   "cell_type": "code",
   "execution_count": 253,
   "metadata": {},
   "outputs": [
    {
     "data": {
      "text/plain": [
       "\"Organic  Kosher  Tasty Assortment of Premium Teas   Teasans       Numi's Collection Assortment Melange includes  5 Herbal Teas  caffeine free  also called  teasans      Dry Desert Lime  Lime Herbal Teasan   Fields of Gold  Lemongrass Herbal Teasan   Red Mellow Bush  Rooibos Herbal Teasan   Bushmen's Brew  Honeybush Herbal Teasan   Simply Mint  Moroccan Mint 2 Green Teas  lower in caffeine     Temple of Heaven  Gunpowder Green Tea   Monkey King  Jasmine Green Tea 2 Black Teas  contain caffeine     Chinese Breakfast  Yunnan Black Tea   Smoky Tarry  Lapsang Souchong Black Tea This is a total of nine different teas  two tea bags of each one in each box  Numi teas are known for their high quality  organic and kosher ingredients  and in my opinion  are some of the tastiest and best teas I have ever tried  They do not include artificial ingredients or flavorings  On the box  the manufacturer writes   From mist covered mountains to sun drenched deserts to fertile fields  we proudly bring you our tea palette  The flavors range from smooth earthiness  and light floral scents  to refreshingly sweet and sour notes  What they all share is the recollection of how some Ancient One tamed fire and water to coexist harmoniously  and steeped in them the gifts of Nature  Since that distant past  people have soothed  roused  healed  explored and celebrated with these wonderful infusions  We encourage you to do the same with Numi's finest   The price is perfect  a big savings over single boxes  If you like Numi teas and want to sample a wonderful assortment  get it   you won't be sorry  There may be some you like and others you don't  but sampling them will be a delightful experience  If you are new to Numi this is an excellent way to sample their high quality teas  I do not think you could find a better source of premium tea than Numi  Highly recommended       \""
      ]
     },
     "execution_count": 253,
     "metadata": {},
     "output_type": "execute_result"
    }
   ],
   "source": [
    "final_df.iloc[1][\"review\"]"
   ]
  },
  {
   "cell_type": "markdown",
   "metadata": {},
   "source": [
    "##### Expand Short Words"
   ]
  },
  {
   "cell_type": "code",
   "execution_count": 254,
   "metadata": {},
   "outputs": [],
   "source": [
    "final_df['review'] = final_df['review'].apply(expand_words)"
   ]
  },
  {
   "cell_type": "code",
   "execution_count": 255,
   "metadata": {
    "scrolled": true
   },
   "outputs": [
    {
     "data": {
      "text/plain": [
       "\"Organic  Kosher  Tasty Assortment of Premium Teas   Teasans       Numi's Collection Assortment Melange includes  5 Herbal Teas  caffeine free  also called  teasans      Dry Desert Lime  Lime Herbal Teasan   Fields of Gold  Lemongrass Herbal Teasan   Red Mellow Bush  Rooibos Herbal Teasan   Bushmen's Brew  Honeybush Herbal Teasan   Simply Mint  Moroccan Mint 2 Green Teas  lower in caffeine     Temple of Heaven  Gunpowder Green Tea   Monkey King  Jasmine Green Tea 2 Black Teas  contain caffeine     Chinese Breakfast  Yunnan Black Tea   Smoky Tarry  Lapsang Souchong Black Tea This is a total of nine different teas  two tea bags of each one in each box  Numi teas are known for their high quality  organic and kosher ingredients  and in my opinion  are some of the tastiest and best teas I have ever tried  They do not include artificial ingredients or flavorings  On the box  the manufacturer writes   From mist covered mountains to sun drenched deserts to fertile fields  we proudly bring you our tea palette  The flavors range from smooth earthiness  and light floral scents  to refreshingly sweet and sour notes  What they all share is the recollection of how some Ancient One tamed fire and water to coexist harmoniously  and steeped in them the gifts of Nature  Since that distant past  people have soothed  roused  healed  explored and celebrated with these wonderful infusions  We encourage you to do the same with Numi's finest   The price is perfect  a big savings over single boxes  If you like Numi teas and want to sample a wonderful assortment  get it   you will not be sorry  There may be some you like and others you do not  but sampling them will be a delightful experience  If you are new to Numi this is an excellent way to sample their high quality teas  I do not think you could find a better source of premium tea than Numi  Highly recommended       \""
      ]
     },
     "execution_count": 255,
     "metadata": {},
     "output_type": "execute_result"
    }
   ],
   "source": [
    "final_df.iloc[1][\"review\"]"
   ]
  },
  {
   "cell_type": "markdown",
   "metadata": {},
   "source": [
    "##### Remove remaining apostrophe"
   ]
  },
  {
   "cell_type": "code",
   "execution_count": 256,
   "metadata": {},
   "outputs": [],
   "source": [
    "final_df['review'] = final_df['review'].apply(remove_apostrophe)"
   ]
  },
  {
   "cell_type": "code",
   "execution_count": 257,
   "metadata": {
    "scrolled": true
   },
   "outputs": [
    {
     "data": {
      "text/plain": [
       "'Organic  Kosher  Tasty Assortment of Premium Teas   Teasans       Numi s Collection Assortment Melange includes  5 Herbal Teas  caffeine free  also called  teasans      Dry Desert Lime  Lime Herbal Teasan   Fields of Gold  Lemongrass Herbal Teasan   Red Mellow Bush  Rooibos Herbal Teasan   Bushmen s Brew  Honeybush Herbal Teasan   Simply Mint  Moroccan Mint 2 Green Teas  lower in caffeine     Temple of Heaven  Gunpowder Green Tea   Monkey King  Jasmine Green Tea 2 Black Teas  contain caffeine     Chinese Breakfast  Yunnan Black Tea   Smoky Tarry  Lapsang Souchong Black Tea This is a total of nine different teas  two tea bags of each one in each box  Numi teas are known for their high quality  organic and kosher ingredients  and in my opinion  are some of the tastiest and best teas I have ever tried  They do not include artificial ingredients or flavorings  On the box  the manufacturer writes   From mist covered mountains to sun drenched deserts to fertile fields  we proudly bring you our tea palette  The flavors range from smooth earthiness  and light floral scents  to refreshingly sweet and sour notes  What they all share is the recollection of how some Ancient One tamed fire and water to coexist harmoniously  and steeped in them the gifts of Nature  Since that distant past  people have soothed  roused  healed  explored and celebrated with these wonderful infusions  We encourage you to do the same with Numi s finest   The price is perfect  a big savings over single boxes  If you like Numi teas and want to sample a wonderful assortment  get it   you will not be sorry  There may be some you like and others you do not  but sampling them will be a delightful experience  If you are new to Numi this is an excellent way to sample their high quality teas  I do not think you could find a better source of premium tea than Numi  Highly recommended       '"
      ]
     },
     "execution_count": 257,
     "metadata": {},
     "output_type": "execute_result"
    }
   ],
   "source": [
    "final_df.iloc[1][\"review\"]"
   ]
  },
  {
   "cell_type": "markdown",
   "metadata": {},
   "source": [
    "#### Remove Numbers"
   ]
  },
  {
   "cell_type": "code",
   "execution_count": 262,
   "metadata": {},
   "outputs": [],
   "source": [
    "final_df['review'] = final_df['review'].apply(remove_numbers)"
   ]
  },
  {
   "cell_type": "markdown",
   "metadata": {},
   "source": [
    "#### Remove Extra Spaces"
   ]
  },
  {
   "cell_type": "code",
   "execution_count": 263,
   "metadata": {},
   "outputs": [],
   "source": [
    "final_df['review'] = final_df['review'].apply(remove_extra_space)"
   ]
  },
  {
   "cell_type": "code",
   "execution_count": 264,
   "metadata": {},
   "outputs": [
    {
     "data": {
      "text/plain": [
       "'Organic Kosher Tasty Assortment of Premium Teas Teasans Numi s Collection Assortment Melange includes Herbal Teas caffeine free also called teasans Dry Desert Lime Lime Herbal Teasan Fields of Gold Lemongrass Herbal Teasan Red Mellow Bush Rooibos Herbal Teasan Bushmen s Brew Honeybush Herbal Teasan Simply Mint Moroccan Mint Green Teas lower in caffeine Temple of Heaven Gunpowder Green Tea Monkey King Jasmine Green Tea Black Teas contain caffeine Chinese Breakfast Yunnan Black Tea Smoky Tarry Lapsang Souchong Black Tea This is a total of nine different teas two tea bags of each one in each box Numi teas are known for their high quality organic and kosher ingredients and in my opinion are some of the tastiest and best teas I have ever tried They do not include artificial ingredients or flavorings On the box the manufacturer writes From mist covered mountains to sun drenched deserts to fertile fields we proudly bring you our tea palette The flavors range from smooth earthiness and light floral scents to refreshingly sweet and sour notes What they all share is the recollection of how some Ancient One tamed fire and water to coexist harmoniously and steeped in them the gifts of Nature Since that distant past people have soothed roused healed explored and celebrated with these wonderful infusions We encourage you to do the same with Numi s finest The price is perfect a big savings over single boxes If you like Numi teas and want to sample a wonderful assortment get it you will not be sorry There may be some you like and others you do not but sampling them will be a delightful experience If you are new to Numi this is an excellent way to sample their high quality teas I do not think you could find a better source of premium tea than Numi Highly recommended'"
      ]
     },
     "execution_count": 264,
     "metadata": {},
     "output_type": "execute_result"
    }
   ],
   "source": [
    "final_df.iloc[1][\"review\"]"
   ]
  },
  {
   "cell_type": "code",
   "execution_count": 265,
   "metadata": {
    "scrolled": false
   },
   "outputs": [
    {
     "data": {
      "text/html": [
       "<div>\n",
       "<style scoped>\n",
       "    .dataframe tbody tr th:only-of-type {\n",
       "        vertical-align: middle;\n",
       "    }\n",
       "\n",
       "    .dataframe tbody tr th {\n",
       "        vertical-align: top;\n",
       "    }\n",
       "\n",
       "    .dataframe thead th {\n",
       "        text-align: right;\n",
       "    }\n",
       "</style>\n",
       "<table border=\"1\" class=\"dataframe\">\n",
       "  <thead>\n",
       "    <tr style=\"text-align: right;\">\n",
       "      <th></th>\n",
       "      <th>Score</th>\n",
       "      <th>review</th>\n",
       "    </tr>\n",
       "  </thead>\n",
       "  <tbody>\n",
       "    <tr>\n",
       "      <th>0</th>\n",
       "      <td>5</td>\n",
       "      <td>Very Good I received this product early from t...</td>\n",
       "    </tr>\n",
       "    <tr>\n",
       "      <th>1</th>\n",
       "      <td>5</td>\n",
       "      <td>Organic Kosher Tasty Assortment of Premium Tea...</td>\n",
       "    </tr>\n",
       "    <tr>\n",
       "      <th>2</th>\n",
       "      <td>5</td>\n",
       "      <td>excellent gluten free spaghetti great taste gr...</td>\n",
       "    </tr>\n",
       "    <tr>\n",
       "      <th>3</th>\n",
       "      <td>5</td>\n",
       "      <td>Lindt is Lindt Buying this multi pack I was mi...</td>\n",
       "    </tr>\n",
       "    <tr>\n",
       "      <th>4</th>\n",
       "      <td>5</td>\n",
       "      <td>YUM These bars are so good I loved them warmed...</td>\n",
       "    </tr>\n",
       "    <tr>\n",
       "      <th>5</th>\n",
       "      <td>5</td>\n",
       "      <td>Delicious I love these chips I buy the pack on...</td>\n",
       "    </tr>\n",
       "    <tr>\n",
       "      <th>6</th>\n",
       "      <td>5</td>\n",
       "      <td>Tastes great and it is organic I am a huge fan...</td>\n",
       "    </tr>\n",
       "    <tr>\n",
       "      <th>7</th>\n",
       "      <td>2</td>\n",
       "      <td>Poor taste I was really disappointed with the ...</td>\n",
       "    </tr>\n",
       "    <tr>\n",
       "      <th>8</th>\n",
       "      <td>3</td>\n",
       "      <td>Better than US Instant Coffee A friend who has...</td>\n",
       "    </tr>\n",
       "    <tr>\n",
       "      <th>9</th>\n",
       "      <td>4</td>\n",
       "      <td>Hard not to like No need for plastic baggies o...</td>\n",
       "    </tr>\n",
       "  </tbody>\n",
       "</table>\n",
       "</div>"
      ],
      "text/plain": [
       "   Score                                             review\n",
       "0      5  Very Good I received this product early from t...\n",
       "1      5  Organic Kosher Tasty Assortment of Premium Tea...\n",
       "2      5  excellent gluten free spaghetti great taste gr...\n",
       "3      5  Lindt is Lindt Buying this multi pack I was mi...\n",
       "4      5  YUM These bars are so good I loved them warmed...\n",
       "5      5  Delicious I love these chips I buy the pack on...\n",
       "6      5  Tastes great and it is organic I am a huge fan...\n",
       "7      2  Poor taste I was really disappointed with the ...\n",
       "8      3  Better than US Instant Coffee A friend who has...\n",
       "9      4  Hard not to like No need for plastic baggies o..."
      ]
     },
     "execution_count": 265,
     "metadata": {},
     "output_type": "execute_result"
    }
   ],
   "source": [
    "final_df.head(10)"
   ]
  },
  {
   "cell_type": "markdown",
   "metadata": {},
   "source": [
    "####  transform to lower case"
   ]
  },
  {
   "cell_type": "code",
   "execution_count": 266,
   "metadata": {},
   "outputs": [],
   "source": [
    "final_df['review'] = final_df['review'].apply(toLower)"
   ]
  },
  {
   "cell_type": "code",
   "execution_count": 267,
   "metadata": {},
   "outputs": [
    {
     "data": {
      "text/plain": [
       "'organic kosher tasty assortment of premium teas teasans numi s collection assortment melange includes herbal teas caffeine free also called teasans dry desert lime lime herbal teasan fields of gold lemongrass herbal teasan red mellow bush rooibos herbal teasan bushmen s brew honeybush herbal teasan simply mint moroccan mint green teas lower in caffeine temple of heaven gunpowder green tea monkey king jasmine green tea black teas contain caffeine chinese breakfast yunnan black tea smoky tarry lapsang souchong black tea this is a total of nine different teas two tea bags of each one in each box numi teas are known for their high quality organic and kosher ingredients and in my opinion are some of the tastiest and best teas i have ever tried they do not include artificial ingredients or flavorings on the box the manufacturer writes from mist covered mountains to sun drenched deserts to fertile fields we proudly bring you our tea palette the flavors range from smooth earthiness and light floral scents to refreshingly sweet and sour notes what they all share is the recollection of how some ancient one tamed fire and water to coexist harmoniously and steeped in them the gifts of nature since that distant past people have soothed roused healed explored and celebrated with these wonderful infusions we encourage you to do the same with numi s finest the price is perfect a big savings over single boxes if you like numi teas and want to sample a wonderful assortment get it you will not be sorry there may be some you like and others you do not but sampling them will be a delightful experience if you are new to numi this is an excellent way to sample their high quality teas i do not think you could find a better source of premium tea than numi highly recommended'"
      ]
     },
     "execution_count": 267,
     "metadata": {},
     "output_type": "execute_result"
    }
   ],
   "source": [
    "final_df.iloc[1][\"review\"]"
   ]
  },
  {
   "cell_type": "markdown",
   "metadata": {},
   "source": [
    "#### remove stop words"
   ]
  },
  {
   "cell_type": "code",
   "execution_count": 268,
   "metadata": {},
   "outputs": [],
   "source": [
    "final_df['review'] = final_df['review'].apply(remove_stop_words)"
   ]
  },
  {
   "cell_type": "code",
   "execution_count": 269,
   "metadata": {
    "scrolled": true
   },
   "outputs": [
    {
     "data": {
      "text/plain": [
       "'organic kosher tasty assortment premium teas teasans numi collection assortment melange includes herbal teas caffeine free also called teasans dry desert lime lime herbal teasan fields gold lemongrass herbal teasan red mellow bush rooibos herbal teasan bushmen brew honeybush herbal teasan simply mint moroccan mint green teas lower caffeine temple heaven gunpowder green tea monkey king jasmine green tea black teas contain caffeine chinese breakfast yunnan black tea smoky tarry lapsang souchong black tea total nine different teas two tea bags one box numi teas known high quality organic kosher ingredients opinion tastiest best teas ever tried not include artificial ingredients flavorings box manufacturer writes mist covered mountains sun drenched deserts fertile fields proudly bring tea palette flavors range smooth earthiness light floral scents refreshingly sweet sour notes share recollection ancient one tamed fire water coexist harmoniously steeped gifts nature since distant past people soothed roused healed explored celebrated wonderful infusions encourage numi finest price perfect big savings single boxes like numi teas want sample wonderful assortment get not sorry may like others not sampling delightful experience new numi excellent way sample high quality teas not think could find better source premium tea numi highly recommended'"
      ]
     },
     "execution_count": 269,
     "metadata": {},
     "output_type": "execute_result"
    }
   ],
   "source": [
    "final_df.iloc[1][\"review\"]"
   ]
  },
  {
   "cell_type": "markdown",
   "metadata": {},
   "source": [
    "####  remove extra spaces again"
   ]
  },
  {
   "cell_type": "code",
   "execution_count": 270,
   "metadata": {},
   "outputs": [],
   "source": [
    "final_df['review'] = final_df['review'].apply(remove_extra_space)"
   ]
  },
  {
   "cell_type": "code",
   "execution_count": 271,
   "metadata": {},
   "outputs": [
    {
     "data": {
      "text/html": [
       "<div>\n",
       "<style scoped>\n",
       "    .dataframe tbody tr th:only-of-type {\n",
       "        vertical-align: middle;\n",
       "    }\n",
       "\n",
       "    .dataframe tbody tr th {\n",
       "        vertical-align: top;\n",
       "    }\n",
       "\n",
       "    .dataframe thead th {\n",
       "        text-align: right;\n",
       "    }\n",
       "</style>\n",
       "<table border=\"1\" class=\"dataframe\">\n",
       "  <thead>\n",
       "    <tr style=\"text-align: right;\">\n",
       "      <th></th>\n",
       "      <th>Score</th>\n",
       "      <th>review</th>\n",
       "    </tr>\n",
       "  </thead>\n",
       "  <tbody>\n",
       "    <tr>\n",
       "      <th>0</th>\n",
       "      <td>5</td>\n",
       "      <td>very good received product early seller tastey...</td>\n",
       "    </tr>\n",
       "    <tr>\n",
       "      <th>1</th>\n",
       "      <td>5</td>\n",
       "      <td>organic kosher tasty assortment premium teas t...</td>\n",
       "    </tr>\n",
       "    <tr>\n",
       "      <th>2</th>\n",
       "      <td>5</td>\n",
       "      <td>excellent gluten free spaghetti great taste gr...</td>\n",
       "    </tr>\n",
       "    <tr>\n",
       "      <th>3</th>\n",
       "      <td>5</td>\n",
       "      <td>lindt lindt buying multi pack misled picture w...</td>\n",
       "    </tr>\n",
       "    <tr>\n",
       "      <th>4</th>\n",
       "      <td>5</td>\n",
       "      <td>yum bars good loved warmed definitely think gr...</td>\n",
       "    </tr>\n",
       "    <tr>\n",
       "      <th>5</th>\n",
       "      <td>5</td>\n",
       "      <td>delicious love chips buy pack month bags right...</td>\n",
       "    </tr>\n",
       "    <tr>\n",
       "      <th>6</th>\n",
       "      <td>5</td>\n",
       "      <td>tastes great organic huge fan eating cereal br...</td>\n",
       "    </tr>\n",
       "    <tr>\n",
       "      <th>7</th>\n",
       "      <td>2</td>\n",
       "      <td>poor taste really disappointed sorghum purchas...</td>\n",
       "    </tr>\n",
       "    <tr>\n",
       "      <th>8</th>\n",
       "      <td>3</td>\n",
       "      <td>better us instant coffee friend gone korea gav...</td>\n",
       "    </tr>\n",
       "    <tr>\n",
       "      <th>9</th>\n",
       "      <td>4</td>\n",
       "      <td>hard not like no need plastic baggies sloppy t...</td>\n",
       "    </tr>\n",
       "  </tbody>\n",
       "</table>\n",
       "</div>"
      ],
      "text/plain": [
       "   Score                                             review\n",
       "0      5  very good received product early seller tastey...\n",
       "1      5  organic kosher tasty assortment premium teas t...\n",
       "2      5  excellent gluten free spaghetti great taste gr...\n",
       "3      5  lindt lindt buying multi pack misled picture w...\n",
       "4      5  yum bars good loved warmed definitely think gr...\n",
       "5      5  delicious love chips buy pack month bags right...\n",
       "6      5  tastes great organic huge fan eating cereal br...\n",
       "7      2  poor taste really disappointed sorghum purchas...\n",
       "8      3  better us instant coffee friend gone korea gav...\n",
       "9      4  hard not like no need plastic baggies sloppy t..."
      ]
     },
     "execution_count": 271,
     "metadata": {},
     "output_type": "execute_result"
    }
   ],
   "source": [
    "final_df.head(10)"
   ]
  },
  {
   "cell_type": "code",
   "execution_count": null,
   "metadata": {},
   "outputs": [],
   "source": []
  },
  {
   "cell_type": "markdown",
   "metadata": {},
   "source": [
    "## 1.3 Cleaned data Explore and Visualize"
   ]
  },
  {
   "cell_type": "markdown",
   "metadata": {},
   "source": [
    "#### Visualize score count"
   ]
  },
  {
   "cell_type": "code",
   "execution_count": 272,
   "metadata": {
    "scrolled": true
   },
   "outputs": [
    {
     "data": {
      "image/png": "[encoded data removed]",
      "text/plain": [
       "<Figure size 576x432 with 1 Axes>"
      ]
     },
     "metadata": {
      "needs_background": "light"
     },
     "output_type": "display_data"
    }
   ],
   "source": [
    "visualize_score_count(final_df)"
   ]
  },
  {
   "cell_type": "markdown",
   "metadata": {},
   "source": [
    "####  Describe Score Data"
   ]
  },
  {
   "cell_type": "code",
   "execution_count": 273,
   "metadata": {
    "scrolled": false
   },
   "outputs": [
    {
     "data": {
      "text/html": [
       "<div>\n",
       "<style scoped>\n",
       "    .dataframe tbody tr th:only-of-type {\n",
       "        vertical-align: middle;\n",
       "    }\n",
       "\n",
       "    .dataframe tbody tr th {\n",
       "        vertical-align: top;\n",
       "    }\n",
       "\n",
       "    .dataframe thead tr th {\n",
       "        text-align: left;\n",
       "    }\n",
       "\n",
       "    .dataframe thead tr:last-of-type th {\n",
       "        text-align: right;\n",
       "    }\n",
       "</style>\n",
       "<table border=\"1\" class=\"dataframe\">\n",
       "  <thead>\n",
       "    <tr>\n",
       "      <th></th>\n",
       "      <th colspan=\"4\" halign=\"left\">review</th>\n",
       "    </tr>\n",
       "    <tr>\n",
       "      <th></th>\n",
       "      <th>count</th>\n",
       "      <th>unique</th>\n",
       "      <th>top</th>\n",
       "      <th>freq</th>\n",
       "    </tr>\n",
       "    <tr>\n",
       "      <th>Score</th>\n",
       "      <th></th>\n",
       "      <th></th>\n",
       "      <th></th>\n",
       "      <th></th>\n",
       "    </tr>\n",
       "  </thead>\n",
       "  <tbody>\n",
       "    <tr>\n",
       "      <th>1</th>\n",
       "      <td>38912</td>\n",
       "      <td>28354</td>\n",
       "      <td>warning contains menadione according manufactu...</td>\n",
       "      <td>30</td>\n",
       "    </tr>\n",
       "    <tr>\n",
       "      <th>2</th>\n",
       "      <td>22280</td>\n",
       "      <td>16222</td>\n",
       "      <td>personal preference hoped tea would taste bett...</td>\n",
       "      <td>23</td>\n",
       "    </tr>\n",
       "    <tr>\n",
       "      <th>3</th>\n",
       "      <td>31887</td>\n",
       "      <td>23187</td>\n",
       "      <td>i pass not enough flavor murky brown color lac...</td>\n",
       "      <td>22</td>\n",
       "    </tr>\n",
       "    <tr>\n",
       "      <th>4</th>\n",
       "      <td>60069</td>\n",
       "      <td>43646</td>\n",
       "      <td>stash chamomile herbal tea stash chamomile her...</td>\n",
       "      <td>30</td>\n",
       "    </tr>\n",
       "    <tr>\n",
       "      <th>5</th>\n",
       "      <td>271696</td>\n",
       "      <td>196479</td>\n",
       "      <td>fantastic food good cat health pet food indust...</td>\n",
       "      <td>37</td>\n",
       "    </tr>\n",
       "  </tbody>\n",
       "</table>\n",
       "</div>"
      ],
      "text/plain": [
       "       review                                                                \n",
       "        count  unique                                                top freq\n",
       "Score                                                                        \n",
       "1       38912   28354  warning contains menadione according manufactu...   30\n",
       "2       22280   16222  personal preference hoped tea would taste bett...   23\n",
       "3       31887   23187  i pass not enough flavor murky brown color lac...   22\n",
       "4       60069   43646  stash chamomile herbal tea stash chamomile her...   30\n",
       "5      271696  196479  fantastic food good cat health pet food indust...   37"
      ]
     },
     "execution_count": 273,
     "metadata": {},
     "output_type": "execute_result"
    }
   ],
   "source": [
    "#Groupby Score and describe()\n",
    "final_df.groupby('Score').describe()"
   ]
  },
  {
   "cell_type": "markdown",
   "metadata": {},
   "source": [
    "####  Analyze finding"
   ]
  },
  {
   "cell_type": "markdown",
   "metadata": {},
   "source": [
    "#### we found that not all are unique. so we investigate further for uniqness"
   ]
  },
  {
   "cell_type": "code",
   "execution_count": 274,
   "metadata": {
    "scrolled": false
   },
   "outputs": [
    {
     "data": {
      "text/html": [
       "<div>\n",
       "<style scoped>\n",
       "    .dataframe tbody tr th:only-of-type {\n",
       "        vertical-align: middle;\n",
       "    }\n",
       "\n",
       "    .dataframe tbody tr th {\n",
       "        vertical-align: top;\n",
       "    }\n",
       "\n",
       "    .dataframe thead th {\n",
       "        text-align: right;\n",
       "    }\n",
       "</style>\n",
       "<table border=\"1\" class=\"dataframe\">\n",
       "  <thead>\n",
       "    <tr style=\"text-align: right;\">\n",
       "      <th></th>\n",
       "      <th>Score</th>\n",
       "    </tr>\n",
       "    <tr>\n",
       "      <th>review</th>\n",
       "      <th></th>\n",
       "    </tr>\n",
       "  </thead>\n",
       "  <tbody>\n",
       "    <tr>\n",
       "      <th>a add little organic manuka honey half cup milk microwave minute enjoy keeps eating high calorie bagel cream cheese etc much healthier run mill cereals read less sugar</th>\n",
       "      <td>1</td>\n",
       "    </tr>\n",
       "    <tr>\n",
       "      <th>a adjustments necessary love nutrition little strong month old started solids months exclusively bf first couple bits gagged quite bit simply stuck little food processer wal mart added banana wolfed like nothing applesauce works well also definetly buy more</th>\n",
       "      <td>3</td>\n",
       "    </tr>\n",
       "    <tr>\n",
       "      <th>a afterlife success many movies dealt figure death dead good angel clarence wonderful life brad pitt abysmal turn death meet joe black however tim burton presented world interestng look dead beetlejuice first moments movie barbara adam maitland go town die oddest possible way return thier house find selves confined premises thier leaving sends strange desert world populated multi layered sandworms eventually find dead must remain home years would not bad not family nyc artisans moves remodels place consulting thier caseworker juno sylvia sidney chain smoking best hire bio exorcist betelguese pronouced beetlejuice hence title agrees help unfortunately maitlands beetlejuice extremely po ed demon refuses return underworld visuals special effects movie completely stunning micheal keaton gives performance must blast play beetlejuice beer swilling cussing moral majority worst nightmare superpowers beetlejuice one tim burton best works something proud of</th>\n",
       "      <td>3</td>\n",
       "    </tr>\n",
       "    <tr>\n",
       "      <th>a appealing pate price got feeling opening serving jar cat food quite pleased taste texture pate surprisingly subtle mix flavors strikes right balance earthiness mushrooms smoky marsala wine rich butteriness pate really enjoy pate carr poppy sesame crackers going serve guests recommend carefully spreading crackers stirring serving dish ahead time avoid shaped chunks turning people off</th>\n",
       "      <td>1</td>\n",
       "    </tr>\n",
       "    <tr>\n",
       "      <th>a authentic moroccan spice blend many ethnic spice mixtures no one recipe ras el hanout family spice merchant highly treasured guarded version traditional blend particular product high quality arrived fresh not always case spices purchased line ras el hanout starts strong curry like flavors betrays indian origins followed subtle traditional african flavors nigella rosebuds although pleased blend think priced shop spices ethnic markets mostly indian middle eastern find mixtures not fresh really affordable using mixture new tagine use often enough seek african grocery store similar product price moroccan expatriates willing pay not live near city large enough type store think best ras el hanout available line matter fact tangine cookbook bought recently singled zamouri source delicious exotic blend tagines couscous delicious recipes moroccan one pot cooking emile henry flame top quart tagine red harissa paste oz zamouri spices</th>\n",
       "      <td>1</td>\n",
       "    </tr>\n",
       "    <tr>\n",
       "      <th>a authentic sriracha americans familiar huey fong sriracha hot chili sauce version sriracha sauce jokingly called screaming chicken hot sauce see asian restaurants huey fong version fairly thick somewhat sweet makes palatable american tastes came across shark sriracha somewhat accident quickly remembered wide variety sauces cuisines vary region remind matter taste preference shark sriracha quite shocking prepared traditional thai manner meaning runnier piquant many americans may put foreign language labeling fearful contents not worry not hot think many things put kicking tried sriracha sauce not hot fact nice touch sweetness makes great addition thai chinese dishes truthfully nowhere near hot tabasco sauce scoville scale hotness ranks range making medium tabasco next level self confessed hot head hot sauce lover admit shark sriracha much blendable consistency works easier cooking blends well many asian dishes typically love northern thai food shark sriracha works well with szechwan well shark sriracha gives nice pop hot without overpowering like hot sauces truly hot thai chilies rate scoville scale something bit bland taste usually bit shark sriracha gets mouth watering not let fear unknown scare shark sriracha not know missing</th>\n",
       "      <td>1</td>\n",
       "    </tr>\n",
       "    <tr>\n",
       "      <th>a awesome deal whole lotta beans great price deal would heart beat</th>\n",
       "      <td>1</td>\n",
       "    </tr>\n",
       "    <tr>\n",
       "      <th>a awesome pump pump makes easy coffee house right home screw onto monin syrup bottle easily measure much syrup going latte awesome product</th>\n",
       "      <td>1</td>\n",
       "    </tr>\n",
       "    <tr>\n",
       "      <th>a awhile coffee beverage enjoyed cappuccino italian expresso style coffee drink lowfat milk cocoa serving fl oz calories per grams total fat mg sodium total carbs grams sugars grams protein grams calcium caffeine level mg enjoyed coffee beverage tho wish chocolate taste like mocha coffee would awhile treat carbohydrate sugar levels higher try keep levels otherwise enjoyable coffee beverage drink</th>\n",
       "      <td>1</td>\n",
       "    </tr>\n",
       "    <tr>\n",
       "      <th>a azomg bought worried would come less satisfactory condition not ever piece perfect would buy again</th>\n",
       "      <td>1</td>\n",
       "    </tr>\n",
       "    <tr>\n",
       "      <th>a baby drug son absoutely addicted things wants nothing else eat always always eat brought glad buy bulk amazon super easy snack running errands park</th>\n",
       "      <td>2</td>\n",
       "    </tr>\n",
       "    <tr>\n",
       "      <th>a backpacker delight ate dinner surprised actually liked get grams protein grams fiber calories energy box converts thin lunch box complete sudoku puzzle box contains chili lime salmon spread consistency cat baby food least liked food item still eatable organic crackers similar ritz crackers not buttery nicely flavored ginger zip dried fruit nut mix package dry roasted edamame very dry actually liked need lot water wash tasty morsel organic dark chocolate chocolate covered white haze means blooming still edible plastic fork salmon spread sudoku puzzle base box fun food fact similar trivia find snapple bottle cap major element not like meal high salt daily value also since edamame dry really need bring lots water wash think good meal grab backpacking day not want carry perishables long drive however would not consider healthy fare everyday lunch overall really liked taste pleasantly surprised ate every morsel box not even share salmon spread cats least favorite item never thought say since usually called boxed food unnatural food like substances gopicnic gets stars me</th>\n",
       "      <td>1</td>\n",
       "    </tr>\n",
       "    <tr>\n",
       "      <th>a backpacking staple soup one backpacking favorites hearty well seasoned without overly spicy requires boiling water minutes simmer also economical typical packaged backpacker meals found sporting goods stores also keep hand quick easy lunch home oz package makes generous servings using home often add little extra shredded carrot onion</th>\n",
       "      <td>1</td>\n",
       "    </tr>\n",
       "    <tr>\n",
       "      <th>a bacon lovers dream come true baconnaise first discovered treasure relative seas asked ham flavored mayonaise heard available u sent product amazon go item anyone loves flavor bacon not need calories great hit men around home pre game snack cracker little baconaise ham chicken started giving little host gift stocking stuffer christmas time</th>\n",
       "      <td>1</td>\n",
       "    </tr>\n",
       "    <tr>\n",
       "      <th>a bacon lovers new found treat spam person conjure word spoken usually nothing good say one cring sound spam totally pleasantly surprised simple cut bite sizes chunks threw wok bit extra virgin olive oil sooo yummy not wait experiment ingredients not miss surprise</th>\n",
       "      <td>1</td>\n",
       "    </tr>\n",
       "    <tr>\n",
       "      <th>a bad batch disappointing time purchased several times past years great success catching critters time eight traps placed seen moths barely caught anything maybe one two still see moths flying around least still empty several weeks might caught flying moths altogether think bad batch pheromes bad traps next time try another brand instead safer</th>\n",
       "      <td>1</td>\n",
       "    </tr>\n",
       "    <tr>\n",
       "      <th>a bad batch ordering subscribe save several months last shipment included box bad not find anywhere report secure replacement major flaw using subscribe save ordering food items here</th>\n",
       "      <td>1</td>\n",
       "    </tr>\n",
       "    <tr>\n",
       "      <th>a bad bottle found product quite displeasing bitter tastes unripe fruit think green flavor nuance otherwise could taste also caused formidable burning sensation throat product credit however viscosity mouthfeel among best tried true lover olive oil use nearly everyday often spoonful like try brands find enjoy variety tastes textures product not even taste like olive oil since bought wal mart might safe assume product mis handled shipment packaging date nearly year ago even though purchased last weekend may try another bottle another time purchased reputable grocer</th>\n",
       "      <td>1</td>\n",
       "    </tr>\n",
       "    <tr>\n",
       "      <th>a bad choice sorry every chocolate sugar free syrup made far worst tried purchased cheaper others good reason good deal consistency not like normal chocolate syrup came big plops strange color nowhere near dark brown like syrup not color anything dealing eliminating sugar senses need pleased top molded quickly would not recommend anyone even no name sugar free chocolate syrup walmart better this</th>\n",
       "      <td>1</td>\n",
       "    </tr>\n",
       "    <tr>\n",
       "      <th>a bad gluten free bread wife celiac disease look good gluten free products bought based reviews written instructions using mix bread machine tried twice make bread machince following letter directions box bread turns tough crust rubber like texture wife said felt like trying eat old rubber rain boot maybe something wrong stick gluten free pantry using scratch bread</th>\n",
       "      <td>1</td>\n",
       "    </tr>\n",
       "    <tr>\n",
       "      <th>a bad tasting cup coffee not good experience like gevlia signature mild signature crema less desirable ended throwing three boxes cause cannot returned</th>\n",
       "      <td>1</td>\n",
       "    </tr>\n",
       "    <tr>\n",
       "      <th>a bad way start morning wish read reviews purchasing coffee store not hardcore starbucks fan saw shelf thought give try actually typing immediately taken one sip coffee morning skeptical second opened bag aroma weird not really smell like coffee certainly not smell like caramel made pot took first sip googled see missed news poisoning scare coffee awful unnatural burnt chemically taste choked bad cups coffee fix not going sofa pot coffee going drain remainder bag going trash take second sip sure nope still completely undrinkable</th>\n",
       "      <td>2</td>\n",
       "    </tr>\n",
       "    <tr>\n",
       "      <th>a bag big head know wondered clicking product haribo website big pound bag gummibaerchen well big adult human head big heavy buying two gets free shipping better bulk price one get aware haribo factory bonn germany like gummibaerchen suggest visit candies frogs not favorite entire bag yields no variety amazon starts selling classic bears multitude flavors smaller easier chew would buy frogs hot second sugar free kind not classic version people digestive problems artificial sweetener nb not case frogs sugar sweetened note haribo catchphrase german haribo macht kinder froh und erwachsene ebenso better translated haribo makes kids happy adults likewise happy world haribo rhyming addition english language packaging informed</th>\n",
       "      <td>1</td>\n",
       "    </tr>\n",
       "    <tr>\n",
       "      <th>a bag candy cheaper not dried bananas bag suger heavy chemjcal laden unhealthy junk need sugar fruit sweet already thought buying healthy snack not read lines fault fool not twice bag candy much cheaper</th>\n",
       "      <td>1</td>\n",
       "    </tr>\n",
       "    <tr>\n",
       "      <th>a bag coffee not need reviews one pretty good good deal especially amazon promotion going right use keurig coffee maker much nicer expensive k cups purchased taste vanilla fine enough vanilla not artificial tasting nice hint flavor smooth like coffee good buy warning single ground coffee buying lot time may not good idea pack expire may one cup day may not finish storing extra bag freezer</th>\n",
       "      <td>1</td>\n",
       "    </tr>\n",
       "    <tr>\n",
       "      <th>a bag every room house buy wonderful little bits heaven case crohn disease whole gi tract often unhappy help settle stomach often make possible eat nauseated found couple years ago not go anywhere without bags nightstand car husband car purse kitchen not sweet pack enough ginger punch settle stomach quash bad breath issues like ginger chews also tend hurt teeth hard candies great buy</th>\n",
       "      <td>1</td>\n",
       "    </tr>\n",
       "    <tr>\n",
       "      <th>a bag guess vendor no buying power profiting without supermarket amazon llc recently buy giant not think cup mud worth price</th>\n",
       "      <td>1</td>\n",
       "    </tr>\n",
       "    <tr>\n",
       "      <th>a bagel shape not bagel make since good reviews seem buzz agents thought add non buzz review terrible resemblence bagel shape basically like heel end loaf white bread hole cut texture not chewy like bagel obviously not boiled steamed lame lame marketing scam</th>\n",
       "      <td>1</td>\n",
       "    </tr>\n",
       "    <tr>\n",
       "      <th>a bakers dream come true blend really roasty since not coffee drinker less thrilled purchase however disappoinment went today added tablespoon hazelnut matcha basic scone recipe could not happier addition hazelnut know matcha makes healthier alternative cookies eating black teas</th>\n",
       "      <td>1</td>\n",
       "    </tr>\n",
       "    <tr>\n",
       "      <th>a baking essential superb product great price rely baking especially around holidays almond taste comes clean pure no bitterness high quality ingredient box contains paste encased foil remains nice fresh amazon price great far better supermarket odense website also provides many nice recipes love bake need almond paste odense not surpassed flavor freshness quality price</th>\n",
       "      <td>1</td>\n",
       "    </tr>\n",
       "    <tr>\n",
       "      <th>...</th>\n",
       "      <td>...</td>\n",
       "    </tr>\n",
       "    <tr>\n",
       "      <th>zukes dogs love great treat give dog make happy great price get free shipping</th>\n",
       "      <td>4</td>\n",
       "    </tr>\n",
       "    <tr>\n",
       "      <th>zukes good enticing product added benefit low calorie dog loves dogs dogpark love too</th>\n",
       "      <td>4</td>\n",
       "    </tr>\n",
       "    <tr>\n",
       "      <th>zukes great zuke training treats made excellent ingredients none crap eat small size allows give golden bigger size</th>\n",
       "      <td>4</td>\n",
       "    </tr>\n",
       "    <tr>\n",
       "      <th>zukes hip action buying cosequin vet slightly overweight ok obese cat jackson cost per month helpful years recently begun limping age learned zukes hip action decided try fun jackson jumping furniture no longer limps silky smooth coat weeks costs much jackson loves strongly recommended</th>\n",
       "      <td>2</td>\n",
       "    </tr>\n",
       "    <tr>\n",
       "      <th>zukes hip action treats boys hips getting worse old age every little bit helps dog loves like made usa</th>\n",
       "      <td>5</td>\n",
       "    </tr>\n",
       "    <tr>\n",
       "      <th>zukes hip action treats dogs love helps keep joints limber dachshund fussy loves glucosomine treats not eat ones vets fussy older dog needs please try happy not would recommend smaller bag try upgrade packs zukes hip action jerky naturals beef</th>\n",
       "      <td>1</td>\n",
       "    </tr>\n",
       "    <tr>\n",
       "      <th>zukes hip action treats great eats nino shiba ino became nino regressing severe case arthritis rear legs two years ago placed diet ark naturals sea mobility beef jerky sea cucumber msm glucosamine supplement dogs within month showed significant improvement go one mile walks morning walks gracefully without apparent ailment since special advertised amazon packs zukes hip action jerky naturals beef product highly rated decided buy nino treats not zukes hip action jerky naturals preventing crippling arthritis rear legs looks forward treat morning walk</th>\n",
       "      <td>1</td>\n",
       "    </tr>\n",
       "    <tr>\n",
       "      <th>zukes hipaction dogs works year old corgi problems going stairs no interest playing toys last year went vet gave rimadyl helped still issues carry stairs started giving zukes whim seeing local pet store stuff works sold playing dogs goes stairs brings toys us play like old self again</th>\n",
       "      <td>3</td>\n",
       "    </tr>\n",
       "    <tr>\n",
       "      <th>zukes love products love idea behind fact help animals cancer zukes president please</th>\n",
       "      <td>5</td>\n",
       "    </tr>\n",
       "    <tr>\n",
       "      <th>zukes mini naturals dog treats treats tiny great training low calorie yet aromatic dog jumps joy smells customer service great except back ordered one package treats assured weeks waiting month item</th>\n",
       "      <td>5</td>\n",
       "    </tr>\n",
       "    <tr>\n",
       "      <th>zukes mini naturals healthy treats toy poodle loves treats use training maintaining bathroom breaks outside use smaller treated pee rewards larger ones another brand poo rewards first thought would excessive tried stop set back accidents house felt rewards far better price pay messes house punishing dog way everyone happy since give rewards several times daily felt natural treats far better choice trained dog lay eating no begging roll sit stay using treats highly recommend</th>\n",
       "      <td>5</td>\n",
       "    </tr>\n",
       "    <tr>\n",
       "      <th>zukes mini naturals training kaylee lb german shepherd found not like anything treats food large chunks dainty eater even smallest milk bones dog biscuits big liking neice gave bag zukes mini naturals birthday went crazy perfect training responds wonderfully highly recommend dog dainty eater never one even swallow hot dog whole like last dog lab mini naturals loved bob</th>\n",
       "      <td>5</td>\n",
       "    </tr>\n",
       "    <tr>\n",
       "      <th>zukes mini treats hi love brand zukes chicken mini treats dog love natural healthy dog</th>\n",
       "      <td>5</td>\n",
       "    </tr>\n",
       "    <tr>\n",
       "      <th>zukes no wrong loyal fan zukes right mind set comes dogs need treated fed love company precious little angel starlo pit boxer mix dearly misses cranberry z ridge bones favorite anything bought zukes well worth money spent keep great work zukes side note work grooming salon kennel generic dog bones treats keep bag salmon training treats near proven not resist succulent moist flavor compared dry bland bones</th>\n",
       "      <td>1</td>\n",
       "    </tr>\n",
       "    <tr>\n",
       "      <th>zukes peanut butter mini treats product dog absolute favorite comes dog treats find perfect training she</th>\n",
       "      <td>5</td>\n",
       "    </tr>\n",
       "    <tr>\n",
       "      <th>zukes treats dog loves treats whatever flavor may favorites healthy zuke chicken flavored mini naturals dog treats ounces</th>\n",
       "      <td>5</td>\n",
       "    </tr>\n",
       "    <tr>\n",
       "      <th>zukes treats dogs love treats small bag lasts long time great value price</th>\n",
       "      <td>4</td>\n",
       "    </tr>\n",
       "    <tr>\n",
       "      <th>zukes z bone giant edible dental chew clean apple crisp ounce bone dog likes somewhat odor bone hold horrible place plastic bag guess since human not eating must smell guess worth price biggest issue bone expensive adding shipping expensive think alternatives better</th>\n",
       "      <td>1</td>\n",
       "    </tr>\n",
       "    <tr>\n",
       "      <th>zulka sugar tried bag sugar less expensive brands sugar not highly refined good higher priced brands could not find locally bought amazon good price satisfied purchase</th>\n",
       "      <td>1</td>\n",
       "    </tr>\n",
       "    <tr>\n",
       "      <th>zuma loves treats zuma hairless chinese crested pup finicky eater would rather starve eat something not like food eat cesar gourmet filets sauce ok find dog treat likes husband brought home cesar grilled chicken softies dog treats loves treats look smell like dog treat thought no way zuma would eat hundreds dollars spent numerous bog bakeries year half spent shopping all place found cesar grilled chicken softies dog treats not thrilled relieved</th>\n",
       "      <td>1</td>\n",
       "    </tr>\n",
       "    <tr>\n",
       "      <th>zw farm year old aussie loves rawhides takes really long time get one heavy chewer would recommend anyone larger size dog loves chew</th>\n",
       "      <td>1</td>\n",
       "    </tr>\n",
       "    <tr>\n",
       "      <th>zwieback light slightly sweet crunchy biscuit bread tastes great butter put anything it light also great upset stomachs etc eat breakfast every morning like brandt best</th>\n",
       "      <td>1</td>\n",
       "    </tr>\n",
       "    <tr>\n",
       "      <th>zwieback toast zwieback toast good taste compare old nabisco zwieback not quite measure also not like size product small comparison zwieback products k would not order again</th>\n",
       "      <td>1</td>\n",
       "    </tr>\n",
       "    <tr>\n",
       "      <th>zylitol healthy great taste loved preserves got strawberry blueberry great taste good know made healthy xylitol said sweetener not feed candida thank nature hallow</th>\n",
       "      <td>1</td>\n",
       "    </tr>\n",
       "    <tr>\n",
       "      <th>zylotol products cause instestinal problems far taste factor goes really good substitute table sugar not aftertaste stevia based also plant products however cause diarreha people metformin low borderline diabetes causes diarreha people well started using product cancel appointments stay home hours made matters worse believe someone else commented diarreha problems zylotol not notice bought tried product</th>\n",
       "      <td>1</td>\n",
       "    </tr>\n",
       "    <tr>\n",
       "      <th>zz plant awesome house plant everyone must one interesting look fast growing easy take care of</th>\n",
       "      <td>1</td>\n",
       "    </tr>\n",
       "    <tr>\n",
       "      <th>zzfantastic coffee luxury experiencing blue mountain kona little farm beans obscure travels friends coffee ranks right waited review drinking month weeks of daily brewing still takes great seems like low acidity unique flavor not lend normal categories cherries chocolate etc price point not bother dollar delivery charge seems range good</th>\n",
       "      <td>1</td>\n",
       "    </tr>\n",
       "    <tr>\n",
       "      <th>zzzzzzzzz product amazing tried dream water nuero sleep dream water worked time no matter would knocked half hour</th>\n",
       "      <td>2</td>\n",
       "    </tr>\n",
       "    <tr>\n",
       "      <th>zzzzzzzzz stuff awesome problems anxiety insomnia one cup really relaxes bag good least two cups lot chamomile seen traditional american mexican chamomile tea bags also tastes better chamomile teas tried always house</th>\n",
       "      <td>1</td>\n",
       "    </tr>\n",
       "    <tr>\n",
       "      <th>zzzzzzzzzzz snort received oz package drops evaluate not exactly enough cause sugar high nine drops three daily requirement attest taste alright like cheap candy first ingredient sugar second corn syrup not know true read effective injection sub lingual dissolving little pills tongue opinion better advised buy trusted brand mufti vitamins bag caramels crave not like taking pills could try gummy candy type vitamins</th>\n",
       "      <td>1</td>\n",
       "    </tr>\n",
       "  </tbody>\n",
       "</table>\n",
       "<p>307861 rows × 1 columns</p>\n",
       "</div>"
      ],
      "text/plain": [
       "                                                    Score\n",
       "review                                                   \n",
       "a add little organic manuka honey half cup milk...      1\n",
       "a adjustments necessary love nutrition little s...      3\n",
       "a afterlife success many movies dealt figure de...      3\n",
       "a appealing pate price got feeling opening serv...      1\n",
       "a authentic moroccan spice blend many ethnic sp...      1\n",
       "a authentic sriracha americans familiar huey fo...      1\n",
       "a awesome deal whole lotta beans great price de...      1\n",
       "a awesome pump pump makes easy coffee house rig...      1\n",
       "a awhile coffee beverage enjoyed cappuccino ita...      1\n",
       "a azomg bought worried would come less satisfac...      1\n",
       "a baby drug son absoutely addicted things wants...      2\n",
       "a backpacker delight ate dinner surprised actua...      1\n",
       "a backpacking staple soup one backpacking favor...      1\n",
       "a bacon lovers dream come true baconnaise first...      1\n",
       "a bacon lovers new found treat spam person conj...      1\n",
       "a bad batch disappointing time purchased severa...      1\n",
       "a bad batch ordering subscribe save several mon...      1\n",
       "a bad bottle found product quite displeasing bi...      1\n",
       "a bad choice sorry every chocolate sugar free s...      1\n",
       "a bad gluten free bread wife celiac disease loo...      1\n",
       "a bad tasting cup coffee not good experience li...      1\n",
       "a bad way start morning wish read reviews purch...      2\n",
       "a bag big head know wondered clicking product h...      1\n",
       "a bag candy cheaper not dried bananas bag suger...      1\n",
       "a bag coffee not need reviews one pretty good g...      1\n",
       "a bag every room house buy wonderful little bit...      1\n",
       "a bag guess vendor no buying power profiting wi...      1\n",
       "a bagel shape not bagel make since good reviews...      1\n",
       "a bakers dream come true blend really roasty si...      1\n",
       "a baking essential superb product great price r...      1\n",
       "...                                                   ...\n",
       "zukes dogs love great treat give dog make happy...      4\n",
       "zukes good enticing product added benefit low c...      4\n",
       "zukes great zuke training treats made excellent...      4\n",
       "zukes hip action buying cosequin vet slightly o...      2\n",
       "zukes hip action treats boys hips getting worse...      5\n",
       "zukes hip action treats dogs love helps keep jo...      1\n",
       "zukes hip action treats great eats nino shiba i...      1\n",
       "zukes hipaction dogs works year old corgi probl...      3\n",
       "zukes love products love idea behind fact help ...      5\n",
       "zukes mini naturals dog treats treats tiny grea...      5\n",
       "zukes mini naturals healthy treats toy poodle l...      5\n",
       "zukes mini naturals training kaylee lb german s...      5\n",
       "zukes mini treats hi love brand zukes chicken m...      5\n",
       "zukes no wrong loyal fan zukes right mind set c...      1\n",
       "zukes peanut butter mini treats product dog abs...      5\n",
       "zukes treats dog loves treats whatever flavor m...      5\n",
       "zukes treats dogs love treats small bag lasts l...      4\n",
       "zukes z bone giant edible dental chew clean app...      1\n",
       "zulka sugar tried bag sugar less expensive bran...      1\n",
       "zuma loves treats zuma hairless chinese crested...      1\n",
       "zw farm year old aussie loves rawhides takes re...      1\n",
       "zwieback light slightly sweet crunchy biscuit b...      1\n",
       "zwieback toast zwieback toast good taste compar...      1\n",
       "zylitol healthy great taste loved preserves got...      1\n",
       "zylotol products cause instestinal problems far...      1\n",
       "zz plant awesome house plant everyone must one ...      1\n",
       "zzfantastic coffee luxury experiencing blue mou...      1\n",
       "zzzzzzzzz product amazing tried dream water nue...      2\n",
       "zzzzzzzzz stuff awesome problems anxiety insomn...      1\n",
       "zzzzzzzzzzz snort received oz package drops eva...      1\n",
       "\n",
       "[307861 rows x 1 columns]"
      ]
     },
     "execution_count": 274,
     "metadata": {},
     "output_type": "execute_result"
    }
   ],
   "source": [
    "final_df.groupby('review').agg('count')"
   ]
  },
  {
   "cell_type": "markdown",
   "metadata": {},
   "source": [
    "#### visualize one of the duplicate data"
   ]
  },
  {
   "cell_type": "code",
   "execution_count": 275,
   "metadata": {},
   "outputs": [],
   "source": [
    "t = final_df['review'].str.find('I only used two maybe three tea bags and got pregnan')\n",
    "t = t[t != -1]"
   ]
  },
  {
   "cell_type": "code",
   "execution_count": 276,
   "metadata": {},
   "outputs": [
    {
     "data": {
      "text/plain": [
       "Series([], Name: review, dtype: int64)"
      ]
     },
     "execution_count": 276,
     "metadata": {},
     "output_type": "execute_result"
    }
   ],
   "source": [
    "t"
   ]
  },
  {
   "cell_type": "code",
   "execution_count": 277,
   "metadata": {},
   "outputs": [
    {
     "data": {
      "text/plain": [
       "'i used two maybe three tea bags got pregnant not drink pregnancy not bad taste not big tea fan either'"
      ]
     },
     "execution_count": 277,
     "metadata": {},
     "output_type": "execute_result"
    }
   ],
   "source": [
    "final_df.loc[43935]['review']"
   ]
  },
  {
   "cell_type": "code",
   "execution_count": 278,
   "metadata": {},
   "outputs": [
    {
     "data": {
      "text/plain": [
       "'i used two maybe three tea bags got pregnant not drink pregnancy not bad taste not big tea fan either'"
      ]
     },
     "execution_count": 278,
     "metadata": {},
     "output_type": "execute_result"
    }
   ],
   "source": [
    "final_df.loc[187578]['review']"
   ]
  },
  {
   "cell_type": "code",
   "execution_count": 279,
   "metadata": {
    "scrolled": true
   },
   "outputs": [
    {
     "data": {
      "text/plain": [
       "'i used two maybe three tea bags got pregnant not drink pregnancy not bad taste not big tea fan either'"
      ]
     },
     "execution_count": 279,
     "metadata": {},
     "output_type": "execute_result"
    }
   ],
   "source": [
    "final_df.loc[306678]['review']"
   ]
  },
  {
   "cell_type": "markdown",
   "metadata": {},
   "source": [
    "#### check initial row count"
   ]
  },
  {
   "cell_type": "code",
   "execution_count": 280,
   "metadata": {
    "scrolled": true
   },
   "outputs": [
    {
     "data": {
      "text/plain": [
       "Score     424844\n",
       "review    424844\n",
       "dtype: int64"
      ]
     },
     "execution_count": 280,
     "metadata": {},
     "output_type": "execute_result"
    }
   ],
   "source": [
    "final_df.count()"
   ]
  },
  {
   "cell_type": "markdown",
   "metadata": {},
   "source": [
    "####  Remove Duplicates"
   ]
  },
  {
   "cell_type": "code",
   "execution_count": 281,
   "metadata": {},
   "outputs": [],
   "source": [
    "final_df.drop_duplicates(keep=\"first\",inplace=True)"
   ]
  },
  {
   "cell_type": "markdown",
   "metadata": {},
   "source": [
    "#### check new row count"
   ]
  },
  {
   "cell_type": "code",
   "execution_count": 282,
   "metadata": {},
   "outputs": [
    {
     "data": {
      "text/plain": [
       "Score     307888\n",
       "review    307888\n",
       "dtype: int64"
      ]
     },
     "execution_count": 282,
     "metadata": {},
     "output_type": "execute_result"
    }
   ],
   "source": [
    "final_df.count()"
   ]
  },
  {
   "cell_type": "code",
   "execution_count": 283,
   "metadata": {
    "scrolled": false
   },
   "outputs": [
    {
     "data": {
      "text/html": [
       "<div>\n",
       "<style scoped>\n",
       "    .dataframe tbody tr th:only-of-type {\n",
       "        vertical-align: middle;\n",
       "    }\n",
       "\n",
       "    .dataframe tbody tr th {\n",
       "        vertical-align: top;\n",
       "    }\n",
       "\n",
       "    .dataframe thead tr th {\n",
       "        text-align: left;\n",
       "    }\n",
       "\n",
       "    .dataframe thead tr:last-of-type th {\n",
       "        text-align: right;\n",
       "    }\n",
       "</style>\n",
       "<table border=\"1\" class=\"dataframe\">\n",
       "  <thead>\n",
       "    <tr>\n",
       "      <th></th>\n",
       "      <th colspan=\"4\" halign=\"left\">review</th>\n",
       "    </tr>\n",
       "    <tr>\n",
       "      <th></th>\n",
       "      <th>count</th>\n",
       "      <th>unique</th>\n",
       "      <th>top</th>\n",
       "      <th>freq</th>\n",
       "    </tr>\n",
       "    <tr>\n",
       "      <th>Score</th>\n",
       "      <th></th>\n",
       "      <th></th>\n",
       "      <th></th>\n",
       "      <th></th>\n",
       "    </tr>\n",
       "  </thead>\n",
       "  <tbody>\n",
       "    <tr>\n",
       "      <th>1</th>\n",
       "      <td>28354</td>\n",
       "      <td>28354</td>\n",
       "      <td>dog would not eat nice package looks good look...</td>\n",
       "      <td>1</td>\n",
       "    </tr>\n",
       "    <tr>\n",
       "      <th>2</th>\n",
       "      <td>16222</td>\n",
       "      <td>16222</td>\n",
       "      <td>expired beans arrived promptly ground brewed u...</td>\n",
       "      <td>1</td>\n",
       "    </tr>\n",
       "    <tr>\n",
       "      <th>3</th>\n",
       "      <td>23187</td>\n",
       "      <td>23187</td>\n",
       "      <td>tastes like hay love davidson teas not one top...</td>\n",
       "      <td>1</td>\n",
       "    </tr>\n",
       "    <tr>\n",
       "      <th>4</th>\n",
       "      <td>43646</td>\n",
       "      <td>43646</td>\n",
       "      <td>yummy got sample raisin oatmeal cookie influen...</td>\n",
       "      <td>1</td>\n",
       "    </tr>\n",
       "    <tr>\n",
       "      <th>5</th>\n",
       "      <td>196479</td>\n",
       "      <td>196479</td>\n",
       "      <td>try popcorn husband loved seasoning living pol...</td>\n",
       "      <td>1</td>\n",
       "    </tr>\n",
       "  </tbody>\n",
       "</table>\n",
       "</div>"
      ],
      "text/plain": [
       "       review                                                                \n",
       "        count  unique                                                top freq\n",
       "Score                                                                        \n",
       "1       28354   28354  dog would not eat nice package looks good look...    1\n",
       "2       16222   16222  expired beans arrived promptly ground brewed u...    1\n",
       "3       23187   23187  tastes like hay love davidson teas not one top...    1\n",
       "4       43646   43646  yummy got sample raisin oatmeal cookie influen...    1\n",
       "5      196479  196479  try popcorn husband loved seasoning living pol...    1"
      ]
     },
     "execution_count": 283,
     "metadata": {},
     "output_type": "execute_result"
    }
   ],
   "source": [
    "final_df.groupby('Score').describe()"
   ]
  },
  {
   "cell_type": "code",
   "execution_count": 284,
   "metadata": {
    "scrolled": true
   },
   "outputs": [
    {
     "data": {
      "text/html": [
       "<div>\n",
       "<style scoped>\n",
       "    .dataframe tbody tr th:only-of-type {\n",
       "        vertical-align: middle;\n",
       "    }\n",
       "\n",
       "    .dataframe tbody tr th {\n",
       "        vertical-align: top;\n",
       "    }\n",
       "\n",
       "    .dataframe thead th {\n",
       "        text-align: right;\n",
       "    }\n",
       "</style>\n",
       "<table border=\"1\" class=\"dataframe\">\n",
       "  <thead>\n",
       "    <tr style=\"text-align: right;\">\n",
       "      <th></th>\n",
       "      <th>Score</th>\n",
       "      <th>review</th>\n",
       "    </tr>\n",
       "  </thead>\n",
       "  <tbody>\n",
       "    <tr>\n",
       "      <th>0</th>\n",
       "      <td>5</td>\n",
       "      <td>very good received product early seller tastey...</td>\n",
       "    </tr>\n",
       "    <tr>\n",
       "      <th>1</th>\n",
       "      <td>5</td>\n",
       "      <td>organic kosher tasty assortment premium teas t...</td>\n",
       "    </tr>\n",
       "    <tr>\n",
       "      <th>2</th>\n",
       "      <td>5</td>\n",
       "      <td>excellent gluten free spaghetti great taste gr...</td>\n",
       "    </tr>\n",
       "    <tr>\n",
       "      <th>3</th>\n",
       "      <td>5</td>\n",
       "      <td>lindt lindt buying multi pack misled picture w...</td>\n",
       "    </tr>\n",
       "    <tr>\n",
       "      <th>4</th>\n",
       "      <td>5</td>\n",
       "      <td>yum bars good loved warmed definitely think gr...</td>\n",
       "    </tr>\n",
       "    <tr>\n",
       "      <th>5</th>\n",
       "      <td>5</td>\n",
       "      <td>delicious love chips buy pack month bags right...</td>\n",
       "    </tr>\n",
       "    <tr>\n",
       "      <th>6</th>\n",
       "      <td>5</td>\n",
       "      <td>tastes great organic huge fan eating cereal br...</td>\n",
       "    </tr>\n",
       "    <tr>\n",
       "      <th>7</th>\n",
       "      <td>2</td>\n",
       "      <td>poor taste really disappointed sorghum purchas...</td>\n",
       "    </tr>\n",
       "    <tr>\n",
       "      <th>8</th>\n",
       "      <td>3</td>\n",
       "      <td>better us instant coffee friend gone korea gav...</td>\n",
       "    </tr>\n",
       "    <tr>\n",
       "      <th>9</th>\n",
       "      <td>4</td>\n",
       "      <td>hard not like no need plastic baggies sloppy t...</td>\n",
       "    </tr>\n",
       "  </tbody>\n",
       "</table>\n",
       "</div>"
      ],
      "text/plain": [
       "   Score                                             review\n",
       "0      5  very good received product early seller tastey...\n",
       "1      5  organic kosher tasty assortment premium teas t...\n",
       "2      5  excellent gluten free spaghetti great taste gr...\n",
       "3      5  lindt lindt buying multi pack misled picture w...\n",
       "4      5  yum bars good loved warmed definitely think gr...\n",
       "5      5  delicious love chips buy pack month bags right...\n",
       "6      5  tastes great organic huge fan eating cereal br...\n",
       "7      2  poor taste really disappointed sorghum purchas...\n",
       "8      3  better us instant coffee friend gone korea gav...\n",
       "9      4  hard not like no need plastic baggies sloppy t..."
      ]
     },
     "execution_count": 284,
     "metadata": {},
     "output_type": "execute_result"
    }
   ],
   "source": [
    "final_df.head(10)"
   ]
  },
  {
   "cell_type": "code",
   "execution_count": 285,
   "metadata": {},
   "outputs": [
    {
     "data": {
      "text/plain": [
       "'not bad using coffeemate chocolate creamer not bad use coffeemate chocolate creamer still like swiss mix made milk little better far k cups go milk chocolate coffeemate chocolate creamer not bad currently less cups'"
      ]
     },
     "execution_count": 285,
     "metadata": {},
     "output_type": "execute_result"
    }
   ],
   "source": [
    "final_df.iloc[124]['review']"
   ]
  },
  {
   "cell_type": "code",
   "execution_count": null,
   "metadata": {},
   "outputs": [],
   "source": []
  },
  {
   "cell_type": "code",
   "execution_count": null,
   "metadata": {},
   "outputs": [],
   "source": []
  },
  {
   "cell_type": "markdown",
   "metadata": {},
   "source": [
    "# 2-Text Processing and Normalization: (20%)\n",
    "Thoroughly experiment with different text processing and normalization alternatives. Explain the\n",
    "trade-off and benefits of using each and justify their effectiveness for the current data set. "
   ]
  },
  {
   "cell_type": "markdown",
   "metadata": {},
   "source": [
    "####  Extract part of final data"
   ]
  },
  {
   "cell_type": "code",
   "execution_count": 286,
   "metadata": {},
   "outputs": [],
   "source": [
    "final_df_sub = final_df.head(10).copy()"
   ]
  },
  {
   "cell_type": "code",
   "execution_count": 287,
   "metadata": {},
   "outputs": [
    {
     "data": {
      "text/html": [
       "<div>\n",
       "<style scoped>\n",
       "    .dataframe tbody tr th:only-of-type {\n",
       "        vertical-align: middle;\n",
       "    }\n",
       "\n",
       "    .dataframe tbody tr th {\n",
       "        vertical-align: top;\n",
       "    }\n",
       "\n",
       "    .dataframe thead th {\n",
       "        text-align: right;\n",
       "    }\n",
       "</style>\n",
       "<table border=\"1\" class=\"dataframe\">\n",
       "  <thead>\n",
       "    <tr style=\"text-align: right;\">\n",
       "      <th></th>\n",
       "      <th>Score</th>\n",
       "      <th>review</th>\n",
       "    </tr>\n",
       "  </thead>\n",
       "  <tbody>\n",
       "    <tr>\n",
       "      <th>0</th>\n",
       "      <td>5</td>\n",
       "      <td>very good received product early seller tastey...</td>\n",
       "    </tr>\n",
       "    <tr>\n",
       "      <th>1</th>\n",
       "      <td>5</td>\n",
       "      <td>organic kosher tasty assortment premium teas t...</td>\n",
       "    </tr>\n",
       "    <tr>\n",
       "      <th>2</th>\n",
       "      <td>5</td>\n",
       "      <td>excellent gluten free spaghetti great taste gr...</td>\n",
       "    </tr>\n",
       "    <tr>\n",
       "      <th>3</th>\n",
       "      <td>5</td>\n",
       "      <td>lindt lindt buying multi pack misled picture w...</td>\n",
       "    </tr>\n",
       "    <tr>\n",
       "      <th>4</th>\n",
       "      <td>5</td>\n",
       "      <td>yum bars good loved warmed definitely think gr...</td>\n",
       "    </tr>\n",
       "    <tr>\n",
       "      <th>5</th>\n",
       "      <td>5</td>\n",
       "      <td>delicious love chips buy pack month bags right...</td>\n",
       "    </tr>\n",
       "    <tr>\n",
       "      <th>6</th>\n",
       "      <td>5</td>\n",
       "      <td>tastes great organic huge fan eating cereal br...</td>\n",
       "    </tr>\n",
       "    <tr>\n",
       "      <th>7</th>\n",
       "      <td>2</td>\n",
       "      <td>poor taste really disappointed sorghum purchas...</td>\n",
       "    </tr>\n",
       "    <tr>\n",
       "      <th>8</th>\n",
       "      <td>3</td>\n",
       "      <td>better us instant coffee friend gone korea gav...</td>\n",
       "    </tr>\n",
       "    <tr>\n",
       "      <th>9</th>\n",
       "      <td>4</td>\n",
       "      <td>hard not like no need plastic baggies sloppy t...</td>\n",
       "    </tr>\n",
       "  </tbody>\n",
       "</table>\n",
       "</div>"
      ],
      "text/plain": [
       "   Score                                             review\n",
       "0      5  very good received product early seller tastey...\n",
       "1      5  organic kosher tasty assortment premium teas t...\n",
       "2      5  excellent gluten free spaghetti great taste gr...\n",
       "3      5  lindt lindt buying multi pack misled picture w...\n",
       "4      5  yum bars good loved warmed definitely think gr...\n",
       "5      5  delicious love chips buy pack month bags right...\n",
       "6      5  tastes great organic huge fan eating cereal br...\n",
       "7      2  poor taste really disappointed sorghum purchas...\n",
       "8      3  better us instant coffee friend gone korea gav...\n",
       "9      4  hard not like no need plastic baggies sloppy t..."
      ]
     },
     "execution_count": 287,
     "metadata": {},
     "output_type": "execute_result"
    }
   ],
   "source": [
    "final_df_sub.head(10)"
   ]
  },
  {
   "cell_type": "markdown",
   "metadata": {},
   "source": [
    "#### Tokenize Data"
   ]
  },
  {
   "cell_type": "code",
   "execution_count": 288,
   "metadata": {},
   "outputs": [],
   "source": [
    "final_df_sub['token'] = final_df_sub['review'].apply(tokeniz)"
   ]
  },
  {
   "cell_type": "code",
   "execution_count": 289,
   "metadata": {
    "scrolled": true
   },
   "outputs": [
    {
     "data": {
      "text/html": [
       "<div>\n",
       "<style scoped>\n",
       "    .dataframe tbody tr th:only-of-type {\n",
       "        vertical-align: middle;\n",
       "    }\n",
       "\n",
       "    .dataframe tbody tr th {\n",
       "        vertical-align: top;\n",
       "    }\n",
       "\n",
       "    .dataframe thead th {\n",
       "        text-align: right;\n",
       "    }\n",
       "</style>\n",
       "<table border=\"1\" class=\"dataframe\">\n",
       "  <thead>\n",
       "    <tr style=\"text-align: right;\">\n",
       "      <th></th>\n",
       "      <th>Score</th>\n",
       "      <th>review</th>\n",
       "      <th>token</th>\n",
       "    </tr>\n",
       "  </thead>\n",
       "  <tbody>\n",
       "    <tr>\n",
       "      <th>0</th>\n",
       "      <td>5</td>\n",
       "      <td>very good received product early seller tastey...</td>\n",
       "      <td>[very, good, received, product, early, seller,...</td>\n",
       "    </tr>\n",
       "    <tr>\n",
       "      <th>1</th>\n",
       "      <td>5</td>\n",
       "      <td>organic kosher tasty assortment premium teas t...</td>\n",
       "      <td>[organic, kosher, tasty, assortment, premium, ...</td>\n",
       "    </tr>\n",
       "    <tr>\n",
       "      <th>2</th>\n",
       "      <td>5</td>\n",
       "      <td>excellent gluten free spaghetti great taste gr...</td>\n",
       "      <td>[excellent, gluten, free, spaghetti, great, ta...</td>\n",
       "    </tr>\n",
       "    <tr>\n",
       "      <th>3</th>\n",
       "      <td>5</td>\n",
       "      <td>lindt lindt buying multi pack misled picture w...</td>\n",
       "      <td>[lindt, lindt, buying, multi, pack, misled, pi...</td>\n",
       "    </tr>\n",
       "    <tr>\n",
       "      <th>4</th>\n",
       "      <td>5</td>\n",
       "      <td>yum bars good loved warmed definitely think gr...</td>\n",
       "      <td>[yum, bars, good, loved, warmed, definitely, t...</td>\n",
       "    </tr>\n",
       "    <tr>\n",
       "      <th>5</th>\n",
       "      <td>5</td>\n",
       "      <td>delicious love chips buy pack month bags right...</td>\n",
       "      <td>[delicious, love, chips, buy, pack, month, bag...</td>\n",
       "    </tr>\n",
       "    <tr>\n",
       "      <th>6</th>\n",
       "      <td>5</td>\n",
       "      <td>tastes great organic huge fan eating cereal br...</td>\n",
       "      <td>[tastes, great, organic, huge, fan, eating, ce...</td>\n",
       "    </tr>\n",
       "    <tr>\n",
       "      <th>7</th>\n",
       "      <td>2</td>\n",
       "      <td>poor taste really disappointed sorghum purchas...</td>\n",
       "      <td>[poor, taste, really, disappointed, sorghum, p...</td>\n",
       "    </tr>\n",
       "    <tr>\n",
       "      <th>8</th>\n",
       "      <td>3</td>\n",
       "      <td>better us instant coffee friend gone korea gav...</td>\n",
       "      <td>[better, us, instant, coffee, friend, gone, ko...</td>\n",
       "    </tr>\n",
       "    <tr>\n",
       "      <th>9</th>\n",
       "      <td>4</td>\n",
       "      <td>hard not like no need plastic baggies sloppy t...</td>\n",
       "      <td>[hard, not, like, no, need, plastic, baggies, ...</td>\n",
       "    </tr>\n",
       "  </tbody>\n",
       "</table>\n",
       "</div>"
      ],
      "text/plain": [
       "   Score                                             review  \\\n",
       "0      5  very good received product early seller tastey...   \n",
       "1      5  organic kosher tasty assortment premium teas t...   \n",
       "2      5  excellent gluten free spaghetti great taste gr...   \n",
       "3      5  lindt lindt buying multi pack misled picture w...   \n",
       "4      5  yum bars good loved warmed definitely think gr...   \n",
       "5      5  delicious love chips buy pack month bags right...   \n",
       "6      5  tastes great organic huge fan eating cereal br...   \n",
       "7      2  poor taste really disappointed sorghum purchas...   \n",
       "8      3  better us instant coffee friend gone korea gav...   \n",
       "9      4  hard not like no need plastic baggies sloppy t...   \n",
       "\n",
       "                                               token  \n",
       "0  [very, good, received, product, early, seller,...  \n",
       "1  [organic, kosher, tasty, assortment, premium, ...  \n",
       "2  [excellent, gluten, free, spaghetti, great, ta...  \n",
       "3  [lindt, lindt, buying, multi, pack, misled, pi...  \n",
       "4  [yum, bars, good, loved, warmed, definitely, t...  \n",
       "5  [delicious, love, chips, buy, pack, month, bag...  \n",
       "6  [tastes, great, organic, huge, fan, eating, ce...  \n",
       "7  [poor, taste, really, disappointed, sorghum, p...  \n",
       "8  [better, us, instant, coffee, friend, gone, ko...  \n",
       "9  [hard, not, like, no, need, plastic, baggies, ...  "
      ]
     },
     "execution_count": 289,
     "metadata": {},
     "output_type": "execute_result"
    }
   ],
   "source": [
    "final_df_sub.head(10)"
   ]
  },
  {
   "cell_type": "markdown",
   "metadata": {},
   "source": [
    "#### Stemming Data"
   ]
  },
  {
   "cell_type": "code",
   "execution_count": 290,
   "metadata": {},
   "outputs": [
    {
     "name": "stdout",
     "output_type": "stream",
     "text": [
      "--- 0.009973287582397461 seconds ---\n"
     ]
    }
   ],
   "source": [
    "# Stem data and calculate time needed for that\n",
    "start_time = time.time()\n",
    "final_df_sub['stem'] = final_df_sub['review'].apply(stemm)\n",
    "print(\"--- %s seconds ---\" % (time.time() - start_time))"
   ]
  },
  {
   "cell_type": "code",
   "execution_count": 291,
   "metadata": {
    "scrolled": true
   },
   "outputs": [
    {
     "data": {
      "text/html": [
       "<div>\n",
       "<style scoped>\n",
       "    .dataframe tbody tr th:only-of-type {\n",
       "        vertical-align: middle;\n",
       "    }\n",
       "\n",
       "    .dataframe tbody tr th {\n",
       "        vertical-align: top;\n",
       "    }\n",
       "\n",
       "    .dataframe thead th {\n",
       "        text-align: right;\n",
       "    }\n",
       "</style>\n",
       "<table border=\"1\" class=\"dataframe\">\n",
       "  <thead>\n",
       "    <tr style=\"text-align: right;\">\n",
       "      <th></th>\n",
       "      <th>Score</th>\n",
       "      <th>review</th>\n",
       "      <th>token</th>\n",
       "      <th>stem</th>\n",
       "    </tr>\n",
       "  </thead>\n",
       "  <tbody>\n",
       "    <tr>\n",
       "      <th>0</th>\n",
       "      <td>5</td>\n",
       "      <td>very good received product early seller tastey...</td>\n",
       "      <td>[very, good, received, product, early, seller,...</td>\n",
       "      <td>veri good receiv product earli seller tastey g...</td>\n",
       "    </tr>\n",
       "    <tr>\n",
       "      <th>1</th>\n",
       "      <td>5</td>\n",
       "      <td>organic kosher tasty assortment premium teas t...</td>\n",
       "      <td>[organic, kosher, tasty, assortment, premium, ...</td>\n",
       "      <td>organ kosher tasti assort premium tea teasan n...</td>\n",
       "    </tr>\n",
       "    <tr>\n",
       "      <th>2</th>\n",
       "      <td>5</td>\n",
       "      <td>excellent gluten free spaghetti great taste gr...</td>\n",
       "      <td>[excellent, gluten, free, spaghetti, great, ta...</td>\n",
       "      <td>excel gluten free spaghetti great tast great s...</td>\n",
       "    </tr>\n",
       "    <tr>\n",
       "      <th>3</th>\n",
       "      <td>5</td>\n",
       "      <td>lindt lindt buying multi pack misled picture w...</td>\n",
       "      <td>[lindt, lindt, buying, multi, pack, misled, pi...</td>\n",
       "      <td>lindt lindt buy multi pack misl pictur whole h...</td>\n",
       "    </tr>\n",
       "    <tr>\n",
       "      <th>4</th>\n",
       "      <td>5</td>\n",
       "      <td>yum bars good loved warmed definitely think gr...</td>\n",
       "      <td>[yum, bars, good, loved, warmed, definitely, t...</td>\n",
       "      <td>yum bar good love warm definit think great sna...</td>\n",
       "    </tr>\n",
       "    <tr>\n",
       "      <th>5</th>\n",
       "      <td>5</td>\n",
       "      <td>delicious love chips buy pack month bags right...</td>\n",
       "      <td>[delicious, love, chips, buy, pack, month, bag...</td>\n",
       "      <td>delici love chip buy pack month bag right size...</td>\n",
       "    </tr>\n",
       "    <tr>\n",
       "      <th>6</th>\n",
       "      <td>5</td>\n",
       "      <td>tastes great organic huge fan eating cereal br...</td>\n",
       "      <td>[tastes, great, organic, huge, fan, eating, ce...</td>\n",
       "      <td>tast great organ huge fan eat cereal breakfast...</td>\n",
       "    </tr>\n",
       "    <tr>\n",
       "      <th>7</th>\n",
       "      <td>2</td>\n",
       "      <td>poor taste really disappointed sorghum purchas...</td>\n",
       "      <td>[poor, taste, really, disappointed, sorghum, p...</td>\n",
       "      <td>poor tast realli disappoint sorghum purchas us...</td>\n",
       "    </tr>\n",
       "    <tr>\n",
       "      <th>8</th>\n",
       "      <td>3</td>\n",
       "      <td>better us instant coffee friend gone korea gav...</td>\n",
       "      <td>[better, us, instant, coffee, friend, gone, ko...</td>\n",
       "      <td>better us instant coffe friend gone korea gave...</td>\n",
       "    </tr>\n",
       "    <tr>\n",
       "      <th>9</th>\n",
       "      <td>4</td>\n",
       "      <td>hard not like no need plastic baggies sloppy t...</td>\n",
       "      <td>[hard, not, like, no, need, plastic, baggies, ...</td>\n",
       "      <td>hard not like no need plastic baggi sloppi tin...</td>\n",
       "    </tr>\n",
       "  </tbody>\n",
       "</table>\n",
       "</div>"
      ],
      "text/plain": [
       "   Score                                             review  \\\n",
       "0      5  very good received product early seller tastey...   \n",
       "1      5  organic kosher tasty assortment premium teas t...   \n",
       "2      5  excellent gluten free spaghetti great taste gr...   \n",
       "3      5  lindt lindt buying multi pack misled picture w...   \n",
       "4      5  yum bars good loved warmed definitely think gr...   \n",
       "5      5  delicious love chips buy pack month bags right...   \n",
       "6      5  tastes great organic huge fan eating cereal br...   \n",
       "7      2  poor taste really disappointed sorghum purchas...   \n",
       "8      3  better us instant coffee friend gone korea gav...   \n",
       "9      4  hard not like no need plastic baggies sloppy t...   \n",
       "\n",
       "                                               token  \\\n",
       "0  [very, good, received, product, early, seller,...   \n",
       "1  [organic, kosher, tasty, assortment, premium, ...   \n",
       "2  [excellent, gluten, free, spaghetti, great, ta...   \n",
       "3  [lindt, lindt, buying, multi, pack, misled, pi...   \n",
       "4  [yum, bars, good, loved, warmed, definitely, t...   \n",
       "5  [delicious, love, chips, buy, pack, month, bag...   \n",
       "6  [tastes, great, organic, huge, fan, eating, ce...   \n",
       "7  [poor, taste, really, disappointed, sorghum, p...   \n",
       "8  [better, us, instant, coffee, friend, gone, ko...   \n",
       "9  [hard, not, like, no, need, plastic, baggies, ...   \n",
       "\n",
       "                                                stem  \n",
       "0  veri good receiv product earli seller tastey g...  \n",
       "1  organ kosher tasti assort premium tea teasan n...  \n",
       "2  excel gluten free spaghetti great tast great s...  \n",
       "3  lindt lindt buy multi pack misl pictur whole h...  \n",
       "4  yum bar good love warm definit think great sna...  \n",
       "5  delici love chip buy pack month bag right size...  \n",
       "6  tast great organ huge fan eat cereal breakfast...  \n",
       "7  poor tast realli disappoint sorghum purchas us...  \n",
       "8  better us instant coffe friend gone korea gave...  \n",
       "9  hard not like no need plastic baggi sloppi tin...  "
      ]
     },
     "execution_count": 291,
     "metadata": {},
     "output_type": "execute_result"
    }
   ],
   "source": [
    "final_df_sub.head(10)"
   ]
  },
  {
   "cell_type": "markdown",
   "metadata": {},
   "source": [
    "####  Lemmatizing Data"
   ]
  },
  {
   "cell_type": "code",
   "execution_count": 292,
   "metadata": {
    "scrolled": true
   },
   "outputs": [
    {
     "name": "stdout",
     "output_type": "stream",
     "text": [
      "--- 1.7393684387207031 seconds ---\n"
     ]
    }
   ],
   "source": [
    "# Lemmatize data and calculate time needed for that\n",
    "start_time = time.time()\n",
    "final_df_sub['lemm'] = final_df_sub['review'].apply(lemm)\n",
    "print(\"--- %s seconds ---\" % (time.time() - start_time))"
   ]
  },
  {
   "cell_type": "code",
   "execution_count": 293,
   "metadata": {
    "scrolled": false
   },
   "outputs": [
    {
     "data": {
      "text/html": [
       "<div>\n",
       "<style scoped>\n",
       "    .dataframe tbody tr th:only-of-type {\n",
       "        vertical-align: middle;\n",
       "    }\n",
       "\n",
       "    .dataframe tbody tr th {\n",
       "        vertical-align: top;\n",
       "    }\n",
       "\n",
       "    .dataframe thead th {\n",
       "        text-align: right;\n",
       "    }\n",
       "</style>\n",
       "<table border=\"1\" class=\"dataframe\">\n",
       "  <thead>\n",
       "    <tr style=\"text-align: right;\">\n",
       "      <th></th>\n",
       "      <th>Score</th>\n",
       "      <th>review</th>\n",
       "      <th>token</th>\n",
       "      <th>stem</th>\n",
       "      <th>lemm</th>\n",
       "    </tr>\n",
       "  </thead>\n",
       "  <tbody>\n",
       "    <tr>\n",
       "      <th>0</th>\n",
       "      <td>5</td>\n",
       "      <td>very good received product early seller tastey...</td>\n",
       "      <td>[very, good, received, product, early, seller,...</td>\n",
       "      <td>veri good receiv product earli seller tastey g...</td>\n",
       "      <td>very good received product early seller tastey...</td>\n",
       "    </tr>\n",
       "    <tr>\n",
       "      <th>1</th>\n",
       "      <td>5</td>\n",
       "      <td>organic kosher tasty assortment premium teas t...</td>\n",
       "      <td>[organic, kosher, tasty, assortment, premium, ...</td>\n",
       "      <td>organ kosher tasti assort premium tea teasan n...</td>\n",
       "      <td>organic kosher tasty assortment premium tea te...</td>\n",
       "    </tr>\n",
       "    <tr>\n",
       "      <th>2</th>\n",
       "      <td>5</td>\n",
       "      <td>excellent gluten free spaghetti great taste gr...</td>\n",
       "      <td>[excellent, gluten, free, spaghetti, great, ta...</td>\n",
       "      <td>excel gluten free spaghetti great tast great s...</td>\n",
       "      <td>excellent gluten free spaghetti great taste gr...</td>\n",
       "    </tr>\n",
       "    <tr>\n",
       "      <th>3</th>\n",
       "      <td>5</td>\n",
       "      <td>lindt lindt buying multi pack misled picture w...</td>\n",
       "      <td>[lindt, lindt, buying, multi, pack, misled, pi...</td>\n",
       "      <td>lindt lindt buy multi pack misl pictur whole h...</td>\n",
       "      <td>lindt lindt buying multi pack misled picture w...</td>\n",
       "    </tr>\n",
       "    <tr>\n",
       "      <th>4</th>\n",
       "      <td>5</td>\n",
       "      <td>yum bars good loved warmed definitely think gr...</td>\n",
       "      <td>[yum, bars, good, loved, warmed, definitely, t...</td>\n",
       "      <td>yum bar good love warm definit think great sna...</td>\n",
       "      <td>yum bar good loved warmed definitely think gre...</td>\n",
       "    </tr>\n",
       "    <tr>\n",
       "      <th>5</th>\n",
       "      <td>5</td>\n",
       "      <td>delicious love chips buy pack month bags right...</td>\n",
       "      <td>[delicious, love, chips, buy, pack, month, bag...</td>\n",
       "      <td>delici love chip buy pack month bag right size...</td>\n",
       "      <td>delicious love chip buy pack month bag right s...</td>\n",
       "    </tr>\n",
       "    <tr>\n",
       "      <th>6</th>\n",
       "      <td>5</td>\n",
       "      <td>tastes great organic huge fan eating cereal br...</td>\n",
       "      <td>[tastes, great, organic, huge, fan, eating, ce...</td>\n",
       "      <td>tast great organ huge fan eat cereal breakfast...</td>\n",
       "      <td>taste great organic huge fan eating cereal bre...</td>\n",
       "    </tr>\n",
       "    <tr>\n",
       "      <th>7</th>\n",
       "      <td>2</td>\n",
       "      <td>poor taste really disappointed sorghum purchas...</td>\n",
       "      <td>[poor, taste, really, disappointed, sorghum, p...</td>\n",
       "      <td>poor tast realli disappoint sorghum purchas us...</td>\n",
       "      <td>poor taste really disappointed sorghum purchas...</td>\n",
       "    </tr>\n",
       "    <tr>\n",
       "      <th>8</th>\n",
       "      <td>3</td>\n",
       "      <td>better us instant coffee friend gone korea gav...</td>\n",
       "      <td>[better, us, instant, coffee, friend, gone, ko...</td>\n",
       "      <td>better us instant coffe friend gone korea gave...</td>\n",
       "      <td>better u instant coffee friend gone korea gave...</td>\n",
       "    </tr>\n",
       "    <tr>\n",
       "      <th>9</th>\n",
       "      <td>4</td>\n",
       "      <td>hard not like no need plastic baggies sloppy t...</td>\n",
       "      <td>[hard, not, like, no, need, plastic, baggies, ...</td>\n",
       "      <td>hard not like no need plastic baggi sloppi tin...</td>\n",
       "      <td>hard not like no need plastic baggies sloppy t...</td>\n",
       "    </tr>\n",
       "  </tbody>\n",
       "</table>\n",
       "</div>"
      ],
      "text/plain": [
       "   Score                                             review  \\\n",
       "0      5  very good received product early seller tastey...   \n",
       "1      5  organic kosher tasty assortment premium teas t...   \n",
       "2      5  excellent gluten free spaghetti great taste gr...   \n",
       "3      5  lindt lindt buying multi pack misled picture w...   \n",
       "4      5  yum bars good loved warmed definitely think gr...   \n",
       "5      5  delicious love chips buy pack month bags right...   \n",
       "6      5  tastes great organic huge fan eating cereal br...   \n",
       "7      2  poor taste really disappointed sorghum purchas...   \n",
       "8      3  better us instant coffee friend gone korea gav...   \n",
       "9      4  hard not like no need plastic baggies sloppy t...   \n",
       "\n",
       "                                               token  \\\n",
       "0  [very, good, received, product, early, seller,...   \n",
       "1  [organic, kosher, tasty, assortment, premium, ...   \n",
       "2  [excellent, gluten, free, spaghetti, great, ta...   \n",
       "3  [lindt, lindt, buying, multi, pack, misled, pi...   \n",
       "4  [yum, bars, good, loved, warmed, definitely, t...   \n",
       "5  [delicious, love, chips, buy, pack, month, bag...   \n",
       "6  [tastes, great, organic, huge, fan, eating, ce...   \n",
       "7  [poor, taste, really, disappointed, sorghum, p...   \n",
       "8  [better, us, instant, coffee, friend, gone, ko...   \n",
       "9  [hard, not, like, no, need, plastic, baggies, ...   \n",
       "\n",
       "                                                stem  \\\n",
       "0  veri good receiv product earli seller tastey g...   \n",
       "1  organ kosher tasti assort premium tea teasan n...   \n",
       "2  excel gluten free spaghetti great tast great s...   \n",
       "3  lindt lindt buy multi pack misl pictur whole h...   \n",
       "4  yum bar good love warm definit think great sna...   \n",
       "5  delici love chip buy pack month bag right size...   \n",
       "6  tast great organ huge fan eat cereal breakfast...   \n",
       "7  poor tast realli disappoint sorghum purchas us...   \n",
       "8  better us instant coffe friend gone korea gave...   \n",
       "9  hard not like no need plastic baggi sloppi tin...   \n",
       "\n",
       "                                                lemm  \n",
       "0  very good received product early seller tastey...  \n",
       "1  organic kosher tasty assortment premium tea te...  \n",
       "2  excellent gluten free spaghetti great taste gr...  \n",
       "3  lindt lindt buying multi pack misled picture w...  \n",
       "4  yum bar good loved warmed definitely think gre...  \n",
       "5  delicious love chip buy pack month bag right s...  \n",
       "6  taste great organic huge fan eating cereal bre...  \n",
       "7  poor taste really disappointed sorghum purchas...  \n",
       "8  better u instant coffee friend gone korea gave...  \n",
       "9  hard not like no need plastic baggies sloppy t...  "
      ]
     },
     "execution_count": 293,
     "metadata": {},
     "output_type": "execute_result"
    }
   ],
   "source": [
    "final_df_sub.head(10)"
   ]
  },
  {
   "cell_type": "markdown",
   "metadata": {},
   "source": [
    "#### Lemmatizing Data using spacy"
   ]
  },
  {
   "cell_type": "code",
   "execution_count": 294,
   "metadata": {},
   "outputs": [
    {
     "name": "stdout",
     "output_type": "stream",
     "text": [
      "--- 4.056232690811157 seconds ---\n"
     ]
    }
   ],
   "source": [
    "# Lemmatize data and calculate time needed for that\n",
    "start_time = time.time()\n",
    "final_df_sub['spacy_lemm'] = final_df_sub['review'].apply(spacy_lemm)\n",
    "print(\"--- %s seconds ---\" % (time.time() - start_time))"
   ]
  },
  {
   "cell_type": "code",
   "execution_count": 295,
   "metadata": {},
   "outputs": [
    {
     "data": {
      "text/html": [
       "<div>\n",
       "<style scoped>\n",
       "    .dataframe tbody tr th:only-of-type {\n",
       "        vertical-align: middle;\n",
       "    }\n",
       "\n",
       "    .dataframe tbody tr th {\n",
       "        vertical-align: top;\n",
       "    }\n",
       "\n",
       "    .dataframe thead th {\n",
       "        text-align: right;\n",
       "    }\n",
       "</style>\n",
       "<table border=\"1\" class=\"dataframe\">\n",
       "  <thead>\n",
       "    <tr style=\"text-align: right;\">\n",
       "      <th></th>\n",
       "      <th>Score</th>\n",
       "      <th>review</th>\n",
       "      <th>token</th>\n",
       "      <th>stem</th>\n",
       "      <th>lemm</th>\n",
       "      <th>spacy_lemm</th>\n",
       "    </tr>\n",
       "  </thead>\n",
       "  <tbody>\n",
       "    <tr>\n",
       "      <th>0</th>\n",
       "      <td>5</td>\n",
       "      <td>very good received product early seller tastey...</td>\n",
       "      <td>[very, good, received, product, early, seller,...</td>\n",
       "      <td>veri good receiv product earli seller tastey g...</td>\n",
       "      <td>very good received product early seller tastey...</td>\n",
       "      <td>very good receive product early seller tastey ...</td>\n",
       "    </tr>\n",
       "    <tr>\n",
       "      <th>1</th>\n",
       "      <td>5</td>\n",
       "      <td>organic kosher tasty assortment premium teas t...</td>\n",
       "      <td>[organic, kosher, tasty, assortment, premium, ...</td>\n",
       "      <td>organ kosher tasti assort premium tea teasan n...</td>\n",
       "      <td>organic kosher tasty assortment premium tea te...</td>\n",
       "      <td>organic kosher tasty assortment premium tea te...</td>\n",
       "    </tr>\n",
       "    <tr>\n",
       "      <th>2</th>\n",
       "      <td>5</td>\n",
       "      <td>excellent gluten free spaghetti great taste gr...</td>\n",
       "      <td>[excellent, gluten, free, spaghetti, great, ta...</td>\n",
       "      <td>excel gluten free spaghetti great tast great s...</td>\n",
       "      <td>excellent gluten free spaghetti great taste gr...</td>\n",
       "      <td>excellent gluten free spaghetti great taste gr...</td>\n",
       "    </tr>\n",
       "    <tr>\n",
       "      <th>3</th>\n",
       "      <td>5</td>\n",
       "      <td>lindt lindt buying multi pack misled picture w...</td>\n",
       "      <td>[lindt, lindt, buying, multi, pack, misled, pi...</td>\n",
       "      <td>lindt lindt buy multi pack misl pictur whole h...</td>\n",
       "      <td>lindt lindt buying multi pack misled picture w...</td>\n",
       "      <td>lindt lindt buying multi pack mislead picture ...</td>\n",
       "    </tr>\n",
       "    <tr>\n",
       "      <th>4</th>\n",
       "      <td>5</td>\n",
       "      <td>yum bars good loved warmed definitely think gr...</td>\n",
       "      <td>[yum, bars, good, loved, warmed, definitely, t...</td>\n",
       "      <td>yum bar good love warm definit think great sna...</td>\n",
       "      <td>yum bar good loved warmed definitely think gre...</td>\n",
       "      <td>yum bar good love warmed definitely think grea...</td>\n",
       "    </tr>\n",
       "    <tr>\n",
       "      <th>5</th>\n",
       "      <td>5</td>\n",
       "      <td>delicious love chips buy pack month bags right...</td>\n",
       "      <td>[delicious, love, chips, buy, pack, month, bag...</td>\n",
       "      <td>delici love chip buy pack month bag right size...</td>\n",
       "      <td>delicious love chip buy pack month bag right s...</td>\n",
       "      <td>delicious love chip buy pack month bag right s...</td>\n",
       "    </tr>\n",
       "    <tr>\n",
       "      <th>6</th>\n",
       "      <td>5</td>\n",
       "      <td>tastes great organic huge fan eating cereal br...</td>\n",
       "      <td>[tastes, great, organic, huge, fan, eating, ce...</td>\n",
       "      <td>tast great organ huge fan eat cereal breakfast...</td>\n",
       "      <td>taste great organic huge fan eating cereal bre...</td>\n",
       "      <td>taste great organic huge fan eat cereal breakf...</td>\n",
       "    </tr>\n",
       "    <tr>\n",
       "      <th>7</th>\n",
       "      <td>2</td>\n",
       "      <td>poor taste really disappointed sorghum purchas...</td>\n",
       "      <td>[poor, taste, really, disappointed, sorghum, p...</td>\n",
       "      <td>poor tast realli disappoint sorghum purchas us...</td>\n",
       "      <td>poor taste really disappointed sorghum purchas...</td>\n",
       "      <td>poor taste really disappointed sorghum purchas...</td>\n",
       "    </tr>\n",
       "    <tr>\n",
       "      <th>8</th>\n",
       "      <td>3</td>\n",
       "      <td>better us instant coffee friend gone korea gav...</td>\n",
       "      <td>[better, us, instant, coffee, friend, gone, ko...</td>\n",
       "      <td>better us instant coffe friend gone korea gave...</td>\n",
       "      <td>better u instant coffee friend gone korea gave...</td>\n",
       "      <td>well us instant coffee friend go korea give co...</td>\n",
       "    </tr>\n",
       "    <tr>\n",
       "      <th>9</th>\n",
       "      <td>4</td>\n",
       "      <td>hard not like no need plastic baggies sloppy t...</td>\n",
       "      <td>[hard, not, like, no, need, plastic, baggies, ...</td>\n",
       "      <td>hard not like no need plastic baggi sloppi tin...</td>\n",
       "      <td>hard not like no need plastic baggies sloppy t...</td>\n",
       "      <td>hard not like no need plastic baggie sloppy ti...</td>\n",
       "    </tr>\n",
       "  </tbody>\n",
       "</table>\n",
       "</div>"
      ],
      "text/plain": [
       "   Score                                             review  \\\n",
       "0      5  very good received product early seller tastey...   \n",
       "1      5  organic kosher tasty assortment premium teas t...   \n",
       "2      5  excellent gluten free spaghetti great taste gr...   \n",
       "3      5  lindt lindt buying multi pack misled picture w...   \n",
       "4      5  yum bars good loved warmed definitely think gr...   \n",
       "5      5  delicious love chips buy pack month bags right...   \n",
       "6      5  tastes great organic huge fan eating cereal br...   \n",
       "7      2  poor taste really disappointed sorghum purchas...   \n",
       "8      3  better us instant coffee friend gone korea gav...   \n",
       "9      4  hard not like no need plastic baggies sloppy t...   \n",
       "\n",
       "                                               token  \\\n",
       "0  [very, good, received, product, early, seller,...   \n",
       "1  [organic, kosher, tasty, assortment, premium, ...   \n",
       "2  [excellent, gluten, free, spaghetti, great, ta...   \n",
       "3  [lindt, lindt, buying, multi, pack, misled, pi...   \n",
       "4  [yum, bars, good, loved, warmed, definitely, t...   \n",
       "5  [delicious, love, chips, buy, pack, month, bag...   \n",
       "6  [tastes, great, organic, huge, fan, eating, ce...   \n",
       "7  [poor, taste, really, disappointed, sorghum, p...   \n",
       "8  [better, us, instant, coffee, friend, gone, ko...   \n",
       "9  [hard, not, like, no, need, plastic, baggies, ...   \n",
       "\n",
       "                                                stem  \\\n",
       "0  veri good receiv product earli seller tastey g...   \n",
       "1  organ kosher tasti assort premium tea teasan n...   \n",
       "2  excel gluten free spaghetti great tast great s...   \n",
       "3  lindt lindt buy multi pack misl pictur whole h...   \n",
       "4  yum bar good love warm definit think great sna...   \n",
       "5  delici love chip buy pack month bag right size...   \n",
       "6  tast great organ huge fan eat cereal breakfast...   \n",
       "7  poor tast realli disappoint sorghum purchas us...   \n",
       "8  better us instant coffe friend gone korea gave...   \n",
       "9  hard not like no need plastic baggi sloppi tin...   \n",
       "\n",
       "                                                lemm  \\\n",
       "0  very good received product early seller tastey...   \n",
       "1  organic kosher tasty assortment premium tea te...   \n",
       "2  excellent gluten free spaghetti great taste gr...   \n",
       "3  lindt lindt buying multi pack misled picture w...   \n",
       "4  yum bar good loved warmed definitely think gre...   \n",
       "5  delicious love chip buy pack month bag right s...   \n",
       "6  taste great organic huge fan eating cereal bre...   \n",
       "7  poor taste really disappointed sorghum purchas...   \n",
       "8  better u instant coffee friend gone korea gave...   \n",
       "9  hard not like no need plastic baggies sloppy t...   \n",
       "\n",
       "                                          spacy_lemm  \n",
       "0  very good receive product early seller tastey ...  \n",
       "1  organic kosher tasty assortment premium tea te...  \n",
       "2  excellent gluten free spaghetti great taste gr...  \n",
       "3  lindt lindt buying multi pack mislead picture ...  \n",
       "4  yum bar good love warmed definitely think grea...  \n",
       "5  delicious love chip buy pack month bag right s...  \n",
       "6  taste great organic huge fan eat cereal breakf...  \n",
       "7  poor taste really disappointed sorghum purchas...  \n",
       "8  well us instant coffee friend go korea give co...  \n",
       "9  hard not like no need plastic baggie sloppy ti...  "
      ]
     },
     "execution_count": 295,
     "metadata": {},
     "output_type": "execute_result"
    }
   ],
   "source": [
    "final_df_sub.head(10)"
   ]
  },
  {
   "cell_type": "markdown",
   "metadata": {},
   "source": [
    "#### Compare Results"
   ]
  },
  {
   "cell_type": "code",
   "execution_count": 296,
   "metadata": {},
   "outputs": [
    {
     "data": {
      "text/plain": [
       "'veri good receiv product earli seller tastey great mid day snack share glutten free friend order product soon'"
      ]
     },
     "execution_count": 296,
     "metadata": {},
     "output_type": "execute_result"
    }
   ],
   "source": [
    "final_df_sub['stem'].iloc[0]"
   ]
  },
  {
   "cell_type": "code",
   "execution_count": 297,
   "metadata": {
    "scrolled": true
   },
   "outputs": [
    {
     "data": {
      "text/plain": [
       "'very good received product early seller tastey great mid day snack shared glutten free friend ordering product soon'"
      ]
     },
     "execution_count": 297,
     "metadata": {},
     "output_type": "execute_result"
    }
   ],
   "source": [
    "final_df_sub['lemm'].iloc[0]"
   ]
  },
  {
   "cell_type": "code",
   "execution_count": 298,
   "metadata": {},
   "outputs": [
    {
     "data": {
      "text/plain": [
       "'very good received product early seller tastey great mid day snack shared glutten free friends ordering product soon'"
      ]
     },
     "execution_count": 298,
     "metadata": {},
     "output_type": "execute_result"
    }
   ],
   "source": [
    "final_df_sub['review'].iloc[0]"
   ]
  },
  {
   "cell_type": "code",
   "execution_count": 299,
   "metadata": {},
   "outputs": [
    {
     "data": {
      "text/plain": [
       "'very good receive product early seller tastey great mid day snack share glutten free friend order product soon'"
      ]
     },
     "execution_count": 299,
     "metadata": {},
     "output_type": "execute_result"
    }
   ],
   "source": [
    "final_df_sub['spacy_lemm'].iloc[0]"
   ]
  },
  {
   "cell_type": "code",
   "execution_count": null,
   "metadata": {},
   "outputs": [],
   "source": []
  },
  {
   "cell_type": "markdown",
   "metadata": {},
   "source": [
    "# 3. Vector space Model and feature representation: (20%)\n",
    "Experiment with different representation techniques. Document your findings and make\n",
    "conclusions. Show how choosing n-gram features can influence your results"
   ]
  },
  {
   "cell_type": "markdown",
   "metadata": {},
   "source": [
    "#### Count Vector"
   ]
  },
  {
   "cell_type": "code",
   "execution_count": 300,
   "metadata": {},
   "outputs": [],
   "source": [
    "xTrain, y_Train, count_vect, feature_names, count_vectDF = VCM(\"count\", final_df_sub, \"stem\", \"Score\")"
   ]
  },
  {
   "cell_type": "code",
   "execution_count": 301,
   "metadata": {
    "scrolled": true
   },
   "outputs": [
    {
     "data": {
      "text/html": [
       "<div>\n",
       "<style scoped>\n",
       "    .dataframe tbody tr th:only-of-type {\n",
       "        vertical-align: middle;\n",
       "    }\n",
       "\n",
       "    .dataframe tbody tr th {\n",
       "        vertical-align: top;\n",
       "    }\n",
       "\n",
       "    .dataframe thead th {\n",
       "        text-align: right;\n",
       "    }\n",
       "</style>\n",
       "<table border=\"1\" class=\"dataframe\">\n",
       "  <thead>\n",
       "    <tr style=\"text-align: right;\">\n",
       "      <th></th>\n",
       "      <th>absolut</th>\n",
       "      <th>al</th>\n",
       "      <th>also</th>\n",
       "      <th>amazon</th>\n",
       "      <th>amount</th>\n",
       "      <th>ancient</th>\n",
       "      <th>anoth</th>\n",
       "      <th>are</th>\n",
       "      <th>artifici</th>\n",
       "      <th>assort</th>\n",
       "      <th>...</th>\n",
       "      <th>wheat</th>\n",
       "      <th>whole</th>\n",
       "      <th>wife</th>\n",
       "      <th>wonder</th>\n",
       "      <th>would</th>\n",
       "      <th>wrapper</th>\n",
       "      <th>write</th>\n",
       "      <th>year</th>\n",
       "      <th>yum</th>\n",
       "      <th>yunnan</th>\n",
       "    </tr>\n",
       "  </thead>\n",
       "  <tbody>\n",
       "    <tr>\n",
       "      <th>0</th>\n",
       "      <td>0</td>\n",
       "      <td>0</td>\n",
       "      <td>0</td>\n",
       "      <td>0</td>\n",
       "      <td>0</td>\n",
       "      <td>0</td>\n",
       "      <td>0</td>\n",
       "      <td>0</td>\n",
       "      <td>0</td>\n",
       "      <td>0</td>\n",
       "      <td>...</td>\n",
       "      <td>0</td>\n",
       "      <td>0</td>\n",
       "      <td>0</td>\n",
       "      <td>0</td>\n",
       "      <td>0</td>\n",
       "      <td>0</td>\n",
       "      <td>0</td>\n",
       "      <td>0</td>\n",
       "      <td>0</td>\n",
       "      <td>0</td>\n",
       "    </tr>\n",
       "    <tr>\n",
       "      <th>1</th>\n",
       "      <td>0</td>\n",
       "      <td>0</td>\n",
       "      <td>1</td>\n",
       "      <td>0</td>\n",
       "      <td>0</td>\n",
       "      <td>1</td>\n",
       "      <td>0</td>\n",
       "      <td>0</td>\n",
       "      <td>1</td>\n",
       "      <td>3</td>\n",
       "      <td>...</td>\n",
       "      <td>0</td>\n",
       "      <td>0</td>\n",
       "      <td>0</td>\n",
       "      <td>2</td>\n",
       "      <td>0</td>\n",
       "      <td>0</td>\n",
       "      <td>1</td>\n",
       "      <td>0</td>\n",
       "      <td>0</td>\n",
       "      <td>1</td>\n",
       "    </tr>\n",
       "    <tr>\n",
       "      <th>2</th>\n",
       "      <td>1</td>\n",
       "      <td>2</td>\n",
       "      <td>0</td>\n",
       "      <td>0</td>\n",
       "      <td>0</td>\n",
       "      <td>0</td>\n",
       "      <td>0</td>\n",
       "      <td>1</td>\n",
       "      <td>0</td>\n",
       "      <td>0</td>\n",
       "      <td>...</td>\n",
       "      <td>1</td>\n",
       "      <td>0</td>\n",
       "      <td>1</td>\n",
       "      <td>0</td>\n",
       "      <td>0</td>\n",
       "      <td>0</td>\n",
       "      <td>0</td>\n",
       "      <td>1</td>\n",
       "      <td>0</td>\n",
       "      <td>0</td>\n",
       "    </tr>\n",
       "    <tr>\n",
       "      <th>3</th>\n",
       "      <td>0</td>\n",
       "      <td>0</td>\n",
       "      <td>0</td>\n",
       "      <td>0</td>\n",
       "      <td>0</td>\n",
       "      <td>0</td>\n",
       "      <td>1</td>\n",
       "      <td>0</td>\n",
       "      <td>0</td>\n",
       "      <td>0</td>\n",
       "      <td>...</td>\n",
       "      <td>0</td>\n",
       "      <td>1</td>\n",
       "      <td>0</td>\n",
       "      <td>0</td>\n",
       "      <td>0</td>\n",
       "      <td>0</td>\n",
       "      <td>0</td>\n",
       "      <td>0</td>\n",
       "      <td>0</td>\n",
       "      <td>0</td>\n",
       "    </tr>\n",
       "    <tr>\n",
       "      <th>4</th>\n",
       "      <td>0</td>\n",
       "      <td>0</td>\n",
       "      <td>0</td>\n",
       "      <td>0</td>\n",
       "      <td>0</td>\n",
       "      <td>0</td>\n",
       "      <td>0</td>\n",
       "      <td>0</td>\n",
       "      <td>0</td>\n",
       "      <td>0</td>\n",
       "      <td>...</td>\n",
       "      <td>0</td>\n",
       "      <td>0</td>\n",
       "      <td>0</td>\n",
       "      <td>0</td>\n",
       "      <td>0</td>\n",
       "      <td>0</td>\n",
       "      <td>0</td>\n",
       "      <td>0</td>\n",
       "      <td>1</td>\n",
       "      <td>0</td>\n",
       "    </tr>\n",
       "    <tr>\n",
       "      <th>5</th>\n",
       "      <td>0</td>\n",
       "      <td>0</td>\n",
       "      <td>0</td>\n",
       "      <td>0</td>\n",
       "      <td>1</td>\n",
       "      <td>0</td>\n",
       "      <td>0</td>\n",
       "      <td>0</td>\n",
       "      <td>0</td>\n",
       "      <td>0</td>\n",
       "      <td>...</td>\n",
       "      <td>0</td>\n",
       "      <td>0</td>\n",
       "      <td>0</td>\n",
       "      <td>0</td>\n",
       "      <td>0</td>\n",
       "      <td>0</td>\n",
       "      <td>0</td>\n",
       "      <td>0</td>\n",
       "      <td>0</td>\n",
       "      <td>0</td>\n",
       "    </tr>\n",
       "    <tr>\n",
       "      <th>6</th>\n",
       "      <td>0</td>\n",
       "      <td>0</td>\n",
       "      <td>0</td>\n",
       "      <td>1</td>\n",
       "      <td>0</td>\n",
       "      <td>0</td>\n",
       "      <td>0</td>\n",
       "      <td>0</td>\n",
       "      <td>0</td>\n",
       "      <td>0</td>\n",
       "      <td>...</td>\n",
       "      <td>0</td>\n",
       "      <td>0</td>\n",
       "      <td>0</td>\n",
       "      <td>0</td>\n",
       "      <td>0</td>\n",
       "      <td>0</td>\n",
       "      <td>0</td>\n",
       "      <td>0</td>\n",
       "      <td>0</td>\n",
       "      <td>0</td>\n",
       "    </tr>\n",
       "    <tr>\n",
       "      <th>7</th>\n",
       "      <td>0</td>\n",
       "      <td>0</td>\n",
       "      <td>0</td>\n",
       "      <td>0</td>\n",
       "      <td>0</td>\n",
       "      <td>0</td>\n",
       "      <td>0</td>\n",
       "      <td>0</td>\n",
       "      <td>0</td>\n",
       "      <td>0</td>\n",
       "      <td>...</td>\n",
       "      <td>0</td>\n",
       "      <td>0</td>\n",
       "      <td>0</td>\n",
       "      <td>0</td>\n",
       "      <td>0</td>\n",
       "      <td>0</td>\n",
       "      <td>0</td>\n",
       "      <td>1</td>\n",
       "      <td>0</td>\n",
       "      <td>0</td>\n",
       "    </tr>\n",
       "    <tr>\n",
       "      <th>8</th>\n",
       "      <td>0</td>\n",
       "      <td>0</td>\n",
       "      <td>1</td>\n",
       "      <td>0</td>\n",
       "      <td>0</td>\n",
       "      <td>0</td>\n",
       "      <td>0</td>\n",
       "      <td>0</td>\n",
       "      <td>0</td>\n",
       "      <td>0</td>\n",
       "      <td>...</td>\n",
       "      <td>0</td>\n",
       "      <td>0</td>\n",
       "      <td>0</td>\n",
       "      <td>0</td>\n",
       "      <td>1</td>\n",
       "      <td>0</td>\n",
       "      <td>0</td>\n",
       "      <td>0</td>\n",
       "      <td>0</td>\n",
       "      <td>0</td>\n",
       "    </tr>\n",
       "    <tr>\n",
       "      <th>9</th>\n",
       "      <td>0</td>\n",
       "      <td>0</td>\n",
       "      <td>0</td>\n",
       "      <td>0</td>\n",
       "      <td>0</td>\n",
       "      <td>0</td>\n",
       "      <td>0</td>\n",
       "      <td>0</td>\n",
       "      <td>0</td>\n",
       "      <td>0</td>\n",
       "      <td>...</td>\n",
       "      <td>0</td>\n",
       "      <td>0</td>\n",
       "      <td>0</td>\n",
       "      <td>0</td>\n",
       "      <td>0</td>\n",
       "      <td>1</td>\n",
       "      <td>0</td>\n",
       "      <td>0</td>\n",
       "      <td>0</td>\n",
       "      <td>0</td>\n",
       "    </tr>\n",
       "  </tbody>\n",
       "</table>\n",
       "<p>10 rows × 345 columns</p>\n",
       "</div>"
      ],
      "text/plain": [
       "   absolut  al  also  amazon  amount  ancient  anoth  are  artifici  assort  \\\n",
       "0        0   0     0       0       0        0      0    0         0       0   \n",
       "1        0   0     1       0       0        1      0    0         1       3   \n",
       "2        1   2     0       0       0        0      0    1         0       0   \n",
       "3        0   0     0       0       0        0      1    0         0       0   \n",
       "4        0   0     0       0       0        0      0    0         0       0   \n",
       "5        0   0     0       0       1        0      0    0         0       0   \n",
       "6        0   0     0       1       0        0      0    0         0       0   \n",
       "7        0   0     0       0       0        0      0    0         0       0   \n",
       "8        0   0     1       0       0        0      0    0         0       0   \n",
       "9        0   0     0       0       0        0      0    0         0       0   \n",
       "\n",
       "   ...  wheat  whole  wife  wonder  would  wrapper  write  year  yum  yunnan  \n",
       "0  ...      0      0     0       0      0        0      0     0    0       0  \n",
       "1  ...      0      0     0       2      0        0      1     0    0       1  \n",
       "2  ...      1      0     1       0      0        0      0     1    0       0  \n",
       "3  ...      0      1     0       0      0        0      0     0    0       0  \n",
       "4  ...      0      0     0       0      0        0      0     0    1       0  \n",
       "5  ...      0      0     0       0      0        0      0     0    0       0  \n",
       "6  ...      0      0     0       0      0        0      0     0    0       0  \n",
       "7  ...      0      0     0       0      0        0      0     1    0       0  \n",
       "8  ...      0      0     0       0      1        0      0     0    0       0  \n",
       "9  ...      0      0     0       0      0        1      0     0    0       0  \n",
       "\n",
       "[10 rows x 345 columns]"
      ]
     },
     "execution_count": 301,
     "metadata": {},
     "output_type": "execute_result"
    }
   ],
   "source": [
    "count_vectDF.head(10)"
   ]
  },
  {
   "cell_type": "code",
   "execution_count": 302,
   "metadata": {},
   "outputs": [
    {
     "data": {
      "text/plain": [
       "absolut      0.1\n",
       "past         0.1\n",
       "par          0.1\n",
       "palett       0.1\n",
       "packag       0.1\n",
       "overpow      0.1\n",
       "overcook     0.1\n",
       "peopl        0.1\n",
       "other        0.1\n",
       "opinion      0.1\n",
       "old          0.1\n",
       "nut          0.1\n",
       "notic        0.1\n",
       "note         0.1\n",
       "normal       0.1\n",
       "order        0.1\n",
       "nine         0.1\n",
       "perhap       0.1\n",
       "plastic      0.1\n",
       "rang         0.1\n",
       "quick        0.1\n",
       "purchas      0.1\n",
       "proudli      0.1\n",
       "proof        0.1\n",
       "pronounc     0.1\n",
       "pictur       0.1\n",
       "produc       0.1\n",
       "previous     0.1\n",
       "prevent      0.1\n",
       "pretti       0.1\n",
       "            ... \n",
       "cereal       0.3\n",
       "fill         0.3\n",
       "caffein      0.3\n",
       "buy          0.3\n",
       "flavor       0.3\n",
       "sweet        0.3\n",
       "breakfast    0.3\n",
       "us           0.4\n",
       "coffe        0.4\n",
       "snack        0.4\n",
       "gluten       0.4\n",
       "no           0.4\n",
       "like         0.4\n",
       "perfect      0.4\n",
       "tri          0.4\n",
       "pasta        0.5\n",
       "herbal       0.5\n",
       "pack         0.5\n",
       "organ        0.5\n",
       "use          0.5\n",
       "one          0.5\n",
       "numi         0.6\n",
       "product      0.6\n",
       "teasan       0.6\n",
       "good         0.7\n",
       "free         0.7\n",
       "tast         0.9\n",
       "great        0.9\n",
       "not          1.1\n",
       "tea          1.6\n",
       "Length: 345, dtype: float64"
      ]
     },
     "execution_count": 302,
     "metadata": {},
     "output_type": "execute_result"
    }
   ],
   "source": [
    "#visualize important features \n",
    "count_vectDF.mean(axis=0).sort_values()"
   ]
  },
  {
   "cell_type": "markdown",
   "metadata": {},
   "source": [
    "#### TFIDF Vector"
   ]
  },
  {
   "cell_type": "code",
   "execution_count": 303,
   "metadata": {},
   "outputs": [],
   "source": [
    "xTrain2, y_Train2, tfidf_vect, feature_names2, tfidf_vectDF = VCM(\"tfidf\", final_df_sub, \"stem\", \"Score\")"
   ]
  },
  {
   "cell_type": "code",
   "execution_count": 304,
   "metadata": {},
   "outputs": [
    {
     "data": {
      "text/html": [
       "<div>\n",
       "<style scoped>\n",
       "    .dataframe tbody tr th:only-of-type {\n",
       "        vertical-align: middle;\n",
       "    }\n",
       "\n",
       "    .dataframe tbody tr th {\n",
       "        vertical-align: top;\n",
       "    }\n",
       "\n",
       "    .dataframe thead th {\n",
       "        text-align: right;\n",
       "    }\n",
       "</style>\n",
       "<table border=\"1\" class=\"dataframe\">\n",
       "  <thead>\n",
       "    <tr style=\"text-align: right;\">\n",
       "      <th></th>\n",
       "      <th>absolut</th>\n",
       "      <th>al</th>\n",
       "      <th>also</th>\n",
       "      <th>amazon</th>\n",
       "      <th>amount</th>\n",
       "      <th>ancient</th>\n",
       "      <th>anoth</th>\n",
       "      <th>are</th>\n",
       "      <th>artifici</th>\n",
       "      <th>assort</th>\n",
       "      <th>...</th>\n",
       "      <th>wheat</th>\n",
       "      <th>whole</th>\n",
       "      <th>wife</th>\n",
       "      <th>wonder</th>\n",
       "      <th>would</th>\n",
       "      <th>wrapper</th>\n",
       "      <th>write</th>\n",
       "      <th>year</th>\n",
       "      <th>yum</th>\n",
       "      <th>yunnan</th>\n",
       "    </tr>\n",
       "  </thead>\n",
       "  <tbody>\n",
       "    <tr>\n",
       "      <th>0</th>\n",
       "      <td>0.000000</td>\n",
       "      <td>0.000000</td>\n",
       "      <td>0.000000</td>\n",
       "      <td>0.000000</td>\n",
       "      <td>0.000000</td>\n",
       "      <td>0.00000</td>\n",
       "      <td>0.000000</td>\n",
       "      <td>0.000000</td>\n",
       "      <td>0.00000</td>\n",
       "      <td>0.000000</td>\n",
       "      <td>...</td>\n",
       "      <td>0.000000</td>\n",
       "      <td>0.000000</td>\n",
       "      <td>0.000000</td>\n",
       "      <td>0.000000</td>\n",
       "      <td>0.000000</td>\n",
       "      <td>0.000000</td>\n",
       "      <td>0.00000</td>\n",
       "      <td>0.000000</td>\n",
       "      <td>0.00000</td>\n",
       "      <td>0.00000</td>\n",
       "    </tr>\n",
       "    <tr>\n",
       "      <th>1</th>\n",
       "      <td>0.000000</td>\n",
       "      <td>0.000000</td>\n",
       "      <td>0.035696</td>\n",
       "      <td>0.000000</td>\n",
       "      <td>0.000000</td>\n",
       "      <td>0.04199</td>\n",
       "      <td>0.000000</td>\n",
       "      <td>0.000000</td>\n",
       "      <td>0.04199</td>\n",
       "      <td>0.125971</td>\n",
       "      <td>...</td>\n",
       "      <td>0.000000</td>\n",
       "      <td>0.000000</td>\n",
       "      <td>0.000000</td>\n",
       "      <td>0.083981</td>\n",
       "      <td>0.000000</td>\n",
       "      <td>0.000000</td>\n",
       "      <td>0.04199</td>\n",
       "      <td>0.000000</td>\n",
       "      <td>0.00000</td>\n",
       "      <td>0.04199</td>\n",
       "    </tr>\n",
       "    <tr>\n",
       "      <th>2</th>\n",
       "      <td>0.077252</td>\n",
       "      <td>0.154505</td>\n",
       "      <td>0.000000</td>\n",
       "      <td>0.000000</td>\n",
       "      <td>0.000000</td>\n",
       "      <td>0.00000</td>\n",
       "      <td>0.000000</td>\n",
       "      <td>0.077252</td>\n",
       "      <td>0.00000</td>\n",
       "      <td>0.000000</td>\n",
       "      <td>...</td>\n",
       "      <td>0.077252</td>\n",
       "      <td>0.000000</td>\n",
       "      <td>0.077252</td>\n",
       "      <td>0.000000</td>\n",
       "      <td>0.000000</td>\n",
       "      <td>0.000000</td>\n",
       "      <td>0.00000</td>\n",
       "      <td>0.065672</td>\n",
       "      <td>0.00000</td>\n",
       "      <td>0.00000</td>\n",
       "    </tr>\n",
       "    <tr>\n",
       "      <th>3</th>\n",
       "      <td>0.000000</td>\n",
       "      <td>0.000000</td>\n",
       "      <td>0.000000</td>\n",
       "      <td>0.000000</td>\n",
       "      <td>0.000000</td>\n",
       "      <td>0.00000</td>\n",
       "      <td>0.193097</td>\n",
       "      <td>0.000000</td>\n",
       "      <td>0.00000</td>\n",
       "      <td>0.000000</td>\n",
       "      <td>...</td>\n",
       "      <td>0.000000</td>\n",
       "      <td>0.193097</td>\n",
       "      <td>0.000000</td>\n",
       "      <td>0.000000</td>\n",
       "      <td>0.000000</td>\n",
       "      <td>0.000000</td>\n",
       "      <td>0.00000</td>\n",
       "      <td>0.000000</td>\n",
       "      <td>0.00000</td>\n",
       "      <td>0.00000</td>\n",
       "    </tr>\n",
       "    <tr>\n",
       "      <th>4</th>\n",
       "      <td>0.000000</td>\n",
       "      <td>0.000000</td>\n",
       "      <td>0.000000</td>\n",
       "      <td>0.000000</td>\n",
       "      <td>0.000000</td>\n",
       "      <td>0.00000</td>\n",
       "      <td>0.000000</td>\n",
       "      <td>0.000000</td>\n",
       "      <td>0.00000</td>\n",
       "      <td>0.000000</td>\n",
       "      <td>...</td>\n",
       "      <td>0.000000</td>\n",
       "      <td>0.000000</td>\n",
       "      <td>0.000000</td>\n",
       "      <td>0.000000</td>\n",
       "      <td>0.000000</td>\n",
       "      <td>0.000000</td>\n",
       "      <td>0.00000</td>\n",
       "      <td>0.000000</td>\n",
       "      <td>0.32186</td>\n",
       "      <td>0.00000</td>\n",
       "    </tr>\n",
       "    <tr>\n",
       "      <th>5</th>\n",
       "      <td>0.000000</td>\n",
       "      <td>0.000000</td>\n",
       "      <td>0.000000</td>\n",
       "      <td>0.000000</td>\n",
       "      <td>0.212034</td>\n",
       "      <td>0.00000</td>\n",
       "      <td>0.000000</td>\n",
       "      <td>0.000000</td>\n",
       "      <td>0.00000</td>\n",
       "      <td>0.000000</td>\n",
       "      <td>...</td>\n",
       "      <td>0.000000</td>\n",
       "      <td>0.000000</td>\n",
       "      <td>0.000000</td>\n",
       "      <td>0.000000</td>\n",
       "      <td>0.000000</td>\n",
       "      <td>0.000000</td>\n",
       "      <td>0.00000</td>\n",
       "      <td>0.000000</td>\n",
       "      <td>0.00000</td>\n",
       "      <td>0.00000</td>\n",
       "    </tr>\n",
       "    <tr>\n",
       "      <th>6</th>\n",
       "      <td>0.000000</td>\n",
       "      <td>0.000000</td>\n",
       "      <td>0.000000</td>\n",
       "      <td>0.118819</td>\n",
       "      <td>0.000000</td>\n",
       "      <td>0.00000</td>\n",
       "      <td>0.000000</td>\n",
       "      <td>0.000000</td>\n",
       "      <td>0.00000</td>\n",
       "      <td>0.000000</td>\n",
       "      <td>...</td>\n",
       "      <td>0.000000</td>\n",
       "      <td>0.000000</td>\n",
       "      <td>0.000000</td>\n",
       "      <td>0.000000</td>\n",
       "      <td>0.000000</td>\n",
       "      <td>0.000000</td>\n",
       "      <td>0.00000</td>\n",
       "      <td>0.000000</td>\n",
       "      <td>0.00000</td>\n",
       "      <td>0.00000</td>\n",
       "    </tr>\n",
       "    <tr>\n",
       "      <th>7</th>\n",
       "      <td>0.000000</td>\n",
       "      <td>0.000000</td>\n",
       "      <td>0.000000</td>\n",
       "      <td>0.000000</td>\n",
       "      <td>0.000000</td>\n",
       "      <td>0.00000</td>\n",
       "      <td>0.000000</td>\n",
       "      <td>0.000000</td>\n",
       "      <td>0.00000</td>\n",
       "      <td>0.000000</td>\n",
       "      <td>...</td>\n",
       "      <td>0.000000</td>\n",
       "      <td>0.000000</td>\n",
       "      <td>0.000000</td>\n",
       "      <td>0.000000</td>\n",
       "      <td>0.000000</td>\n",
       "      <td>0.000000</td>\n",
       "      <td>0.00000</td>\n",
       "      <td>0.186012</td>\n",
       "      <td>0.00000</td>\n",
       "      <td>0.00000</td>\n",
       "    </tr>\n",
       "    <tr>\n",
       "      <th>8</th>\n",
       "      <td>0.000000</td>\n",
       "      <td>0.000000</td>\n",
       "      <td>0.094112</td>\n",
       "      <td>0.000000</td>\n",
       "      <td>0.000000</td>\n",
       "      <td>0.00000</td>\n",
       "      <td>0.000000</td>\n",
       "      <td>0.000000</td>\n",
       "      <td>0.00000</td>\n",
       "      <td>0.000000</td>\n",
       "      <td>...</td>\n",
       "      <td>0.000000</td>\n",
       "      <td>0.000000</td>\n",
       "      <td>0.000000</td>\n",
       "      <td>0.000000</td>\n",
       "      <td>0.110709</td>\n",
       "      <td>0.000000</td>\n",
       "      <td>0.00000</td>\n",
       "      <td>0.000000</td>\n",
       "      <td>0.00000</td>\n",
       "      <td>0.00000</td>\n",
       "    </tr>\n",
       "    <tr>\n",
       "      <th>9</th>\n",
       "      <td>0.000000</td>\n",
       "      <td>0.000000</td>\n",
       "      <td>0.000000</td>\n",
       "      <td>0.000000</td>\n",
       "      <td>0.000000</td>\n",
       "      <td>0.00000</td>\n",
       "      <td>0.000000</td>\n",
       "      <td>0.000000</td>\n",
       "      <td>0.00000</td>\n",
       "      <td>0.000000</td>\n",
       "      <td>...</td>\n",
       "      <td>0.000000</td>\n",
       "      <td>0.000000</td>\n",
       "      <td>0.000000</td>\n",
       "      <td>0.000000</td>\n",
       "      <td>0.000000</td>\n",
       "      <td>0.171816</td>\n",
       "      <td>0.00000</td>\n",
       "      <td>0.000000</td>\n",
       "      <td>0.00000</td>\n",
       "      <td>0.00000</td>\n",
       "    </tr>\n",
       "  </tbody>\n",
       "</table>\n",
       "<p>10 rows × 345 columns</p>\n",
       "</div>"
      ],
      "text/plain": [
       "    absolut        al      also    amazon    amount  ancient     anoth  \\\n",
       "0  0.000000  0.000000  0.000000  0.000000  0.000000  0.00000  0.000000   \n",
       "1  0.000000  0.000000  0.035696  0.000000  0.000000  0.04199  0.000000   \n",
       "2  0.077252  0.154505  0.000000  0.000000  0.000000  0.00000  0.000000   \n",
       "3  0.000000  0.000000  0.000000  0.000000  0.000000  0.00000  0.193097   \n",
       "4  0.000000  0.000000  0.000000  0.000000  0.000000  0.00000  0.000000   \n",
       "5  0.000000  0.000000  0.000000  0.000000  0.212034  0.00000  0.000000   \n",
       "6  0.000000  0.000000  0.000000  0.118819  0.000000  0.00000  0.000000   \n",
       "7  0.000000  0.000000  0.000000  0.000000  0.000000  0.00000  0.000000   \n",
       "8  0.000000  0.000000  0.094112  0.000000  0.000000  0.00000  0.000000   \n",
       "9  0.000000  0.000000  0.000000  0.000000  0.000000  0.00000  0.000000   \n",
       "\n",
       "        are  artifici    assort  ...     wheat     whole      wife    wonder  \\\n",
       "0  0.000000   0.00000  0.000000  ...  0.000000  0.000000  0.000000  0.000000   \n",
       "1  0.000000   0.04199  0.125971  ...  0.000000  0.000000  0.000000  0.083981   \n",
       "2  0.077252   0.00000  0.000000  ...  0.077252  0.000000  0.077252  0.000000   \n",
       "3  0.000000   0.00000  0.000000  ...  0.000000  0.193097  0.000000  0.000000   \n",
       "4  0.000000   0.00000  0.000000  ...  0.000000  0.000000  0.000000  0.000000   \n",
       "5  0.000000   0.00000  0.000000  ...  0.000000  0.000000  0.000000  0.000000   \n",
       "6  0.000000   0.00000  0.000000  ...  0.000000  0.000000  0.000000  0.000000   \n",
       "7  0.000000   0.00000  0.000000  ...  0.000000  0.000000  0.000000  0.000000   \n",
       "8  0.000000   0.00000  0.000000  ...  0.000000  0.000000  0.000000  0.000000   \n",
       "9  0.000000   0.00000  0.000000  ...  0.000000  0.000000  0.000000  0.000000   \n",
       "\n",
       "      would   wrapper    write      year      yum   yunnan  \n",
       "0  0.000000  0.000000  0.00000  0.000000  0.00000  0.00000  \n",
       "1  0.000000  0.000000  0.04199  0.000000  0.00000  0.04199  \n",
       "2  0.000000  0.000000  0.00000  0.065672  0.00000  0.00000  \n",
       "3  0.000000  0.000000  0.00000  0.000000  0.00000  0.00000  \n",
       "4  0.000000  0.000000  0.00000  0.000000  0.32186  0.00000  \n",
       "5  0.000000  0.000000  0.00000  0.000000  0.00000  0.00000  \n",
       "6  0.000000  0.000000  0.00000  0.000000  0.00000  0.00000  \n",
       "7  0.000000  0.000000  0.00000  0.186012  0.00000  0.00000  \n",
       "8  0.110709  0.000000  0.00000  0.000000  0.00000  0.00000  \n",
       "9  0.000000  0.171816  0.00000  0.000000  0.00000  0.00000  \n",
       "\n",
       "[10 rows x 345 columns]"
      ]
     },
     "execution_count": 304,
     "metadata": {},
     "output_type": "execute_result"
    }
   ],
   "source": [
    "tfidf_vectDF.head(10)"
   ]
  },
  {
   "cell_type": "code",
   "execution_count": 305,
   "metadata": {},
   "outputs": [
    {
     "data": {
      "text/plain": [
       "yunnan       0.004199\n",
       "mist         0.004199\n",
       "monkey       0.004199\n",
       "moroccan     0.004199\n",
       "earthi       0.004199\n",
       "mountain     0.004199\n",
       "natur        0.004199\n",
       "dri          0.004199\n",
       "drench       0.004199\n",
       "distant      0.004199\n",
       "new          0.004199\n",
       "nine         0.004199\n",
       "note         0.004199\n",
       "differ       0.004199\n",
       "delight      0.004199\n",
       "opinion      0.004199\n",
       "other        0.004199\n",
       "palett       0.004199\n",
       "past         0.004199\n",
       "gift         0.004199\n",
       "peopl        0.004199\n",
       "contain      0.004199\n",
       "encourag     0.004199\n",
       "mellow       0.004199\n",
       "ever         0.004199\n",
       "melang       0.004199\n",
       "gunpowd      0.004199\n",
       "harmoni      0.004199\n",
       "heal         0.004199\n",
       "heaven       0.004199\n",
       "               ...   \n",
       "definit      0.032186\n",
       "bar          0.032186\n",
       "influenst    0.032186\n",
       "right        0.032631\n",
       "like         0.033386\n",
       "need         0.034363\n",
       "delici       0.034440\n",
       "fill         0.035646\n",
       "cereal       0.035646\n",
       "breakfast    0.035898\n",
       "size         0.036847\n",
       "chocol       0.038619\n",
       "pasta        0.038626\n",
       "bag          0.039619\n",
       "buy          0.042909\n",
       "use          0.044212\n",
       "coffe        0.044283\n",
       "love         0.045453\n",
       "no           0.045664\n",
       "receiv       0.049838\n",
       "pack         0.052790\n",
       "not          0.056285\n",
       "lindt        0.057929\n",
       "free         0.061975\n",
       "snack        0.064147\n",
       "tea          0.067184\n",
       "great        0.077398\n",
       "good         0.077513\n",
       "product      0.080934\n",
       "tast         0.082040\n",
       "Length: 345, dtype: float64"
      ]
     },
     "execution_count": 305,
     "metadata": {},
     "output_type": "execute_result"
    }
   ],
   "source": [
    "#visualize important features \n",
    "tfidf_vectDF.mean(axis=0).sort_values()"
   ]
  },
  {
   "cell_type": "markdown",
   "metadata": {},
   "source": [
    "### <font color='red'> here we can note that some features although are important, but they are irrelevent in 1 gram and may need bi gram to have good meaning example: taste it can represent either good or bad taste </FONT>"
   ]
  },
  {
   "cell_type": "markdown",
   "metadata": {},
   "source": [
    "#### Count Vector WITH BIGRAM"
   ]
  },
  {
   "cell_type": "code",
   "execution_count": 306,
   "metadata": {},
   "outputs": [],
   "source": [
    "xTrain_ngram_2, y_Train_ngram_2, count_vect_ngram_2, feature_names_ngram_2, count_vectDF_ngram_2 = VCM(\"count\", final_df_sub, \"stem\", \"Score\",2,2)"
   ]
  },
  {
   "cell_type": "code",
   "execution_count": 307,
   "metadata": {
    "scrolled": true
   },
   "outputs": [
    {
     "data": {
      "text/html": [
       "<div>\n",
       "<style scoped>\n",
       "    .dataframe tbody tr th:only-of-type {\n",
       "        vertical-align: middle;\n",
       "    }\n",
       "\n",
       "    .dataframe tbody tr th {\n",
       "        vertical-align: top;\n",
       "    }\n",
       "\n",
       "    .dataframe thead th {\n",
       "        text-align: right;\n",
       "    }\n",
       "</style>\n",
       "<table border=\"1\" class=\"dataframe\">\n",
       "  <thead>\n",
       "    <tr style=\"text-align: right;\">\n",
       "      <th></th>\n",
       "      <th>absolut perfect</th>\n",
       "      <th>al dent</th>\n",
       "      <th>also call</th>\n",
       "      <th>also thought</th>\n",
       "      <th>amazon carri</th>\n",
       "      <th>amount flavor</th>\n",
       "      <th>ancient one</th>\n",
       "      <th>anoth proof</th>\n",
       "      <th>are organ</th>\n",
       "      <th>artifici ingredi</th>\n",
       "      <th>...</th>\n",
       "      <th>wife italian</th>\n",
       "      <th>wonder assort</th>\n",
       "      <th>wonder infus</th>\n",
       "      <th>would prefer</th>\n",
       "      <th>wrapper honey</th>\n",
       "      <th>write mist</th>\n",
       "      <th>year old</th>\n",
       "      <th>year previous</th>\n",
       "      <th>yum bar</th>\n",
       "      <th>yunnan black</th>\n",
       "    </tr>\n",
       "  </thead>\n",
       "  <tbody>\n",
       "    <tr>\n",
       "      <th>0</th>\n",
       "      <td>0</td>\n",
       "      <td>0</td>\n",
       "      <td>0</td>\n",
       "      <td>0</td>\n",
       "      <td>0</td>\n",
       "      <td>0</td>\n",
       "      <td>0</td>\n",
       "      <td>0</td>\n",
       "      <td>0</td>\n",
       "      <td>0</td>\n",
       "      <td>...</td>\n",
       "      <td>0</td>\n",
       "      <td>0</td>\n",
       "      <td>0</td>\n",
       "      <td>0</td>\n",
       "      <td>0</td>\n",
       "      <td>0</td>\n",
       "      <td>0</td>\n",
       "      <td>0</td>\n",
       "      <td>0</td>\n",
       "      <td>0</td>\n",
       "    </tr>\n",
       "    <tr>\n",
       "      <th>1</th>\n",
       "      <td>0</td>\n",
       "      <td>0</td>\n",
       "      <td>1</td>\n",
       "      <td>0</td>\n",
       "      <td>0</td>\n",
       "      <td>0</td>\n",
       "      <td>1</td>\n",
       "      <td>0</td>\n",
       "      <td>0</td>\n",
       "      <td>1</td>\n",
       "      <td>...</td>\n",
       "      <td>0</td>\n",
       "      <td>1</td>\n",
       "      <td>1</td>\n",
       "      <td>0</td>\n",
       "      <td>0</td>\n",
       "      <td>1</td>\n",
       "      <td>0</td>\n",
       "      <td>0</td>\n",
       "      <td>0</td>\n",
       "      <td>1</td>\n",
       "    </tr>\n",
       "    <tr>\n",
       "      <th>2</th>\n",
       "      <td>1</td>\n",
       "      <td>2</td>\n",
       "      <td>0</td>\n",
       "      <td>0</td>\n",
       "      <td>0</td>\n",
       "      <td>0</td>\n",
       "      <td>0</td>\n",
       "      <td>0</td>\n",
       "      <td>1</td>\n",
       "      <td>0</td>\n",
       "      <td>...</td>\n",
       "      <td>1</td>\n",
       "      <td>0</td>\n",
       "      <td>0</td>\n",
       "      <td>0</td>\n",
       "      <td>0</td>\n",
       "      <td>0</td>\n",
       "      <td>1</td>\n",
       "      <td>0</td>\n",
       "      <td>0</td>\n",
       "      <td>0</td>\n",
       "    </tr>\n",
       "    <tr>\n",
       "      <th>3</th>\n",
       "      <td>0</td>\n",
       "      <td>0</td>\n",
       "      <td>0</td>\n",
       "      <td>0</td>\n",
       "      <td>0</td>\n",
       "      <td>0</td>\n",
       "      <td>0</td>\n",
       "      <td>1</td>\n",
       "      <td>0</td>\n",
       "      <td>0</td>\n",
       "      <td>...</td>\n",
       "      <td>0</td>\n",
       "      <td>0</td>\n",
       "      <td>0</td>\n",
       "      <td>0</td>\n",
       "      <td>0</td>\n",
       "      <td>0</td>\n",
       "      <td>0</td>\n",
       "      <td>0</td>\n",
       "      <td>0</td>\n",
       "      <td>0</td>\n",
       "    </tr>\n",
       "    <tr>\n",
       "      <th>4</th>\n",
       "      <td>0</td>\n",
       "      <td>0</td>\n",
       "      <td>0</td>\n",
       "      <td>0</td>\n",
       "      <td>0</td>\n",
       "      <td>0</td>\n",
       "      <td>0</td>\n",
       "      <td>0</td>\n",
       "      <td>0</td>\n",
       "      <td>0</td>\n",
       "      <td>...</td>\n",
       "      <td>0</td>\n",
       "      <td>0</td>\n",
       "      <td>0</td>\n",
       "      <td>0</td>\n",
       "      <td>0</td>\n",
       "      <td>0</td>\n",
       "      <td>0</td>\n",
       "      <td>0</td>\n",
       "      <td>1</td>\n",
       "      <td>0</td>\n",
       "    </tr>\n",
       "    <tr>\n",
       "      <th>5</th>\n",
       "      <td>0</td>\n",
       "      <td>0</td>\n",
       "      <td>0</td>\n",
       "      <td>0</td>\n",
       "      <td>0</td>\n",
       "      <td>1</td>\n",
       "      <td>0</td>\n",
       "      <td>0</td>\n",
       "      <td>0</td>\n",
       "      <td>0</td>\n",
       "      <td>...</td>\n",
       "      <td>0</td>\n",
       "      <td>0</td>\n",
       "      <td>0</td>\n",
       "      <td>0</td>\n",
       "      <td>0</td>\n",
       "      <td>0</td>\n",
       "      <td>0</td>\n",
       "      <td>0</td>\n",
       "      <td>0</td>\n",
       "      <td>0</td>\n",
       "    </tr>\n",
       "    <tr>\n",
       "      <th>6</th>\n",
       "      <td>0</td>\n",
       "      <td>0</td>\n",
       "      <td>0</td>\n",
       "      <td>0</td>\n",
       "      <td>1</td>\n",
       "      <td>0</td>\n",
       "      <td>0</td>\n",
       "      <td>0</td>\n",
       "      <td>0</td>\n",
       "      <td>0</td>\n",
       "      <td>...</td>\n",
       "      <td>0</td>\n",
       "      <td>0</td>\n",
       "      <td>0</td>\n",
       "      <td>0</td>\n",
       "      <td>0</td>\n",
       "      <td>0</td>\n",
       "      <td>0</td>\n",
       "      <td>0</td>\n",
       "      <td>0</td>\n",
       "      <td>0</td>\n",
       "    </tr>\n",
       "    <tr>\n",
       "      <th>7</th>\n",
       "      <td>0</td>\n",
       "      <td>0</td>\n",
       "      <td>0</td>\n",
       "      <td>0</td>\n",
       "      <td>0</td>\n",
       "      <td>0</td>\n",
       "      <td>0</td>\n",
       "      <td>0</td>\n",
       "      <td>0</td>\n",
       "      <td>0</td>\n",
       "      <td>...</td>\n",
       "      <td>0</td>\n",
       "      <td>0</td>\n",
       "      <td>0</td>\n",
       "      <td>0</td>\n",
       "      <td>0</td>\n",
       "      <td>0</td>\n",
       "      <td>0</td>\n",
       "      <td>1</td>\n",
       "      <td>0</td>\n",
       "      <td>0</td>\n",
       "    </tr>\n",
       "    <tr>\n",
       "      <th>8</th>\n",
       "      <td>0</td>\n",
       "      <td>0</td>\n",
       "      <td>0</td>\n",
       "      <td>1</td>\n",
       "      <td>0</td>\n",
       "      <td>0</td>\n",
       "      <td>0</td>\n",
       "      <td>0</td>\n",
       "      <td>0</td>\n",
       "      <td>0</td>\n",
       "      <td>...</td>\n",
       "      <td>0</td>\n",
       "      <td>0</td>\n",
       "      <td>0</td>\n",
       "      <td>1</td>\n",
       "      <td>0</td>\n",
       "      <td>0</td>\n",
       "      <td>0</td>\n",
       "      <td>0</td>\n",
       "      <td>0</td>\n",
       "      <td>0</td>\n",
       "    </tr>\n",
       "    <tr>\n",
       "      <th>9</th>\n",
       "      <td>0</td>\n",
       "      <td>0</td>\n",
       "      <td>0</td>\n",
       "      <td>0</td>\n",
       "      <td>0</td>\n",
       "      <td>0</td>\n",
       "      <td>0</td>\n",
       "      <td>0</td>\n",
       "      <td>0</td>\n",
       "      <td>0</td>\n",
       "      <td>...</td>\n",
       "      <td>0</td>\n",
       "      <td>0</td>\n",
       "      <td>0</td>\n",
       "      <td>0</td>\n",
       "      <td>1</td>\n",
       "      <td>0</td>\n",
       "      <td>0</td>\n",
       "      <td>0</td>\n",
       "      <td>0</td>\n",
       "      <td>0</td>\n",
       "    </tr>\n",
       "  </tbody>\n",
       "</table>\n",
       "<p>10 rows × 515 columns</p>\n",
       "</div>"
      ],
      "text/plain": [
       "   absolut perfect  al dent  also call  also thought  amazon carri  \\\n",
       "0                0        0          0             0             0   \n",
       "1                0        0          1             0             0   \n",
       "2                1        2          0             0             0   \n",
       "3                0        0          0             0             0   \n",
       "4                0        0          0             0             0   \n",
       "5                0        0          0             0             0   \n",
       "6                0        0          0             0             1   \n",
       "7                0        0          0             0             0   \n",
       "8                0        0          0             1             0   \n",
       "9                0        0          0             0             0   \n",
       "\n",
       "   amount flavor  ancient one  anoth proof  are organ  artifici ingredi  ...  \\\n",
       "0              0            0            0          0                 0  ...   \n",
       "1              0            1            0          0                 1  ...   \n",
       "2              0            0            0          1                 0  ...   \n",
       "3              0            0            1          0                 0  ...   \n",
       "4              0            0            0          0                 0  ...   \n",
       "5              1            0            0          0                 0  ...   \n",
       "6              0            0            0          0                 0  ...   \n",
       "7              0            0            0          0                 0  ...   \n",
       "8              0            0            0          0                 0  ...   \n",
       "9              0            0            0          0                 0  ...   \n",
       "\n",
       "   wife italian  wonder assort  wonder infus  would prefer  wrapper honey  \\\n",
       "0             0              0             0             0              0   \n",
       "1             0              1             1             0              0   \n",
       "2             1              0             0             0              0   \n",
       "3             0              0             0             0              0   \n",
       "4             0              0             0             0              0   \n",
       "5             0              0             0             0              0   \n",
       "6             0              0             0             0              0   \n",
       "7             0              0             0             0              0   \n",
       "8             0              0             0             1              0   \n",
       "9             0              0             0             0              1   \n",
       "\n",
       "   write mist  year old  year previous  yum bar  yunnan black  \n",
       "0           0         0              0        0             0  \n",
       "1           1         0              0        0             1  \n",
       "2           0         1              0        0             0  \n",
       "3           0         0              0        0             0  \n",
       "4           0         0              0        1             0  \n",
       "5           0         0              0        0             0  \n",
       "6           0         0              0        0             0  \n",
       "7           0         0              1        0             0  \n",
       "8           0         0              0        0             0  \n",
       "9           0         0              0        0             0  \n",
       "\n",
       "[10 rows x 515 columns]"
      ]
     },
     "execution_count": 307,
     "metadata": {},
     "output_type": "execute_result"
    }
   ],
   "source": [
    "count_vectDF_ngram_2.head(10)"
   ]
  },
  {
   "cell_type": "code",
   "execution_count": 308,
   "metadata": {},
   "outputs": [
    {
     "data": {
      "text/plain": [
       "absolut perfect       0.1\n",
       "proudli bring         0.1\n",
       "proof import          0.1\n",
       "pronounc could        0.1\n",
       "product tremend       0.1\n",
       "product though        0.1\n",
       "product soon          0.1\n",
       "product get           0.1\n",
       "product free          0.1\n",
       "product earli         0.1\n",
       "produc gluten         0.1\n",
       "problem chocol        0.1\n",
       "price right           0.1\n",
       "price perfect         0.1\n",
       "previous bought       0.1\n",
       "prevent eat           0.1\n",
       "pretti good           0.1\n",
       "prefer well           0.1\n",
       "poor tast             0.1\n",
       "pleasant certainli    0.1\n",
       "plastic baggi         0.1\n",
       "pictur whole          0.1\n",
       "perhap larger         0.1\n",
       "perfect packag        0.1\n",
       "perfect one           0.1\n",
       "perfect combin        0.1\n",
       "perfect big           0.1\n",
       "peopl sooth           0.1\n",
       "publix discontinu     0.1\n",
       "publix sale           0.1\n",
       "                     ... \n",
       "foil wrapper          0.1\n",
       "foodi year            0.1\n",
       "great snack           0.1\n",
       "great organ           0.1\n",
       "great mid             0.1\n",
       "great great           0.1\n",
       "great amount          0.1\n",
       "floral scent          0.1\n",
       "free spaghetti        0.1\n",
       "al dent               0.2\n",
       "found brand           0.2\n",
       "high qualiti          0.2\n",
       "base pasta            0.2\n",
       "tast good             0.2\n",
       "great tast            0.2\n",
       "celiac diseas         0.2\n",
       "great structur        0.2\n",
       "premium tea           0.2\n",
       "no need               0.2\n",
       "organ kosher          0.2\n",
       "good fill             0.2\n",
       "numi tea              0.2\n",
       "us instant            0.2\n",
       "receiv product        0.2\n",
       "instant coffe         0.2\n",
       "black tea             0.3\n",
       "green tea             0.3\n",
       "tast great            0.3\n",
       "herbal teasan         0.4\n",
       "gluten free           0.4\n",
       "Length: 515, dtype: float64"
      ]
     },
     "execution_count": 308,
     "metadata": {},
     "output_type": "execute_result"
    }
   ],
   "source": [
    "count_vectDF_ngram_2.mean(axis=0).sort_values()"
   ]
  },
  {
   "cell_type": "markdown",
   "metadata": {},
   "source": [
    "### <FONT COLOR=\"RED\"> here we can see the combination of taste with other word how it has a clear meaning </FONT>"
   ]
  },
  {
   "cell_type": "markdown",
   "metadata": {},
   "source": [
    "#### TFIDF WITH BIGRAM"
   ]
  },
  {
   "cell_type": "code",
   "execution_count": 316,
   "metadata": {},
   "outputs": [],
   "source": [
    "xTrain_ngram_t_2, y_Train_ngram_t_2, count_vect_ngram_t_2, feature_names_ngram_t_2, count_vectDF_ngram_t_2 = VCM(\"tfidf\", final_df_sub, \"stem\", \"Score\",2,2)"
   ]
  },
  {
   "cell_type": "code",
   "execution_count": 317,
   "metadata": {
    "scrolled": true
   },
   "outputs": [
    {
     "data": {
      "text/html": [
       "<div>\n",
       "<style scoped>\n",
       "    .dataframe tbody tr th:only-of-type {\n",
       "        vertical-align: middle;\n",
       "    }\n",
       "\n",
       "    .dataframe tbody tr th {\n",
       "        vertical-align: top;\n",
       "    }\n",
       "\n",
       "    .dataframe thead th {\n",
       "        text-align: right;\n",
       "    }\n",
       "</style>\n",
       "<table border=\"1\" class=\"dataframe\">\n",
       "  <thead>\n",
       "    <tr style=\"text-align: right;\">\n",
       "      <th></th>\n",
       "      <th>absolut perfect</th>\n",
       "      <th>al dent</th>\n",
       "      <th>also call</th>\n",
       "      <th>also thought</th>\n",
       "      <th>amazon carri</th>\n",
       "      <th>amount flavor</th>\n",
       "      <th>ancient one</th>\n",
       "      <th>anoth proof</th>\n",
       "      <th>are organ</th>\n",
       "      <th>artifici ingredi</th>\n",
       "      <th>...</th>\n",
       "      <th>wife italian</th>\n",
       "      <th>wonder assort</th>\n",
       "      <th>wonder infus</th>\n",
       "      <th>would prefer</th>\n",
       "      <th>wrapper honey</th>\n",
       "      <th>write mist</th>\n",
       "      <th>year old</th>\n",
       "      <th>year previous</th>\n",
       "      <th>yum bar</th>\n",
       "      <th>yunnan black</th>\n",
       "    </tr>\n",
       "  </thead>\n",
       "  <tbody>\n",
       "    <tr>\n",
       "      <th>0</th>\n",
       "      <td>0.000000</td>\n",
       "      <td>0.000000</td>\n",
       "      <td>0.000000</td>\n",
       "      <td>0.000</td>\n",
       "      <td>0.000000</td>\n",
       "      <td>0.000000</td>\n",
       "      <td>0.000000</td>\n",
       "      <td>0.000000</td>\n",
       "      <td>0.000000</td>\n",
       "      <td>0.000000</td>\n",
       "      <td>...</td>\n",
       "      <td>0.000000</td>\n",
       "      <td>0.000000</td>\n",
       "      <td>0.000000</td>\n",
       "      <td>0.000</td>\n",
       "      <td>0.000000</td>\n",
       "      <td>0.000000</td>\n",
       "      <td>0.000000</td>\n",
       "      <td>0.000000</td>\n",
       "      <td>0.000000</td>\n",
       "      <td>0.000000</td>\n",
       "    </tr>\n",
       "    <tr>\n",
       "      <th>1</th>\n",
       "      <td>0.000000</td>\n",
       "      <td>0.000000</td>\n",
       "      <td>0.066372</td>\n",
       "      <td>0.000</td>\n",
       "      <td>0.000000</td>\n",
       "      <td>0.000000</td>\n",
       "      <td>0.066372</td>\n",
       "      <td>0.000000</td>\n",
       "      <td>0.000000</td>\n",
       "      <td>0.066372</td>\n",
       "      <td>...</td>\n",
       "      <td>0.000000</td>\n",
       "      <td>0.066372</td>\n",
       "      <td>0.066372</td>\n",
       "      <td>0.000</td>\n",
       "      <td>0.000000</td>\n",
       "      <td>0.066372</td>\n",
       "      <td>0.000000</td>\n",
       "      <td>0.000000</td>\n",
       "      <td>0.000000</td>\n",
       "      <td>0.066372</td>\n",
       "    </tr>\n",
       "    <tr>\n",
       "      <th>2</th>\n",
       "      <td>0.088426</td>\n",
       "      <td>0.176852</td>\n",
       "      <td>0.000000</td>\n",
       "      <td>0.000</td>\n",
       "      <td>0.000000</td>\n",
       "      <td>0.000000</td>\n",
       "      <td>0.000000</td>\n",
       "      <td>0.000000</td>\n",
       "      <td>0.088426</td>\n",
       "      <td>0.000000</td>\n",
       "      <td>...</td>\n",
       "      <td>0.088426</td>\n",
       "      <td>0.000000</td>\n",
       "      <td>0.000000</td>\n",
       "      <td>0.000</td>\n",
       "      <td>0.000000</td>\n",
       "      <td>0.000000</td>\n",
       "      <td>0.088426</td>\n",
       "      <td>0.000000</td>\n",
       "      <td>0.000000</td>\n",
       "      <td>0.000000</td>\n",
       "    </tr>\n",
       "    <tr>\n",
       "      <th>3</th>\n",
       "      <td>0.000000</td>\n",
       "      <td>0.000000</td>\n",
       "      <td>0.000000</td>\n",
       "      <td>0.000</td>\n",
       "      <td>0.000000</td>\n",
       "      <td>0.000000</td>\n",
       "      <td>0.000000</td>\n",
       "      <td>0.223607</td>\n",
       "      <td>0.000000</td>\n",
       "      <td>0.000000</td>\n",
       "      <td>...</td>\n",
       "      <td>0.000000</td>\n",
       "      <td>0.000000</td>\n",
       "      <td>0.000000</td>\n",
       "      <td>0.000</td>\n",
       "      <td>0.000000</td>\n",
       "      <td>0.000000</td>\n",
       "      <td>0.000000</td>\n",
       "      <td>0.000000</td>\n",
       "      <td>0.000000</td>\n",
       "      <td>0.000000</td>\n",
       "    </tr>\n",
       "    <tr>\n",
       "      <th>4</th>\n",
       "      <td>0.000000</td>\n",
       "      <td>0.000000</td>\n",
       "      <td>0.000000</td>\n",
       "      <td>0.000</td>\n",
       "      <td>0.000000</td>\n",
       "      <td>0.000000</td>\n",
       "      <td>0.000000</td>\n",
       "      <td>0.000000</td>\n",
       "      <td>0.000000</td>\n",
       "      <td>0.000000</td>\n",
       "      <td>...</td>\n",
       "      <td>0.000000</td>\n",
       "      <td>0.000000</td>\n",
       "      <td>0.000000</td>\n",
       "      <td>0.000</td>\n",
       "      <td>0.000000</td>\n",
       "      <td>0.000000</td>\n",
       "      <td>0.000000</td>\n",
       "      <td>0.000000</td>\n",
       "      <td>0.280357</td>\n",
       "      <td>0.000000</td>\n",
       "    </tr>\n",
       "    <tr>\n",
       "      <th>5</th>\n",
       "      <td>0.000000</td>\n",
       "      <td>0.000000</td>\n",
       "      <td>0.000000</td>\n",
       "      <td>0.000</td>\n",
       "      <td>0.000000</td>\n",
       "      <td>0.196116</td>\n",
       "      <td>0.000000</td>\n",
       "      <td>0.000000</td>\n",
       "      <td>0.000000</td>\n",
       "      <td>0.000000</td>\n",
       "      <td>...</td>\n",
       "      <td>0.000000</td>\n",
       "      <td>0.000000</td>\n",
       "      <td>0.000000</td>\n",
       "      <td>0.000</td>\n",
       "      <td>0.000000</td>\n",
       "      <td>0.000000</td>\n",
       "      <td>0.000000</td>\n",
       "      <td>0.000000</td>\n",
       "      <td>0.000000</td>\n",
       "      <td>0.000000</td>\n",
       "    </tr>\n",
       "    <tr>\n",
       "      <th>6</th>\n",
       "      <td>0.000000</td>\n",
       "      <td>0.000000</td>\n",
       "      <td>0.000000</td>\n",
       "      <td>0.000</td>\n",
       "      <td>0.131622</td>\n",
       "      <td>0.000000</td>\n",
       "      <td>0.000000</td>\n",
       "      <td>0.000000</td>\n",
       "      <td>0.000000</td>\n",
       "      <td>0.000000</td>\n",
       "      <td>...</td>\n",
       "      <td>0.000000</td>\n",
       "      <td>0.000000</td>\n",
       "      <td>0.000000</td>\n",
       "      <td>0.000</td>\n",
       "      <td>0.000000</td>\n",
       "      <td>0.000000</td>\n",
       "      <td>0.000000</td>\n",
       "      <td>0.000000</td>\n",
       "      <td>0.000000</td>\n",
       "      <td>0.000000</td>\n",
       "    </tr>\n",
       "    <tr>\n",
       "      <th>7</th>\n",
       "      <td>0.000000</td>\n",
       "      <td>0.000000</td>\n",
       "      <td>0.000000</td>\n",
       "      <td>0.000</td>\n",
       "      <td>0.000000</td>\n",
       "      <td>0.000000</td>\n",
       "      <td>0.000000</td>\n",
       "      <td>0.000000</td>\n",
       "      <td>0.000000</td>\n",
       "      <td>0.000000</td>\n",
       "      <td>...</td>\n",
       "      <td>0.000000</td>\n",
       "      <td>0.000000</td>\n",
       "      <td>0.000000</td>\n",
       "      <td>0.000</td>\n",
       "      <td>0.000000</td>\n",
       "      <td>0.000000</td>\n",
       "      <td>0.000000</td>\n",
       "      <td>0.213201</td>\n",
       "      <td>0.000000</td>\n",
       "      <td>0.000000</td>\n",
       "    </tr>\n",
       "    <tr>\n",
       "      <th>8</th>\n",
       "      <td>0.000000</td>\n",
       "      <td>0.000000</td>\n",
       "      <td>0.000000</td>\n",
       "      <td>0.127</td>\n",
       "      <td>0.000000</td>\n",
       "      <td>0.000000</td>\n",
       "      <td>0.000000</td>\n",
       "      <td>0.000000</td>\n",
       "      <td>0.000000</td>\n",
       "      <td>0.000000</td>\n",
       "      <td>...</td>\n",
       "      <td>0.000000</td>\n",
       "      <td>0.000000</td>\n",
       "      <td>0.000000</td>\n",
       "      <td>0.127</td>\n",
       "      <td>0.000000</td>\n",
       "      <td>0.000000</td>\n",
       "      <td>0.000000</td>\n",
       "      <td>0.000000</td>\n",
       "      <td>0.000000</td>\n",
       "      <td>0.000000</td>\n",
       "    </tr>\n",
       "    <tr>\n",
       "      <th>9</th>\n",
       "      <td>0.000000</td>\n",
       "      <td>0.000000</td>\n",
       "      <td>0.000000</td>\n",
       "      <td>0.000</td>\n",
       "      <td>0.000000</td>\n",
       "      <td>0.000000</td>\n",
       "      <td>0.000000</td>\n",
       "      <td>0.000000</td>\n",
       "      <td>0.000000</td>\n",
       "      <td>0.000000</td>\n",
       "      <td>...</td>\n",
       "      <td>0.000000</td>\n",
       "      <td>0.000000</td>\n",
       "      <td>0.000000</td>\n",
       "      <td>0.000</td>\n",
       "      <td>0.164399</td>\n",
       "      <td>0.000000</td>\n",
       "      <td>0.000000</td>\n",
       "      <td>0.000000</td>\n",
       "      <td>0.000000</td>\n",
       "      <td>0.000000</td>\n",
       "    </tr>\n",
       "  </tbody>\n",
       "</table>\n",
       "<p>10 rows × 515 columns</p>\n",
       "</div>"
      ],
      "text/plain": [
       "   absolut perfect   al dent  also call  also thought  amazon carri  \\\n",
       "0         0.000000  0.000000   0.000000         0.000      0.000000   \n",
       "1         0.000000  0.000000   0.066372         0.000      0.000000   \n",
       "2         0.088426  0.176852   0.000000         0.000      0.000000   \n",
       "3         0.000000  0.000000   0.000000         0.000      0.000000   \n",
       "4         0.000000  0.000000   0.000000         0.000      0.000000   \n",
       "5         0.000000  0.000000   0.000000         0.000      0.000000   \n",
       "6         0.000000  0.000000   0.000000         0.000      0.131622   \n",
       "7         0.000000  0.000000   0.000000         0.000      0.000000   \n",
       "8         0.000000  0.000000   0.000000         0.127      0.000000   \n",
       "9         0.000000  0.000000   0.000000         0.000      0.000000   \n",
       "\n",
       "   amount flavor  ancient one  anoth proof  are organ  artifici ingredi  ...  \\\n",
       "0       0.000000     0.000000     0.000000   0.000000          0.000000  ...   \n",
       "1       0.000000     0.066372     0.000000   0.000000          0.066372  ...   \n",
       "2       0.000000     0.000000     0.000000   0.088426          0.000000  ...   \n",
       "3       0.000000     0.000000     0.223607   0.000000          0.000000  ...   \n",
       "4       0.000000     0.000000     0.000000   0.000000          0.000000  ...   \n",
       "5       0.196116     0.000000     0.000000   0.000000          0.000000  ...   \n",
       "6       0.000000     0.000000     0.000000   0.000000          0.000000  ...   \n",
       "7       0.000000     0.000000     0.000000   0.000000          0.000000  ...   \n",
       "8       0.000000     0.000000     0.000000   0.000000          0.000000  ...   \n",
       "9       0.000000     0.000000     0.000000   0.000000          0.000000  ...   \n",
       "\n",
       "   wife italian  wonder assort  wonder infus  would prefer  wrapper honey  \\\n",
       "0      0.000000       0.000000      0.000000         0.000       0.000000   \n",
       "1      0.000000       0.066372      0.066372         0.000       0.000000   \n",
       "2      0.088426       0.000000      0.000000         0.000       0.000000   \n",
       "3      0.000000       0.000000      0.000000         0.000       0.000000   \n",
       "4      0.000000       0.000000      0.000000         0.000       0.000000   \n",
       "5      0.000000       0.000000      0.000000         0.000       0.000000   \n",
       "6      0.000000       0.000000      0.000000         0.000       0.000000   \n",
       "7      0.000000       0.000000      0.000000         0.000       0.000000   \n",
       "8      0.000000       0.000000      0.000000         0.127       0.000000   \n",
       "9      0.000000       0.000000      0.000000         0.000       0.164399   \n",
       "\n",
       "   write mist  year old  year previous   yum bar  yunnan black  \n",
       "0    0.000000  0.000000       0.000000  0.000000      0.000000  \n",
       "1    0.066372  0.000000       0.000000  0.000000      0.066372  \n",
       "2    0.000000  0.088426       0.000000  0.000000      0.000000  \n",
       "3    0.000000  0.000000       0.000000  0.000000      0.000000  \n",
       "4    0.000000  0.000000       0.000000  0.280357      0.000000  \n",
       "5    0.000000  0.000000       0.000000  0.000000      0.000000  \n",
       "6    0.000000  0.000000       0.000000  0.000000      0.000000  \n",
       "7    0.000000  0.000000       0.213201  0.000000      0.000000  \n",
       "8    0.000000  0.000000       0.000000  0.000000      0.000000  \n",
       "9    0.000000  0.000000       0.000000  0.000000      0.000000  \n",
       "\n",
       "[10 rows x 515 columns]"
      ]
     },
     "execution_count": 317,
     "metadata": {},
     "output_type": "execute_result"
    }
   ],
   "source": [
    "count_vectDF_ngram_t_2.head(10)"
   ]
  },
  {
   "cell_type": "markdown",
   "metadata": {},
   "source": [
    "#### Count Vector WITH TRIGRAM"
   ]
  },
  {
   "cell_type": "code",
   "execution_count": 318,
   "metadata": {
    "scrolled": true
   },
   "outputs": [
    {
     "data": {
      "text/plain": [
       "absolut perfect one       0.1\n",
       "pronounc could serv       0.1\n",
       "product tremend valu      0.1\n",
       "product though sweet      0.1\n",
       "product get star          0.1\n",
       "product free influenst    0.1\n",
       "product earli seller      0.1\n",
       "produc gluten free        0.1\n",
       "problem chocol delici     0.1\n",
       "price right consid        0.1\n",
       "price perfect big         0.1\n",
       "previous bought vendor    0.1\n",
       "prevent eat way           0.1\n",
       "premium tea teasan        0.1\n",
       "premium tea numi          0.1\n",
       "prefer well save          0.1\n",
       "poor tast realli          0.1\n",
       "pleasant certainli not    0.1\n",
       "plastic baggi sloppi      0.1\n",
       "pictur whole hazel        0.1\n",
       "perhap larger one         0.1\n",
       "perfect packag snack      0.1\n",
       "perfect one great         0.1\n",
       "perfect combin product    0.1\n",
       "perfect big save          0.1\n",
       "peopl sooth rous          0.1\n",
       "pasta wife italian        0.1\n",
       "pasta product tremend     0.1\n",
       "pasta make sure           0.1\n",
       "pasta guest no            0.1\n",
       "                         ... \n",
       "hazel nut anoth           0.1\n",
       "harmoni steep gift        0.1\n",
       "hard not like             0.1\n",
       "happi found brand         0.1\n",
       "gunpowd green tea         0.1\n",
       "guest no idea             0.1\n",
       "green tea monkey          0.1\n",
       "green tea lower           0.1\n",
       "green tea black           0.1\n",
       "great tast great          0.1\n",
       "great tast gluten         0.1\n",
       "great structur nice       0.1\n",
       "gluten free spaghetti     0.1\n",
       "great structur care       0.1\n",
       "great organ huge          0.1\n",
       "great mid day             0.1\n",
       "great great structur      0.1\n",
       "great amount flavor       0.1\n",
       "grain two ingredi         0.1\n",
       "good receiv product       0.1\n",
       "good love warm            0.1\n",
       "good found brand          0.1\n",
       "good fill lunch           0.1\n",
       "good fill good            0.1\n",
       "good fast unfortun        0.1\n",
       "gone korea gave           0.1\n",
       "gold lemongrass herbal    0.1\n",
       "go keep car               0.1\n",
       "great snack breakfast     0.1\n",
       "us instant coffe          0.2\n",
       "Length: 532, dtype: float64"
      ]
     },
     "execution_count": 318,
     "metadata": {},
     "output_type": "execute_result"
    }
   ],
   "source": [
    "xTrain_ngram_3, y_Train_ngram_3, count_vect_ngram_3, feature_names_ngram_3, count_vectDF_ngram_3 = VCM(\"count\", final_df_sub, \"stem\", \"Score\",3,3)\n",
    "\n",
    "count_vectDF_ngram_3.head(10)\n",
    "\n",
    "count_vectDF_ngram_3.mean(axis=0).sort_values()"
   ]
  },
  {
   "cell_type": "code",
   "execution_count": 319,
   "metadata": {},
   "outputs": [
    {
     "data": {
      "text/html": [
       "<div>\n",
       "<style scoped>\n",
       "    .dataframe tbody tr th:only-of-type {\n",
       "        vertical-align: middle;\n",
       "    }\n",
       "\n",
       "    .dataframe tbody tr th {\n",
       "        vertical-align: top;\n",
       "    }\n",
       "\n",
       "    .dataframe thead th {\n",
       "        text-align: right;\n",
       "    }\n",
       "</style>\n",
       "<table border=\"1\" class=\"dataframe\">\n",
       "  <thead>\n",
       "    <tr style=\"text-align: right;\">\n",
       "      <th></th>\n",
       "      <th>absolut perfect one</th>\n",
       "      <th>al dent easi</th>\n",
       "      <th>al dent perfect</th>\n",
       "      <th>also call teasan</th>\n",
       "      <th>also thought littl</th>\n",
       "      <th>amazon carri case</th>\n",
       "      <th>ancient one tame</th>\n",
       "      <th>anoth proof import</th>\n",
       "      <th>are organ produc</th>\n",
       "      <th>artifici ingredi flavor</th>\n",
       "      <th>...</th>\n",
       "      <th>wife italian claim</th>\n",
       "      <th>wonder assort get</th>\n",
       "      <th>wonder infus encourag</th>\n",
       "      <th>would prefer well</th>\n",
       "      <th>wrapper honey maid</th>\n",
       "      <th>write mist cover</th>\n",
       "      <th>year old celiac</th>\n",
       "      <th>year previous bought</th>\n",
       "      <th>yum bar good</th>\n",
       "      <th>yunnan black tea</th>\n",
       "    </tr>\n",
       "  </thead>\n",
       "  <tbody>\n",
       "    <tr>\n",
       "      <th>0</th>\n",
       "      <td>0</td>\n",
       "      <td>0</td>\n",
       "      <td>0</td>\n",
       "      <td>0</td>\n",
       "      <td>0</td>\n",
       "      <td>0</td>\n",
       "      <td>0</td>\n",
       "      <td>0</td>\n",
       "      <td>0</td>\n",
       "      <td>0</td>\n",
       "      <td>...</td>\n",
       "      <td>0</td>\n",
       "      <td>0</td>\n",
       "      <td>0</td>\n",
       "      <td>0</td>\n",
       "      <td>0</td>\n",
       "      <td>0</td>\n",
       "      <td>0</td>\n",
       "      <td>0</td>\n",
       "      <td>0</td>\n",
       "      <td>0</td>\n",
       "    </tr>\n",
       "    <tr>\n",
       "      <th>1</th>\n",
       "      <td>0</td>\n",
       "      <td>0</td>\n",
       "      <td>0</td>\n",
       "      <td>1</td>\n",
       "      <td>0</td>\n",
       "      <td>0</td>\n",
       "      <td>1</td>\n",
       "      <td>0</td>\n",
       "      <td>0</td>\n",
       "      <td>1</td>\n",
       "      <td>...</td>\n",
       "      <td>0</td>\n",
       "      <td>1</td>\n",
       "      <td>1</td>\n",
       "      <td>0</td>\n",
       "      <td>0</td>\n",
       "      <td>1</td>\n",
       "      <td>0</td>\n",
       "      <td>0</td>\n",
       "      <td>0</td>\n",
       "      <td>1</td>\n",
       "    </tr>\n",
       "    <tr>\n",
       "      <th>2</th>\n",
       "      <td>1</td>\n",
       "      <td>1</td>\n",
       "      <td>1</td>\n",
       "      <td>0</td>\n",
       "      <td>0</td>\n",
       "      <td>0</td>\n",
       "      <td>0</td>\n",
       "      <td>0</td>\n",
       "      <td>1</td>\n",
       "      <td>0</td>\n",
       "      <td>...</td>\n",
       "      <td>1</td>\n",
       "      <td>0</td>\n",
       "      <td>0</td>\n",
       "      <td>0</td>\n",
       "      <td>0</td>\n",
       "      <td>0</td>\n",
       "      <td>1</td>\n",
       "      <td>0</td>\n",
       "      <td>0</td>\n",
       "      <td>0</td>\n",
       "    </tr>\n",
       "    <tr>\n",
       "      <th>3</th>\n",
       "      <td>0</td>\n",
       "      <td>0</td>\n",
       "      <td>0</td>\n",
       "      <td>0</td>\n",
       "      <td>0</td>\n",
       "      <td>0</td>\n",
       "      <td>0</td>\n",
       "      <td>1</td>\n",
       "      <td>0</td>\n",
       "      <td>0</td>\n",
       "      <td>...</td>\n",
       "      <td>0</td>\n",
       "      <td>0</td>\n",
       "      <td>0</td>\n",
       "      <td>0</td>\n",
       "      <td>0</td>\n",
       "      <td>0</td>\n",
       "      <td>0</td>\n",
       "      <td>0</td>\n",
       "      <td>0</td>\n",
       "      <td>0</td>\n",
       "    </tr>\n",
       "    <tr>\n",
       "      <th>4</th>\n",
       "      <td>0</td>\n",
       "      <td>0</td>\n",
       "      <td>0</td>\n",
       "      <td>0</td>\n",
       "      <td>0</td>\n",
       "      <td>0</td>\n",
       "      <td>0</td>\n",
       "      <td>0</td>\n",
       "      <td>0</td>\n",
       "      <td>0</td>\n",
       "      <td>...</td>\n",
       "      <td>0</td>\n",
       "      <td>0</td>\n",
       "      <td>0</td>\n",
       "      <td>0</td>\n",
       "      <td>0</td>\n",
       "      <td>0</td>\n",
       "      <td>0</td>\n",
       "      <td>0</td>\n",
       "      <td>1</td>\n",
       "      <td>0</td>\n",
       "    </tr>\n",
       "    <tr>\n",
       "      <th>5</th>\n",
       "      <td>0</td>\n",
       "      <td>0</td>\n",
       "      <td>0</td>\n",
       "      <td>0</td>\n",
       "      <td>0</td>\n",
       "      <td>0</td>\n",
       "      <td>0</td>\n",
       "      <td>0</td>\n",
       "      <td>0</td>\n",
       "      <td>0</td>\n",
       "      <td>...</td>\n",
       "      <td>0</td>\n",
       "      <td>0</td>\n",
       "      <td>0</td>\n",
       "      <td>0</td>\n",
       "      <td>0</td>\n",
       "      <td>0</td>\n",
       "      <td>0</td>\n",
       "      <td>0</td>\n",
       "      <td>0</td>\n",
       "      <td>0</td>\n",
       "    </tr>\n",
       "    <tr>\n",
       "      <th>6</th>\n",
       "      <td>0</td>\n",
       "      <td>0</td>\n",
       "      <td>0</td>\n",
       "      <td>0</td>\n",
       "      <td>0</td>\n",
       "      <td>1</td>\n",
       "      <td>0</td>\n",
       "      <td>0</td>\n",
       "      <td>0</td>\n",
       "      <td>0</td>\n",
       "      <td>...</td>\n",
       "      <td>0</td>\n",
       "      <td>0</td>\n",
       "      <td>0</td>\n",
       "      <td>0</td>\n",
       "      <td>0</td>\n",
       "      <td>0</td>\n",
       "      <td>0</td>\n",
       "      <td>0</td>\n",
       "      <td>0</td>\n",
       "      <td>0</td>\n",
       "    </tr>\n",
       "    <tr>\n",
       "      <th>7</th>\n",
       "      <td>0</td>\n",
       "      <td>0</td>\n",
       "      <td>0</td>\n",
       "      <td>0</td>\n",
       "      <td>0</td>\n",
       "      <td>0</td>\n",
       "      <td>0</td>\n",
       "      <td>0</td>\n",
       "      <td>0</td>\n",
       "      <td>0</td>\n",
       "      <td>...</td>\n",
       "      <td>0</td>\n",
       "      <td>0</td>\n",
       "      <td>0</td>\n",
       "      <td>0</td>\n",
       "      <td>0</td>\n",
       "      <td>0</td>\n",
       "      <td>0</td>\n",
       "      <td>1</td>\n",
       "      <td>0</td>\n",
       "      <td>0</td>\n",
       "    </tr>\n",
       "    <tr>\n",
       "      <th>8</th>\n",
       "      <td>0</td>\n",
       "      <td>0</td>\n",
       "      <td>0</td>\n",
       "      <td>0</td>\n",
       "      <td>1</td>\n",
       "      <td>0</td>\n",
       "      <td>0</td>\n",
       "      <td>0</td>\n",
       "      <td>0</td>\n",
       "      <td>0</td>\n",
       "      <td>...</td>\n",
       "      <td>0</td>\n",
       "      <td>0</td>\n",
       "      <td>0</td>\n",
       "      <td>1</td>\n",
       "      <td>0</td>\n",
       "      <td>0</td>\n",
       "      <td>0</td>\n",
       "      <td>0</td>\n",
       "      <td>0</td>\n",
       "      <td>0</td>\n",
       "    </tr>\n",
       "    <tr>\n",
       "      <th>9</th>\n",
       "      <td>0</td>\n",
       "      <td>0</td>\n",
       "      <td>0</td>\n",
       "      <td>0</td>\n",
       "      <td>0</td>\n",
       "      <td>0</td>\n",
       "      <td>0</td>\n",
       "      <td>0</td>\n",
       "      <td>0</td>\n",
       "      <td>0</td>\n",
       "      <td>...</td>\n",
       "      <td>0</td>\n",
       "      <td>0</td>\n",
       "      <td>0</td>\n",
       "      <td>0</td>\n",
       "      <td>1</td>\n",
       "      <td>0</td>\n",
       "      <td>0</td>\n",
       "      <td>0</td>\n",
       "      <td>0</td>\n",
       "      <td>0</td>\n",
       "    </tr>\n",
       "  </tbody>\n",
       "</table>\n",
       "<p>10 rows × 532 columns</p>\n",
       "</div>"
      ],
      "text/plain": [
       "   absolut perfect one  al dent easi  al dent perfect  also call teasan  \\\n",
       "0                    0             0                0                 0   \n",
       "1                    0             0                0                 1   \n",
       "2                    1             1                1                 0   \n",
       "3                    0             0                0                 0   \n",
       "4                    0             0                0                 0   \n",
       "5                    0             0                0                 0   \n",
       "6                    0             0                0                 0   \n",
       "7                    0             0                0                 0   \n",
       "8                    0             0                0                 0   \n",
       "9                    0             0                0                 0   \n",
       "\n",
       "   also thought littl  amazon carri case  ancient one tame  \\\n",
       "0                   0                  0                 0   \n",
       "1                   0                  0                 1   \n",
       "2                   0                  0                 0   \n",
       "3                   0                  0                 0   \n",
       "4                   0                  0                 0   \n",
       "5                   0                  0                 0   \n",
       "6                   0                  1                 0   \n",
       "7                   0                  0                 0   \n",
       "8                   1                  0                 0   \n",
       "9                   0                  0                 0   \n",
       "\n",
       "   anoth proof import  are organ produc  artifici ingredi flavor  ...  \\\n",
       "0                   0                 0                        0  ...   \n",
       "1                   0                 0                        1  ...   \n",
       "2                   0                 1                        0  ...   \n",
       "3                   1                 0                        0  ...   \n",
       "4                   0                 0                        0  ...   \n",
       "5                   0                 0                        0  ...   \n",
       "6                   0                 0                        0  ...   \n",
       "7                   0                 0                        0  ...   \n",
       "8                   0                 0                        0  ...   \n",
       "9                   0                 0                        0  ...   \n",
       "\n",
       "   wife italian claim  wonder assort get  wonder infus encourag  \\\n",
       "0                   0                  0                      0   \n",
       "1                   0                  1                      1   \n",
       "2                   1                  0                      0   \n",
       "3                   0                  0                      0   \n",
       "4                   0                  0                      0   \n",
       "5                   0                  0                      0   \n",
       "6                   0                  0                      0   \n",
       "7                   0                  0                      0   \n",
       "8                   0                  0                      0   \n",
       "9                   0                  0                      0   \n",
       "\n",
       "   would prefer well  wrapper honey maid  write mist cover  year old celiac  \\\n",
       "0                  0                   0                 0                0   \n",
       "1                  0                   0                 1                0   \n",
       "2                  0                   0                 0                1   \n",
       "3                  0                   0                 0                0   \n",
       "4                  0                   0                 0                0   \n",
       "5                  0                   0                 0                0   \n",
       "6                  0                   0                 0                0   \n",
       "7                  0                   0                 0                0   \n",
       "8                  1                   0                 0                0   \n",
       "9                  0                   1                 0                0   \n",
       "\n",
       "   year previous bought  yum bar good  yunnan black tea  \n",
       "0                     0             0                 0  \n",
       "1                     0             0                 1  \n",
       "2                     0             0                 0  \n",
       "3                     0             0                 0  \n",
       "4                     0             1                 0  \n",
       "5                     0             0                 0  \n",
       "6                     0             0                 0  \n",
       "7                     1             0                 0  \n",
       "8                     0             0                 0  \n",
       "9                     0             0                 0  \n",
       "\n",
       "[10 rows x 532 columns]"
      ]
     },
     "execution_count": 319,
     "metadata": {},
     "output_type": "execute_result"
    }
   ],
   "source": [
    "count_vectDF_ngram_3.head(10)"
   ]
  },
  {
   "cell_type": "markdown",
   "metadata": {},
   "source": [
    "#### TFIDF WITH TRIGRAM"
   ]
  },
  {
   "cell_type": "code",
   "execution_count": 320,
   "metadata": {},
   "outputs": [
    {
     "data": {
      "text/plain": [
       "yunnan black tea             0.007180\n",
       "rang smooth earthi           0.007180\n",
       "free also call               0.007180\n",
       "qualiti tea not              0.007180\n",
       "qualiti organ kosher         0.007180\n",
       "proudli bring tea            0.007180\n",
       "price perfect big            0.007180\n",
       "premium tea teasan           0.007180\n",
       "premium tea numi             0.007180\n",
       "get not sorri                0.007180\n",
       "gift natur sinc              0.007180\n",
       "perfect big save             0.007180\n",
       "peopl sooth rous             0.007180\n",
       "gold lemongrass herbal       0.007180\n",
       "past peopl sooth             0.007180\n",
       "palett flavor rang           0.007180\n",
       "other not sampl              0.007180\n",
       "organ kosher tasti           0.007180\n",
       "organ kosher ingredi         0.007180\n",
       "opinion tastiest best        0.007180\n",
       "one tame fire                0.007180\n",
       "one box numi                 0.007180\n",
       "numi tea want                0.007180\n",
       "numi tea known               0.007180\n",
       "recollect ancient one        0.007180\n",
       "numi highli recommend        0.007180\n",
       "red mellow bush              0.007180\n",
       "floral scent refreshingli    0.007180\n",
       "sinc distant past            0.007180\n",
       "encourag numi finest         0.007180\n",
       "                               ...   \n",
       "pictur whole hazel           0.022942\n",
       "great mid day                0.025000\n",
       "order product soon           0.025000\n",
       "day snack share              0.025000\n",
       "mid day snack                0.025000\n",
       "good receiv product          0.025000\n",
       "veri good receiv             0.025000\n",
       "earli seller tastey          0.025000\n",
       "glutten free friend          0.025000\n",
       "receiv product earli         0.025000\n",
       "friend order product         0.025000\n",
       "product earli seller         0.025000\n",
       "seller tastey great          0.025000\n",
       "tastey great mid             0.025000\n",
       "snack share glutten          0.025000\n",
       "free friend order            0.025000\n",
       "share glutten free           0.025000\n",
       "us instant coffe             0.026038\n",
       "bar good love                0.028868\n",
       "receiv product free          0.028868\n",
       "love warm definit            0.028868\n",
       "think great snack            0.028868\n",
       "great snack breakfast        0.028868\n",
       "product free influenst       0.028868\n",
       "definit think great          0.028868\n",
       "good love warm               0.028868\n",
       "warm definit think           0.028868\n",
       "yum bar good                 0.028868\n",
       "snack breakfast receiv       0.028868\n",
       "breakfast receiv product     0.028868\n",
       "Length: 532, dtype: float64"
      ]
     },
     "execution_count": 320,
     "metadata": {},
     "output_type": "execute_result"
    }
   ],
   "source": [
    "xTrain_ngram_t_3, y_Train_ngram_t_3, count_vect_ngram_t_3, feature_names_ngram_t_3, count_vectDF_ngram_t_3 = VCM(\"tfidf\", final_df_sub, \"stem\", \"Score\",3,3)\n",
    "\n",
    "count_vectDF_ngram_t_3.head(10)\n",
    "\n",
    "count_vectDF_ngram_t_3.mean(axis=0).sort_values()"
   ]
  },
  {
   "cell_type": "code",
   "execution_count": 321,
   "metadata": {},
   "outputs": [
    {
     "data": {
      "text/html": [
       "<div>\n",
       "<style scoped>\n",
       "    .dataframe tbody tr th:only-of-type {\n",
       "        vertical-align: middle;\n",
       "    }\n",
       "\n",
       "    .dataframe tbody tr th {\n",
       "        vertical-align: top;\n",
       "    }\n",
       "\n",
       "    .dataframe thead th {\n",
       "        text-align: right;\n",
       "    }\n",
       "</style>\n",
       "<table border=\"1\" class=\"dataframe\">\n",
       "  <thead>\n",
       "    <tr style=\"text-align: right;\">\n",
       "      <th></th>\n",
       "      <th>absolut perfect one</th>\n",
       "      <th>al dent easi</th>\n",
       "      <th>al dent perfect</th>\n",
       "      <th>also call teasan</th>\n",
       "      <th>also thought littl</th>\n",
       "      <th>amazon carri case</th>\n",
       "      <th>ancient one tame</th>\n",
       "      <th>anoth proof import</th>\n",
       "      <th>are organ produc</th>\n",
       "      <th>artifici ingredi flavor</th>\n",
       "      <th>...</th>\n",
       "      <th>wife italian claim</th>\n",
       "      <th>wonder assort get</th>\n",
       "      <th>wonder infus encourag</th>\n",
       "      <th>would prefer well</th>\n",
       "      <th>wrapper honey maid</th>\n",
       "      <th>write mist cover</th>\n",
       "      <th>year old celiac</th>\n",
       "      <th>year previous bought</th>\n",
       "      <th>yum bar good</th>\n",
       "      <th>yunnan black tea</th>\n",
       "    </tr>\n",
       "  </thead>\n",
       "  <tbody>\n",
       "    <tr>\n",
       "      <th>0</th>\n",
       "      <td>0.000000</td>\n",
       "      <td>0.000000</td>\n",
       "      <td>0.000000</td>\n",
       "      <td>0.000000</td>\n",
       "      <td>0.000000</td>\n",
       "      <td>0.000000</td>\n",
       "      <td>0.000000</td>\n",
       "      <td>0.000000</td>\n",
       "      <td>0.000000</td>\n",
       "      <td>0.000000</td>\n",
       "      <td>...</td>\n",
       "      <td>0.000000</td>\n",
       "      <td>0.000000</td>\n",
       "      <td>0.000000</td>\n",
       "      <td>0.000000</td>\n",
       "      <td>0.000000</td>\n",
       "      <td>0.000000</td>\n",
       "      <td>0.000000</td>\n",
       "      <td>0.000000</td>\n",
       "      <td>0.000000</td>\n",
       "      <td>0.000000</td>\n",
       "    </tr>\n",
       "    <tr>\n",
       "      <th>1</th>\n",
       "      <td>0.000000</td>\n",
       "      <td>0.000000</td>\n",
       "      <td>0.000000</td>\n",
       "      <td>0.071796</td>\n",
       "      <td>0.000000</td>\n",
       "      <td>0.000000</td>\n",
       "      <td>0.071796</td>\n",
       "      <td>0.000000</td>\n",
       "      <td>0.000000</td>\n",
       "      <td>0.071796</td>\n",
       "      <td>...</td>\n",
       "      <td>0.000000</td>\n",
       "      <td>0.071796</td>\n",
       "      <td>0.071796</td>\n",
       "      <td>0.000000</td>\n",
       "      <td>0.000000</td>\n",
       "      <td>0.071796</td>\n",
       "      <td>0.000000</td>\n",
       "      <td>0.000000</td>\n",
       "      <td>0.000000</td>\n",
       "      <td>0.071796</td>\n",
       "    </tr>\n",
       "    <tr>\n",
       "      <th>2</th>\n",
       "      <td>0.098058</td>\n",
       "      <td>0.098058</td>\n",
       "      <td>0.098058</td>\n",
       "      <td>0.000000</td>\n",
       "      <td>0.000000</td>\n",
       "      <td>0.000000</td>\n",
       "      <td>0.000000</td>\n",
       "      <td>0.000000</td>\n",
       "      <td>0.098058</td>\n",
       "      <td>0.000000</td>\n",
       "      <td>...</td>\n",
       "      <td>0.098058</td>\n",
       "      <td>0.000000</td>\n",
       "      <td>0.000000</td>\n",
       "      <td>0.000000</td>\n",
       "      <td>0.000000</td>\n",
       "      <td>0.000000</td>\n",
       "      <td>0.098058</td>\n",
       "      <td>0.000000</td>\n",
       "      <td>0.000000</td>\n",
       "      <td>0.000000</td>\n",
       "    </tr>\n",
       "    <tr>\n",
       "      <th>3</th>\n",
       "      <td>0.000000</td>\n",
       "      <td>0.000000</td>\n",
       "      <td>0.000000</td>\n",
       "      <td>0.000000</td>\n",
       "      <td>0.000000</td>\n",
       "      <td>0.000000</td>\n",
       "      <td>0.000000</td>\n",
       "      <td>0.229416</td>\n",
       "      <td>0.000000</td>\n",
       "      <td>0.000000</td>\n",
       "      <td>...</td>\n",
       "      <td>0.000000</td>\n",
       "      <td>0.000000</td>\n",
       "      <td>0.000000</td>\n",
       "      <td>0.000000</td>\n",
       "      <td>0.000000</td>\n",
       "      <td>0.000000</td>\n",
       "      <td>0.000000</td>\n",
       "      <td>0.000000</td>\n",
       "      <td>0.000000</td>\n",
       "      <td>0.000000</td>\n",
       "    </tr>\n",
       "    <tr>\n",
       "      <th>4</th>\n",
       "      <td>0.000000</td>\n",
       "      <td>0.000000</td>\n",
       "      <td>0.000000</td>\n",
       "      <td>0.000000</td>\n",
       "      <td>0.000000</td>\n",
       "      <td>0.000000</td>\n",
       "      <td>0.000000</td>\n",
       "      <td>0.000000</td>\n",
       "      <td>0.000000</td>\n",
       "      <td>0.000000</td>\n",
       "      <td>...</td>\n",
       "      <td>0.000000</td>\n",
       "      <td>0.000000</td>\n",
       "      <td>0.000000</td>\n",
       "      <td>0.000000</td>\n",
       "      <td>0.000000</td>\n",
       "      <td>0.000000</td>\n",
       "      <td>0.000000</td>\n",
       "      <td>0.000000</td>\n",
       "      <td>0.288675</td>\n",
       "      <td>0.000000</td>\n",
       "    </tr>\n",
       "    <tr>\n",
       "      <th>5</th>\n",
       "      <td>0.000000</td>\n",
       "      <td>0.000000</td>\n",
       "      <td>0.000000</td>\n",
       "      <td>0.000000</td>\n",
       "      <td>0.000000</td>\n",
       "      <td>0.000000</td>\n",
       "      <td>0.000000</td>\n",
       "      <td>0.000000</td>\n",
       "      <td>0.000000</td>\n",
       "      <td>0.000000</td>\n",
       "      <td>...</td>\n",
       "      <td>0.000000</td>\n",
       "      <td>0.000000</td>\n",
       "      <td>0.000000</td>\n",
       "      <td>0.000000</td>\n",
       "      <td>0.000000</td>\n",
       "      <td>0.000000</td>\n",
       "      <td>0.000000</td>\n",
       "      <td>0.000000</td>\n",
       "      <td>0.000000</td>\n",
       "      <td>0.000000</td>\n",
       "    </tr>\n",
       "    <tr>\n",
       "      <th>6</th>\n",
       "      <td>0.000000</td>\n",
       "      <td>0.000000</td>\n",
       "      <td>0.000000</td>\n",
       "      <td>0.000000</td>\n",
       "      <td>0.000000</td>\n",
       "      <td>0.140028</td>\n",
       "      <td>0.000000</td>\n",
       "      <td>0.000000</td>\n",
       "      <td>0.000000</td>\n",
       "      <td>0.000000</td>\n",
       "      <td>...</td>\n",
       "      <td>0.000000</td>\n",
       "      <td>0.000000</td>\n",
       "      <td>0.000000</td>\n",
       "      <td>0.000000</td>\n",
       "      <td>0.000000</td>\n",
       "      <td>0.000000</td>\n",
       "      <td>0.000000</td>\n",
       "      <td>0.000000</td>\n",
       "      <td>0.000000</td>\n",
       "      <td>0.000000</td>\n",
       "    </tr>\n",
       "    <tr>\n",
       "      <th>7</th>\n",
       "      <td>0.000000</td>\n",
       "      <td>0.000000</td>\n",
       "      <td>0.000000</td>\n",
       "      <td>0.000000</td>\n",
       "      <td>0.000000</td>\n",
       "      <td>0.000000</td>\n",
       "      <td>0.000000</td>\n",
       "      <td>0.000000</td>\n",
       "      <td>0.000000</td>\n",
       "      <td>0.000000</td>\n",
       "      <td>...</td>\n",
       "      <td>0.000000</td>\n",
       "      <td>0.000000</td>\n",
       "      <td>0.000000</td>\n",
       "      <td>0.000000</td>\n",
       "      <td>0.000000</td>\n",
       "      <td>0.000000</td>\n",
       "      <td>0.000000</td>\n",
       "      <td>0.218218</td>\n",
       "      <td>0.000000</td>\n",
       "      <td>0.000000</td>\n",
       "    </tr>\n",
       "    <tr>\n",
       "      <th>8</th>\n",
       "      <td>0.000000</td>\n",
       "      <td>0.000000</td>\n",
       "      <td>0.000000</td>\n",
       "      <td>0.000000</td>\n",
       "      <td>0.130189</td>\n",
       "      <td>0.000000</td>\n",
       "      <td>0.000000</td>\n",
       "      <td>0.000000</td>\n",
       "      <td>0.000000</td>\n",
       "      <td>0.000000</td>\n",
       "      <td>...</td>\n",
       "      <td>0.000000</td>\n",
       "      <td>0.000000</td>\n",
       "      <td>0.000000</td>\n",
       "      <td>0.130189</td>\n",
       "      <td>0.000000</td>\n",
       "      <td>0.000000</td>\n",
       "      <td>0.000000</td>\n",
       "      <td>0.000000</td>\n",
       "      <td>0.000000</td>\n",
       "      <td>0.000000</td>\n",
       "    </tr>\n",
       "    <tr>\n",
       "      <th>9</th>\n",
       "      <td>0.000000</td>\n",
       "      <td>0.000000</td>\n",
       "      <td>0.000000</td>\n",
       "      <td>0.000000</td>\n",
       "      <td>0.000000</td>\n",
       "      <td>0.000000</td>\n",
       "      <td>0.000000</td>\n",
       "      <td>0.000000</td>\n",
       "      <td>0.000000</td>\n",
       "      <td>0.000000</td>\n",
       "      <td>...</td>\n",
       "      <td>0.000000</td>\n",
       "      <td>0.000000</td>\n",
       "      <td>0.000000</td>\n",
       "      <td>0.000000</td>\n",
       "      <td>0.171499</td>\n",
       "      <td>0.000000</td>\n",
       "      <td>0.000000</td>\n",
       "      <td>0.000000</td>\n",
       "      <td>0.000000</td>\n",
       "      <td>0.000000</td>\n",
       "    </tr>\n",
       "  </tbody>\n",
       "</table>\n",
       "<p>10 rows × 532 columns</p>\n",
       "</div>"
      ],
      "text/plain": [
       "   absolut perfect one  al dent easi  al dent perfect  also call teasan  \\\n",
       "0             0.000000      0.000000         0.000000          0.000000   \n",
       "1             0.000000      0.000000         0.000000          0.071796   \n",
       "2             0.098058      0.098058         0.098058          0.000000   \n",
       "3             0.000000      0.000000         0.000000          0.000000   \n",
       "4             0.000000      0.000000         0.000000          0.000000   \n",
       "5             0.000000      0.000000         0.000000          0.000000   \n",
       "6             0.000000      0.000000         0.000000          0.000000   \n",
       "7             0.000000      0.000000         0.000000          0.000000   \n",
       "8             0.000000      0.000000         0.000000          0.000000   \n",
       "9             0.000000      0.000000         0.000000          0.000000   \n",
       "\n",
       "   also thought littl  amazon carri case  ancient one tame  \\\n",
       "0            0.000000           0.000000          0.000000   \n",
       "1            0.000000           0.000000          0.071796   \n",
       "2            0.000000           0.000000          0.000000   \n",
       "3            0.000000           0.000000          0.000000   \n",
       "4            0.000000           0.000000          0.000000   \n",
       "5            0.000000           0.000000          0.000000   \n",
       "6            0.000000           0.140028          0.000000   \n",
       "7            0.000000           0.000000          0.000000   \n",
       "8            0.130189           0.000000          0.000000   \n",
       "9            0.000000           0.000000          0.000000   \n",
       "\n",
       "   anoth proof import  are organ produc  artifici ingredi flavor  ...  \\\n",
       "0            0.000000          0.000000                 0.000000  ...   \n",
       "1            0.000000          0.000000                 0.071796  ...   \n",
       "2            0.000000          0.098058                 0.000000  ...   \n",
       "3            0.229416          0.000000                 0.000000  ...   \n",
       "4            0.000000          0.000000                 0.000000  ...   \n",
       "5            0.000000          0.000000                 0.000000  ...   \n",
       "6            0.000000          0.000000                 0.000000  ...   \n",
       "7            0.000000          0.000000                 0.000000  ...   \n",
       "8            0.000000          0.000000                 0.000000  ...   \n",
       "9            0.000000          0.000000                 0.000000  ...   \n",
       "\n",
       "   wife italian claim  wonder assort get  wonder infus encourag  \\\n",
       "0            0.000000           0.000000               0.000000   \n",
       "1            0.000000           0.071796               0.071796   \n",
       "2            0.098058           0.000000               0.000000   \n",
       "3            0.000000           0.000000               0.000000   \n",
       "4            0.000000           0.000000               0.000000   \n",
       "5            0.000000           0.000000               0.000000   \n",
       "6            0.000000           0.000000               0.000000   \n",
       "7            0.000000           0.000000               0.000000   \n",
       "8            0.000000           0.000000               0.000000   \n",
       "9            0.000000           0.000000               0.000000   \n",
       "\n",
       "   would prefer well  wrapper honey maid  write mist cover  year old celiac  \\\n",
       "0           0.000000            0.000000          0.000000         0.000000   \n",
       "1           0.000000            0.000000          0.071796         0.000000   \n",
       "2           0.000000            0.000000          0.000000         0.098058   \n",
       "3           0.000000            0.000000          0.000000         0.000000   \n",
       "4           0.000000            0.000000          0.000000         0.000000   \n",
       "5           0.000000            0.000000          0.000000         0.000000   \n",
       "6           0.000000            0.000000          0.000000         0.000000   \n",
       "7           0.000000            0.000000          0.000000         0.000000   \n",
       "8           0.130189            0.000000          0.000000         0.000000   \n",
       "9           0.000000            0.171499          0.000000         0.000000   \n",
       "\n",
       "   year previous bought  yum bar good  yunnan black tea  \n",
       "0              0.000000      0.000000          0.000000  \n",
       "1              0.000000      0.000000          0.071796  \n",
       "2              0.000000      0.000000          0.000000  \n",
       "3              0.000000      0.000000          0.000000  \n",
       "4              0.000000      0.288675          0.000000  \n",
       "5              0.000000      0.000000          0.000000  \n",
       "6              0.000000      0.000000          0.000000  \n",
       "7              0.218218      0.000000          0.000000  \n",
       "8              0.000000      0.000000          0.000000  \n",
       "9              0.000000      0.000000          0.000000  \n",
       "\n",
       "[10 rows x 532 columns]"
      ]
     },
     "execution_count": 321,
     "metadata": {},
     "output_type": "execute_result"
    }
   ],
   "source": [
    "count_vectDF_ngram_t_3.head(10)"
   ]
  },
  {
   "cell_type": "markdown",
   "metadata": {},
   "source": [
    "# 4- Model training, selection and hyperparameter tuning and evaluation:(20%)\n",
    "You should at least experiment with 3 models and show how you can optimize model\n",
    "parameters using cross validation. For each model discuss your choices of text processing,\n",
    "representation and features from steps 1-3. "
   ]
  },
  {
   "cell_type": "code",
   "execution_count": 124,
   "metadata": {},
   "outputs": [
    {
     "name": "stderr",
     "output_type": "stream",
     "text": [
      "[nltk_data] Downloading package wordnet to\n",
      "[nltk_data]     C:\\Users\\tamers\\AppData\\Roaming\\nltk_data...\n",
      "[nltk_data]   Package wordnet is already up-to-date!\n"
     ]
    }
   ],
   "source": [
    "# Imports and Functions\n",
    "import pandas as pd\n",
    "import numpy as np\n",
    "import matplotlib.pyplot as plt\n",
    "import seaborn as sns\n",
    "import string,lxml,bs4,nltk\n",
    "from nltk.stem import PorterStemmer\n",
    "from sklearn.pipeline import Pipeline\n",
    "from sklearn.naive_bayes import MultinomialNB\n",
    "from sklearn.feature_extraction.text import CountVectorizer\n",
    "from sklearn.feature_extraction.text import TfidfVectorizer\n",
    "from sklearn.feature_extraction.text import TfidfTransformer\n",
    "from sklearn.linear_model import LogisticRegression\n",
    "from sklearn.linear_model import SGDClassifier\n",
    "from sklearn.metrics import accuracy_score\n",
    "from sklearn.metrics import classification_report\n",
    "from sklearn.model_selection import train_test_split\n",
    "from sklearn.model_selection import GridSearchCV\n",
    "from sklearn.preprocessing import Normalizer\n",
    "import unicodedata\n",
    "from nltk.corpus import stopwords\n",
    "from nltk.stem import PorterStemmer\n",
    "from nltk.stem import WordNetLemmatizer\n",
    "from warnings import simplefilter\n",
    "\n",
    "def dataframe_optimzer(dataframe):\n",
    "    dataframe.Summary.fillna('', inplace=True)\n",
    "    dataframe.Text.fillna('', inplace=True)\n",
    "    dataframe.drop(['Id','UserId','ProfileName','HelpfulnessNumerator','HelpfulnessDenominator','Time','ProductId'],axis=1,inplace=True)\n",
    "    #Concatinating TEXT and Summary features as per the DR. example. Which is OK as I didnt find obvoius correlation\n",
    "    dataframe['text']=dataframe['Summary']+' '+dataframe['Text'] \n",
    "    dataframe.drop(['Summary','Text'],axis=1,inplace=True)\n",
    "    #dataframe['length']=dataframe['text'].str.len() \n",
    "    return dataframe\n",
    "\n",
    "def tokenizer(text):\n",
    "    no_html = bs4.BeautifulSoup(text,'lxml').get_text()\n",
    "    no_punctuation = [char for char in no_html if char not in string.punctuation]\n",
    "    no_punctuation = ''.join(no_punctuation)\n",
    "    return no_punctuation\n",
    "\n",
    "def stemmer(text):\n",
    "    review = [nltkstemmer.stem(word) for word in text.split()]\n",
    "    review = ' '.join(review) \n",
    "    return review\n",
    "\n",
    "def lemmatizer(text):\n",
    "    review = [nltklem.lemmatize(word,'v') for word in text.lower().split()]\n",
    "    review = ' '.join(review)\n",
    "    #print(review)\n",
    "    return review\n",
    "\n",
    "def classification_report_final (model): \n",
    "    y_pred_final = model.predict(df_test_data['text'])\n",
    "    score_final =accuracy_score(df_test_labels,y_pred_final)\n",
    "    print('Model score on unseen data',score_final)\n",
    "    print (classification_report(df_test_labels,y_pred_final))\n",
    "\n",
    "def dataloading():\n",
    "    print('Loading reviews...',end='')\n",
    "    df = pd.read_csv('train.csv')\n",
    "    print('[ok]')\n",
    "    print('Loaded {:,} reviews' .format(len(df)))\n",
    "    \n",
    "    df=df.head(1000)  # <--- Dataset limiter ia here, Can change\n",
    "    \n",
    "    print('applying dataframe optimizer...',end='')\n",
    "    df = dataframe_optimzer(df)\n",
    "    print('[OK]')\n",
    "\n",
    "    print('applying dataframe tokenizer...',end='')\n",
    "    df['text'].apply(tokenizer)\n",
    "    print('[OK]')\n",
    "    return df\n",
    "\n",
    "\n",
    "nltk.download('wordnet')\n",
    "nltklem = WordNetLemmatizer()\n",
    "nltkstemmer = PorterStemmer()\n",
    "simplefilter(action='ignore', category=Warning)\n"
   ]
  },
  {
   "cell_type": "code",
   "execution_count": 125,
   "metadata": {},
   "outputs": [
    {
     "name": "stdout",
     "output_type": "stream",
     "text": [
      "Loading reviews...[ok]\n",
      "Loaded 426,340 reviews\n",
      "applying dataframe optimizer...[OK]\n",
      "applying dataframe tokenizer...[OK]\n"
     ]
    }
   ],
   "source": [
    "df=dataloading()\n",
    "#Loading test Data\n",
    "df_test_data = dataframe_optimzer(pd.read_csv(\"test.csv\"))\n",
    "df_test_labels = pd.read_csv(\"labels.csv\",usecols=['Score'])"
   ]
  },
  {
   "cell_type": "markdown",
   "metadata": {},
   "source": [
    "# <font color='red'>REMOVE BELOW CELL BEFORE FINAL RUN</font>"
   ]
  },
  {
   "cell_type": "code",
   "execution_count": 126,
   "metadata": {},
   "outputs": [],
   "source": [
    "final_df = final_df.head(1000) # ----> REMOVE BEFORE FINAL RUN"
   ]
  },
  {
   "cell_type": "code",
   "execution_count": null,
   "metadata": {},
   "outputs": [],
   "source": []
  },
  {
   "cell_type": "code",
   "execution_count": 127,
   "metadata": {},
   "outputs": [],
   "source": [
    "df_label = final_df['Score'].copy()\n",
    "df_data = final_df['review'].copy()"
   ]
  },
  {
   "cell_type": "code",
   "execution_count": 128,
   "metadata": {},
   "outputs": [],
   "source": [
    " X_train, X_test, y_train, y_test = train_test_split(df_data, df_label, test_size=0.25, random_state=42)"
   ]
  },
  {
   "cell_type": "code",
   "execution_count": 129,
   "metadata": {},
   "outputs": [],
   "source": [
    "estimators = [LogisticRegression,MultinomialNB,SGDClassifier]"
   ]
  },
  {
   "cell_type": "code",
   "execution_count": 130,
   "metadata": {},
   "outputs": [],
   "source": [
    "def create_pipeline(estimator):\n",
    "    \n",
    "    pipeline_steps = [\n",
    "        \n",
    "        ('cv',CountVectorizer()),\n",
    "        ('tfidf',TfidfTransformer()),\n",
    "        ('classifier',estimator)\n",
    "    ]\n",
    "    \n",
    "    return Pipeline(pipeline_steps)"
   ]
  },
  {
   "cell_type": "code",
   "execution_count": 131,
   "metadata": {},
   "outputs": [],
   "source": [
    "#  parameters for Grid Search (CV and TfIdf) - BASE \n",
    "param_grid= {}\n",
    "\n",
    "#Parameters for CountVectorizer\n",
    "param_grid.update({})\n",
    "param_grid.update({})\n",
    "#param_grid.update({})\n",
    "param_grid.update({})\n",
    "#Parameters of TFIDF\n",
    "param_grid.update({})\n",
    "# Parameters for LR\n",
    "param_grid_LR = {}\n",
    "param_grid_LR = {}\n",
    "param_grid_LR.update(param_grid)\n",
    "# Parameters for MN\n",
    "param_grid_MN = {}\n",
    "param_grid_MN = {}\n",
    "param_grid_MN.update(param_grid)\n",
    "#Parameters for SGD here\n",
    "param_grid_SG={}\n",
    "param_grid_SG.update(param_grid)\n"
   ]
  },
  {
   "cell_type": "code",
   "execution_count": null,
   "metadata": {},
   "outputs": [],
   "source": []
  },
  {
   "cell_type": "code",
   "execution_count": 132,
   "metadata": {},
   "outputs": [],
   "source": [
    "estimators = {\n",
    "    LogisticRegression : param_grid_LR,\n",
    "    MultinomialNB : param_grid_MN,\n",
    "    SGDClassifier : param_grid_SG\n",
    "}"
   ]
  },
  {
   "cell_type": "code",
   "execution_count": 134,
   "metadata": {},
   "outputs": [
    {
     "name": "stdout",
     "output_type": "stream",
     "text": [
      "LogisticRegression scored 0.664\n",
      "Best parameter (CV score=0.655):\n",
      "{}\n",
      "              precision    recall  f1-score   support\n",
      "\n",
      "           1       0.00      0.00      0.00        24\n",
      "           2       0.00      0.00      0.00         7\n",
      "           3       0.00      0.00      0.00        21\n",
      "           4       0.50      0.03      0.06        33\n",
      "           5       0.67      1.00      0.80       165\n",
      "\n",
      "    accuracy                           0.66       250\n",
      "   macro avg       0.23      0.21      0.17       250\n",
      "weighted avg       0.51      0.66      0.53       250\n",
      "\n",
      "\n",
      "\n",
      "Cross validation with unseen test data\n",
      "Model score on unseen data 0.6377274582377528\n",
      "              precision    recall  f1-score   support\n",
      "\n",
      "           1       0.00      0.00      0.00     13075\n",
      "           2       0.00      0.00      0.00      7416\n",
      "           3       0.00      0.00      0.00     10647\n",
      "           4       0.50      0.00      0.00     20346\n",
      "           5       0.64      1.00      0.78     90630\n",
      "\n",
      "    accuracy                           0.64    142114\n",
      "   macro avg       0.23      0.20      0.16    142114\n",
      "weighted avg       0.48      0.64      0.50    142114\n",
      "\n",
      "MultinomialNB scored 0.66\n",
      "Best parameter (CV score=0.652):\n",
      "{}\n",
      "              precision    recall  f1-score   support\n",
      "\n",
      "           1       0.00      0.00      0.00        24\n",
      "           2       0.00      0.00      0.00         7\n",
      "           3       0.00      0.00      0.00        21\n",
      "           4       0.00      0.00      0.00        33\n",
      "           5       0.66      1.00      0.80       165\n",
      "\n",
      "    accuracy                           0.66       250\n",
      "   macro avg       0.13      0.20      0.16       250\n",
      "weighted avg       0.44      0.66      0.52       250\n",
      "\n",
      "\n",
      "\n",
      "Cross validation with unseen test data\n",
      "Model score on unseen data 0.6377274582377528\n",
      "              precision    recall  f1-score   support\n",
      "\n",
      "           1       0.00      0.00      0.00     13075\n",
      "           2       0.00      0.00      0.00      7416\n",
      "           3       0.00      0.00      0.00     10647\n",
      "           4       0.00      0.00      0.00     20346\n",
      "           5       0.64      1.00      0.78     90630\n",
      "\n",
      "    accuracy                           0.64    142114\n",
      "   macro avg       0.13      0.20      0.16    142114\n",
      "weighted avg       0.41      0.64      0.50    142114\n",
      "\n",
      "SGDClassifier scored 0.676\n",
      "Best parameter (CV score=0.668):\n",
      "{}\n",
      "              precision    recall  f1-score   support\n",
      "\n",
      "           1       0.48      0.42      0.44        24\n",
      "           2       0.00      0.00      0.00         7\n",
      "           3       0.60      0.14      0.23        21\n",
      "           4       0.29      0.21      0.25        33\n",
      "           5       0.76      0.90      0.82       165\n",
      "\n",
      "    accuracy                           0.68       250\n",
      "   macro avg       0.42      0.33      0.35       250\n",
      "weighted avg       0.63      0.68      0.64       250\n",
      "\n",
      "\n",
      "\n",
      "Cross validation with unseen test data\n",
      "Model score on unseen data 0.6404717339600602\n",
      "              precision    recall  f1-score   support\n",
      "\n",
      "           1       0.70      0.04      0.08     13075\n",
      "           2       0.38      0.01      0.01      7416\n",
      "           3       0.36      0.02      0.03     10647\n",
      "           4       0.22      0.04      0.06     20346\n",
      "           5       0.65      0.99      0.79     90630\n",
      "\n",
      "    accuracy                           0.64    142114\n",
      "   macro avg       0.46      0.22      0.19    142114\n",
      "weighted avg       0.56      0.64      0.52    142114\n",
      "\n"
     ]
    }
   ],
   "source": [
    "for estimator,search_param in estimators.items():\n",
    "    scores=[]\n",
    "    model = create_pipeline(estimator())\n",
    "    search=GridSearchCV(model,search_param,n_jobs=-1)\n",
    "    search.fit(X_train,y_train)\n",
    "    y_pred = search.predict(X_test)\n",
    "    score=accuracy_score(y_test,y_pred)\n",
    "    scores.append(score)\n",
    "    print(estimator.__name__,'scored',score)\n",
    "    print(\"Best parameter (CV score=%0.3f):\" % search.best_score_)\n",
    "    print(search.best_params_)\n",
    "    print (classification_report(y_test,y_pred))\n",
    "    print('\\n')\n",
    "    print('Cross validation with unseen test data')\n",
    "    classification_report_final(search)"
   ]
  },
  {
   "cell_type": "code",
   "execution_count": null,
   "metadata": {},
   "outputs": [],
   "source": []
  },
  {
   "cell_type": "markdown",
   "metadata": {},
   "source": [
    "# 5-Topic Modelling of high and low ratings*: (15%)\n",
    "Examine the five-star reviews and the one-star reviews separately. Categorize each review into\n",
    "a set of topics (10-20 topics). Can you infer any particular observations regarding the topics\n",
    "discussed in the high rated reviews vs. the low rated reviews? Document any other observations\n",
    "you have gained with this analysis. You may use a smaller subset of the reviews to better\n",
    "demonstrate your findings."
   ]
  },
  {
   "cell_type": "markdown",
   "metadata": {},
   "source": [
    "#### Extracting 1 and 5 subsets"
   ]
  },
  {
   "cell_type": "code",
   "execution_count": 324,
   "metadata": {},
   "outputs": [],
   "source": [
    "is_score_5 = final_df['Score']==5"
   ]
  },
  {
   "cell_type": "code",
   "execution_count": 325,
   "metadata": {},
   "outputs": [],
   "source": [
    "df_score_5 = final_df[is_score_5]"
   ]
  },
  {
   "cell_type": "code",
   "execution_count": 326,
   "metadata": {},
   "outputs": [
    {
     "data": {
      "text/html": [
       "<div>\n",
       "<style scoped>\n",
       "    .dataframe tbody tr th:only-of-type {\n",
       "        vertical-align: middle;\n",
       "    }\n",
       "\n",
       "    .dataframe tbody tr th {\n",
       "        vertical-align: top;\n",
       "    }\n",
       "\n",
       "    .dataframe thead th {\n",
       "        text-align: right;\n",
       "    }\n",
       "</style>\n",
       "<table border=\"1\" class=\"dataframe\">\n",
       "  <thead>\n",
       "    <tr style=\"text-align: right;\">\n",
       "      <th></th>\n",
       "      <th>Score</th>\n",
       "      <th>review</th>\n",
       "    </tr>\n",
       "  </thead>\n",
       "  <tbody>\n",
       "    <tr>\n",
       "      <th>0</th>\n",
       "      <td>5</td>\n",
       "      <td>very good received product early seller tastey...</td>\n",
       "    </tr>\n",
       "    <tr>\n",
       "      <th>1</th>\n",
       "      <td>5</td>\n",
       "      <td>organic kosher tasty assortment premium teas t...</td>\n",
       "    </tr>\n",
       "    <tr>\n",
       "      <th>2</th>\n",
       "      <td>5</td>\n",
       "      <td>excellent gluten free spaghetti great taste gr...</td>\n",
       "    </tr>\n",
       "    <tr>\n",
       "      <th>3</th>\n",
       "      <td>5</td>\n",
       "      <td>lindt lindt buying multi pack misled picture w...</td>\n",
       "    </tr>\n",
       "    <tr>\n",
       "      <th>4</th>\n",
       "      <td>5</td>\n",
       "      <td>yum bars good loved warmed definitely think gr...</td>\n",
       "    </tr>\n",
       "    <tr>\n",
       "      <th>5</th>\n",
       "      <td>5</td>\n",
       "      <td>delicious love chips buy pack month bags right...</td>\n",
       "    </tr>\n",
       "    <tr>\n",
       "      <th>6</th>\n",
       "      <td>5</td>\n",
       "      <td>tastes great organic huge fan eating cereal br...</td>\n",
       "    </tr>\n",
       "    <tr>\n",
       "      <th>10</th>\n",
       "      <td>5</td>\n",
       "      <td>ryvita love product unhappy expiration date pr...</td>\n",
       "    </tr>\n",
       "    <tr>\n",
       "      <th>11</th>\n",
       "      <td>5</td>\n",
       "      <td>yummy son loves chocolate got birthday really ...</td>\n",
       "    </tr>\n",
       "    <tr>\n",
       "      <th>13</th>\n",
       "      <td>5</td>\n",
       "      <td>oven fry weakness good fried fish age cut frie...</td>\n",
       "    </tr>\n",
       "  </tbody>\n",
       "</table>\n",
       "</div>"
      ],
      "text/plain": [
       "    Score                                             review\n",
       "0       5  very good received product early seller tastey...\n",
       "1       5  organic kosher tasty assortment premium teas t...\n",
       "2       5  excellent gluten free spaghetti great taste gr...\n",
       "3       5  lindt lindt buying multi pack misled picture w...\n",
       "4       5  yum bars good loved warmed definitely think gr...\n",
       "5       5  delicious love chips buy pack month bags right...\n",
       "6       5  tastes great organic huge fan eating cereal br...\n",
       "10      5  ryvita love product unhappy expiration date pr...\n",
       "11      5  yummy son loves chocolate got birthday really ...\n",
       "13      5  oven fry weakness good fried fish age cut frie..."
      ]
     },
     "execution_count": 326,
     "metadata": {},
     "output_type": "execute_result"
    }
   ],
   "source": [
    "df_score_5.head(10)"
   ]
  },
  {
   "cell_type": "code",
   "execution_count": 327,
   "metadata": {},
   "outputs": [],
   "source": [
    "is_score_1 = final_df['Score']==1"
   ]
  },
  {
   "cell_type": "code",
   "execution_count": 328,
   "metadata": {},
   "outputs": [],
   "source": [
    "df_score_1 = final_df[is_score_1]"
   ]
  },
  {
   "cell_type": "code",
   "execution_count": 329,
   "metadata": {
    "scrolled": true
   },
   "outputs": [
    {
     "data": {
      "text/html": [
       "<div>\n",
       "<style scoped>\n",
       "    .dataframe tbody tr th:only-of-type {\n",
       "        vertical-align: middle;\n",
       "    }\n",
       "\n",
       "    .dataframe tbody tr th {\n",
       "        vertical-align: top;\n",
       "    }\n",
       "\n",
       "    .dataframe thead th {\n",
       "        text-align: right;\n",
       "    }\n",
       "</style>\n",
       "<table border=\"1\" class=\"dataframe\">\n",
       "  <thead>\n",
       "    <tr style=\"text-align: right;\">\n",
       "      <th></th>\n",
       "      <th>Score</th>\n",
       "      <th>review</th>\n",
       "    </tr>\n",
       "  </thead>\n",
       "  <tbody>\n",
       "    <tr>\n",
       "      <th>18</th>\n",
       "      <td>1</td>\n",
       "      <td>plastic taste first coffee tried got keurig di...</td>\n",
       "    </tr>\n",
       "    <tr>\n",
       "      <th>31</th>\n",
       "      <td>1</td>\n",
       "      <td>dangerous doggies not buy large german shepher...</td>\n",
       "    </tr>\n",
       "    <tr>\n",
       "      <th>49</th>\n",
       "      <td>1</td>\n",
       "      <td>ugh fake food wanted sugar splurge chose short...</td>\n",
       "    </tr>\n",
       "    <tr>\n",
       "      <th>55</th>\n",
       "      <td>1</td>\n",
       "      <td>worst products ever chinese never brought prod...</td>\n",
       "    </tr>\n",
       "    <tr>\n",
       "      <th>56</th>\n",
       "      <td>1</td>\n",
       "      <td>enormous ripoff nearly twice expensive cost ne...</td>\n",
       "    </tr>\n",
       "    <tr>\n",
       "      <th>113</th>\n",
       "      <td>1</td>\n",
       "      <td>these treats make pooch sick cocker spaniel ab...</td>\n",
       "    </tr>\n",
       "    <tr>\n",
       "      <th>142</th>\n",
       "      <td>1</td>\n",
       "      <td>fooled years drinking penta water five years w...</td>\n",
       "    </tr>\n",
       "    <tr>\n",
       "      <th>153</th>\n",
       "      <td>1</td>\n",
       "      <td>hope like burnt friendly face mr redenbacher m...</td>\n",
       "    </tr>\n",
       "    <tr>\n",
       "      <th>173</th>\n",
       "      <td>1</td>\n",
       "      <td>warning contains menadione according manufactu...</td>\n",
       "    </tr>\n",
       "    <tr>\n",
       "      <th>176</th>\n",
       "      <td>1</td>\n",
       "      <td>oo long oo short usually not bother write revi...</td>\n",
       "    </tr>\n",
       "  </tbody>\n",
       "</table>\n",
       "</div>"
      ],
      "text/plain": [
       "     Score                                             review\n",
       "18       1  plastic taste first coffee tried got keurig di...\n",
       "31       1  dangerous doggies not buy large german shepher...\n",
       "49       1  ugh fake food wanted sugar splurge chose short...\n",
       "55       1  worst products ever chinese never brought prod...\n",
       "56       1  enormous ripoff nearly twice expensive cost ne...\n",
       "113      1  these treats make pooch sick cocker spaniel ab...\n",
       "142      1  fooled years drinking penta water five years w...\n",
       "153      1  hope like burnt friendly face mr redenbacher m...\n",
       "173      1  warning contains menadione according manufactu...\n",
       "176      1  oo long oo short usually not bother write revi..."
      ]
     },
     "execution_count": 329,
     "metadata": {},
     "output_type": "execute_result"
    }
   ],
   "source": [
    "df_score_1.head(10)"
   ]
  },
  {
   "cell_type": "code",
   "execution_count": 330,
   "metadata": {},
   "outputs": [],
   "source": [
    "df_score_5_sub = df_score_5.head(1000).copy()"
   ]
  },
  {
   "cell_type": "code",
   "execution_count": 339,
   "metadata": {},
   "outputs": [],
   "source": [
    "df_score_1_sub = df_score_1.head(1000).copy()"
   ]
  },
  {
   "cell_type": "markdown",
   "metadata": {},
   "source": [
    "#### Using NMF"
   ]
  },
  {
   "cell_type": "code",
   "execution_count": 331,
   "metadata": {},
   "outputs": [],
   "source": [
    "xTrain_5, y_Train_5, count_vect_5, feature_names_5, count_vectDF_5 = VCM(\"count\", df_score_5_sub, \"review\", \"Score\")"
   ]
  },
  {
   "cell_type": "code",
   "execution_count": 334,
   "metadata": {},
   "outputs": [],
   "source": [
    "nmfModel = NMF(n_components=20, random_state=1, alpha=.1, l1_ratio=.5, init='nndsvd')\n",
    "nmf= nmfModel.fit(xTrain_5)"
   ]
  },
  {
   "cell_type": "code",
   "execution_count": 335,
   "metadata": {},
   "outputs": [
    {
     "name": "stdout",
     "output_type": "stream",
     "text": [
      "nmf.components_.shape: (20, 6271)\n"
     ]
    }
   ],
   "source": [
    "print(\"nmf.components_.shape: {}\".format(nmf.components_.shape))"
   ]
  },
  {
   "cell_type": "code",
   "execution_count": 337,
   "metadata": {},
   "outputs": [
    {
     "name": "stdout",
     "output_type": "stream",
     "text": [
      "topic 0       topic 1       topic 2       topic 3       topic 4       \n",
      "--------      --------      --------      --------      --------      \n",
      "not           coffee        tea           food          salt          \n",
      "one           cup           organic       cat           river         \n",
      "get           starbucks     teas          cats          murray        \n",
      "flavor        vanilla       white         old           store         \n",
      "would         flavored      numi          canned        small         \n",
      "eat           cups          spice         no            fingers       \n",
      "little        taste         flavor        one           time          \n",
      "want          french        orange        wellness      bowl          \n",
      "try           blend         green         loves         cooking       \n",
      "honey         best          black         dry           seems         \n",
      "found         roast         bags          chicken       table         \n",
      "since         ground        used          eat           food          \n",
      "work          tully         chai          get           one           \n",
      "think         stars         taste         healthy       use           \n",
      "still         keurig        wonderful     needs         amount        \n",
      "every         not           herbal        weight        sea           \n",
      "also          go            caffeine      baby          stuff         \n",
      "many          drink         get           two           salts         \n",
      "first         coffees       hibiscus      time          also          \n",
      "small         cafe          without       feed          keeps         \n",
      "\n",
      "\n",
      "topic 5       topic 6       topic 7       topic 8       topic 9       \n",
      "--------      --------      --------      --------      --------      \n",
      "great         cookie        product       day           shampoo       \n",
      "price         cookies       quality       mph           clear         \n",
      "product       mother        organic       calories      men           \n",
      "taste         not           cans          speed         scalp         \n",
      "tastes        vanilla       liver         miles         dandruff      \n",
      "amazon        chocolate     even          peak          not           \n",
      "snack         amazon        use           exercise      hair          \n",
      "easy          good          reviews       drink         ounce         \n",
      "make          chip          give          work          conditioner   \n",
      "years         delicious     best          caffeine      fluid         \n",
      "get           taste         skin          avg           feel          \n",
      "butter        try           stars         celsius       smell         \n",
      "loved         creme         amazon        good          therapy       \n",
      "tasting       favorite      company       time          one           \n",
      "really        like          would         like          like          \n",
      "chips         company       consistency   not           need          \n",
      "pack          tea           arrived       works         strong        \n",
      "year          glad          dog           something     head          \n",
      "right         back          control       maybe         mint          \n",
      "pasta         used          purchased     mins          shoulders     \n",
      "\n",
      "\n",
      "topic 10      topic 11      topic 12      topic 13      topic 14      \n",
      "--------      --------      --------      --------      --------      \n",
      "dog           good          like          free          love          \n",
      "dogs          quality       really        gluten        dogs          \n",
      "food          well          taste         delicious     buy           \n",
      "treats        taste         bread         best          cheese        \n",
      "variety       price         it            chips         powder        \n",
      "no            flavor        add           pasta         kids          \n",
      "price         would         real          cookies       absolutely    \n",
      "treat         really        best          eat           find          \n",
      "nature        healthy       cheese        grams         favorite      \n",
      "grain         high          tastes        sugar         little        \n",
      "small         make          soup          tried         drink         \n",
      "amazon        made          need          soy           milk          \n",
      "months        bread         much          find          my            \n",
      "free          think         beans         ever          cats          \n",
      "also          products      cook          one           healthy       \n",
      "buy           pretty        try           would         easy          \n",
      "picky         cereal        ham           dairy         awesome       \n",
      "dry           wine          make          know          keep          \n",
      "past          fresh         better        amazon        fruit         \n",
      "loves         crackers      pot           bag           tried         \n",
      "\n",
      "\n",
      "topic 15      topic 16      topic 17      topic 18      topic 19      \n",
      "--------      --------      --------      --------      --------      \n",
      "water         ginger        hot           olive         chocolate     \n",
      "coconut       vernor        sauce         oil           taste         \n",
      "tried         soda          flavor        one           bar           \n",
      "drink         ale           use           oils          bars          \n",
      "also          use           heat          tried         sugar         \n",
      "zico          sugar         frank         full          healthy       \n",
      "calories      syrup         also          bodied        dark          \n",
      "added         michigan      noodles       give          fat           \n",
      "best          years         not           sure          fruit         \n",
      "coco          many          perfect       impressed     better        \n",
      "vita          amazon        add           way           sweet         \n",
      "energy        drink         put           different     snack         \n",
      "buy           since         blend         smooth        whole         \n",
      "taste         taste         say           low           awesome       \n",
      "well          corn          tofu          salads        make          \n",
      "no            gold          beans         somewhat      tasting       \n",
      "brand         cane          tobasco       turkey        milk          \n",
      "little        known         nice          turkish       beans         \n",
      "sports        green         enjoy         taste         kind          \n",
      "way           gnome         really        thought       no            \n",
      "\n",
      "\n"
     ]
    }
   ],
   "source": [
    "display_topics_mg(nmf, feature_names_5, 20)"
   ]
  },
  {
   "cell_type": "code",
   "execution_count": 340,
   "metadata": {},
   "outputs": [],
   "source": [
    "xTrain_1, y_Train_1, count_vect_1, feature_names_1, count_vectDF_1 = VCM(\"count\", df_score_1_sub, \"review\", \"Score\")"
   ]
  },
  {
   "cell_type": "code",
   "execution_count": 341,
   "metadata": {},
   "outputs": [],
   "source": [
    "nmfModel1 = NMF(n_components=20, random_state=1, alpha=.1, l1_ratio=.5, init='nndsvd')"
   ]
  },
  {
   "cell_type": "code",
   "execution_count": 343,
   "metadata": {},
   "outputs": [],
   "source": [
    "nmf1 = nmfModel1.fit(xTrain_1)"
   ]
  },
  {
   "cell_type": "code",
   "execution_count": 344,
   "metadata": {},
   "outputs": [
    {
     "name": "stdout",
     "output_type": "stream",
     "text": [
      "nmf.components_.shape: (20, 6766)\n"
     ]
    }
   ],
   "source": [
    "print(\"nmf.components_.shape: {}\".format(nmf1.components_.shape))"
   ]
  },
  {
   "cell_type": "code",
   "execution_count": 345,
   "metadata": {},
   "outputs": [
    {
     "name": "stdout",
     "output_type": "stream",
     "text": [
      "topic 0       topic 1       topic 2       topic 3       topic 4       \n",
      "--------      --------      --------      --------      --------      \n",
      "not           food          product       like          tea           \n",
      "buy           cat           flavor        tastes        chai          \n",
      "could         cats          new           flavor        green         \n",
      "even          ingredients   beef          try           spice         \n",
      "money         eat           order         tried         not           \n",
      "get           dry           still         tasted        leaves        \n",
      "know          meat          use           even          flavor        \n",
      "company       vet           see           lemon         use           \n",
      "it            bad           spicy         different     blend         \n",
      "waste         pet           nong          really        much          \n",
      "anything      also          shim          trying        spices        \n",
      "store         products      packaging     stuff         teas          \n",
      "right         fish          said          awful         black         \n",
      "real          dogs          purchase      get           loose         \n",
      "sure          natural       page          ever          put           \n",
      "worth         menadione     made          nothing       box           \n",
      "either        canned        received      drink         tried         \n",
      "way           time          old           something     total         \n",
      "honey         years         get           smelled       return        \n",
      "disappointed  including     noodles       bad           weak          \n",
      "\n",
      "\n",
      "topic 5       topic 6       topic 7       topic 8       topic 9       \n",
      "--------      --------      --------      --------      --------      \n",
      "dog           water         coffee        amazon        taste         \n",
      "dogs          coconut       cup           order         better        \n",
      "problems      natural       even          ordered       bitter        \n",
      "poison        concentrate   cups          item          awful         \n",
      "treat         plastic       flavored      get           hot           \n",
      "chlorhexidine not           mountain      received      smell         \n",
      "using         added         vanilla       shipping      drink         \n",
      "pee           tried         green         package       tasted        \n",
      "smell         drink         half          disappointed  first         \n",
      "vet           brand         dark          customer      tasting       \n",
      "not           bottle        price         halva         could         \n",
      "first         zico          drink         return        got           \n",
      "post          made          beans         company       honey         \n",
      "like          tap           caff          purchase      fruit         \n",
      "lick          little        grounds       price         brand         \n",
      "go            get           flavor        opened        mouth         \n",
      "used          flavors       instant       box           much          \n",
      "body          one           pods          great         something     \n",
      "long          ever          aroma         sent          artificial    \n",
      "chemical      another       bitter        pack          nasty         \n",
      "\n",
      "\n",
      "topic 10      topic 11      topic 12      topic 13      topic 14      \n",
      "--------      --------      --------      --------      --------      \n",
      "diet          hair          sugar         made          bag           \n",
      "science       oil           ingredient    china         popcorn       \n",
      "cats          use           artificial    treats        smell         \n",
      "tiki          scalp         drink         chicken       time          \n",
      "food          acid          calories      dogs          bags          \n",
      "evo           bottle        ingredients   products      microwave     \n",
      "bag           greasy        grams         buy           old           \n",
      "months        sodium        much          jerky         chips         \n",
      "always        used          stevia        dog           flavor        \n",
      "cat           ci            high          usa           since         \n",
      "get           sensitive     better        not           every         \n",
      "kitten        using         natural       pet           come          \n",
      "time          product       low           sick          burnt         \n",
      "weight        tried         healthy       pets          whole         \n",
      "pound         natural       per           say           strong        \n",
      "ago           laureth       aspartame     another       put           \n",
      "research      clear         free          number        open          \n",
      "not           almond        powder        sweet         pop           \n",
      "got           sunflower     contains      us            case          \n",
      "need          might         cereal        read          may           \n",
      "\n",
      "\n",
      "topic 15      topic 16      topic 17      topic 18      topic 19      \n",
      "--------      --------      --------      --------      --------      \n",
      "would         good          no            one           love          \n",
      "eat           bad           chocolate     box           tuna          \n",
      "cats          really        even          bought        eat           \n",
      "never         candy         cup           time          not           \n",
      "thought       free          donut         buy           us            \n",
      "money         stuff         way           two           vietnam       \n",
      "half          gluten        close         cups          stomach       \n",
      "great         mix           ever          star          wanted        \n",
      "even          something     money         bad           packed        \n",
      "since         baking        glazed        yeast         caught        \n",
      "caff          tried         give          thought       mercury       \n",
      "something     pot           name          never         really        \n",
      "use           make          think         first         thought       \n",
      "put           tastes        much          get           finish        \n",
      "pieces        vitamins      well          better        ounce         \n",
      "much          looking       flavor        away          california    \n",
      "maybe         nothing       might         try           wild          \n",
      "could         foods         little        opened        higher        \n",
      "green         got           bought        even          sardines      \n",
      "recommend     time          flavoring     cup           sandwich      \n",
      "\n",
      "\n"
     ]
    }
   ],
   "source": [
    "display_topics_mg(nmf1, feature_names_1, 20)"
   ]
  },
  {
   "cell_type": "markdown",
   "metadata": {},
   "source": [
    "#### using LDA"
   ]
  },
  {
   "cell_type": "code",
   "execution_count": 379,
   "metadata": {},
   "outputs": [],
   "source": [
    "lda = LatentDirichletAllocation(n_components=20, learning_method=\"online\",\n",
    "                                max_iter=25, random_state=0)"
   ]
  },
  {
   "cell_type": "code",
   "execution_count": 380,
   "metadata": {},
   "outputs": [],
   "source": [
    "document_topics_5 = lda.fit_transform(xTrain_5)"
   ]
  },
  {
   "cell_type": "code",
   "execution_count": 381,
   "metadata": {},
   "outputs": [
    {
     "name": "stdout",
     "output_type": "stream",
     "text": [
      "lda.components_.shape: (20, 6271)\n"
     ]
    }
   ],
   "source": [
    "print(\"lda.components_.shape: {}\".format(lda.components_.shape))"
   ]
  },
  {
   "cell_type": "code",
   "execution_count": 382,
   "metadata": {},
   "outputs": [
    {
     "name": "stdout",
     "output_type": "stream",
     "text": [
      "topic 0       topic 1       topic 2       topic 3       topic 4       \n",
      "--------      --------      --------      --------      --------      \n",
      "oil           cheerios      pouch         tropical      popcorn       \n",
      "olive         tree          pouches       cytomax       molasses      \n",
      "tins          tassimo       pills         fruit         pops          \n",
      "oils          marshmallows  donuts        moles         theater       \n",
      "virgin        bunny         dunkin        hole          packaging     \n",
      "zoe           baja          kittens       tunnel        honey         \n",
      "jug           bonsai        popper        traps         potassium     \n",
      "massive       disc          warm          mole          daughter      \n",
      "having        pb            baby          set           poper         \n",
      "ummmm         uncooked      pillpockets   light         ride          \n",
      "yourself      kosher        andy          lindt         tbsp          \n",
      "taster        shape         senseo        black         consume       \n",
      "decadence     cooker        granules      trap          chews         \n",
      "lark          walmart       spreading     dirt          sports        \n",
      "bertolli      make          expiration    dug           style         \n",
      "slimey        love          decided       passion       nutritional   \n",
      "velvety       take          my            proof         makes         \n",
      "roses         dyed          licked        able          popper        \n",
      "exceptional   peeps         open          juice         styrofoam     \n",
      "accepted      tempting      ordeal        mounted       tasteless     \n",
      "\n",
      "\n",
      "topic 5       topic 6       topic 7       topic 8       topic 9       \n",
      "--------      --------      --------      --------      --------      \n",
      "focus         dog           bars          shortening    ginger        \n",
      "jittery       treat         best          spectrum      vernor        \n",
      "engineering   greenies      bar           basil         ale           \n",
      "majoring      vinegar       like          luscious      soda          \n",
      "shots         toy           ever          holy          beer          \n",
      "mechanical    momo          sauce         gobbles       michigan      \n",
      "crutches      capsule       not           unknowing     upset         \n",
      "studying      end           noodles       shoprite      spicier       \n",
      "exams         pet           chocolate     classmates    gnome         \n",
      "burst         gelatin       one           crisco        isbn          \n",
      "metabolism    bone          chips         allergan      cane          \n",
      "energy        minutes       calories      talking       requested     \n",
      "beneficial    seniors       kind          previous      promptly      \n",
      "offer         company       mustard       wegmans       zest          \n",
      "staple        canine        tasting       members       drops         \n",
      "feeling       sage          garlic        sorry         exactly       \n",
      "breakfast     terriers      protein       flavored      delivered     \n",
      "benefits      pectin        mph           butter        accounting    \n",
      "home          knee          honey         family        page          \n",
      "morning       pain          snack         fillers       microbrews    \n",
      "\n",
      "\n",
      "topic 10      topic 11      topic 12      topic 13      topic 14      \n",
      "--------      --------      --------      --------      --------      \n",
      "treats        creamer       not           bread         hair          \n",
      "remember      pump          great         baby          tea           \n",
      "tangerine     bottle        product       bubbles       used          \n",
      "actually      lid           good          toast         day           \n",
      "beverage      lift          love          biscuits      echinacea     \n",
      "crisp         pushing       like          gras          anti          \n",
      "hips          turning       food          boxes         see           \n",
      "race          bailey        one           foie          organic       \n",
      "hansen        voila         taste         loaf          slim          \n",
      "hansens       illy          would         breakage      medicine      \n",
      "wax           energized     amazon        babycook      pantry        \n",
      "carbonated    insomniac     no            create        take          \n",
      "cable         jumpy         flavor        box           white         \n",
      "deserve       nirvana       also          lightly       weight        \n",
      "film          cranberry     get           cooked        months        \n",
      "creepy        ito           free          device        years         \n",
      "movie         polluting     delicious     top           almost        \n",
      "cheer         brandsf       buy           broken        remedy        \n",
      "possessed     en            price         previous      helped        \n",
      "character     thailand      dog           de            symptoms      \n",
      "\n",
      "\n",
      "topic 15      topic 16      topic 17      topic 18      topic 19      \n",
      "--------      --------      --------      --------      --------      \n",
      "coffee        pasta         mg            cat           shampoo       \n",
      "tea           hooves        per           hot           clear         \n",
      "not           quinoa        gm            food          scalp         \n",
      "like          shopped       red           sauce         men           \n",
      "cup           structure     kettle        cats          dandruff      \n",
      "great         al            black         old           conditioner   \n",
      "taste         dente         onion         wellness      fluid         \n",
      "flavor        celiac        sour          heat          therapy       \n",
      "love          based         spheres       chicken       shoulders     \n",
      "drink         disease       noticeable    canned        clean         \n",
      "water         prague        gelatinous    subscription  controlling   \n",
      "chocolate     peat          raspberries   flavor        separate      \n",
      "best          wargs         mono          dry           tree          \n",
      "good          boggy         bakes         time          itchy         \n",
      "one           trapsing      iron          texas         eucalyptus    \n",
      "tried         scotch        sliced        not           cooling       \n",
      "cups          lounging      represent     feed          pyrithione    \n",
      "coconut       peaty         center        rub           sudsy         \n",
      "favorite      cologne       german        goes          therapeutic   \n",
      "get           hordes        barely        eats          lasting       \n",
      "\n",
      "\n"
     ]
    }
   ],
   "source": [
    "display_topics_mg(lda,feature_names_5,20)"
   ]
  },
  {
   "cell_type": "code",
   "execution_count": 370,
   "metadata": {},
   "outputs": [],
   "source": [
    "lda1 = LatentDirichletAllocation(n_components=20, learning_method=\"batch\",\n",
    "                                max_iter=25, random_state=0)"
   ]
  },
  {
   "cell_type": "code",
   "execution_count": 371,
   "metadata": {},
   "outputs": [],
   "source": [
    "document_topics_1 = lda1.fit_transform(xTrain_1)"
   ]
  },
  {
   "cell_type": "code",
   "execution_count": 372,
   "metadata": {},
   "outputs": [
    {
     "name": "stdout",
     "output_type": "stream",
     "text": [
      "lda.components_.shape: (20, 6766)\n"
     ]
    }
   ],
   "source": [
    "print(\"lda.components_.shape: {}\".format(lda1.components_.shape))"
   ]
  },
  {
   "cell_type": "code",
   "execution_count": 373,
   "metadata": {
    "scrolled": false
   },
   "outputs": [
    {
     "name": "stdout",
     "output_type": "stream",
     "text": [
      "topic 0       topic 1       topic 2       topic 3       topic 4       \n",
      "--------      --------      --------      --------      --------      \n",
      "product       not           not           not           not           \n",
      "not           product       product       tea           money         \n",
      "would         taste         even          like          buy           \n",
      "dog           like          date          taste         taste         \n",
      "no            water         cup           water         product       \n",
      "half          no            good          flavor        waste         \n",
      "post          coconut       expired       would         like          \n",
      "taste         good          like          sugar         no            \n",
      "review        order         no            good          would         \n",
      "one           one           expiration    product       box           \n",
      "caff          get           coffee        green         love          \n",
      "pee           even          natural       no            tea           \n",
      "dogs          bought        disappointed  free          one           \n",
      "buy           much          yeast         mix           hot           \n",
      "even          could         one           tried         bought        \n",
      "coffee        made          many          tastes        stuff         \n",
      "green         price         food          even          bag           \n",
      "mountain      candy         amazon        drink         get           \n",
      "read          flavor        get           chai          good          \n",
      "better        amazon        ordered       buy           horrible      \n",
      "\n",
      "\n",
      "topic 5       topic 6       topic 7       topic 8       topic 9       \n",
      "--------      --------      --------      --------      --------      \n",
      "one           not           product       coffee        not           \n",
      "bad           product       not           not           taste         \n",
      "not           like          stale         product       like          \n",
      "cups          bag           amazon        amazon        much          \n",
      "pizza         no            like          cup           would         \n",
      "raw           food          chocolate     buy           get           \n",
      "artificial    taste         old           taste         flavor        \n",
      "love          one           one           even          drink         \n",
      "review        even          order         two           water         \n",
      "bunnies       get           box           like          food          \n",
      "diet          much          love          no            tried         \n",
      "product       would         would         one           product       \n",
      "thought       diet          tastes        disappointed  good          \n",
      "amazon        old           arrived       flavor        popcorn       \n",
      "food          eat           good          cups          love          \n",
      "purchased     amazon        time          bad           first         \n",
      "terrible      buy           flavor        never         price         \n",
      "reviews       order         taste         would         licorice      \n",
      "flavors       know          ever          pods          try           \n",
      "really        science       tried         received      hard          \n",
      "\n",
      "\n",
      "topic 10      topic 11      topic 12      topic 13      topic 14      \n",
      "--------      --------      --------      --------      --------      \n",
      "not           not           food          chocolate     not           \n",
      "like          made          not           not           dog           \n",
      "product       china         dog           sugar         product       \n",
      "amazon        would         cat           msg           amazon        \n",
      "taste         like          cats          bars          would         \n",
      "one           dog           eat           much          shipping      \n",
      "no            treats        would         get           package       \n",
      "tried         one           one           salt          could         \n",
      "try           buy           dogs          litter        even          \n",
      "cookies       no            bad           regular       store         \n",
      "get           know          time          raspberry     made          \n",
      "food          dogs          like          line          one           \n",
      "good          could         chicken       buying        like          \n",
      "even          product       good          would         treats        \n",
      "really        products      even          product       no            \n",
      "bad           say           product       really        bottle        \n",
      "chips         give          meat          better        get           \n",
      "know          better        first         healthy       food          \n",
      "bought        tried         ingredients   grams         old           \n",
      "day           something     no            like          sweet         \n",
      "\n",
      "\n",
      "topic 15      topic 16      topic 17      topic 18      topic 19      \n",
      "--------      --------      --------      --------      --------      \n",
      "not           not           not           not           like          \n",
      "like          like          no            would         not           \n",
      "one           taste         would         one           tastes        \n",
      "box           sugar         like          say           cup           \n",
      "product       would         item          buy           taste         \n",
      "taste         artificial    brand         taste         cups          \n",
      "time          good          beans         like          good          \n",
      "really        honey         way           hot           sweet         \n",
      "flavor        product       product       bad           flavor        \n",
      "good          tastes        buy           never         one           \n",
      "peanut        much          free          many          even          \n",
      "star          bad           try           made          coffee        \n",
      "opened        drink         get           could         really        \n",
      "bad           could         box           two           boxes         \n",
      "tried         one           much          tabasco       product       \n",
      "amazon        smell         received      first         could         \n",
      "ordered       awful         coffee        even          tasting       \n",
      "butter        stuff         small         thought       box           \n",
      "going         also          open          get           horrible      \n",
      "tasted        never         shipping      type          pretty        \n",
      "\n",
      "\n"
     ]
    }
   ],
   "source": [
    "display_topics_mg(lda1,feature_names_1,20)"
   ]
  },
  {
   "cell_type": "code",
   "execution_count": 362,
   "metadata": {
    "scrolled": true
   },
   "outputs": [
    {
     "name": "stdout",
     "output_type": "stream",
     "text": [
      "svd.components_.shape: (20, 6271)\n",
      "topic 0       topic 1       topic 2       topic 3       topic 4       \n",
      "--------      --------      --------      --------      --------      \n",
      "not           coffee        tea           salt          salt          \n",
      "like          tea           organic       food          great         \n",
      "great         cup           teas          coffee        product       \n",
      "good          taste         white         tea           use           \n",
      "coffee        flavor        numi          cat           store         \n",
      "taste         starbucks     spice         cup           murray        \n",
      "one           vanilla       flavor        dog           river         \n",
      "tea           flavored      orange        river         taste         \n",
      "product       teas          bags          murray        fingers       \n",
      "food          cups          black         dogs          cooking       \n",
      "love          great         used          no            small         \n",
      "flavor        drink         green         organic       table         \n",
      "no            green         ginger        cats          time          \n",
      "get           blend         chai          fingers       good          \n",
      "would         numi          herbal        small         amount        \n",
      "also          french        hibiscus      time          bowl          \n",
      "best          white         get           bowl          stuff         \n",
      "tried         like          mu            seems         seems         \n",
      "amazon        best          lime          store         sea           \n",
      "use           black         wonderful     also          chips         \n",
      "\n",
      "\n",
      "topic 5       topic 6       topic 7       topic 8       topic 9       \n",
      "--------      --------      --------      --------      --------      \n",
      "product       good          good          love          great         \n",
      "great         cookie        product       like          day           \n",
      "dog           taste         organic       day           good          \n",
      "coffee        cookies       quality       mph           food          \n",
      "price         chocolate     day           drink         mph           \n",
      "love          love          mph           dogs          shampoo       \n",
      "food          delicious     cookie        calories      cat           \n",
      "quality       food          liver         water         hair          \n",
      "tea           mother        cans          dog           like          \n",
      "organic       vanilla       calories      speed         scalp         \n",
      "dogs          free          speed         work          men           \n",
      "amazon        bars          company       coconut       calories      \n",
      "free          healthy       like          treats        clear         \n",
      "liver         bar           reviews       exercise      speed         \n",
      "cans          really        stars         peak          drink         \n",
      "cup           sugar         miles         miles         dandruff      \n",
      "stars         amazon        exercise      use           exercise      \n",
      "even          eat           numi          caffeine      peak          \n",
      "best          chip          cookies       avg           miles         \n",
      "give          gluten        peak          celsius       conditioner   \n",
      "\n",
      "\n",
      "topic 10      topic 11      topic 12      topic 13      topic 14      \n",
      "--------      --------      --------      --------      --------      \n",
      "dogs          taste         like          like          love          \n",
      "dog           organic       hot           free          flavor        \n",
      "cookie        like          sauce         gluten        product       \n",
      "shampoo       shampoo       love          ginger        shampoo       \n",
      "cookies       sugar         good          use           chocolate     \n",
      "like          bars          use           sauce         free          \n",
      "love          one           flavor        vernor        one           \n",
      "clear         bar           cookie        cookies       day           \n",
      "men           chocolate     product       cookie        clear         \n",
      "scalp         best          cats          hot           best          \n",
      "great         men           food          soda          men           \n",
      "treats        scalp         cheese        ale           scalp         \n",
      "dandruff      clear         add           amazon        gluten        \n",
      "hair          coconut       cat           best          dandruff      \n",
      "feel          no            taste         vanilla       hair          \n",
      "amazon        dandruff      heat          food          milk          \n",
      "mother        white         beans         used          ounce         \n",
      "conditioner   water         cook          sugar         chips         \n",
      "fluid         ounce         quality       delicious     would         \n",
      "try           healthy       powder        pasta         sugar         \n",
      "\n",
      "\n",
      "topic 15      topic 16      topic 17      topic 18      topic 19      \n",
      "--------      --------      --------      --------      --------      \n",
      "water         use           love          one           chocolate     \n",
      "coconut       ginger        organic       olive         hot           \n",
      "chocolate     vernor        cats          oil           sauce         \n",
      "cookie        sugar         great         flavor        bar           \n",
      "drink         soda          spice         sauce         dark          \n",
      "cookies       ale           white         hot           beans         \n",
      "vanilla       taste         not           no            make          \n",
      "way           years         day           tried         one           \n",
      "one           many          cat           good          dog           \n",
      "amazon        skin          one           use           bars          \n",
      "mother        treats        numi          organic       day           \n",
      "energy        no            cookies       dog           heat          \n",
      "also          syrup         cookie        full          great         \n",
      "tried         michigan      eat           chips         perfect       \n",
      "zico          still         used          best          quality       \n",
      "little        healthy       orange        oils          granola       \n",
      "beans         since         ginger        always        noodles       \n",
      "no            get           mph           ginger        fat           \n",
      "get           size          many          give          kind          \n",
      "back          dog           olive         treats        oil           \n",
      "\n",
      "\n"
     ]
    }
   ],
   "source": [
    "svd5 = TruncatedSVD(n_components=20)\n",
    "\n",
    "document_topics_5 = svd5.fit(xTrain_5)\n",
    "\n",
    "print(\"svd.components_.shape: {}\".format(svd5.components_.shape))\n",
    "\n",
    "display_topics_mg(svd5,feature_names_5,20)"
   ]
  },
  {
   "cell_type": "code",
   "execution_count": 363,
   "metadata": {
    "scrolled": false
   },
   "outputs": [
    {
     "name": "stdout",
     "output_type": "stream",
     "text": [
      "svd.components_.shape: (20, 6766)\n",
      "topic 0       topic 1       topic 2       topic 3       topic 4       \n",
      "--------      --------      --------      --------      --------      \n",
      "not           food          product       like          tea           \n",
      "product       dog           amazon        tea           chai          \n",
      "like          product       order         product       not           \n",
      "taste         cat           new           taste         food          \n",
      "would         cats          made          flavor        spice         \n",
      "one           diet          received      good          green         \n",
      "food          amazon        ordered       would         leaves        \n",
      "no            science       still         one           amazon        \n",
      "good          time          beef          sugar         use           \n",
      "even          dogs          use           no            return        \n",
      "tea           one           purchase      food          blend         \n",
      "buy           made          item          tastes        ingredients   \n",
      "water         eat           spicy         much          box           \n",
      "dog           order         nong          green         spices        \n",
      "get           ingredients   shim          water         loose         \n",
      "could         vet           packaging     bad           total         \n",
      "flavor        meat          page          try           teas          \n",
      "much          pet           disappointed  tried         quantity      \n",
      "coffee        chicken       buy           cats          cat           \n",
      "bad           products      china         time          label         \n",
      "\n",
      "\n",
      "topic 5       topic 6       topic 7       topic 8       topic 9       \n",
      "--------      --------      --------      --------      --------      \n",
      "dog           water         water         product       would         \n",
      "like          coconut       dog           would         sugar         \n",
      "dogs          taste         coffee        cats          taste         \n",
      "made          natural       coconut       like          one           \n",
      "china         sugar         natural       cat           eat           \n",
      "treats        product       made          coffee        better        \n",
      "product       added         would         diet          artificial    \n",
      "problems      diet          tea           use           good          \n",
      "treat         concentrate   dogs          science       honey         \n",
      "poison        food          sugar         eat           calories      \n",
      "chlorhexidine science       use           not           love          \n",
      "smell         ingredients   cup           dry           free          \n",
      "using         plastic       china         food          tuna          \n",
      "sick          cat           ingredients   flavor        could         \n",
      "chicken       drink         ingredient    lemon         dog           \n",
      "pee           bottle        drink         caff          low           \n",
      "used          tried         treats        hair          much          \n",
      "lick          also          green         beef          grams         \n",
      "chemical      zico          many          animals       ingredient    \n",
      "look          noodles       problems      ingredients   thought       \n",
      "\n",
      "\n",
      "topic 10      topic 11      topic 12      topic 13      topic 14      \n",
      "--------      --------      --------      --------      --------      \n",
      "diet          one           sugar         made          bag           \n",
      "taste         would         no            china         would         \n",
      "science       good          ingredients   one           smell         \n",
      "dog           cats          ingredient    buy           no            \n",
      "sugar         diet          natural       treats        popcorn       \n",
      "no            science       chocolate     love          taste         \n",
      "bag           get           like          would         flavor        \n",
      "good          box           made          bag           dog           \n",
      "tiki          hair          even          chicken       food          \n",
      "evo           time          list          eat           money         \n",
      "corn          using         products      tuna          water         \n",
      "always        even          china         flavor        opened        \n",
      "better        use           chicken       say           put           \n",
      "got           never         way           sauce         brand         \n",
      "months        could         drink         products      chips         \n",
      "kitten        oil           high          hot           never         \n",
      "long          noodles       hair          box           ingredients   \n",
      "calories      put           use           dogs          another       \n",
      "pound         used          contains      noodles       great         \n",
      "need          size          much          never         price         \n",
      "\n",
      "\n",
      "topic 15      topic 16      topic 17      topic 18      topic 19      \n",
      "--------      --------      --------      --------      --------      \n",
      "no            good          amazon        many          chocolate     \n",
      "one           no            tuna          first         bad           \n",
      "food          love          love          used          no            \n",
      "product       tuna          even          ingredients   even          \n",
      "flavor        eat           no            natural       cats          \n",
      "tuna          flavor        get           also          got           \n",
      "cup           hair          cup           love          box           \n",
      "love          oil           taste         use           honey         \n",
      "try           really        diet          much          taste         \n",
      "dog           us            science       people        cup           \n",
      "meat          use           green         box           much          \n",
      "yeast         scalp         us            taste         cat           \n",
      "ever          stuff         like          using         bought        \n",
      "tried         vietnam       brand         ingredient    green         \n",
      "make          chicken       thought       order         never         \n",
      "even          packed        wanted        popcorn       well          \n",
      "eat           bad           vietnam       time          time          \n",
      "really        tried         well          tuna          two           \n",
      "sugar         wanted        hair          coffee        would         \n",
      "bought        little        could         bad           money         \n",
      "\n",
      "\n"
     ]
    }
   ],
   "source": [
    "svd1 = TruncatedSVD(n_components=20)\n",
    "\n",
    "document_topics_1 = svd1.fit(xTrain_1)\n",
    "\n",
    "print(\"svd.components_.shape: {}\".format(svd1.components_.shape))\n",
    "\n",
    "display_topics_mg(svd1,feature_names_1,20)"
   ]
  },
  {
   "cell_type": "markdown",
   "metadata": {},
   "source": [
    "#### NMF with TFIDF"
   ]
  },
  {
   "cell_type": "code",
   "execution_count": 385,
   "metadata": {},
   "outputs": [
    {
     "name": "stdout",
     "output_type": "stream",
     "text": [
      "nmf.components_.shape: (20, 6271)\n",
      "topic 0       topic 1       topic 2       topic 3       topic 4       \n",
      "--------      --------      --------      --------      --------      \n",
      "not           coffee        tea           food          product       \n",
      "good          cup           green         cat           great         \n",
      "like          bold          teas          cats          excellent     \n",
      "one           great         bitter        old           arrived       \n",
      "flavor        strong        white         canned        use           \n",
      "taste         cups          drink         chicken       taste         \n",
      "really        decaf         iced          dry           time          \n",
      "would         dark          black         wellness      years         \n",
      "get           starbucks     wonderful     loves         condition     \n",
      "use           taste         flavor        feeding       really        \n",
      "also          blend         great         no            service       \n",
      "eat           good          chai          wet           quickly       \n",
      "tried         mountain      bags          feed          fast          \n",
      "much          flavor        peach         weight        quality       \n",
      "delicious     drink         smooth        problems      smooth        \n",
      "well          roast         caffeine      diet          substitue     \n",
      "sweet         maker         loved         month         easy          \n",
      "little        like          loose         vet           cappuccino    \n",
      "make          flavored      peppermint    needs         buy           \n",
      "every         favorite      numi          eats          using         \n",
      "\n",
      "\n",
      "topic 5       topic 6       topic 7       topic 8       topic 9       \n",
      "--------      --------      --------      --------      --------      \n",
      "treats        free          chips         sauce         love          \n",
      "dogs          gluten        potato        hot           kids          \n",
      "training      cookies       bag           heat          drink         \n",
      "smell         know          flavor        goes          dogs          \n",
      "liver         eat           case          say           absolutely    \n",
      "maltese       gf            chip          great         my            \n",
      "give          delicious     mmmm          anything      favorite      \n",
      "freeze        pasta         ordering      wings         buy           \n",
      "small         dairy         stock         frank         cats          \n",
      "love          granola       fat           try           yummy         \n",
      "dried         would         whole         tried         bold          \n",
      "no            rocks         sons          enjoyed       energy        \n",
      "easy          snacks        family        garlic        time          \n",
      "size          products      addictive     buy           taste         \n",
      "three         oatmeal       crunch        hooked        milk          \n",
      "biscuit       soy           eating        looked        makes         \n",
      "perfect       tasting       alternative   back          little        \n",
      "pet           muffins       store         given         sweet         \n",
      "dog           great         madhouse      awesome       every         \n",
      "salmon        disease       pop           sauces        corgis        \n",
      "\n",
      "\n",
      "topic 10      topic 11      topic 12      topic 13      topic 14      \n",
      "--------      --------      --------      --------      --------      \n",
      "bars          amazon        chocolate     best          coconut       \n",
      "kind          stores        dark          ever          water         \n",
      "bar           find          milk          the           zico          \n",
      "fruit         shipping      hot           mix           electrolytes  \n",
      "candy         local         bar           tasted        refreshing    \n",
      "tasting       glad          delicious     tried         tastes        \n",
      "yum           order         sugar         around        sweet         \n",
      "healthy       delicious     company       order         sports        \n",
      "more          found         rich          fast          drink         \n",
      "order         com           again         tasting       potassium     \n",
      "blueberry     grocery       chocolates    hcg           added         \n",
      "nut           high          taste         family        brandsf       \n",
      "natural       buy           coffeemate    makes         thailand      \n",
      "flavors       ordered       creamer       it            nirvana       \n",
      "almond        free          cocoa         brand         brand         \n",
      "good          each          bit           vanilla       vita          \n",
      "larabars      available     error         decaf         mango         \n",
      "thinkthin     difficult     carrying      pasta         pure          \n",
      "cherry        supermarket   turbinado     delivery      calories      \n",
      "going         thank         sweetness     healthiest    coco          \n",
      "\n",
      "\n",
      "topic 15      topic 16      topic 17      topic 18      topic 19      \n",
      "--------      --------      --------      --------      --------      \n",
      "snack         price         dog           peanut        oil           \n",
      "healthy       great         loves         butter        olive         \n",
      "kids          good          treat         skippy        tuna          \n",
      "great         high          food          great         quality       \n",
      "quick         buy           my            zuke          oils          \n",
      "breakfast     buying        teeth         trusted       tins          \n",
      "tasty         outstanding   treats        powdered      cost          \n",
      "protein       choking       stomach       delivered     wonderful     \n",
      "crunchy       though        bathroom      low           taste         \n",
      "popchips      even          them          cookies       fresh         \n",
      "eating        bulk          pill          around        canola        \n",
      "fat           trader        little        rawhide       flash         \n",
      "easy          wow           gets          name          avocado       \n",
      "make          happy         sensitive     reeses        tried         \n",
      "sweet         joe           goes          go            several       \n",
      "satisfying    case          small         too           rice          \n",
      "bag           picky         jerky         salmon        acids         \n",
      "eaters        sky           perfect       peanutty      fatty         \n",
      "happy         pack          last          tried         monounsaturated\n",
      "daughter      hello         likes         purposes      high          \n",
      "\n",
      "\n"
     ]
    }
   ],
   "source": [
    "xTrain_t_5, y_Train_t_5, count_vect_t_5, feature_names_t_5, count_vectDF_t_5 = VCM(\"tfidf\", df_score_5_sub, \"review\", \"Score\")\n",
    "\n",
    "nmfModel_tfidf = NMF(n_components=20, random_state=1, alpha=.1, l1_ratio=.5, init='nndsvd')\n",
    "nmf_tfidf= nmfModel_tfidf.fit(xTrain_t_5)\n",
    "\n",
    "print(\"nmf.components_.shape: {}\".format(nmf_tfidf.components_.shape))\n",
    "\n",
    "display_topics_mg(nmf_tfidf, feature_names_t_5, 20)"
   ]
  },
  {
   "cell_type": "markdown",
   "metadata": {},
   "source": [
    "#### Visualizing"
   ]
  },
  {
   "cell_type": "code",
   "execution_count": 383,
   "metadata": {},
   "outputs": [
    {
     "data": {
      "image/png": "[encoded data removed]",
      "text/plain": [
       "<Figure size 1440x360 with 2 Axes>"
      ]
     },
     "metadata": {
      "needs_background": "light"
     },
     "output_type": "display_data"
    }
   ],
   "source": [
    "sorting_5 = np.argsort(lda.components_, axis=1)[:, ::-1]\n",
    "\n",
    "feature_names_5_5 = np.array(feature_names_5)\n",
    "\n",
    "visualize_topic_modeling(feature_names_5_5, sorting_5, document_topics_5)    "
   ]
  },
  {
   "cell_type": "code",
   "execution_count": null,
   "metadata": {},
   "outputs": [],
   "source": []
  }
 ],
 "metadata": {
  "kernelspec": {
   "display_name": "Python 3",
   "language": "python",
   "name": "python3"
  },
  "language_info": {
   "codemirror_mode": {
    "name": "ipython",
    "version": 3
   },
   "file_extension": ".py",
   "mimetype": "text/x-python",
   "name": "python",
   "nbconvert_exporter": "python",
   "pygments_lexer": "ipython3",
   "version": "3.7.3"
  }
 },
 "nbformat": 4,
 "nbformat_minor": 2
}
